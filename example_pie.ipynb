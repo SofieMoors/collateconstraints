{
 "cells": [
  {
   "cell_type": "code",
   "execution_count": 30,
   "id": "8b702bd8",
   "metadata": {},
   "outputs": [
    {
     "name": "stdout",
     "output_type": "stream",
     "text": [
      "Collecting nlp-pie\n",
      "  Using cached nlp_pie-0.3.8-py2.py3-none-any.whl (84 kB)\n",
      "Collecting gensim>=3.4.0\n",
      "  Using cached gensim-4.3.1-cp310-cp310-macosx_10_9_x86_64.whl (24.0 MB)\n",
      "Collecting terminaltables==3.1.0\n",
      "  Using cached terminaltables-3.1.0.tar.gz (12 kB)\n",
      "  Preparing metadata (setup.py) ... \u001b[?25ldone\n",
      "\u001b[?25hRequirement already satisfied: click<8.0,>=7.0 in /Users/sofiemoors/miniconda3/lib/python3.10/site-packages (from nlp-pie) (7.1.2)\n",
      "Collecting pyyaml==5.1b3\n",
      "  Using cached PyYAML-5.1b3.tar.gz (273 kB)\n",
      "  Preparing metadata (setup.py) ... \u001b[?25ldone\n",
      "\u001b[?25hRequirement already satisfied: typing<4.0 in /Users/sofiemoors/miniconda3/lib/python3.10/site-packages (from nlp-pie) (3.7.4.3)\n",
      "Collecting numpy<1.18.0,>=1.14.3\n",
      "  Using cached numpy-1.17.5.zip (6.4 MB)\n",
      "  Preparing metadata (setup.py) ... \u001b[?25ldone\n",
      "\u001b[?25hCollecting nlp-pie\n",
      "  Using cached nlp_pie-0.3.7-py2.py3-none-any.whl (84 kB)\n",
      "  Using cached nlp_pie-0.3.6-py2.py3-none-any.whl (84 kB)\n",
      "  Using cached nlp_pie-0.3.5-py2.py3-none-any.whl (84 kB)\n",
      "  Using cached nlp_pie-0.3.4-py2.py3-none-any.whl (84 kB)\n",
      "  Using cached nlp_pie-0.3.3-py2.py3-none-any.whl (83 kB)\n",
      "  Using cached nlp_pie-0.3.2-py2.py3-none-any.whl (82 kB)\n",
      "Collecting termcolor==1.1.0\n",
      "  Using cached termcolor-1.1.0.tar.gz (3.9 kB)\n",
      "  Preparing metadata (setup.py) ... \u001b[?25ldone\n",
      "\u001b[?25hCollecting tqdm==4.23.3\n",
      "  Using cached tqdm-4.23.3-py2.py3-none-any.whl (42 kB)\n",
      "Requirement already satisfied: JSON-minify==0.3.0 in /Users/sofiemoors/miniconda3/lib/python3.10/site-packages (from nlp-pie) (0.3.0)\n",
      "Collecting lxml==4.2.1\n",
      "  Using cached lxml-4.2.1.tar.gz (4.3 MB)\n",
      "  Preparing metadata (setup.py) ... \u001b[?25ldone\n",
      "\u001b[?25hCollecting gensim==3.4.0\n",
      "  Using cached gensim-3.4.0.tar.gz (22.2 MB)\n",
      "  Preparing metadata (setup.py) ... \u001b[?25ldone\n",
      "\u001b[?25hCollecting scikit-learn<0.23.0,>=0.19.1\n",
      "  Using cached scikit-learn-0.22.2.post1.tar.gz (6.9 MB)\n",
      "  Preparing metadata (setup.py) ... \u001b[?25ldone\n",
      "\u001b[?25hCollecting nlp-pie\n",
      "  Using cached nlp_pie-0.3.1-py2.py3-none-any.whl (82 kB)\n",
      "  Using cached nlp_pie-0.3.0-py2.py3-none-any.whl (82 kB)\n",
      "  Using cached nlp_pie-0.2.8-py2.py3-none-any.whl (79 kB)\n",
      "  Using cached nlp_pie-0.2.7-py2.py3-none-any.whl (78 kB)\n",
      "  Using cached nlp_pie-0.2.6-py2.py3-none-any.whl (78 kB)\n",
      "  Using cached nlp_pie-0.2.5-py2.py3-none-any.whl (78 kB)\n",
      "  Using cached nlp_pie-0.2.2-py2.py3-none-any.whl (79 kB)\n",
      "\u001b[31mERROR: Cannot install nlp-pie==0.2.2, nlp-pie==0.2.5, nlp-pie==0.2.6, nlp-pie==0.2.7, nlp-pie==0.2.8, nlp-pie==0.3.0, nlp-pie==0.3.1, nlp-pie==0.3.2, nlp-pie==0.3.3, nlp-pie==0.3.4, nlp-pie==0.3.5, nlp-pie==0.3.6, nlp-pie==0.3.7 and nlp-pie==0.3.8 because these package versions have conflicting dependencies.\u001b[0m\u001b[31m\n",
      "\u001b[0m\n",
      "The conflict is caused by:\n",
      "    nlp-pie 0.3.8 depends on torch<=1.7.1 and >=1.3.1\n",
      "    nlp-pie 0.3.7 depends on torch<1.4.0 and >=1.3.1\n",
      "    nlp-pie 0.3.6 depends on torch<1.4.0 and >=1.3.1\n",
      "    nlp-pie 0.3.5 depends on torch<1.4.0 and >=1.3.1\n",
      "    nlp-pie 0.3.4 depends on torch<1.4.0 and >=1.3.1\n",
      "    nlp-pie 0.3.3 depends on torch<1.4.0 and >=1.3.1\n",
      "    nlp-pie 0.3.2 depends on torch<1.4.0 and >=1.3.1\n",
      "    nlp-pie 0.3.1 depends on torch<1.4.0 and >=1.3.1\n",
      "    nlp-pie 0.3.0 depends on torch<1.4.0 and >=1.3.1\n",
      "    nlp-pie 0.2.8 depends on torch<1.4.0 and >=1.3.1\n",
      "    nlp-pie 0.2.7 depends on torch<1.4.0 and >=1.3.1\n",
      "    nlp-pie 0.2.6 depends on torch<1.4.0 and >=1.3.1\n",
      "    nlp-pie 0.2.5 depends on torch<1.2.0 and >=1.0.1\n",
      "    nlp-pie 0.2.2 depends on torch<=1.2.0 and >=1.0.1\n",
      "\n",
      "To fix this you could try to:\n",
      "1. loosen the range of package versions you've specified\n",
      "2. remove package versions to allow pip attempt to solve the dependency conflict\n",
      "\n",
      "\u001b[31mERROR: ResolutionImpossible: for help visit https://pip.pypa.io/en/latest/topics/dependency-resolution/#dealing-with-dependency-conflicts\u001b[0m\u001b[31m\n",
      "\u001b[0mRequirement already satisfied: pie-extended in /Users/sofiemoors/miniconda3/lib/python3.10/site-packages (0.1.2)\n",
      "Requirement already satisfied: requests~=2.25.0 in /Users/sofiemoors/miniconda3/lib/python3.10/site-packages (from pie-extended) (2.25.1)\n",
      "Requirement already satisfied: autodisambiguator<1.0.0,>=0.0.1 in /Users/sofiemoors/miniconda3/lib/python3.10/site-packages (from pie-extended) (0.0.1)\n",
      "Requirement already satisfied: colorama>=0.4.4 in /Users/sofiemoors/miniconda3/lib/python3.10/site-packages (from pie-extended) (0.4.6)\n",
      "Requirement already satisfied: regex in /Users/sofiemoors/miniconda3/lib/python3.10/site-packages (from pie-extended) (2023.6.3)\n",
      "Requirement already satisfied: numpy<1.24.0 in /Users/sofiemoors/miniconda3/lib/python3.10/site-packages (from pie-extended) (1.23.5)\n",
      "Requirement already satisfied: unidecode~=1.1.1 in /Users/sofiemoors/miniconda3/lib/python3.10/site-packages (from pie-extended) (1.1.2)\n",
      "Requirement already satisfied: PaPie~=0.4.0 in /Users/sofiemoors/miniconda3/lib/python3.10/site-packages (from pie-extended) (0.4.2)\n",
      "Requirement already satisfied: click<8.0,>=7.0 in /Users/sofiemoors/miniconda3/lib/python3.10/site-packages (from pie-extended) (7.1.2)\n",
      "Requirement already satisfied: termcolor>=1.1.0 in /Users/sofiemoors/miniconda3/lib/python3.10/site-packages (from PaPie~=0.4.0->pie-extended) (2.3.0)\n",
      "Requirement already satisfied: typing in /Users/sofiemoors/miniconda3/lib/python3.10/site-packages (from PaPie~=0.4.0->pie-extended) (3.7.4.3)\n",
      "Requirement already satisfied: pytorch-optimizer~=2.7.0 in /Users/sofiemoors/miniconda3/lib/python3.10/site-packages (from PaPie~=0.4.0->pie-extended) (2.7.0)\n",
      "Requirement already satisfied: torch<2.0.0,>=1.3.1 in /Users/sofiemoors/miniconda3/lib/python3.10/site-packages (from PaPie~=0.4.0->pie-extended) (1.13.1)\n",
      "Requirement already satisfied: torchmetrics in /Users/sofiemoors/miniconda3/lib/python3.10/site-packages (from PaPie~=0.4.0->pie-extended) (0.11.4)\n",
      "Requirement already satisfied: tqdm>=4.23.3 in /Users/sofiemoors/miniconda3/lib/python3.10/site-packages (from PaPie~=0.4.0->pie-extended) (4.65.0)\n",
      "Requirement already satisfied: pyyaml~=6.0 in /Users/sofiemoors/miniconda3/lib/python3.10/site-packages (from PaPie~=0.4.0->pie-extended) (6.0)\n",
      "Requirement already satisfied: terminaltables~=3.1.0 in /Users/sofiemoors/miniconda3/lib/python3.10/site-packages (from PaPie~=0.4.0->pie-extended) (3.1.10)\n",
      "Requirement already satisfied: JSON-minify>=0.3.0 in /Users/sofiemoors/miniconda3/lib/python3.10/site-packages (from PaPie~=0.4.0->pie-extended) (0.3.0)\n",
      "Requirement already satisfied: urllib3<1.27,>=1.21.1 in /Users/sofiemoors/miniconda3/lib/python3.10/site-packages (from requests~=2.25.0->pie-extended) (1.26.15)\n",
      "Requirement already satisfied: certifi>=2017.4.17 in /Users/sofiemoors/miniconda3/lib/python3.10/site-packages (from requests~=2.25.0->pie-extended) (2022.12.7)\n",
      "Requirement already satisfied: idna<3,>=2.5 in /Users/sofiemoors/miniconda3/lib/python3.10/site-packages (from requests~=2.25.0->pie-extended) (2.10)\n",
      "Requirement already satisfied: chardet<5,>=3.0.2 in /Users/sofiemoors/miniconda3/lib/python3.10/site-packages (from requests~=2.25.0->pie-extended) (4.0.0)\n",
      "Requirement already satisfied: typing-extensions in /Users/sofiemoors/miniconda3/lib/python3.10/site-packages (from torch<2.0.0,>=1.3.1->PaPie~=0.4.0->pie-extended) (4.6.3)\n",
      "Requirement already satisfied: packaging in /Users/sofiemoors/miniconda3/lib/python3.10/site-packages (from torchmetrics->PaPie~=0.4.0->pie-extended) (23.0)\n"
     ]
    }
   ],
   "source": [
    "!pip install nlp-pie\n",
    "#!pip install pie-extended"
   ]
  },
  {
   "cell_type": "code",
   "execution_count": 31,
   "id": "35c4d8a4",
   "metadata": {},
   "outputs": [],
   "source": [
    "from typing import List\n",
    "from pie_extended.cli.utils import get_tagger, get_model, download\n",
    "from pie_extended.models. dum.imports import get_iterator_and_processor"
   ]
  },
  {
   "cell_type": "code",
   "execution_count": 32,
   "id": "fc3adbe6",
   "metadata": {},
   "outputs": [
    {
     "name": "stdout",
     "output_type": "stream",
     "text": [
      "[██████████████████████████████████████████████████]\n",
      "[██████████████████████████████████████████████████]\n"
     ]
    }
   ],
   "source": [
    "do_download = True\n",
    "if do_download:\n",
    "    for dl in download(\"dum\"):\n",
    "        x = 1"
   ]
  },
  {
   "cell_type": "code",
   "execution_count": 27,
   "id": "b7da1a05",
   "metadata": {},
   "outputs": [],
   "source": [
    "iterator, processor = get_iterator_and_processor()\n",
    "tagger = get_tagger('dum', batch_size=2048, device=\"cpu\", model_path=None)"
   ]
  },
  {
   "cell_type": "code",
   "execution_count": 28,
   "id": "f504a328",
   "metadata": {},
   "outputs": [
    {
     "data": {
      "text/plain": [
       "['wapene martijn hoe salt gaen',\n",
       " 'sal die werelt iet lange staen',\n",
       " 'in dus cranken love',\n",
       " 'so moet vrouwe ver ere saen',\n",
       " 'sonder twivel ende waen',\n",
       " 'rumen heren hove',\n",
       " 'ic sie den valscen wel ontfaen',\n",
       " 'die de heren connen dwaen',\n",
       " 'ende plucken van den stove',\n",
       " 'ende ic sie den rechten slaen',\n",
       " 'beede bespotten ende vaen',\n",
       " 'alse die mese in die clove',\n",
       " 'recht offene god verscrove']"
      ]
     },
     "execution_count": 28,
     "metadata": {},
     "output_type": "execute_result"
    }
   ],
   "source": [
    "mart = [\"Wapene, Martijn! hoe salt gaen?\",\n",
    "         \"Sal die werelt iet lange staen \",\n",
    "         \"In dus cranken love,\",\n",
    "         \"So moet vrouwe ver Ere saen,\",\n",
    "         \"Sonder twivel ende waen,\",\n",
    "         \"Rumen heren hove.\",\n",
    "         \"Ic sie den valscen wel ontfaen,\",\n",
    "         \"Die de heren connen dwaen\",\n",
    "         \"Ende plucken van den stove;\",\n",
    "         \"Ende ic sie den rechten slaen,\",\n",
    "         \"Beede bespotten ende vaen,\",\n",
    "         \"Alse die mese in die clove,\",\n",
    "         \"Recht offene God verscrove.\"]\n",
    "\n",
    "lines = []\n",
    "for line in mart:\n",
    "    clean_line = []\n",
    "    for token in line.split():\n",
    "        token = ''.join([c for c in token.lower() if c.isalpha()])\n",
    "        clean_line.append(token)\n",
    "    lines.append(' '.join(clean_line))\n",
    "lines"
   ]
  },
  {
   "cell_type": "code",
   "execution_count": 29,
   "id": "4f7e8cc3",
   "metadata": {},
   "outputs": [
    {
     "name": "stdout",
     "output_type": "stream",
     "text": [
      "{'form': 'wapene', 'lemma': 'wapen', 'pos': 'n(plu)'}\n",
      "{'form': 'martijn', 'lemma': 'martin', 'pos': 'n(prop)'}\n",
      "{'form': 'hoe', 'lemma': 'hoe', 'pos': 'adv(inter)'}\n",
      "{'form': 'salt', 'lemma': 'zullen+het', 'pos': 'v(fin,pres,aux_cop)+pron(pers,3,sing)'}\n",
      "{'form': 'gaen', 'lemma': 'gaan', 'pos': 'v(infin)'}\n",
      "{'form': 'sal', 'lemma': 'zullen', 'pos': 'v(fin,pres,aux_cop)'}\n",
      "{'form': 'die', 'lemma': 'de', 'pos': 'art(def)'}\n",
      "{'form': 'werelt', 'lemma': 'wereld', 'pos': 'n(sing)'}\n",
      "{'form': 'iet', 'lemma': 'iet', 'pos': 'adv(gener)'}\n",
      "{'form': 'lange', 'lemma': 'lang', 'pos': 'adv(gener)'}\n",
      "{'form': 'staen', 'lemma': 'staan', 'pos': 'v(infin)'}\n",
      "{'form': 'in', 'lemma': 'in', 'pos': 'adp()'}\n",
      "{'form': 'dus', 'lemma': 'dus', 'pos': 'adv(dem)'}\n",
      "{'form': 'cranken', 'lemma': 'krank', 'pos': 'adj()'}\n",
      "{'form': 'love', 'lemma': 'lof', 'pos': 'n(sing)'}\n",
      "{'form': 'so', 'lemma': 'zo', 'pos': 'adv(resum)'}\n",
      "{'form': 'moet', 'lemma': 'moeten', 'pos': 'v(fin,pres,aux_cop)'}\n",
      "{'form': 'vrouwe', 'lemma': 'vrouw', 'pos': 'n(sing)'}\n",
      "{'form': 'ver', 'lemma': 'vrouw', 'pos': 'n(sing)'}\n",
      "{'form': 'ere', 'lemma': 'eer', 'pos': 'n(sing)'}\n",
      "{'form': 'saen', 'lemma': 'zaan', 'pos': 'adv(gener)'}\n",
      "{'form': 'sonder', 'lemma': 'zonder', 'pos': 'adp()'}\n",
      "{'form': 'twivel', 'lemma': 'twijfel', 'pos': 'n(sing)'}\n",
      "{'form': 'ende', 'lemma': 'en', 'pos': 'conj(coord)'}\n",
      "{'form': 'waen', 'lemma': 'waan', 'pos': 'n(sing)'}\n",
      "{'form': 'rumen', 'lemma': 'ruimen', 'pos': 'v(infin)'}\n",
      "{'form': 'heren', 'lemma': 'heer', 'pos': 'n(sing)'}\n",
      "{'form': 'hove', 'lemma': 'hof', 'pos': 'n(sing)'}\n",
      "{'form': 'ic', 'lemma': 'ik', 'pos': 'pron(pers,1,sing)'}\n",
      "{'form': 'sie', 'lemma': 'zij', 'pos': 'pron(pers,3,plu)'}\n",
      "{'form': 'den', 'lemma': 'de', 'pos': 'art(def)'}\n",
      "{'form': 'valscen', 'lemma': 'vals', 'pos': 'adj()'}\n",
      "{'form': 'wel', 'lemma': 'wel', 'pos': 'adv(gener)'}\n",
      "{'form': 'ontfaen', 'lemma': 'ontvangen', 'pos': 'v(participle,past)'}\n",
      "{'form': 'die', 'lemma': 'die', 'pos': 'pron(rel)'}\n",
      "{'form': 'de', 'lemma': 'de', 'pos': 'art(def)'}\n",
      "{'form': 'heren', 'lemma': 'heer', 'pos': 'n(plu)'}\n",
      "{'form': 'connen', 'lemma': 'kunnen', 'pos': 'v(fin,pres,aux_cop)'}\n",
      "{'form': 'dwaen', 'lemma': 'dwaan', 'pos': 'v(infin)'}\n",
      "{'form': 'ende', 'lemma': 'en', 'pos': 'conj(coord)'}\n",
      "{'form': 'plucken', 'lemma': 'plukken', 'pos': 'n(plu)'}\n",
      "{'form': 'van', 'lemma': 'van', 'pos': 'adp()'}\n",
      "{'form': 'den', 'lemma': 'de', 'pos': 'art(def)'}\n",
      "{'form': 'stove', 'lemma': 'stoof', 'pos': 'n(sing)'}\n",
      "{'form': 'ende', 'lemma': 'en', 'pos': 'conj(coord)'}\n",
      "{'form': 'ic', 'lemma': 'ik', 'pos': 'pron(pers,1,sing)'}\n",
      "{'form': 'sie', 'lemma': 'zij', 'pos': 'pron(pers,3,plu)'}\n",
      "{'form': 'den', 'lemma': 'de', 'pos': 'art(def)'}\n",
      "{'form': 'rechten', 'lemma': 'recht', 'pos': 'n(plu)'}\n",
      "{'form': 'slaen', 'lemma': 'slaan', 'pos': 'v(infin)'}\n",
      "{'form': 'beede', 'lemma': 'beide', 'pos': 'num(indef)'}\n",
      "{'form': 'bespotten', 'lemma': 'bespotten', 'pos': 'v(infin)'}\n",
      "{'form': 'ende', 'lemma': 'en', 'pos': 'conj(coord)'}\n",
      "{'form': 'vaen', 'lemma': 'vangen', 'pos': 'v(infin)'}\n",
      "{'form': 'alse', 'lemma': 'als', 'pos': 'conj(subord)'}\n",
      "{'form': 'die', 'lemma': 'de', 'pos': 'art(def)'}\n",
      "{'form': 'mese', 'lemma': 'mees', 'pos': 'pron(indef)+pron(pers,3,plu)'}\n",
      "{'form': 'in', 'lemma': 'in', 'pos': 'adp()'}\n",
      "{'form': 'die', 'lemma': 'de', 'pos': 'art(def)'}\n",
      "{'form': 'clove', 'lemma': 'kloof', 'pos': 'n(sing)'}\n",
      "{'form': 'recht', 'lemma': 'recht', 'pos': 'n(sing)'}\n",
      "{'form': 'offene', 'lemma': 'openen', 'pos': 'adv(neg)'}\n",
      "{'form': 'god', 'lemma': 'god', 'pos': 'n(sing)'}\n",
      "{'form': 'verscrove', 'lemma': 'verschrijven', 'pos': 'v(fin,pres,lex)'}\n"
     ]
    }
   ],
   "source": [
    "for line in lines:\n",
    "    for w in tagger.tag_str(line.lower(), iterator=iterator, processor=processor):\n",
    "        print(w)"
   ]
  },
  {
   "cell_type": "code",
   "execution_count": null,
   "id": "74985a35-83c6-492c-b108-fe49f5ca0032",
   "metadata": {},
   "outputs": [],
   "source": []
  }
 ],
 "metadata": {
  "kernelspec": {
   "display_name": "Python 3 (ipykernel)",
   "language": "python",
   "name": "python3"
  },
  "language_info": {
   "codemirror_mode": {
    "name": "ipython",
    "version": 3
   },
   "file_extension": ".py",
   "mimetype": "text/x-python",
   "name": "python",
   "nbconvert_exporter": "python",
   "pygments_lexer": "ipython3",
   "version": "3.10.10"
  }
 },
 "nbformat": 4,
 "nbformat_minor": 5
}
