{
 "cells": [
  {
   "cell_type": "code",
   "execution_count": 27,
   "id": "350e49de-593e-4216-95b2-1053931e7506",
   "metadata": {},
   "outputs": [],
   "source": [
    "import re\n",
    "from copy import deepcopy\n",
    "# input: txt, af en toe nummer\n",
    "\n",
    "#nummer aan elke lijn toevoegen\n",
    "\n",
    "\n",
    "def add_numbers(text_file, output_text_file):\n",
    "    with open(text_file, 'r', encoding='utf-8') as input_file: # open het bestand\n",
    "        input = input_file.readlines() # lees het in, maak een lijst met 1 item = 1 lijn in de txt\n",
    "        output = deepcopy(input) # niets aanpassen aan de input, maar aan de output\n",
    "\n",
    "    last_line = 0\n",
    "    for index, line in enumerate(input): # ga door elke lijn, en tel ook op welke lijn je zit (= index)\n",
    "        if not re.match(r'^&', line) and not re.match(r'\\s*\\n', line): # lijnen met & en lege lijnen negeren\n",
    "            if re.match(r'^[0-9]', line):\n",
    "                try:\n",
    "                    last_line = int(re.sub(' .*$', '', line)) # herken het nummer als er eentje staat, dat wordt nu het\n",
    "                                                                # nummer van de laatste lijn\n",
    "                    line_number = str(last_line).zfill(3)\n",
    "                    line_no_number = re.sub('^[0-9]* ', '', line)\n",
    "                    output[index] = f'{line_number} {line_no_number}'\n",
    "                except: # de lijn-nummer gewoon +1 doen als de 'try' niet lukt (dus als het nummer niet herkend wordt)\n",
    "                    last_line += 1\n",
    "            if not re.match(r'^[0-9]', line): #als er geen nummer aan de start van de regel staat\n",
    "                last_line += 1 # 1 meer dan de laatste lijn\n",
    "                line_number = str(last_line).zfill(3)\n",
    "                output[index] = f'{line_number} {line}'\n",
    "    with open(output_text_file, 'w', encoding='utf-8') as output_file:\n",
    "        for line in output:\n",
    "            output_file.write(line)\n",
    "\n",
    "\n",
    "if __name__ == '__main__':\n",
    "    input_text_file = r'C:\\Users\\SMoors\\Gitrepos\\collateconstraints\\rich_txt_martijn\\Uitgave_W\\TxT_W.txt'\n",
    "    output_text_file = r'C:\\Users\\SMoors\\Gitrepos\\collateconstraints\\processed_txt_martijn\\TxT_W_processed.txt'\n",
    "    add_numbers(input_text_file, output_text_file)"
   ]
  },
  {
   "cell_type": "code",
   "execution_count": null,
   "id": "d780444d-5be9-46a1-bda4-0171450d8f5f",
   "metadata": {},
   "outputs": [],
   "source": []
  },
  {
   "cell_type": "code",
   "execution_count": null,
   "id": "aa4ebf63-08b3-4af9-a668-77f73cffbc47",
   "metadata": {},
   "outputs": [],
   "source": []
  }
 ],
 "metadata": {
  "kernelspec": {
   "display_name": "Python 3",
   "language": "python",
   "name": "python3"
  },
  "language_info": {
   "codemirror_mode": {
    "name": "ipython",
    "version": 3
   },
   "file_extension": ".py",
   "mimetype": "text/x-python",
   "name": "python",
   "nbconvert_exporter": "python",
   "pygments_lexer": "ipython3",
   "version": "3.8.8"
  }
 },
 "nbformat": 4,
 "nbformat_minor": 5
}
