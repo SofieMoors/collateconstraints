{
 "cells": [
  {
   "cell_type": "code",
   "execution_count": 10,
   "id": "350e49de-593e-4216-95b2-1053931e7506",
   "metadata": {},
   "outputs": [
    {
     "name": "stdout",
     "output_type": "stream",
     "text": [
      "[['001', '<H>ier willic sette(n) de(n) d[er]de(n) boec va(n) wapen \\n'], ['002', 'm[er]ten die iacob va(n) marla(n)t maecte . o(m) d{at} hi va(n) de(n) ge#\\n'], ['003', 'loeue sp[re]ct so willickene hier setten\\n'], ['003', '<D>ie dit gedichte lesen en(de) scriuen\\n'], ['004', '<O>p ten hoechsten ban\\n'], ['005', '<D>at sijt reene laten bliuen\\n'], ['007', '<W>oert lettere af ochte an\\n'], ['008', '<D>oen sijt oec hen sal becliuen\\n'], ['009', '<M>ijn ban en(de) si en sele(n)ne af wriue(n)\\n'], ['010', '<N>iet gemogen nochtan\\n'], ['012', '<H>et es daer ic mi lieuer o(m) liete o(n)tliue(n)\\n'], ['013', '<E>er icker schiede van\\n'], ['014', '<N>u hore die leeren can\\n'], ['015', '<I_2>acob wi hebben onderlinghe\\n'], ['017', '<N>v antwerdt mi op een \\n'], ['018', '<E>n(de) leert mi eer ic di ontspringhe\\n'], ['019', '<H>oe ic mijn herte da[er] toe dwinghe\\n'], ['020', '<T>e ki(n)ne(n)ne he(m) dien wi vleen\\n'], ['022', '<D>at gode te ki(n)ne(n)ne bi sinen gehi(n)ge\\n'], ['023', '<E>s leuen sonder ween\\n'], ['024', '<D>it es waerh%eit% claer en(de) ginge\\n'], ['025', '<S>ubtijl ware th[er]te diet bevi(n)ge\\n'], ['027', '<N>u antwerdt mi tussche(n) o(n)s tween\\n'], ['028', '<M_1>erte(n) du vraechs te hoege\\n'], ['029', '<A>l vloghic boue(n) der jngele vloghe\\n'], ['030', '<B>ouen cherub en(de) seraph\\n'], ['032', '<B>erechten dat te vollen doge\\n'], ['033', '<M>et woerden niet hier af \\n'], ['034', '<A>lle sinne sijn te droege\\n'], ['035', '<A>lle creaturen hoement poeghe\\n'], ['037', '<D>at ha[er]re eenech te volle(n) doghe\\n'], ['038', '<M>aer verscerp dijns sins oghe\\n'], ['039', '<E>n(de) hore wat mi screfture gaf\\n'], ['040', '<H>oudet i(n) dij(n)re herten graf\\n'], ['042', '<B>eeste(n) die de(n) berch besoeken\\n'], ['043', '<M>oeten sijn gesteent\\n'], ['044', '<B>eeste es die me(n)sche die wille roeken \\n'], ['045', '<T>e nauwe o(m) de godheit loeken\\n'], ['047', '<D>u soecs mi i(n) allen hoeken\\n'], ['048', '<M>et rimen sonder vlas va(n) doeke(n) \\n'], ['049', '<E>s dit goet ic wane neent\\n'], ['050', '<D>u tels mi mette(n) wise(n) cloeke(n) \\n'], ['052', '<J>c wane dine herte meent\\n'], ['053', '<D>attu mi heefs verbeent\\n'], ['054', '<I_2>acob dune souts di n%iet% v[er]grame(n)\\n'], ['055', '<J>c souts mi i(n) mij(n) herte scamen\\n'], ['057', '<O>ec lye ics met di te samen\\n'], ['058', '<D>at die hoecheit d[er] hoeg[er] name(n)\\n'], ['059', '<T>e v[er]re n%iet% en doech gesocht\\n'], ['060', '<A>l waert dat alle di(n)ge quame(n)\\n'], ['062', '<D>its elken afgecnocht\\n'], ['063', '<M>a[er] leere mine(n) cranke(n) sin +mine(n) lame(n) \\n'], ['064', '<G>hewo(n)dt metter sonde(n) bramen\\n'], ['065', '<V>an dattu vermocht\\n'], ['067', '<M_1>erte(n) nu m[er]c i(n) dinen sinne\\n'], ['068', '<G>od es een wese(n) vore alle beginne\\n'], ['069', '<D>edelste bouen al\\n'], ['070', '<S>ij(n) wesen es also ic kinne\\n'], ['072', '<D>at es oft wesen sal\\n'], ['073', '<S>ine gewerke da[er] me(n)ne ki(n)t jnne\\n'], ['074', '<S>ij(n) so groet dat si sij(n) dinne\\n'], ['075', '<D>iet kinnen en(de) smal\\n'], ['077', '<B>ouen alrehande gewinne\\n'], ['078', '<E>n(de) boue(n) alrehande geval\\n'], ['079', '<D>aer bouen ocht hier int dal \\n'], ['080', '<D_1>en hemel en(de) den th%ro%en merke\\n'], ['082', '<E>n(de) onder alle sine dinc\\n'], ['083', '<H>i es buten alle dinc nu h[er]ke\\n'], ['084', '<E>n(de) binne(n) alle di(n)c dit houde wel st[er]ke\\n'], ['085', '<H>ier wt niet en sprinc\\n'], ['087', '<H>i e(n) es niet gedeilt i(n) perke\\n'], ['088', '<H>ier in dijn herte dwinc\\n'], ['089', '<M>aer geheel in elken werke\\n'], ['090', '<B>ute(n) binne(n) i(n) wat[er] i(n) swerke\\n'], ['092', '<S>ond[er] enegen loesen winc\\n'], ['093', '<B_1>ouen al es god alse here\\n'], ['094', '<D>ie besittere es e(m)mer meere\\n'], ['107', '<N>egeen dinc en mach hem beclagen\\n'], ['108', '<D>at hise iet v[er]last\\n'], ['109', '<O>nder al sond[er] last va(n) waghen\\n'], ['110', '<W>ant hem en moeyt ruste(n) no iage(n) \\n'], ['137', '<E>er noyt beghi(n) ghinc in\\n'], ['138', '<D>en heilegen gheest leere(n) wi de(n) dore(n)\\n'], ['139', '<W>t desen tween comende o(n)ttoe dij(n) ore(n)\\n'], ['140', '<E>lc mensche en(de) sinen sin\\n'], ['147', '<E>n was noyt an dese drie\\n'], ['148', '<D>e(n) vader sette wi als te(n) gronde \\n'], ['149', '<D>aer alle doghet vte begonde\\n'], ['150', '<D>iemen verstaet oft sie\\n'], ['152', '<D>es vader waerheit en(de) sine orconde\\n'], ['153', '<D>ie va(n) hem en sciet nie\\n'], ['154', '<D>ie vanden heilegen geest o(n)tbonde\\n'], ['155', '<H>a[er]re beider minne hi daer i(n) vonde\\n'], ['157', '<E>en god des gheloeft mie\\n'], ['158', '<N_1>ieme(n) en es wilthi iet maken \\n'], ['159', '<H>ine moet in he(m) seluen smake(n) \\n'], ['160', '<E>enrande triniteit\\n'], ['162', '<E>n(de) hi moet co(n)nen t[er] di(n)c gerake(n) \\n'], ['163', '<O>fte h{et} es hem al o(n)tseit\\n'], ['164', '<O>ec mo{et} hi bi wile(n) da[er]o(m)me wake(n) \\n'], ['165', '<M>acht . co(n)st . wille. dese drie sake(n) \\n'], ['167', '<D>ie dese note wel can craken\\n'], ['168', '<H>ine derft beide(n) no haken\\n'], ['169', '<H>ine vi(n)t i(n) ene godh%eit% : <D>[ri]e {per}sone gereit\\n'], ['172', '<D>oet th%ro%en st[er]ren en(de) so(n)ne keere(n)\\n'], ['173', '<E>n(de) al dat ruerende si\\n'], ['174', '<N>ochta(n) sij(n) ruste(n) es so vol eeren\\n'], ['175', '<D>at he(m) n%iet% e(n) can gederen\\n'], ['177', '<H>i es dat hi was da(n)s gheen sch[er]en\\n'], ['178', '<H>ine mach mi(n)d[er]en no meere(n)\\n'], ['179', '<H>i es sij(n)s selues vri\\n'], ['180', '<H>i do{et} hare alle di(n)c genere(n)\\n'], ['182', '<A>lle di(n)c v[er]uult hi\\n'], ['183', '<D>us leeret tgeloeue mi\\n'], ['184', '<G_1>ode e(n) beslut geene stede\\n'], ['185', '<M>a[er] alle stede beslut hi mede\\n'], ['187', '<D>e iare ke[er]t sij(n) mogenthede\\n'], ['188', '<E>n(de) n%iet% en es d{at} he(m) kere(n) dede\\n'], ['189', '<S>ine macht es so breit\\n'], ['190', '<C>racht no{et} noch geen o(n)v[re]de\\n'], ['192', '<H>oe d{at} die sake gheit\\n'], ['193', '<S>o gestade es god in de(n) sede\\n'], ['194', '<D>atten cracht noch geene bede\\n'], ['195', '<W>t sinen poere en leit\\n'], ['197', '<H_1><E>den . gistere(n) . es o(n)se leue(n) \\n'], ['198', '<E>n(de) da[er] es endde . ane gedreue(n) \\n'], ['199', '<H>et si cort ochte lanc\\n'], ['200', '<M>a[er] als me(n) va(n) gode vi(n)t besc[re]ue(n)\\n'], ['202', '<E>en ewelec o(m)me ga(n)c \\n'], ['203', '<D>aer negeen inde ane e(n) mach cleue(n)\\n'], ['204', '<N>och beghin e(n) werter v[er]heuen\\n'], ['205', '<S>ij(n) wesen es so stranc\\n'], ['207', '<D>at es en(de) was dus eest bescreue(n) \\n'], ['208', '<E>n(de) mi es gema(n)c : <J>n dese w[er]elt stra(n)c\\n'], ['209', '<M_1><E>rte(n) nu e(n) clach no en croene\\n'], ['212', '<D>aer ic af spreke die\\n'], ['213', '<E>s euen geweldech en(de) eue(n) scone\\n'], ['214', '<E>ue(n) gelijc in werelt in th%ro%ene\\n'], ['215', '<S>ijn dese enege drie\\n'], ['217', '<M>a[er] tgeloeue sonder hoenne\\n'], ['218', '<D>at en twiuelde nie\\n'], ['219', '<W>at eere(n) hadde wijs oft wat loe(n)ne\\n'], ['220', '<D>at wi die n%iet% en dogen ene boe(n)ne\\n'], ['222', '<I_1>acob ic lie ten beghinne\\n'], ['223', '<D>at ic subtijlre dinc va(n) sinne\\n'], ['224', '<N>iet en hebbe gehort\\n'], ['227', '<O>ec proeuic wel en(de) bekinne\\n'], ['228', '<T>e grondene dese woert\\n'], ['229', '<D>aer es onse redene toe wel dinne\\n'], ['230', '<O>ns en t[re]cke geloeue en(de) mi(n)ne\\n'], ['232', '<D>aer god es loen boue(n) gewi(n)ne\\n'], ['233', '<E>n(de) da[er] tgeloeue es coningi(n)ne\\n'], ['234', '<N>u a(n)tw[er]dt mi bat voert\\n'], ['235', '<O>p dat ics niet e(n) hebbe v[er]bo[er]t\\n'], ['237', '<E>n(de) ane den sone dies gelike\\n'], ['238', '<E>n(de) ane den heilegen gheest \\n'], ['239', '<E>s mijn geloeue also rike\\n'], ['240', '<D>at een god es dien ic wike\\n'], ['242', '<M>a[er] segt mi soe cla[er] d{at} h{et} blike\\n'], ['243', '<H>oe die sone die eewelike\\n'], ['244', '<D>e(n) vader es alre meest\\n'], ['245', '<M>enscheit o(n)tfinc van o(n)sen slike\\n'], ['247', '<E>n(de) hi di doe volleest\\n'], ['248', '<D>ie minst werdt en(de) was meest\\n'], ['249', '<E_1>n(de) om dat ic d{at} ic dat moete gelien \\n'], ['250', '<S>oe biddic der maget marien\\n'], ['327', '<D_1>e me(n)sch%eit% liet hare besinde(n) \\n'], ['328', '<D>oepen proeue(n) i(n) dien tiden\\n'], ['329', '<V>an den ouden viant\\n'], ['330', '<S>i liet hare vaen en(de) beniden\\n'], ['332', '<S>i sta[er]f d{us} eest beka(n)t \\n'], ['333', '<D>e siele wilde ter hellen tiden\\n'], ['334', '<D>a[er] si die gene wilde v[er]blide(n)\\n'], ['335', '<D>ie de duuel bant\\n'], ['342', '<V>rouwen marien nam\\n'], ['343', '<H>i t%ro%este sine lieue catiue\\n'], ['344', '<H>ier .ii. hi[er] .iij. hi[er] .iiij. hier viue\\n'], ['345', '<M>et hen hi eten quam\\n'], ['347', '<G>od en(de) mensche elc man bliue\\n'], ['348', '<H>ier in ghehorsam \\n'], ['349', '<E>s oec enech man so stiue\\n'], ['350', '<D>ie iegen dit geloeue kiue\\n'], ['352', '<T>e(n) ionxsten werden gram\\n'], ['353', '<I_1>n de(n) hemel es hi gevaren\\n'], ['354', '<D>a[er]t de sine sagen te waren\\n'], ['355', '<T>e des vader rechter hant\\n'], ['357', '<D>en vader bidt vore sine caren\\n'], ['358', '<D>ie he(m) hier sijn becant\\n'], ['359', '<N>och comt hi hier hem oppe(n)bare(n)\\n'], ['360', '<D>e werelt doeme(n) m{et} sinen scare(n)\\n'], ['362', '<S>o(n)ne en(de) mane sal hi v[er]claren\\n'], ['363', '<D>ie bi adame verdonckert ware(n)\\n'], ['364', '<L>ocht water en(de) lant\\n'], ['365', '<S>al puergeren een brant\\n'], ['367', '<H>i liet den sinen hier te pande\\n'], ['368', '<S>ijn vleesch en(de) sijn heilech bloet\\n'], ['369', '<T>e consacreerne i(n) priesters ha(n)de \\n'], ['370', '<W>ie es dieselke gaue becande\\n'], ['377', '<D>ij(n) vleesch en(de) dij(n) heilech bloet\\n'], ['378', '<D>at wt dijnre siden woet\\n'], ['379', '<W_1>t dese(n) sone wt dese(n) wonden\\n'], ['380', '<W>ies godh%eit% nieme(n) e(n) ca(n) gegro(n)de(n)\\n'], ['392', '<I_1>acob du berechts mi scone\\n'], ['393', '<B>erecht mi nv vande(n) {per}sone\\n'], ['394', '<D>ie me(n) heet heilech geest\\n'], ['395', '<H>oe mij(n) geloeue sond[er] hoene\\n'], ['397', '<D>ie alre gauen es meest\\n'], ['398', '<W>a(n)t van de(n) vader en(de) va(n)de(n) soene\\n'], ['399', '<H>ebbic bi di dat v god loene\\n'], ['400', '<S>cone berecht v[er]vreescht \\n'], ['402', '<D>a[er] boue(n) i(n)de(n) hoegen th%ro%ene\\n'], ['403', '<E>n(de) geue(n) di volleest\\n'], ['404', '<D>at tuere moet come(n) o(n)gevreest\\n'], ['405', '<M_1><E>rte(n) o(n)s le[er]t de screfture\\n'], ['407', '<E>(m)mer sij(n) dese drie : <A>ltoes eve(n) nage«buere»\\n'], ['408', '<E>n(de) e(n) verscheede(n) te negee(n)re vre \\n'], ['409', '<N>och e(n) verschieden nie\\n'], ['412', '<W>t desen dobbelen gods dure\\n'], ['413', '<W>ie caent gegronde(n) wie\\n'], ['414', '<C>o(m)t die geest die suete guere\\n'], ['415', '<D>ie reine godh%eit% en(de) die puere\\n'], ['427', '<D>ie ware gode dalre neeste\\n'], ['428', '<N>egeene vrese van te(m)peeste\\n'], ['429', '<N>och negeen venijn\\n'], ['430', '<E>n scaedde d[er] sielen sijn\\n'], ['432', '<R>ijch%eit% boue(n) alle haue\\n'], ['433', '<F>onteine des leuens al\\n'], ['434', '<W>ie dat geport w[er]t hier aue\\n'], ['435', '<W>at rijcheide(n) men he(m) gaue\\n'], ['437', '<R>ijcheit die coni(n)c heeft of g%ra%ue\\n'], ['438', '<E>n es tiende(n)deel n%iet% va(n) ene(n) caue\\n'], ['439', '<G>heprijst iegen dit geval\\n'], ['440', '<J>hesus die ruste inden graue\\n'], ['442', '<O>ns als men rumen sal\\n'], ['443', '<D>it arme erdsche dal\\n'], ['444', '<D_1>its svad[er]s en(de) des soens minne\\n'], ['445', '<D>its caritate daer altoes inne\\n'], ['478', '<T>ellen hi[er] af en(de) alle woert\\n'], ['479', '<N>eganc n%iet% ou[er] dese pale\\n'], ['480', '<H>oudt dit i(n) dijnre herte(n) sale\\n'], ['487', '<E>n(de) in thelsche vier da[er] na rake\\n'], ['488', '<D>aer me(n) de(n) duuel in droemt\\n'], ['489', '<H>elpt mi god d{at} ic daer gerake\\n'], ['490', '<D>aer ic sie en(de) daer ic smake\\n'], ['492', '<S>o e(n) t%re%ct mi die helsche drake\\n'], ['493', '<N>iet ter eweliker wrake\\n'], ['494', '<D>aer niemen vte en coemt\\n'], ['495', '<W>ien dat scaedt ofte vroemt\\n'], ['497', '<M>i du(n)ct dat ic v sere quelle\\n'], ['498', '<D>och al des haddic noet\\n'], ['499', '<A>lsic dit lese en(de) spelle\\n'], ['500', '<M>agic leeren alsict vertelle\\n'], ['502', '<D>aer ic bi scumen mach die helle\\n'], ['503', '<O>p d{at} ic mi daer toe v[er]snelle\\n'], ['504', '<T>e doene dat god geboet\\n'], ['505', '<D>ie de doot wrac van abelle\\n'], ['507', '<D>ats i(n) abrahams scoet\\n'], ['508', '<N>a dese corte doot <A>men\\n'], ['509', '<H>ier es vte de derde boec va(n) wape(n) \\n'], ['510', 'merte(n) die iacob va(n) marla(n)t dichte\\n'], ['511', 'en(de) hi heeft i(n) 39 clausele(n) . en(de) elc\\n'], ['512', 'clausele heeft 13 verse : -  \\n']]\n"
     ]
    }
   ],
   "source": [
    "import re\n",
    "from copy import deepcopy\n",
    "# input: txt, af en toe nummer\n",
    "\n",
    "#nummer aan elke lijn toevoegen\n",
    "\n",
    "def add_numbers(text_file, output_text_file):\n",
    "    output = []\n",
    "    \n",
    "    with open(text_file, 'r', encoding='utf-8') as input_file: # open het bestand\n",
    "        input = input_file.readlines() # lees het in, maak een lijst met 1 item = 1 lijn in de txt\n",
    "\n",
    "    last_line = 0\n",
    "    for index, line in enumerate(input): # ga door elke lijn, en tel ook op welke lijn je zit (= index)\n",
    "        if not re.match(r'^&', line) and not re.match(r'^_', line) and not re.match(r'\\s*\\n', line): # lijnen met & of _ negeren, alsook lege lijnen negeren\n",
    "            if re.match(r'^[0-9]', line):\n",
    "                try:\n",
    "                    last_line = int(re.sub(' .*$', '', line)) # herken het nummer als er eentje staat, dat wordt nu het nummer van de laatste lijn\n",
    "                    line_number = str(last_line).zfill(3)\n",
    "                    line_no_number = re.sub('^[0-9]* ', '', line)\n",
    "                    output[index] = f'{line_number} {line_no_number}'\n",
    "                except: # de lijn-nummer gewoon +1 doen als de 'try' niet lukt (dus als het nummer niet herkend wordt)\n",
    "                    last_line += 1\n",
    "            if not re.match(r'^[0-9]', line): #als er geen nummer aan de start van de regel staat\n",
    "                last_line += 1 # 1 meer dan de laatste lijn\n",
    "                line_number = str(last_line).zfill(3)\n",
    "                #output[index] = f'{line_number} {line}'\n",
    "#     with open(output_text_file, 'w', encoding='utf-8') as output_file:\n",
    "#         for line in output:\n",
    "#             output_file.write(line)\n",
    "                output.append([line_number, line])      \n",
    "    print(output)\n",
    "\n",
    "# TODO: create path names (instead of file names)\n",
    "input_text_file = r'../data/rich_txt_martijn/Uitgave_W/TxT_W.txt'\n",
    "output_text_file = r'../data/processed_txt_martijn/TxT_W_processed.txt'\n",
    "add_numbers(input_text_file, output_text_file)"
   ]
  },
  {
   "cell_type": "code",
   "execution_count": null,
   "id": "d780444d-5be9-46a1-bda4-0171450d8f5f",
   "metadata": {},
   "outputs": [],
   "source": []
  },
  {
   "cell_type": "code",
   "execution_count": null,
   "id": "aa4ebf63-08b3-4af9-a668-77f73cffbc47",
   "metadata": {},
   "outputs": [],
   "source": []
  }
 ],
 "metadata": {
  "kernelspec": {
   "display_name": "Python 3",
   "language": "python",
   "name": "python3"
  },
  "language_info": {
   "codemirror_mode": {
    "name": "ipython",
    "version": 3
   },
   "file_extension": ".py",
   "mimetype": "text/x-python",
   "name": "python",
   "nbconvert_exporter": "python",
   "pygments_lexer": "ipython3",
   "version": "3.8.8"
  }
 },
 "nbformat": 4,
 "nbformat_minor": 5
}
