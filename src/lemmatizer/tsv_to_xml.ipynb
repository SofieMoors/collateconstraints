{
 "cells": [
  {
   "cell_type": "code",
   "execution_count": 5,
   "id": "ea4a1518-e450-4624-ba4b-fc2b89215ad8",
   "metadata": {},
   "outputs": [
    {
     "name": "stdout",
     "output_type": "stream",
     "text": [
      "A\n"
     ]
    },
    {
     "ename": "FileNotFoundError",
     "evalue": "[Errno 2] No such file or directory: 'data/tsv_files/A_output.tsv'",
     "output_type": "error",
     "traceback": [
      "\u001b[0;31m---------------------------------------------------------------------------\u001b[0m",
      "\u001b[0;31mFileNotFoundError\u001b[0m                         Traceback (most recent call last)",
      "Cell \u001b[0;32mIn[5], line 80\u001b[0m\n\u001b[1;32m     78\u001b[0m tsv_file \u001b[38;5;241m=\u001b[39m \u001b[38;5;124mf\u001b[39m\u001b[38;5;124m\"\u001b[39m\u001b[38;5;124mdata/tsv_files/\u001b[39m\u001b[38;5;132;01m{\u001b[39;00msigle\u001b[38;5;132;01m}\u001b[39;00m\u001b[38;5;124m_output.tsv\u001b[39m\u001b[38;5;124m\"\u001b[39m\n\u001b[1;32m     79\u001b[0m xml_file \u001b[38;5;241m=\u001b[39m \u001b[38;5;124mf\u001b[39m\u001b[38;5;124m\"\u001b[39m\u001b[38;5;124mdata/xml_lemmatizer/\u001b[39m\u001b[38;5;132;01m{\u001b[39;00msigle\u001b[38;5;132;01m}\u001b[39;00m\u001b[38;5;124m_output.xml\u001b[39m\u001b[38;5;124m\"\u001b[39m\n\u001b[0;32m---> 80\u001b[0m \u001b[43mconvert_tsv_to_xml\u001b[49m\u001b[43m(\u001b[49m\u001b[43mtsv_file\u001b[49m\u001b[43m,\u001b[49m\u001b[43m \u001b[49m\u001b[43mxml_file\u001b[49m\u001b[43m)\u001b[49m\n",
      "Cell \u001b[0;32mIn[5], line 19\u001b[0m, in \u001b[0;36mconvert_tsv_to_xml\u001b[0;34m(tsv_file, xml_file)\u001b[0m\n\u001b[1;32m     16\u001b[0m root \u001b[38;5;241m=\u001b[39m Element(\u001b[38;5;124m\"\u001b[39m\u001b[38;5;124mwitness\u001b[39m\u001b[38;5;124m\"\u001b[39m)\n\u001b[1;32m     18\u001b[0m \u001b[38;5;66;03m# Read the TSV file\u001b[39;00m\n\u001b[0;32m---> 19\u001b[0m \u001b[38;5;28;01mwith\u001b[39;00m \u001b[38;5;28;43mopen\u001b[39;49m\u001b[43m(\u001b[49m\u001b[43mtsv_file\u001b[49m\u001b[43m,\u001b[49m\u001b[43m \u001b[49m\u001b[38;5;124;43m'\u001b[39;49m\u001b[38;5;124;43mr\u001b[39;49m\u001b[38;5;124;43m'\u001b[39;49m\u001b[43m,\u001b[49m\u001b[43m \u001b[49m\u001b[43mencoding\u001b[49m\u001b[38;5;241;43m=\u001b[39;49m\u001b[38;5;124;43m'\u001b[39;49m\u001b[38;5;124;43mutf-8\u001b[39;49m\u001b[38;5;124;43m'\u001b[39;49m\u001b[43m)\u001b[49m \u001b[38;5;28;01mas\u001b[39;00m file:\n\u001b[1;32m     20\u001b[0m     reader \u001b[38;5;241m=\u001b[39m csv\u001b[38;5;241m.\u001b[39mreader(file, delimiter\u001b[38;5;241m=\u001b[39m\u001b[38;5;124m'\u001b[39m\u001b[38;5;130;01m\\t\u001b[39;00m\u001b[38;5;124m'\u001b[39m)\n\u001b[1;32m     21\u001b[0m     \u001b[38;5;28mnext\u001b[39m(reader)\n",
      "File \u001b[0;32m~/miniconda3/lib/python3.10/site-packages/IPython/core/interactiveshell.py:284\u001b[0m, in \u001b[0;36m_modified_open\u001b[0;34m(file, *args, **kwargs)\u001b[0m\n\u001b[1;32m    277\u001b[0m \u001b[38;5;28;01mif\u001b[39;00m file \u001b[38;5;129;01min\u001b[39;00m {\u001b[38;5;241m0\u001b[39m, \u001b[38;5;241m1\u001b[39m, \u001b[38;5;241m2\u001b[39m}:\n\u001b[1;32m    278\u001b[0m     \u001b[38;5;28;01mraise\u001b[39;00m \u001b[38;5;167;01mValueError\u001b[39;00m(\n\u001b[1;32m    279\u001b[0m         \u001b[38;5;124mf\u001b[39m\u001b[38;5;124m\"\u001b[39m\u001b[38;5;124mIPython won\u001b[39m\u001b[38;5;124m'\u001b[39m\u001b[38;5;124mt let you open fd=\u001b[39m\u001b[38;5;132;01m{\u001b[39;00mfile\u001b[38;5;132;01m}\u001b[39;00m\u001b[38;5;124m by default \u001b[39m\u001b[38;5;124m\"\u001b[39m\n\u001b[1;32m    280\u001b[0m         \u001b[38;5;124m\"\u001b[39m\u001b[38;5;124mas it is likely to crash IPython. If you know what you are doing, \u001b[39m\u001b[38;5;124m\"\u001b[39m\n\u001b[1;32m    281\u001b[0m         \u001b[38;5;124m\"\u001b[39m\u001b[38;5;124myou can use builtins\u001b[39m\u001b[38;5;124m'\u001b[39m\u001b[38;5;124m open.\u001b[39m\u001b[38;5;124m\"\u001b[39m\n\u001b[1;32m    282\u001b[0m     )\n\u001b[0;32m--> 284\u001b[0m \u001b[38;5;28;01mreturn\u001b[39;00m \u001b[43mio_open\u001b[49m\u001b[43m(\u001b[49m\u001b[43mfile\u001b[49m\u001b[43m,\u001b[49m\u001b[43m \u001b[49m\u001b[38;5;241;43m*\u001b[39;49m\u001b[43margs\u001b[49m\u001b[43m,\u001b[49m\u001b[43m \u001b[49m\u001b[38;5;241;43m*\u001b[39;49m\u001b[38;5;241;43m*\u001b[39;49m\u001b[43mkwargs\u001b[49m\u001b[43m)\u001b[49m\n",
      "\u001b[0;31mFileNotFoundError\u001b[0m: [Errno 2] No such file or directory: 'data/tsv_files/A_output.tsv'"
     ]
    }
   ],
   "source": [
    "import csv\n",
    "from xml.etree.ElementTree import Element, SubElement, tostring\n",
    "from xml.dom import minidom\n",
    "sigles = 'A','Ant','B', 'BR', 'C','D', 'D2','E', 'F', 'G', 'Ge', 'K', 'L', 'O', 'W', 'Y', 'Z'\n",
    "\n",
    "def extract_line_info(line_id):\n",
    "    parts = line_id.split('_')\n",
    "    sigle = parts[0] if len(parts) >= 1 else \"\"\n",
    "    text = parts[1] if len(parts) >= 2 else \"\"\n",
    "    stanza = parts[2] if len(parts) >= 3 else \"\"\n",
    "    line = parts[3] if len(parts) >= 4 else \"\"\n",
    "    return sigle, text, stanza, line\n",
    "\n",
    "def convert_tsv_to_xml(tsv_file, xml_file):\n",
    "    # Create the root element of the XML\n",
    "    root = Element(\"witness\")\n",
    "    \n",
    "    # Read the TSV file\n",
    "    with open(tsv_file, 'r', encoding='utf-8') as file:\n",
    "        reader = csv.reader(file, delimiter='\\t')\n",
    "        next(reader)\n",
    "\n",
    "        current_stanza = None\n",
    "        current_line = None\n",
    "        line_element = None\n",
    "        forms = [] \n",
    "        text_elements = {}  # Dictionary to store text elements\n",
    "        \n",
    "        # Iterate over each row in the TSV file\n",
    "        for row in reader:\n",
    "            if len(row) == 0:\n",
    "                continue\n",
    "\n",
    "            # Extract the values from the TSV row\n",
    "            line_id, form, corr_lemma, corr_pos, damage = row[0], row[1], row[4], row[5], row[6]\n",
    "\n",
    "            sigle, text, stanza, line = extract_line_info(line_id)\n",
    "           \n",
    "            # Get or create the text element based on the identifier\n",
    "            if text not in text_elements:\n",
    "                text_element = Element('text', n=text) \n",
    "                root.append(text_element)\n",
    "                root.attrib['sigle'] = sigle \n",
    "                text_elements[text] = text_element\n",
    "            else:\n",
    "                text_element = text_elements[text]\n",
    "\n",
    "            if current_stanza != stanza:\n",
    "                current_stanza = stanza\n",
    "                stanza_element = Element('stanza', n=stanza)\n",
    "                text_element.append(stanza_element)\n",
    "\n",
    "            if current_line != line:\n",
    "                if line_element is not None:\n",
    "                    forms_str = ' '.join(forms)\n",
    "                    line_element.attrib['text'] = forms_str\n",
    "                line_element = Element('l', n=line, damage=damage)\n",
    "                stanza_element.append(line_element)\n",
    "                forms = []\n",
    "                current_line = line\n",
    "            forms.append(form)\n",
    "\n",
    "            # Create the token element\n",
    "            token_element = SubElement(line_element, 'token', form=form, corr_lemma=corr_lemma, corr_pos=corr_pos)\n",
    "\n",
    "    if line_element is not None:\n",
    "        forms_str = ' '.join(forms)\n",
    "        line_element.attrib['text'] = forms_str\n",
    "\n",
    "    # Format the XML and save to a file\n",
    "    xml_string = minidom.parseString(tostring(root)).toprettyxml(indent=\"  \")\n",
    "    with open(xml_file, 'w', encoding='utf-8') as file:\n",
    "        file.write(xml_string)\n",
    "\n",
    "# Usage example\n",
    "for sigle in sigles: \n",
    "    print(sigle)\n",
    "    tsv_file = f\"data/tsv_files/{sigle}_output.tsv\"\n",
    "    xml_file = f\"data/xml_lemmatizer/{sigle}_output.xml\"\n",
    "    convert_tsv_to_xml(tsv_file, xml_file)"
   ]
  },
  {
   "cell_type": "code",
   "execution_count": null,
   "id": "bc8332f6-2dbd-46d8-aedb-d5376c7c85e5",
   "metadata": {},
   "outputs": [],
   "source": []
  },
  {
   "cell_type": "code",
   "execution_count": null,
   "id": "504384f2-dcbe-4e1f-a4ac-d5df9f969d8a",
   "metadata": {},
   "outputs": [],
   "source": []
  }
 ],
 "metadata": {
  "kernelspec": {
   "display_name": "Python 3 (ipykernel)",
   "language": "python",
   "name": "python3"
  },
  "language_info": {
   "codemirror_mode": {
    "name": "ipython",
    "version": 3
   },
   "file_extension": ".py",
   "mimetype": "text/x-python",
   "name": "python",
   "nbconvert_exporter": "python",
   "pygments_lexer": "ipython3",
   "version": "3.10.10"
  }
 },
 "nbformat": 4,
 "nbformat_minor": 5
}
