{
 "cells": [
  {
   "cell_type": "code",
   "execution_count": 326,
   "id": "552ff1f1-c60c-46a4-88b7-be5ffc500ded",
   "metadata": {},
   "outputs": [
    {
     "name": "stdout",
     "output_type": "stream",
     "text": [
      "Requirement already satisfied: collatex in /Users/sofiemoors/opt/anaconda3/lib/python3.9/site-packages (2.2)\n",
      "Requirement already satisfied: prettytable in /Users/sofiemoors/opt/anaconda3/lib/python3.9/site-packages (from collatex) (3.5.0)\n",
      "Requirement already satisfied: networkx in /Users/sofiemoors/opt/anaconda3/lib/python3.9/site-packages (from collatex) (2.8.4)\n",
      "Requirement already satisfied: wcwidth in /Users/sofiemoors/opt/anaconda3/lib/python3.9/site-packages (from prettytable->collatex) (0.2.5)\n"
     ]
    }
   ],
   "source": [
    "!pip install --upgrade collatex"
   ]
  },
  {
   "cell_type": "code",
   "execution_count": 327,
   "id": "da42733f-7d67-4841-a1b6-6815b8889c51",
   "metadata": {},
   "outputs": [
    {
     "name": "stdout",
     "output_type": "stream",
     "text": [
      "Requirement already satisfied: python-Levenshtein in /Users/sofiemoors/opt/anaconda3/lib/python3.9/site-packages (0.20.8)\n",
      "Requirement already satisfied: Levenshtein==0.20.8 in /Users/sofiemoors/opt/anaconda3/lib/python3.9/site-packages (from python-Levenshtein) (0.20.8)\n",
      "Requirement already satisfied: rapidfuzz<3.0.0,>=2.3.0 in /Users/sofiemoors/opt/anaconda3/lib/python3.9/site-packages (from Levenshtein==0.20.8->python-Levenshtein) (2.13.6)\n",
      "Note: you may need to restart the kernel to use updated packages.\n"
     ]
    }
   ],
   "source": [
    "pip install python-Levenshtein"
   ]
  },
  {
   "cell_type": "code",
   "execution_count": 328,
   "id": "7a553b4f-3038-47f5-8c54-7d41dc978869",
   "metadata": {},
   "outputs": [
    {
     "name": "stdout",
     "output_type": "stream",
     "text": [
      "Requirement already satisfied: grapheme in /Users/sofiemoors/opt/anaconda3/lib/python3.9/site-packages (0.6.0)\n",
      "Note: you may need to restart the kernel to use updated packages.\n"
     ]
    }
   ],
   "source": [
    "pip install grapheme"
   ]
  },
  {
   "cell_type": "code",
   "execution_count": 329,
   "id": "structured-peripheral",
   "metadata": {
    "tags": []
   },
   "outputs": [],
   "source": [
    "from glob import glob #alle bestandspaden terugvinden die overeenkomen met specifiek patroon\n",
    "import os #aanmaken van mappen, verwijderen van mappen,...\n",
    "from itertools import combinations #reeks verzameling cijfers/letters, combinaties in lexicografische volgorde\n",
    "import grapheme #voor stringmanipulatie & rekenfucties -> stel je hebt x = 'n̄', dan len(x) = 2 (want 2 bytes), grapheme.length(x) is dan wel 1\n",
    "from collatex import * #alle functies van collatex importeren, * geeft weer dat het om alle functies gaat\n",
    "from tqdm import tqdm #progress meters toevoegen\n",
    "import numpy as np #numpy dient om met lijsten/arrays te werken \n",
    "import pandas as pd #gebruik maken van de functies van Panda, zoals pd.DataFrame\n",
    "import seaborn as sb #statistical data visualization\n",
    "import matplotlib.pyplot as plt #creating static/animated/interactive visualizations\n",
    "\n",
    "from lxml import etree\n",
    "from re import sub #re — Regular expression operations #\n",
    "import xml.etree.ElementTree as ET\n",
    "import string"
   ]
  },
  {
   "cell_type": "code",
   "execution_count": 330,
   "id": "passing-morgan",
   "metadata": {},
   "outputs": [
    {
     "data": {
      "text/plain": [
       "['A',\n",
       " 'Ant',\n",
       " 'B',\n",
       " 'BR',\n",
       " 'C',\n",
       " 'D',\n",
       " 'D2',\n",
       " 'E',\n",
       " 'F',\n",
       " 'G',\n",
       " 'Ge',\n",
       " 'K',\n",
       " 'L',\n",
       " 'O',\n",
       " 'W',\n",
       " 'Y',\n",
       " 'Z']"
      ]
     },
     "execution_count": 330,
     "metadata": {},
     "output_type": "execute_result"
    }
   ],
   "source": [
    "sigles = [os.path.basename(fn).replace('xml_', '').replace('.xml', '') for fn in glob('../data/xml_martijn/*.xml')] #maak een lijst van sigles, doe dat door de basisnaam van een specifiek path te nemen (fn) en daarin .txt te vervangen, for... in ... = loop\n",
    "sigles = sorted(sigles)\n",
    "sigles"
   ]
  },
  {
   "cell_type": "code",
   "execution_count": 331,
   "id": "defensive-extension",
   "metadata": {},
   "outputs": [],
   "source": [
    "#sigles = 'G', 'Z'\n",
    "\n",
    "#sigles = 'A', 'B', 'C', 'D'\n",
    "sigles = 'A','Ant','B', 'BR', 'C','D', 'D2','E', 'F', 'G', 'Ge', 'K', 'L', 'O', 'W', 'Y', 'Z'"
   ]
  },
  {
   "cell_type": "code",
   "execution_count": 332,
   "id": "534c98da-a02c-4570-b097-8d23981c0eb5",
   "metadata": {},
   "outputs": [],
   "source": [
    "def get_gap_lines(tree):\n",
    "    gap_lines = []\n",
    "    for text in tree.iterfind('.//'+\"{\"+ NSMAP[\"MVN\"]+ \"}\"+'text'):\n",
    "        if 'n' in text.attrib:\n",
    "            for line in text.iterfind('.//'+\"{\"+ NSMAP[\"MVN\"]+ \"}\"+'l'):\n",
    "                if(line.find('.//'+\"{\"+ NSMAP[\"MVN\"]+ \"}\"+'gap')) is not None:\n",
    "                    gap_lines.append(text.attrib['n'] + '-' + line.attrib['n'])\n",
    "    return gap_lines"
   ]
  },
  {
   "cell_type": "code",
   "execution_count": 333,
   "id": "0d7932ef-cb69-49d8-ac57-f98adf065ef5",
   "metadata": {},
   "outputs": [],
   "source": [
    "NSMAP = {'MVN': 'http://www.tei-c.org/ns/1.0'} #namespace = collectie van 'symbolic names'\n",
    "removes = ('teiHeader', 'fw', 'supplied', 'abbr') #fw = forme work = headers, footers,...supplied = tekst toegevoegd door de transcriber \n",
    "removes_expan_false = ('teiHeader', 'fw', 'supplied', 'ex', 'expan')\n",
    "chars = {'a', 'b', 'c', 'd', 'e', 'f', 'g', 'h', 'i', 'j', 'k', 'l','m', 'n', 'o', 'p', 'q', 'r', 's', 't', 'u', 'v', 'w', 'x', 'y', 'z'}       "
   ]
  },
  {
   "cell_type": "code",
   "execution_count": 341,
   "id": "threaded-camera",
   "metadata": {},
   "outputs": [
    {
     "name": "stdout",
     "output_type": "stream",
     "text": [
      "704\n",
      "-> removed 162 lines with gaps\n",
      "539\n"
     ]
    }
   ],
   "source": [
    "def extract_lines(xml_file, expan = True, #def = fuctie maken die alleen wordt uitgevoerd als je die oproept, extract_lines = de naam van de functie, xml_file = argument in de functie, na de functienaam in ()\n",
    "                  punct = True, lower = True,\n",
    "                  sep_abbr = True): \n",
    "    \n",
    "    lines = {}\n",
    "    tree = etree.parse(xml_file) #ElementTree represents the whole XML document as a tree, and Element represents a single node\n",
    "    \n",
    "    \n",
    "    if expan:\n",
    "        #delete all elements with the provided tag names from a tree or subtree\n",
    "        #will also remove the tail text unless explicitly set the with_tail keyword argument option to False\n",
    "        etree.strip_elements(tree, (\"{\"+ NSMAP[\"MVN\"]+ \"}\" + s for s in removes), with_tail=False) \n",
    "    else: \n",
    "        etree.strip_elements(tree, (\"{\"+ NSMAP[\"MVN\"]+ \"}\" + s for s in removes_expan_false), with_tail=False)\n",
    "  \n",
    "    context = etree.iterwalk(tree, events=(\"start\", \"end\")) #a tree walker generates events from an existing tree. 'Start' and 'end' represent opening and closing elements\n",
    "    #u prefix indicates Unicode\n",
    "    text = u\"\" #een lege string die tekst heet, u staat voor Unicode \n",
    "    #this will be the key in the dictionary of lines {}\n",
    "    k = '' \n",
    "    \n",
    "    for action, node in context: #bij elke actie bij een element/knooppunt in het overlopen van het xml bestand\n",
    "        #remove ns for easier access\n",
    "        #tag_only bevat de tags op een knooppunt\n",
    "        #.tag selects all child elements with the given tag. A tag is a string identifying what kind of data this element represents (the element type, in other words).\n",
    "        #.replace removes ns www.tei...\n",
    "        \n",
    "        tag_only = node.tag.replace(\"{http://www.tei-c.org/ns/1.0}\",\"\") \n",
    "            \n",
    "        #node.attrib: XML elements have attributes \n",
    "        #attrib is a dictionary containing the element’s attributes. \n",
    "        if 'n' in node.attrib and tag_only == 'text': \n",
    "            title = node.attrib['n'] #for example Eerste Martijn\n",
    "    \n",
    "        if 'n' in node.attrib and tag_only == \"l\":                \n",
    "            k = title + '-' + node.attrib['n'] #for example 001, 002, 003...\n",
    "  \n",
    "        # if a new pb (standalone element) is processed:\n",
    "        if action == 'start' and tag_only == 'text': \n",
    "            continue\n",
    "            \n",
    "        # if new lb (standalone) is processed:\n",
    "        elif action == 'start' and tag_only == 'lb':\n",
    "            continue\n",
    "\n",
    "        # list elements which you want to iterate through. this is not really neccessary.\n",
    "        elif tag_only in (\"group\",\"text\",\"MVN\",\"body\",\"cb\",\"p\"):\n",
    "            continue\n",
    "\n",
    "        # for all other elements, distinguish between the start-event of the processing and\n",
    "        # and the end-event. Attach the tail AFTER the child nodes were processed (= end-event) \n",
    "         \n",
    "        elif action == 'start':\n",
    "            #comment the following two lines out to not get the element markers\n",
    "            #f.write(f\"[{tag_only}]\") \n",
    "            #text += f\"[{tag_only}]\"\n",
    "\n",
    "            ############################################################################\n",
    "            ########## filter out special characters, bars,                   ##########\n",
    "            ########## superscript, or specific tags.                         ##########\n",
    "            ############################################################################\n",
    "                    \n",
    "            \n",
    "            #if a special glyph is present, encode it accordingly\n",
    "            if tag_only == 'g':\n",
    "                if sep_abbr: #extra toegevoegd door Mike.  \n",
    "                    if node.attrib['ref'] == '#bar': # ā, ē, ī, ō, ū, n̄ etc.\n",
    "                        text += u'\\u005f' #low line _\n",
    "\n",
    "                    elif node.attrib['ref'] == '#apomod': # ʼ\n",
    "                        text += u'\\u02bc'\n",
    "\n",
    "                    elif node.attrib['ref'] == '#usmod': # ꝰ\n",
    "                        text += u'\\ua770' \n",
    "\n",
    "                    elif node.attrib['ref'] == '#condes': # ꝯ\n",
    "                        text += u'\\ua76f'\n",
    "\n",
    "                    elif node.attrib['ref'] == '#para': # ¶\n",
    "                        text += u'\\xb6'\n",
    "\n",
    "                    elif node.attrib['ref'] == '#etfin': # ꝫ\n",
    "                        text += u'\\ua76b'\n",
    "\n",
    "                    elif node.attrib['ref'] == '#pbardes': # ꝑ\n",
    "                        text += '\\ua751'\n",
    "\n",
    "                    elif node.attrib['ref'] == '#pbardes': # ꝕ\n",
    "                        text += u'\\ua755'\n",
    "\n",
    "                    elif node.attrib['ref'] == '#pflour': # ꝓ\n",
    "                        text += u'\\ua753'\n",
    "\n",
    "                    else:\n",
    "                        text += str(node.attrib['ref']) # get the actual ref if there still are any left\n",
    "                    \n",
    "                else:\n",
    "                    if node.attrib['ref'] == '#bar': # ā, ē, ī, ō, ū, n̄ etc.\n",
    "                        text += u'\\u0304'\n",
    "\n",
    "                    elif node.attrib['ref'] == '#apomod': # ʼ\n",
    "                        text += u'\\u02bc'\n",
    "\n",
    "                    elif node.attrib['ref'] == '#usmod': # ꝰ\n",
    "                        text += u'\\ua770'\n",
    "\n",
    "                    elif node.attrib['ref'] == '#condes': # ꝯ\n",
    "                        text += u'\\ua76f'\n",
    "\n",
    "                    elif node.attrib['ref'] == '#para': # ¶\n",
    "                        text += u'\\xb6'\n",
    "\n",
    "                    elif node.attrib['ref'] == '#etfin': # ꝫ\n",
    "                        text += u'\\ua76b'\n",
    "\n",
    "                    elif node.attrib['ref'] == '#pbardes': # ꝑ\n",
    "                        text += u'\\ua751'\n",
    "\n",
    "                    elif node.attrib['ref'] == '#pbardes': # ꝕ\n",
    "                        text += u'\\ua755'\n",
    "\n",
    "                    elif node.attrib['ref'] == '#pflour': # ꝓ\n",
    "                        text += u'\\ua753'\n",
    "\n",
    "                    else:\n",
    "                        node.attrib['ref']\n",
    "                        text += str(node.attrib['ref']) # get the actual ref if there still are any left\n",
    "\n",
    "            # encode superscript letters\n",
    "            superscript_dict = {'a':'ᵃ', 'b':'ᵇ', 'c':'ᶜ', 'd':'ᵈ', 'e':'ᵉ', 'f':'ᶠ',\n",
    "                               'g':'ᵍ', 'h':'ʰ', 'i':'ᶦ', 'j':'ʲ', 'k':'ᵏ', 'l':'ˡ', \n",
    "                                'm':'ᵐ', 'n':'ⁿ', 'o':'ᵒ', 'p':'ᵖ', 'r':'ʳ', 's':'ˢ', \n",
    "                                't':'ᵗ', 'u':'ᵘ', 'v':'ᵛ', 'w':'ʷ', 'x':'ˣ', 'y': 'ʸ', 'z': 'ᶻ'}\n",
    "\n",
    "            if tag_only == 'hi' and 'rend' in node.attrib and node.attrib['rend'] == 'superscript': #rend(ition) supplies information about the appearance of an element\n",
    "                if node.text in superscript_dict:\n",
    "                    text += str(superscript_dict[node.text]).strip()\n",
    "\n",
    "            # encode punctuation marks\n",
    "            elif tag_only == 'pc':\n",
    "                text += str(node.text).strip()\n",
    "\n",
    "            # encode roman numerals\n",
    "            elif tag_only == 'num':\n",
    "                if node.text:\n",
    "                    text += str('.'+node.text+'.').strip()\n",
    "\n",
    "            # if there is still a node with text in it\n",
    "            elif (node.text):\n",
    "                text += node.text        \n",
    "\n",
    "        # after the child elements\n",
    "        elif action == 'end':\n",
    "            #if there is a tail\n",
    "            #the tail attribute holds the text between the element’s end tag and the next tag, or None\n",
    "            if (node.tail and node.tail not in \"\\t\"): #if the tail is not yet in the text \n",
    "                #comment the following two lines out to not get the tail marker\n",
    "                #text += \"[tail]\"\n",
    "                #f.write(\"[tail]\")\n",
    "                #append to text-concatenation\n",
    "                text += str(node.tail)\n",
    "                \n",
    "        if tag_only == 'lb':\n",
    "            if k:\n",
    "                text = sub(r'\\n', '', text) #when an \"r\" prefix is present, a character following a backslash is included in the string/all backslashes are left in string. \n",
    "                if not punct:\n",
    "                    text = text.translate(str.maketrans('', '', string.punctuation)) #the value of the keys k is the text \n",
    "                if lower: \n",
    "                    text = text.lower()\n",
    "                   \n",
    "                    #text = text[::-1]\n",
    "                  \n",
    "                lines[k] = text #the value of the keys k is the text \n",
    "                text = ''    \n",
    "    #print(lines)\n",
    "    # catch dangling last line (if applicable):\n",
    "    if text:\n",
    "        lines[k] = text\n",
    "    \n",
    "    num_orig_lines = len(lines)\n",
    "    print(num_orig_lines)\n",
    "    # remove lines with gaps:\n",
    "    gap_lines = get_gap_lines(tree)\n",
    "    #print(gap_lines)\n",
    "    lines = {k:v for k, v in lines.items() if k not in gap_lines}\n",
    "    print(f'-> removed {num_orig_lines - len(lines)} lines with gaps')\n",
    "\n",
    "    \n",
    "\n",
    "    lines = {k:v for k, v in lines.items() if v.strip()} #if a line with a gap is removed, remove empty key, strip() removes spaces #The items() method returns a key-value pair\n",
    "    return lines\n",
    "\n",
    "    \n",
    "\n",
    "d = extract_lines(f'../data/xml_martijn/xml_{sigles[12]}.xml', expan = True, punct = False, lower = True)\n",
    "\n",
    "#print(d)\n",
    "print(len(d))\n"
   ]
  },
  {
   "cell_type": "code",
   "execution_count": 342,
   "id": "iraqi-defeat",
   "metadata": {},
   "outputs": [
    {
     "name": "stderr",
     "output_type": "stream",
     "text": [
      " 53%|██████████████████████████████████████████████████▎                                            | 9/17 [00:00<00:00, 42.24it/s]"
     ]
    },
    {
     "name": "stdout",
     "output_type": "stream",
     "text": [
      "1770\n",
      "-> removed 5 lines with gaps\n",
      "104\n",
      "-> removed 104 lines with gaps\n",
      "1821\n",
      "-> removed 0 lines with gaps\n",
      "608\n",
      "-> removed 22 lines with gaps\n",
      "1472\n",
      "-> removed 0 lines with gaps\n",
      "1824\n",
      "-> removed 0 lines with gaps\n",
      "247\n",
      "-> removed 99 lines with gaps\n",
      "276\n",
      "-> removed 0 lines with gaps\n",
      "1823\n",
      "-> removed 0 lines with gaps\n"
     ]
    },
    {
     "name": "stderr",
     "output_type": "stream",
     "text": [
      "100%|██████████████████████████████████████████████████████████████████████████████████████████████| 17/17 [00:00<00:00, 43.76it/s]"
     ]
    },
    {
     "name": "stdout",
     "output_type": "stream",
     "text": [
      "1768\n",
      "-> removed 0 lines with gaps\n",
      "152\n",
      "-> removed 74 lines with gaps\n",
      "67\n",
      "-> removed 0 lines with gaps\n",
      "704\n",
      "-> removed 162 lines with gaps\n",
      "1824\n",
      "-> removed 0 lines with gaps\n",
      "507\n",
      "-> removed 0 lines with gaps\n",
      "361\n",
      "-> removed 84 lines with gaps\n",
      "542\n",
      "-> removed 7 lines with gaps\n"
     ]
    },
    {
     "name": "stderr",
     "output_type": "stream",
     "text": [
      "\n"
     ]
    }
   ],
   "source": [
    "mss = {} #dictionary maken van manuscripten\n",
    "\n",
    "\n",
    "for sigle in tqdm(sigles): #for... in = loop, toont progress meter \n",
    "    mss[sigle] = extract_lines(f'../data/xml_martijn/xml_{sigle}.xml',\n",
    "                               expan = True, punct = False, lower = True,\n",
    "                               sep_abbr = False) #f string waarin 'sigle' wordt ingevuld\n",
    "    \n",
    "#print(mss['A'])\n"
   ]
  },
  {
   "cell_type": "code",
   "execution_count": 343,
   "id": "1dc1cb9b-bc4b-4547-aeb3-3df50b9c450e",
   "metadata": {},
   "outputs": [
    {
     "name": "stdout",
     "output_type": "stream",
     "text": [
      "dict_keys(['A', 'Ant', 'B', 'BR', 'C', 'D', 'D2', 'E', 'F', 'G', 'Ge', 'K', 'L', 'O', 'W', 'Y', 'Z'])\n"
     ]
    }
   ],
   "source": [
    "print(mss.keys()) #print de keys van de dictionary mss"
   ]
  },
  {
   "cell_type": "code",
   "execution_count": 344,
   "id": "least-dover",
   "metadata": {},
   "outputs": [
    {
     "name": "stdout",
     "output_type": "stream",
     "text": [
      "['e', 'n̄', ' ', 'n', 'i', 'e', 't', ' ', 's', 'c', 'e', 'l', 'd', '-', 'ē', ' ', 'd', 'ē', ' ', 'h', 'e', 'ʼ', 'e']\n",
      "['e', 'n̄', ' ', 'n', 'i', 'e', 't', ' ', 's', 'c', 'e', 'l', 'd', 'e', 'n', ' ', 'd', 'ē', ' ', 'h', 'e', 'r', 'e']\n"
     ]
    }
   ],
   "source": [
    "# from: https://gist.github.com/slowkow/06c6dba9180d013dfd82bec217d22eb5\n",
    "\n",
    "def align_nw(x, y, match = 1, mismatch = 1, gap = 1): #nw needleman-wunsch,  'def' = functie header/functienaam = unieke naam voor functie waarmee deze aangeroepen kan worden.Tussen haakjes zet je parameters.\n",
    "    x = list(grapheme.graphemes(x)) #body van de functie. functie voert specifieke taak uit en  argumenten die zijn ingegeven w omgezet in een output\n",
    "    y = list(grapheme.graphemes(y)) #door met .grapheme te werken telt het n̄ als 1 en niet als 2 \n",
    "    \n",
    "    nx = len(x) # length of first sequence \n",
    "    #print(nx)\n",
    "    ny = len(y) # length of second sequence\n",
    "    #print(ny)\n",
    "    \n",
    "    # Optimal score at each possible pair of characters.\n",
    "    # Initialization process - forming the base matrix\n",
    "    F = np.zeros((nx + 1, ny + 1)) #Return an array/reeks van de lengte van x en y, telkens +1, filled with zeros.\n",
    "    F[:,0] = np.linspace(0, -nx, nx + 1) #[first_row:last_row , column_0] #de eerste rij en laatste rij van de eerste kolom (van 0 tot -22, met interval van 23)\n",
    "    F[0,:] = np.linspace(0, -ny, ny + 1) #de eerste kolom, eerste en laatste getal van de rij, np.linspace = Return evenly spaced numbers over a specified interval.\n",
    "    #print (F)\n",
    "    \n",
    "    # Pointers to trace through an optimal aligment. Aanknopingspunten om een optimale alignering te traceren. Initialize a pointer matrix P\n",
    "    P = np.zeros((nx + 1, ny + 1)) #weer een reeks van de lengte van x en y, telkens +1, gevuld met nullen\n",
    "    P[:,0] = 3 #eerste kolom = 3\n",
    "    P[0,:] = 4 #eerste rij = 4\n",
    "    #print(P)\n",
    "    \n",
    "    \n",
    "    # Temporary scores.\n",
    "    t = np.zeros(3) #[0.0.0.] t is a three-element matrix that stores three values: Match or mutation between the first and second sequence (what would be the score representation → trying to find the least); Inserting a gap inside of the first sequence (addition); Inserting a gap inside of the second sequence (deletion)\n",
    "    for i in range(nx): #loop over de range die gaat van 0 tot 21\n",
    "        for j in range(ny): #loop over de range die gaat van 0 tot 22 \n",
    "            if x[i] == y[j]: # Iteration step: take the max (inserting gap in first sequence, inserting gap in second sequence, match or mutation)       \n",
    "                t[0] = F[i,j] + match\n",
    "            else:\n",
    "                t[0] = F[i,j] - mismatch\n",
    "            t[1] = F[i,j+1] - gap\n",
    "            t[2] = F[i+1,j] - gap\n",
    "            tmax = np.max(t) #neemt het maximum van de rijen\n",
    "            F[i+1,j+1] = tmax\n",
    "            if t[0] == tmax:\n",
    "                P[i+1,j+1] += 2\n",
    "            if t[1] == tmax:\n",
    "                P[i+1,j+1] += 3\n",
    "            if t[2] == tmax:\n",
    "                P[i+1,j+1] += 4\n",
    "    # Trace through an optimal alignment.\n",
    "    i = nx\n",
    "    j = ny\n",
    "    rx = []\n",
    "    ry = []\n",
    "    while i > 0 or j > 0:\n",
    "        if P[i,j] in [2, 5, 6, 9]:\n",
    "            rx.append(x[i-1])\n",
    "            ry.append(y[j-1])\n",
    "            i -= 1\n",
    "            j -= 1\n",
    "        elif P[i,j] in [3, 5, 7, 9]:\n",
    "            rx.append(x[i-1])\n",
    "            ry.append('-')\n",
    "            i -= 1\n",
    "        elif P[i,j] in [4, 6, 7, 9]:\n",
    "            rx.append('-')\n",
    "            ry.append(y[j-1])\n",
    "            j -= 1\n",
    "    # Reverse the strings.\n",
    "    rx = rx[::-1]\n",
    "    ry = ry[::-1]\n",
    "    return rx, ry #Met een return statement geeft je een output waarde uit een functie.\n",
    "\n",
    "a, b = align_nw('en̄ niet sceldē dē heʼe', 'en̄ niet scelden dē here')\n",
    "print(a)\n",
    "print(b)"
   ]
  },
  {
   "cell_type": "code",
   "execution_count": 345,
   "id": "coated-privilege",
   "metadata": {},
   "outputs": [
    {
     "name": "stdout",
     "output_type": "stream",
     "text": [
      "['e', 'n̄', ' ', 'n', 'i', 'e', 't', ' ', 's', 'c', 'e', 'l', 'd', 'ē', ' ', ' ', 'd', 'ē', ' ', 'h', 'e', 'ʼ', 'e']\n",
      "['e', 'n̄', ' ', 'n', 'i', 'e', 't', ' ', 's', 'c', 'e', 'l', 'd', 'e', 'n', ' ', 'd', 'ē', ' ', 'h', 'e', 'r', 'e']\n"
     ]
    }
   ],
   "source": [
    "def align_collatex(l1, l2):\n",
    "    A = [{'t': c, 'n': c} for c in grapheme.graphemes(l1)] #t staat voor diplomatisch (text), n staat voor normalized, loop over al de characters \n",
    "    \n",
    "    B = [{'t': c, 'n': c} for c in grapheme.graphemes(l2)]\n",
    "    json_form = {'witnesses': [{'id': 'A', 'tokens': A}, #witnesses is het root element, hierin zitten de te vergelijken versies, elke versie heeft een unieke id\n",
    "                               {'id': 'B', 'tokens': B}]\n",
    "                } #de inhoud zijn de tokens, hierboven gedefinieerd \n",
    "\n",
    "    A, B = str(collate(json_form, output='table')).split('\\n')[1:3] #split() splits a string into a list\n",
    "\n",
    "    A = A.replace('| A | ', '').replace(' | ', '').replace(' |', '') #haal de | en sigles weg\n",
    "    B = B.replace('| B | ', '').replace(' | ', '').replace(' |', '')\n",
    "    \n",
    "   \n",
    "    A = list(grapheme.graphemes(A))\n",
    "    B = list(grapheme.graphemes(B))\n",
    "    \n",
    "    return A, B\n",
    "\n",
    "a, b = align_collatex('en̄ niet sceldē dē heʼe', 'en̄ niet scelden dē here')\n",
    "print(a)\n",
    "print(b)"
   ]
  },
  {
   "cell_type": "code",
   "execution_count": 346,
   "id": "convinced-consortium",
   "metadata": {},
   "outputs": [],
   "source": [
    "def get_distances(mss, method='NW'): #needleman-wunsch\n",
    "    distances = [] #een lijst maken \n",
    "    for ms1, ms2 in tqdm(list(combinations(mss.keys(), 2))): # combinations('ABCD', 2) --> AB AC AD BC BD CD #eerste element van combinatie w opgeslagen in ms1 en tweede waarmee je vergelijkt in ms2, \n",
    "        common_idxs = set(mss[ms1].keys()).intersection(set(mss[ms2].keys())) #een set maken, items in a set are unordered #The intersection() method returns a set that contains the similarity between two or more sets, \n",
    "    #for loop doet eerst AB BA..., dan zorgt intersection er voor dat AB gebeurt maar niet BA ook nog eens \n",
    "        for idx in common_idxs: #A, Ant,... \n",
    "            line1, line2 = mss[ms1][idx], mss[ms2][idx] #zoekt binnen dictionary naar de sigle (value 1), en geeft dan de eerste regel tekst (value 2) \n",
    "            if method == 'NW': #compare two methods: nw and collatex \n",
    "                rx, ry = align_nw(line1, line2) #verwijs naar bovenstaande functies \n",
    "            elif method == 'CollateX':\n",
    "                rx, ry = align_collatex(line1, line2)\n",
    "            if len(rx) != len(ry): #is niet gelijk aan, dan wordt line 1 en line 2 geprint\n",
    "                print(line1, line2)\n",
    "            length = len(rx)\n",
    "            for idx, (a, b) in enumerate(zip(rx, ry)): #You get the index with enumerate(), and get the elements of multiple iterables with zip().\n",
    "                if a != b:\n",
    "                    distances.append((ms1, ms2, idx/length, 1, a, b))\n",
    "                else:\n",
    "                    distances.append((ms1, ms2, idx/length, 0, a, b))\n",
    "    return pd.DataFrame(distances, columns=('ms1', 'ms2', 'relative position', 'mismatch', 'char1', 'char2'))"
   ]
  },
  {
   "cell_type": "code",
   "execution_count": 347,
   "id": "dressed-output",
   "metadata": {},
   "outputs": [
    {
     "name": "stderr",
     "output_type": "stream",
     "text": [
      "100%|████████████████████████████████████████████████████████████████████████████████████████████| 136/136 [02:50<00:00,  1.26s/it]\n",
      "100%|████████████████████████████████████████████████████████████████████████████████████████████| 136/136 [05:24<00:00,  2.39s/it]\n"
     ]
    },
    {
     "data": {
      "text/html": [
       "<div>\n",
       "<style scoped>\n",
       "    .dataframe tbody tr th:only-of-type {\n",
       "        vertical-align: middle;\n",
       "    }\n",
       "\n",
       "    .dataframe tbody tr th {\n",
       "        vertical-align: top;\n",
       "    }\n",
       "\n",
       "    .dataframe thead th {\n",
       "        text-align: right;\n",
       "    }\n",
       "</style>\n",
       "<table border=\"1\" class=\"dataframe\">\n",
       "  <thead>\n",
       "    <tr style=\"text-align: right;\">\n",
       "      <th></th>\n",
       "      <th>ms1</th>\n",
       "      <th>ms2</th>\n",
       "      <th>relative position</th>\n",
       "      <th>mismatch</th>\n",
       "      <th>char1</th>\n",
       "      <th>char2</th>\n",
       "    </tr>\n",
       "  </thead>\n",
       "  <tbody>\n",
       "    <tr>\n",
       "      <th>1317242</th>\n",
       "      <td>F</td>\n",
       "      <td>L</td>\n",
       "      <td>0.628571</td>\n",
       "      <td>0</td>\n",
       "      <td>s</td>\n",
       "      <td>s</td>\n",
       "    </tr>\n",
       "    <tr>\n",
       "      <th>337808</th>\n",
       "      <td>A</td>\n",
       "      <td>W</td>\n",
       "      <td>0.666667</td>\n",
       "      <td>0</td>\n",
       "      <td>t</td>\n",
       "      <td>t</td>\n",
       "    </tr>\n",
       "    <tr>\n",
       "      <th>1227278</th>\n",
       "      <td>D2</td>\n",
       "      <td>Z</td>\n",
       "      <td>0.880000</td>\n",
       "      <td>0</td>\n",
       "      <td>u</td>\n",
       "      <td>u</td>\n",
       "    </tr>\n",
       "    <tr>\n",
       "      <th>600437</th>\n",
       "      <td>B</td>\n",
       "      <td>L</td>\n",
       "      <td>0.636364</td>\n",
       "      <td>0</td>\n",
       "      <td></td>\n",
       "      <td></td>\n",
       "    </tr>\n",
       "    <tr>\n",
       "      <th>684032</th>\n",
       "      <td>B</td>\n",
       "      <td>Z</td>\n",
       "      <td>0.560000</td>\n",
       "      <td>0</td>\n",
       "      <td>a</td>\n",
       "      <td>a</td>\n",
       "    </tr>\n",
       "  </tbody>\n",
       "</table>\n",
       "</div>"
      ],
      "text/plain": [
       "        ms1 ms2  relative position  mismatch char1 char2\n",
       "1317242   F   L           0.628571         0     s     s\n",
       "337808    A   W           0.666667         0     t     t\n",
       "1227278  D2   Z           0.880000         0     u     u\n",
       "600437    B   L           0.636364         0            \n",
       "684032    B   Z           0.560000         0     a     a"
      ]
     },
     "execution_count": 347,
     "metadata": {},
     "output_type": "execute_result"
    }
   ],
   "source": [
    "nw_mismatches = get_distances(mss, method='NW') \n",
    "cx_mismatches = get_distances(mss, method='CollateX')\n",
    "nw_mismatches.sample(5) #.sample returns a list with a randomly selection of a specified number of items from a sequence\n",
    "cx_mismatches.sample(5)"
   ]
  },
  {
   "cell_type": "code",
   "execution_count": 349,
   "id": "appointed-birmingham",
   "metadata": {},
   "outputs": [
    {
     "data": {
      "image/png": "[encoded data removed]",
      "text/plain": [
       "<Figure size 640x480 with 1 Axes>"
      ]
     },
     "metadata": {},
     "output_type": "display_data"
    }
   ],
   "source": [
    "nw_rolling_window = nw_mismatches.groupby('relative position')['mismatch'].mean().rolling(window=20).mean() # groupby() function is used to split the data into groups based on some criteria. \n",
    "cx_rolling_window = cx_mismatches.groupby('relative position')['mismatch'].mean().rolling(window=20).mean() #gemiddelde nemen\n",
    "\n",
    "ax = nw_rolling_window.plot(label=\"mean (NW)\")\n",
    "cx_rolling_window.plot(label=\"mean (CX)\", ax=ax)\n",
    "\n",
    "plt.legend() #met afkortingen gaat het op het einde omhoog, zonder daalt het \n",
    "plt.savefig('figure8.png', dpi=300)"
   ]
  },
  {
   "cell_type": "code",
   "execution_count": 350,
   "id": "hazardous-anthony",
   "metadata": {},
   "outputs": [],
   "source": [
    "#checken of de resultaten statistisch significant zijn en dat is zo!\n",
    "#mismatches_end = mismatches[mismatches['position'] > .75]\n",
    "#mismatches_beginning = mismatches[mismatches['position'] <= .75]\n",
    "#from scipy.stats import mannwhitneyu\n",
    "#mannwhitneyu(mismatches_end['mismatch'], mismatches_beginning['mismatch'], alternative='less')"
   ]
  },
  {
   "cell_type": "markdown",
   "id": "detected-marina",
   "metadata": {},
   "source": [
    "## Clustermap"
   ]
  },
  {
   "cell_type": "code",
   "execution_count": 351,
   "id": "coordinate-alias",
   "metadata": {},
   "outputs": [
    {
     "name": "stdout",
     "output_type": "stream",
     "text": [
      "A 1765\n",
      "Ant 0\n",
      "B 1821\n",
      "BR 586\n",
      "C 1472\n",
      "D 1824\n",
      "D2 148\n",
      "E 276\n",
      "F 1823\n",
      "G 1768\n",
      "Ge 78\n",
      "K 67\n",
      "L 539\n",
      "O 1824\n",
      "W 507\n",
      "Y 277\n",
      "Z 535\n",
      "15310\n"
     ]
    }
   ],
   "source": [
    "for ms in mss:\n",
    "    print(ms, len(mss[ms]))\n",
    "total_sum = 0\n",
    "for ms in mss: \n",
    "    total_sum += len(mss[ms])\n",
    "print(total_sum)"
   ]
  },
  {
   "cell_type": "code",
   "execution_count": 352,
   "id": "sublime-warning",
   "metadata": {},
   "outputs": [
    {
     "name": "stdout",
     "output_type": "stream",
     "text": [
      "['A', 'Ant', 'B', 'BR', 'C', 'D', 'D2', 'E', 'F', 'G', 'Ge', 'K', 'L', 'O', 'W', 'Y', 'Z']\n",
      "['A', 'B', 'BR', 'C', 'D', 'F', 'G', 'L', 'O']\n"
     ]
    }
   ],
   "source": [
    "sigles = sorted(mss.keys())\n",
    "print(sigles)\n",
    "sigles = [s for s in sigles if len(mss[s]) >= 536]\n",
    "print(sigles)"
   ]
  },
  {
   "cell_type": "code",
   "execution_count": 353,
   "id": "scheduled-packing",
   "metadata": {},
   "outputs": [
    {
     "name": "stdout",
     "output_type": "stream",
     "text": [
      "(9, 9)\n"
     ]
    }
   ],
   "source": [
    "df_clust = np.zeros((len(sigles), len(sigles)))  #Return an array/reeks van de lengte van x en y, gevuld met nullen.\n",
    "print(df_clust.shape) #The shape property is usually used to get the current shape of an array"
   ]
  },
  {
   "cell_type": "code",
   "execution_count": 354,
   "id": "faced-young",
   "metadata": {},
   "outputs": [
    {
     "name": "stdout",
     "output_type": "stream",
     "text": [
      "A B\n",
      "A BR\n",
      "A C\n",
      "A D\n",
      "A F\n",
      "A G\n",
      "A L\n",
      "A O\n",
      "B BR\n",
      "B C\n",
      "B D\n",
      "B F\n",
      "B G\n",
      "B L\n",
      "B O\n",
      "BR C\n",
      "BR D\n",
      "BR F\n",
      "BR G\n",
      "BR L\n",
      "BR O\n",
      "C D\n",
      "C F\n",
      "C G\n",
      "C L\n",
      "C O\n",
      "D F\n",
      "D G\n",
      "D L\n",
      "D O\n",
      "F G\n",
      "F L\n",
      "F O\n",
      "G L\n",
      "G O\n",
      "L O\n"
     ]
    }
   ],
   "source": [
    "for s1, s2 in combinations(sigles, 2):\n",
    "    print(s1, s2)\n",
    "    d = nw_mismatches[(nw_mismatches['ms1'] == s1) & (nw_mismatches['ms2'] == s2)]['mismatch'].mean()\n",
    "    df_clust[sigles.index(s1), sigles.index(s2)] = d #Python index() = function which searches for a given element from the start of the list and returns the index of the first occurrence. \n",
    "    df_clust[sigles.index(s2), sigles.index(s1)] = d"
   ]
  },
  {
   "cell_type": "code",
   "execution_count": 355,
   "id": "given-appeal",
   "metadata": {},
   "outputs": [
    {
     "data": {
      "text/html": [
       "<div>\n",
       "<style scoped>\n",
       "    .dataframe tbody tr th:only-of-type {\n",
       "        vertical-align: middle;\n",
       "    }\n",
       "\n",
       "    .dataframe tbody tr th {\n",
       "        vertical-align: top;\n",
       "    }\n",
       "\n",
       "    .dataframe thead th {\n",
       "        text-align: right;\n",
       "    }\n",
       "</style>\n",
       "<table border=\"1\" class=\"dataframe\">\n",
       "  <thead>\n",
       "    <tr style=\"text-align: right;\">\n",
       "      <th></th>\n",
       "      <th>A</th>\n",
       "      <th>B</th>\n",
       "      <th>BR</th>\n",
       "      <th>C</th>\n",
       "      <th>D</th>\n",
       "      <th>F</th>\n",
       "      <th>G</th>\n",
       "      <th>L</th>\n",
       "      <th>O</th>\n",
       "    </tr>\n",
       "  </thead>\n",
       "  <tbody>\n",
       "    <tr>\n",
       "      <th>A</th>\n",
       "      <td>0.000000</td>\n",
       "      <td>0.142678</td>\n",
       "      <td>0.155193</td>\n",
       "      <td>0.152525</td>\n",
       "      <td>0.178154</td>\n",
       "      <td>0.156606</td>\n",
       "      <td>0.161441</td>\n",
       "      <td>0.161476</td>\n",
       "      <td>0.166677</td>\n",
       "    </tr>\n",
       "    <tr>\n",
       "      <th>B</th>\n",
       "      <td>0.142678</td>\n",
       "      <td>0.000000</td>\n",
       "      <td>0.175887</td>\n",
       "      <td>0.159256</td>\n",
       "      <td>0.175057</td>\n",
       "      <td>0.168512</td>\n",
       "      <td>0.176205</td>\n",
       "      <td>0.182905</td>\n",
       "      <td>0.172505</td>\n",
       "    </tr>\n",
       "    <tr>\n",
       "      <th>BR</th>\n",
       "      <td>0.155193</td>\n",
       "      <td>0.175887</td>\n",
       "      <td>0.000000</td>\n",
       "      <td>0.167724</td>\n",
       "      <td>0.147814</td>\n",
       "      <td>0.098255</td>\n",
       "      <td>0.140012</td>\n",
       "      <td>0.141216</td>\n",
       "      <td>0.176517</td>\n",
       "    </tr>\n",
       "    <tr>\n",
       "      <th>C</th>\n",
       "      <td>0.152525</td>\n",
       "      <td>0.159256</td>\n",
       "      <td>0.167724</td>\n",
       "      <td>0.000000</td>\n",
       "      <td>0.178462</td>\n",
       "      <td>0.167397</td>\n",
       "      <td>0.174546</td>\n",
       "      <td>0.180601</td>\n",
       "      <td>0.174891</td>\n",
       "    </tr>\n",
       "    <tr>\n",
       "      <th>D</th>\n",
       "      <td>0.178154</td>\n",
       "      <td>0.175057</td>\n",
       "      <td>0.147814</td>\n",
       "      <td>0.178462</td>\n",
       "      <td>0.000000</td>\n",
       "      <td>0.147950</td>\n",
       "      <td>0.181865</td>\n",
       "      <td>0.173609</td>\n",
       "      <td>0.181370</td>\n",
       "    </tr>\n",
       "    <tr>\n",
       "      <th>F</th>\n",
       "      <td>0.156606</td>\n",
       "      <td>0.168512</td>\n",
       "      <td>0.098255</td>\n",
       "      <td>0.167397</td>\n",
       "      <td>0.147950</td>\n",
       "      <td>0.000000</td>\n",
       "      <td>0.154082</td>\n",
       "      <td>0.131661</td>\n",
       "      <td>0.163984</td>\n",
       "    </tr>\n",
       "    <tr>\n",
       "      <th>G</th>\n",
       "      <td>0.161441</td>\n",
       "      <td>0.176205</td>\n",
       "      <td>0.140012</td>\n",
       "      <td>0.174546</td>\n",
       "      <td>0.181865</td>\n",
       "      <td>0.154082</td>\n",
       "      <td>0.000000</td>\n",
       "      <td>0.150451</td>\n",
       "      <td>0.182123</td>\n",
       "    </tr>\n",
       "    <tr>\n",
       "      <th>L</th>\n",
       "      <td>0.161476</td>\n",
       "      <td>0.182905</td>\n",
       "      <td>0.141216</td>\n",
       "      <td>0.180601</td>\n",
       "      <td>0.173609</td>\n",
       "      <td>0.131661</td>\n",
       "      <td>0.150451</td>\n",
       "      <td>0.000000</td>\n",
       "      <td>0.177420</td>\n",
       "    </tr>\n",
       "    <tr>\n",
       "      <th>O</th>\n",
       "      <td>0.166677</td>\n",
       "      <td>0.172505</td>\n",
       "      <td>0.176517</td>\n",
       "      <td>0.174891</td>\n",
       "      <td>0.181370</td>\n",
       "      <td>0.163984</td>\n",
       "      <td>0.182123</td>\n",
       "      <td>0.177420</td>\n",
       "      <td>0.000000</td>\n",
       "    </tr>\n",
       "  </tbody>\n",
       "</table>\n",
       "</div>"
      ],
      "text/plain": [
       "           A         B        BR         C         D         F         G  \\\n",
       "A   0.000000  0.142678  0.155193  0.152525  0.178154  0.156606  0.161441   \n",
       "B   0.142678  0.000000  0.175887  0.159256  0.175057  0.168512  0.176205   \n",
       "BR  0.155193  0.175887  0.000000  0.167724  0.147814  0.098255  0.140012   \n",
       "C   0.152525  0.159256  0.167724  0.000000  0.178462  0.167397  0.174546   \n",
       "D   0.178154  0.175057  0.147814  0.178462  0.000000  0.147950  0.181865   \n",
       "F   0.156606  0.168512  0.098255  0.167397  0.147950  0.000000  0.154082   \n",
       "G   0.161441  0.176205  0.140012  0.174546  0.181865  0.154082  0.000000   \n",
       "L   0.161476  0.182905  0.141216  0.180601  0.173609  0.131661  0.150451   \n",
       "O   0.166677  0.172505  0.176517  0.174891  0.181370  0.163984  0.182123   \n",
       "\n",
       "           L         O  \n",
       "A   0.161476  0.166677  \n",
       "B   0.182905  0.172505  \n",
       "BR  0.141216  0.176517  \n",
       "C   0.180601  0.174891  \n",
       "D   0.173609  0.181370  \n",
       "F   0.131661  0.163984  \n",
       "G   0.150451  0.182123  \n",
       "L   0.000000  0.177420  \n",
       "O   0.177420  0.000000  "
      ]
     },
     "execution_count": 355,
     "metadata": {},
     "output_type": "execute_result"
    }
   ],
   "source": [
    "df_clust = pd.DataFrame(df_clust, columns=sigles, index=sigles)\n",
    "df_clust"
   ]
  },
  {
   "cell_type": "code",
   "execution_count": 356,
   "id": "unlimited-passenger",
   "metadata": {},
   "outputs": [
    {
     "name": "stderr",
     "output_type": "stream",
     "text": [
      "/Users/sofiemoors/opt/anaconda3/lib/python3.9/site-packages/seaborn/matrix.py:624: ClusterWarning: scipy.cluster: The symmetric non-negative hollow observation matrix looks suspiciously like an uncondensed distance matrix\n",
      "  linkage = hierarchy.linkage(self.array, method=self.method,\n"
     ]
    },
    {
     "data": {
      "image/png": "[encoded data removed]",
      "text/plain": [
       "<Figure size 1000x1000 with 4 Axes>"
      ]
     },
     "metadata": {},
     "output_type": "display_data"
    }
   ],
   "source": [
    "import seaborn as sb\n",
    "sb = sb.clustermap(df_clust, method='ward', annot=True);\n",
    "plt.savefig('clustermap.png')"
   ]
  },
  {
   "cell_type": "markdown",
   "id": "peaceful-decision",
   "metadata": {},
   "source": [
    "## Abbreviation density"
   ]
  },
  {
   "cell_type": "code",
   "execution_count": 173,
   "id": "timely-wagon",
   "metadata": {},
   "outputs": [
    {
     "name": "stdout",
     "output_type": "stream",
     "text": [
      "1770\n",
      "-> removed 5 lines with gaps\n",
      "1770\n",
      "-> removed 5 lines with gaps\n",
      "104\n",
      "-> removed 104 lines with gaps\n",
      "104\n",
      "-> removed 104 lines with gaps\n",
      "1821\n",
      "-> removed 0 lines with gaps\n",
      "1821\n",
      "-> removed 0 lines with gaps\n",
      "608\n",
      "-> removed 22 lines with gaps\n",
      "608\n",
      "-> removed 22 lines with gaps\n",
      "1472\n",
      "-> removed 0 lines with gaps\n",
      "1472\n",
      "-> removed 0 lines with gaps\n",
      "1824\n",
      "-> removed 0 lines with gaps\n",
      "1824\n",
      "-> removed 0 lines with gaps\n",
      "247\n",
      "-> removed 99 lines with gaps\n",
      "247\n",
      "-> removed 99 lines with gaps\n",
      "276\n",
      "-> removed 0 lines with gaps\n",
      "276\n",
      "-> removed 0 lines with gaps\n",
      "1823\n",
      "-> removed 0 lines with gaps\n",
      "1823\n",
      "-> removed 0 lines with gaps\n",
      "1768\n",
      "-> removed 0 lines with gaps\n",
      "1768\n",
      "-> removed 0 lines with gaps\n",
      "152\n",
      "-> removed 74 lines with gaps\n",
      "152\n",
      "-> removed 74 lines with gaps\n",
      "67\n",
      "-> removed 0 lines with gaps\n",
      "67\n",
      "-> removed 0 lines with gaps\n",
      "704\n",
      "-> removed 162 lines with gaps\n",
      "704\n",
      "-> removed 162 lines with gaps\n",
      "1824\n",
      "-> removed 0 lines with gaps\n",
      "1824\n",
      "-> removed 0 lines with gaps\n",
      "507\n",
      "-> removed 0 lines with gaps\n",
      "507\n",
      "-> removed 0 lines with gaps\n",
      "361\n",
      "-> removed 84 lines with gaps\n",
      "361\n",
      "-> removed 84 lines with gaps\n",
      "542\n",
      "-> removed 7 lines with gaps\n",
      "542\n",
      "-> removed 7 lines with gaps\n"
     ]
    }
   ],
   "source": [
    "abbr_density = []\n",
    "sigles = 'A','Ant','B', 'BR', 'C','D', 'D2','E', 'F', 'G', 'Ge', 'K', 'L', 'O', 'W', 'Y', 'Z'\n",
    "for sigle in sigles: #loop\n",
    "    abbr = extract_lines(f'../data/xml_martijn/xml_{sigle}.xml', expan = False, punct = False, lower = True)\n",
    "    expan = extract_lines(f'../data/xml_martijn/xml_{sigle}.xml', expan = True, punct = False, lower = True)\n",
    "    \n",
    "    line_idxs = sorted(abbr.keys())\n",
    "    abbr_lens = np.array([len(abbr[line]) for line in line_idxs]) \n",
    "    expan_lens = np.array([len(expan[line]) for line in line_idxs])\n",
    "    \n",
    "    diffs = pd.Series(expan_lens - abbr_lens)\n",
    "    ratios = pd.Series(abbr_lens / expan_lens)\n",
    "    abbr_density.append((sigle, diffs.mean(), diffs.std(), ratios.mean(), ratios.std()))\n",
    "\n",
    "dens = pd.DataFrame(abbr_density, columns=['sigle', 'diff-mean', 'diff-std', 'ratio-mean', 'ratio-std'])\n",
    "dens.dropna(inplace=True)\n",
    "dens.set_index('sigle', inplace=True)"
   ]
  },
  {
   "cell_type": "code",
   "execution_count": 174,
   "id": "cloudy-leisure",
   "metadata": {},
   "outputs": [
    {
     "data": {
      "text/html": [
       "<div>\n",
       "<style scoped>\n",
       "    .dataframe tbody tr th:only-of-type {\n",
       "        vertical-align: middle;\n",
       "    }\n",
       "\n",
       "    .dataframe tbody tr th {\n",
       "        vertical-align: top;\n",
       "    }\n",
       "\n",
       "    .dataframe thead th {\n",
       "        text-align: right;\n",
       "    }\n",
       "</style>\n",
       "<table border=\"1\" class=\"dataframe\">\n",
       "  <thead>\n",
       "    <tr style=\"text-align: right;\">\n",
       "      <th></th>\n",
       "      <th>diff-mean</th>\n",
       "      <th>diff-std</th>\n",
       "      <th>ratio-mean</th>\n",
       "      <th>ratio-std</th>\n",
       "    </tr>\n",
       "    <tr>\n",
       "      <th>sigle</th>\n",
       "      <th></th>\n",
       "      <th></th>\n",
       "      <th></th>\n",
       "      <th></th>\n",
       "    </tr>\n",
       "  </thead>\n",
       "  <tbody>\n",
       "    <tr>\n",
       "      <th>A</th>\n",
       "      <td>1.278754</td>\n",
       "      <td>1.267699</td>\n",
       "      <td>0.954410</td>\n",
       "      <td>0.043620</td>\n",
       "    </tr>\n",
       "    <tr>\n",
       "      <th>B</th>\n",
       "      <td>1.114772</td>\n",
       "      <td>1.179731</td>\n",
       "      <td>0.959768</td>\n",
       "      <td>0.041215</td>\n",
       "    </tr>\n",
       "    <tr>\n",
       "      <th>BR</th>\n",
       "      <td>1.216724</td>\n",
       "      <td>1.149861</td>\n",
       "      <td>0.954891</td>\n",
       "      <td>0.040957</td>\n",
       "    </tr>\n",
       "    <tr>\n",
       "      <th>C</th>\n",
       "      <td>0.402853</td>\n",
       "      <td>0.824550</td>\n",
       "      <td>0.985194</td>\n",
       "      <td>0.030851</td>\n",
       "    </tr>\n",
       "    <tr>\n",
       "      <th>D</th>\n",
       "      <td>0.138158</td>\n",
       "      <td>0.515893</td>\n",
       "      <td>0.995725</td>\n",
       "      <td>0.015791</td>\n",
       "    </tr>\n",
       "    <tr>\n",
       "      <th>D2</th>\n",
       "      <td>0.540541</td>\n",
       "      <td>0.827901</td>\n",
       "      <td>0.980103</td>\n",
       "      <td>0.030654</td>\n",
       "    </tr>\n",
       "    <tr>\n",
       "      <th>E</th>\n",
       "      <td>2.547101</td>\n",
       "      <td>1.504403</td>\n",
       "      <td>0.906042</td>\n",
       "      <td>0.049714</td>\n",
       "    </tr>\n",
       "    <tr>\n",
       "      <th>F</th>\n",
       "      <td>0.600110</td>\n",
       "      <td>0.957803</td>\n",
       "      <td>0.979722</td>\n",
       "      <td>0.031946</td>\n",
       "    </tr>\n",
       "    <tr>\n",
       "      <th>G</th>\n",
       "      <td>3.005656</td>\n",
       "      <td>1.680802</td>\n",
       "      <td>0.888841</td>\n",
       "      <td>0.059019</td>\n",
       "    </tr>\n",
       "    <tr>\n",
       "      <th>Ge</th>\n",
       "      <td>1.012821</td>\n",
       "      <td>1.294279</td>\n",
       "      <td>0.961567</td>\n",
       "      <td>0.047417</td>\n",
       "    </tr>\n",
       "    <tr>\n",
       "      <th>K</th>\n",
       "      <td>1.253731</td>\n",
       "      <td>1.306665</td>\n",
       "      <td>0.954339</td>\n",
       "      <td>0.046009</td>\n",
       "    </tr>\n",
       "    <tr>\n",
       "      <th>L</th>\n",
       "      <td>1.087199</td>\n",
       "      <td>1.291164</td>\n",
       "      <td>0.961337</td>\n",
       "      <td>0.044553</td>\n",
       "    </tr>\n",
       "    <tr>\n",
       "      <th>O</th>\n",
       "      <td>0.558114</td>\n",
       "      <td>0.905835</td>\n",
       "      <td>0.981558</td>\n",
       "      <td>0.029361</td>\n",
       "    </tr>\n",
       "    <tr>\n",
       "      <th>W</th>\n",
       "      <td>1.940828</td>\n",
       "      <td>1.754849</td>\n",
       "      <td>0.931787</td>\n",
       "      <td>0.060535</td>\n",
       "    </tr>\n",
       "    <tr>\n",
       "      <th>Y</th>\n",
       "      <td>0.754513</td>\n",
       "      <td>1.072223</td>\n",
       "      <td>0.973158</td>\n",
       "      <td>0.036762</td>\n",
       "    </tr>\n",
       "    <tr>\n",
       "      <th>Z</th>\n",
       "      <td>2.467290</td>\n",
       "      <td>1.662078</td>\n",
       "      <td>0.905969</td>\n",
       "      <td>0.057913</td>\n",
       "    </tr>\n",
       "  </tbody>\n",
       "</table>\n",
       "</div>"
      ],
      "text/plain": [
       "       diff-mean  diff-std  ratio-mean  ratio-std\n",
       "sigle                                            \n",
       "A       1.278754  1.267699    0.954410   0.043620\n",
       "B       1.114772  1.179731    0.959768   0.041215\n",
       "BR      1.216724  1.149861    0.954891   0.040957\n",
       "C       0.402853  0.824550    0.985194   0.030851\n",
       "D       0.138158  0.515893    0.995725   0.015791\n",
       "D2      0.540541  0.827901    0.980103   0.030654\n",
       "E       2.547101  1.504403    0.906042   0.049714\n",
       "F       0.600110  0.957803    0.979722   0.031946\n",
       "G       3.005656  1.680802    0.888841   0.059019\n",
       "Ge      1.012821  1.294279    0.961567   0.047417\n",
       "K       1.253731  1.306665    0.954339   0.046009\n",
       "L       1.087199  1.291164    0.961337   0.044553\n",
       "O       0.558114  0.905835    0.981558   0.029361\n",
       "W       1.940828  1.754849    0.931787   0.060535\n",
       "Y       0.754513  1.072223    0.973158   0.036762\n",
       "Z       2.467290  1.662078    0.905969   0.057913"
      ]
     },
     "execution_count": 174,
     "metadata": {},
     "output_type": "execute_result"
    }
   ],
   "source": [
    "dens"
   ]
  },
  {
   "cell_type": "code",
   "execution_count": 175,
   "id": "nominated-omaha",
   "metadata": {},
   "outputs": [
    {
     "data": {
      "image/png": "[encoded data removed]",
      "text/plain": [
       "<Figure size 1200x800 with 1 Axes>"
      ]
     },
     "metadata": {},
     "output_type": "display_data"
    }
   ],
   "source": [
    "dens.sort_values(by='diff-mean', inplace=True)\n",
    "fig, ax = plt.subplots(figsize=(12, 8))\n",
    "ax.barh(range(len(dens.index)), dens['diff-mean'],\n",
    "       xerr=dens['diff-std'],\n",
    "       color='orange',\n",
    "       align='center',\n",
    "       alpha=0.7,\n",
    "       ecolor='purple',\n",
    "       capsize=5)\n",
    "ax.set_ylabel('Witnesses')\n",
    "ax.set_yticks(range(len(dens.index)))\n",
    "ax.set_yticklabels(dens.index)\n",
    "ax.set_title('Diff in chars between abbr and expan')\n",
    "ax.xaxis.grid(True)\n",
    "ax.yaxis.grid(True)\n",
    "plt.tight_layout()\n",
    "plt.savefig('diffincharsbetweenabbrandexpan.png')"
   ]
  },
  {
   "cell_type": "code",
   "execution_count": 169,
   "id": "stunning-pantyhose",
   "metadata": {},
   "outputs": [
    {
     "data": {
      "image/png": "[encoded data removed]",
      "text/plain": [
       "<Figure size 1200x800 with 1 Axes>"
      ]
     },
     "metadata": {},
     "output_type": "display_data"
    }
   ],
   "source": [
    "dens.sort_values(by='ratio-mean', inplace=True)\n",
    "fig, ax = plt.subplots(figsize=(12, 8))\n",
    "ax.barh(range(len(dens.index)), dens['ratio-mean'],\n",
    "       xerr=dens['ratio-std'],\n",
    "       color='orange',\n",
    "       align='center',\n",
    "       alpha=0.7,\n",
    "       ecolor='purple',\n",
    "       capsize=5)\n",
    "ax.set_ylabel('Witnesses')\n",
    "ax.set_yticks(range(len(dens.index)))\n",
    "ax.set_yticklabels(dens.index)\n",
    "ax.set_title('Ratio abbr / expan')\n",
    "plt.xlim(0.8, 1.05)\n",
    "ax.xaxis.grid(True)\n",
    "ax.yaxis.grid(True)\n",
    "plt.tight_layout()\n",
    "plt.savefig('ratioabbr_expan.png')"
   ]
  },
  {
   "cell_type": "markdown",
   "id": "australian-romantic",
   "metadata": {},
   "source": [
    "## Pixelplot"
   ]
  },
  {
   "cell_type": "code",
   "execution_count": 187,
   "id": "subsequent-artist",
   "metadata": {},
   "outputs": [
    {
     "name": "stdout",
     "output_type": "stream",
     "text": [
      "[[1. 1. 1. ... 1. 1. 1.]\n",
      " [1. 1. 1. ... 1. 1. 1.]\n",
      " [1. 1. 1. ... 1. 1. 1.]\n",
      " ...\n",
      " [1. 1. 1. ... 1. 1. 1.]\n",
      " [1. 1. 1. ... 1. 1. 1.]\n",
      " [1. 1. 1. ... 1. 1. 1.]]\n"
     ]
    }
   ],
   "source": [
    "all_lines = set() # the set list is unordered, so the result will display the items in a random order.\n",
    "for ms in mss:\n",
    "    all_lines.update(mss[ms].keys()) \n",
    "\n",
    "\n",
    "def repl(n):\n",
    "    n = n.replace('Eerste Martijn', '1')\n",
    "    n = n.replace('Tweede Martijn', '2')\n",
    "    n = n.replace('Derde Martijn', '3')\n",
    "    n = n.replace('Vierde Martijn', '4')\n",
    "    return n\n",
    "   \n",
    "all_lines = [repl(l) for l in all_lines]\n",
    "all_lines = sorted(all_lines)\n",
    "\n",
    "ms_names = sorted(mss.keys())\n",
    "grid = np.ones((len(all_lines), len(mss.keys())))\n",
    "grid.shape\n",
    "\n",
    "for ms in mss:\n",
    "    for line in mss[ms]:\n",
    "        grid[all_lines.index(repl(line)), ms_names.index(ms)] = 0"
   ]
  },
  {
   "cell_type": "code",
   "execution_count": 193,
   "id": "comparative-queensland",
   "metadata": {},
   "outputs": [
    {
     "data": {
      "image/png": "[encoded data removed]",
      "text/plain": [
       "<Figure size 800x1200 with 1 Axes>"
      ]
     },
     "metadata": {},
     "output_type": "display_data"
    }
   ],
   "source": [
    "import seaborn as sb\n",
    "fig, ax = plt.subplots(figsize=(8, 12))\n",
    "sb.heatmap(grid, xticklabels=ms_names, yticklabels=False, ax=ax, cbar=False);\n",
    "plt.savefig('heatmap.png')"
   ]
  },
  {
   "cell_type": "code",
   "execution_count": null,
   "id": "ee6cc6e3-4172-453c-b083-e138ddb6f4a4",
   "metadata": {},
   "outputs": [],
   "source": []
  }
 ],
 "metadata": {
  "kernelspec": {
   "display_name": "Python 3 (ipykernel)",
   "language": "python",
   "name": "python3"
  },
  "language_info": {
   "codemirror_mode": {
    "name": "ipython",
    "version": 3
   },
   "file_extension": ".py",
   "mimetype": "text/x-python",
   "name": "python",
   "nbconvert_exporter": "python",
   "pygments_lexer": "ipython3",
   "version": "3.9.13"
  }
 },
 "nbformat": 4,
 "nbformat_minor": 5
}
