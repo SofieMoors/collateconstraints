{
 "cells": [
  {
   "cell_type": "code",
   "execution_count": 44,
   "metadata": {},
   "outputs": [],
   "source": [
    "from glob import glob\n",
    "import os\n",
    "from itertools import combinations\n",
    "\n",
    "from tqdm import tqdm\n",
    "import pandas as pd\n",
    "import matplotlib.pyplot as plt"
   ]
  },
  {
   "cell_type": "code",
   "execution_count": 45,
   "metadata": {},
   "outputs": [
    {
     "data": {
      "text/plain": [
       "['A',\n",
       " 'Ant',\n",
       " 'B',\n",
       " 'BR',\n",
       " 'C',\n",
       " 'D',\n",
       " 'D2',\n",
       " 'E',\n",
       " 'F',\n",
       " 'G',\n",
       " 'Ge',\n",
       " 'K',\n",
       " 'L',\n",
       " 'O',\n",
       " 'W',\n",
       " 'Y',\n",
       " 'Z']"
      ]
     },
     "execution_count": 45,
     "metadata": {},
     "output_type": "execute_result"
    }
   ],
   "source": [
    "sigles = [os.path.basename(fn).replace('xml_', '').replace('.xml', '') for fn in glob('../data/xml_martijn/*.xml')]\n",
    "sigles = sorted(sigles)\n",
    "sigles"
   ]
  },
  {
   "cell_type": "code",
   "execution_count": 69,
   "metadata": {},
   "outputs": [],
   "source": [
    "sigles = 'G', 'Z'\n",
    "#sigles = 'A','Ant','B', 'BR', 'C','D', 'D2','E', 'F', 'G', 'Ge', 'K', 'L', 'O', 'W', 'Y', 'Z'"
   ]
  },
  {
   "cell_type": "code",
   "execution_count": 71,
   "metadata": {},
   "outputs": [],
   "source": [
    "from lxml import etree\n",
    "from re import sub #re — Regular expression operations #\n",
    "import xml.etree.ElementTree as ET\n",
    "import string\n",
    "\n",
    "\n",
    "NSMAP = {'MVN': 'http://www.tei-c.org/ns/1.0'}\n",
    "removes = ('teiHeader', 'fw', 'supplied', 'abbr') \n",
    "removes_expan_false = ('teiHeader', 'fw', 'supplied', 'ex', 'expan')\n",
    "\n",
    "def extract_lines(xml_file, expan = True, punct = True, lower = True): #added a 'flag' to the extraction function --> if... else\n",
    "    lines = {}\n",
    "    tree = etree.parse(xml_file)\n",
    "    \n",
    "    \n",
    "    if expan:\n",
    "        #delete all elements with the provided tag names from a tree or subtree\n",
    "        #will also remove the tail text unless explicitly set the with_tail keyword argument option to False\n",
    "        etree.strip_elements(tree, (\"{\"+ NSMAP[\"MVN\"]+ \"}\" + s for s in removes), with_tail=False) \n",
    "    else: \n",
    "        etree.strip_elements(tree, (\"{\"+ NSMAP[\"MVN\"]+ \"}\" + s for s in removes_expan_false), with_tail=False)\n",
    "        \n",
    "    for element in tree.iterfind('.//'+\"{\"+ NSMAP[\"MVN\"]+ \"}\"+'l'): #add namespace because otherwise it won't find the element gap\n",
    "        if(element.find('.//'+\"{\"+ NSMAP[\"MVN\"]+ \"}\"+'gap')) is not None:\n",
    "            element.getparent().remove(element)\n",
    "            \n",
    "    chars = {'a', 'b', 'c', 'd', 'e', 'f', 'g', 'h', 'i', 'j', \n",
    "             'k', 'l','m', 'n', 'o', 'p', 'q', 'r', 's', 't', \n",
    "             'u', 'v', 'w', 'x', 'y', 'z'}\n",
    "            \n",
    "    context = etree.iterwalk(tree, events=(\"start\", \"end\")) #a tree walker generates events from an existing tree. 'Start' and 'end' represent opening and closing elements\n",
    "    #u prefix indicates Unicode\n",
    "    text = u\"\" \n",
    "    #this will be the key in the dictionary of lines {}\n",
    "    k = '' \n",
    "    for action, node in context:\n",
    "        #remove ns for easier access\n",
    "        #tag_only bevat de tags op een knooppunt\n",
    "        #.tag selects all child elements with the given tag. A tag is a string identifying what kind of data this element represents (the element type, in other words).\n",
    "        #.replace removes ns www.tei...\n",
    "        \n",
    "        tag_only = node.tag.replace(\"{http://www.tei-c.org/ns/1.0}\",\"\") \n",
    "            \n",
    "        #node.attrib: XML elements have attributes \n",
    "        #attrib is a dictionary containing the element’s attributes. \n",
    "        if 'n' in node.attrib and tag_only == 'text': \n",
    "            title = node.attrib['n'] #for example Eerste Martijn\n",
    "        \n",
    "        if 'n' in node.attrib and tag_only == \"l\":                \n",
    "            k = title + '-' + node.attrib['n'] #for example 001, 002, 003...\n",
    "  \n",
    "        # if a new pb (standalone element) is processed:\n",
    "        if action == 'start' and tag_only == 'text': \n",
    "            continue\n",
    "            \n",
    "        # if new lb (standalone) is processed:\n",
    "        elif action == 'start' and tag_only == 'lb':\n",
    "            continue\n",
    "\n",
    "        # list elements which you want to iterate through. this is not really neccessary.\n",
    "        elif tag_only in (\"group\",\"text\",\"MVN\",\"body\",\"cb\",\"p\"):\n",
    "            continue\n",
    "\n",
    "        # for all other elements, distinguish between the start-event of the processing and\n",
    "        # and the end-event. Attach the tail AFTER the child nodes were processed (= end-event) \n",
    "\n",
    "        elif action == 'start':\n",
    "            #comment the following two lines out to not get the element markers\n",
    "            #f.write(f\"[{tag_only}]\") \n",
    "            #text += f\"[{tag_only}]\"\n",
    "\n",
    "            ############################################################################\n",
    "            ########## filter out special characters, bars,                   ##########\n",
    "            ########## superscript, or specific tags.                         ##########\n",
    "            ############################################################################\n",
    "                    \n",
    "            \n",
    "            #if a special glyph is present, encode it accordingly\n",
    "            if tag_only == 'g':\n",
    "\n",
    "                if node.attrib['ref'] == '#bar': # ā, ē, ī, ō, ū, n̄ etc.\n",
    "                    text += u'\\u0304'\n",
    "\n",
    "                elif node.attrib['ref'] == '#apomod': # ʼ\n",
    "                    text += u'\\u02bc'\n",
    "\n",
    "                elif node.attrib['ref'] == '#usmod': # ꝰ\n",
    "                    text += u'\\ua770'\n",
    "\n",
    "                elif node.attrib['ref'] == '#condes': # ꝯ\n",
    "                    text += u'\\ua76f'\n",
    "\n",
    "                elif node.attrib['ref'] == '#para': # ¶\n",
    "                    text += u'\\xb6'\n",
    "\n",
    "                elif node.attrib['ref'] == '#etfin': # ꝫ\n",
    "                    text += u'\\ua76b'\n",
    "\n",
    "                elif node.attrib['ref'] == '#pbardes': # ꝑ\n",
    "                    text += u'\\ua751'\n",
    "\n",
    "                elif node.attrib['ref'] == '#pbardes': # ꝕ\n",
    "                    text += u'\\ua755'\n",
    "\n",
    "                elif node.attrib['ref'] == '#pflour': # ꝓ\n",
    "                    text += u'\\ua753'\n",
    "\n",
    "                else:\n",
    "                    node.attrib['ref']\n",
    "                    text += str(node.attrib['ref']) # get the actual ref if there still are any left\n",
    "\n",
    "            #encode superscript letters\n",
    "            superscript_dict = {'a':'ᵃ', 'b':'ᵇ', 'c':'ᶜ', 'd':'ᵈ', 'e':'ᵉ', 'f':'ᶠ',\n",
    "                               'g':'ᵍ', 'h':'ʰ', 'i':'ᶦ', 'j':'ʲ', 'k':'ᵏ', 'l':'ˡ', \n",
    "                                'm':'ᵐ', 'n':'ⁿ', 'o':'ᵒ', 'p':'ᵖ', 'r':'ʳ', 's':'ˢ', \n",
    "                                't':'ᵗ', 'u':'ᵘ', 'v':'ᵛ', 'w':'ʷ', 'x':'ˣ', 'y': 'ʸ', 'z': 'ᶻ'}\n",
    "\n",
    "            if tag_only == 'hi' and 'rend' in node.attrib and node.attrib['rend'] == 'superscript': #rend(ition) supplies information about the appearance of an element\n",
    "                if node.text in superscript_dict:\n",
    "                    text += str(superscript_dict[node.text]).strip()\n",
    "\n",
    "            #encode punctuation marks\n",
    "            elif tag_only == 'pc':\n",
    "                text += str(node.text).strip()\n",
    "\n",
    "            #encode roman numerals\n",
    "            elif tag_only == 'num':\n",
    "                if node.text:\n",
    "                    text += str('.'+node.text+'.').strip()\n",
    "\n",
    "            #if there is still a node with text in it\n",
    "            elif (node.text):\n",
    "                text += node.text        \n",
    "\n",
    "        #after the child elements\n",
    "        elif action == 'end':\n",
    "            #if there is a tail\n",
    "            #the tail attribute holds the text between the element’s end tag and the next tag, or None\n",
    "            if (node.tail and node.tail not in \"\\t\"): #if the tail is not yet in the text \n",
    "                #comment the following two lines out to not get the tail marker\n",
    "                #text += \"[tail]\"\n",
    "                #f.write(\"[tail]\")\n",
    "                #append to text-concatenation\n",
    "                text += str(node.tail)\n",
    "        if tag_only == 'lb':\n",
    "            if k:\n",
    "                text = sub(r'\\n', '', text) #when an \"r\" prefix is present, a character following a backslash is included in the string/all backslashes are left in string. \n",
    "                if not punct:\n",
    "                    text = text.translate(str.maketrans('', '', string.punctuation)) #the value of the keys k is the text \n",
    "                if lower: \n",
    "                    text = text.lower()\n",
    "                   \n",
    "                    #text = text[::-1]\n",
    "                  \n",
    "                lines[k] = text #the value of the keys k is the text \n",
    "                text = ''                    \n",
    "    lines = {k:v for k, v in lines.items() if v.strip()} #if a line with a gap is removed, remove empty key       \n",
    "    \n",
    "    return lines\n",
    "\n",
    "# nog lowercasen (flag) en interpunctie weghalen\n",
    "d = extract_lines(f'../data/xml_martijn/xml_{sigles[0]}.xml', expan = False, punct = False, lower = True)\n",
    "#print(d)"
   ]
  },
  {
   "cell_type": "code",
   "execution_count": 86,
   "metadata": {},
   "outputs": [
    {
     "name": "stderr",
     "output_type": "stream",
     "text": [
      "100%|████████████████████████████████████████████████████████████████████████████████████| 2/2 [00:00<00:00,  4.09it/s]"
     ]
    },
    {
     "name": "stdout",
     "output_type": "stream",
     "text": [
      "{'G': {'Eerste Martijn-001': 'wapen merten hoe saelt gaen', 'Eerste Martijn-002': 'sal dese werelt lange staen', 'Eerste Martijn-003': 'jn dꝰ crāckē loue', 'Eerste Martijn-004': 'soe sal mij̄ vᵒuwē vʼeere saē', 'Eerste Martijn-005': 'sōdʼ twiuel en̄ waen', 'Eerste Martijn-006': 'rumen hʼen houe', 'Eerste Martijn-007': 'jc sie dē scalkē wel ōtfaē', 'Eerste Martijn-008': 'die de hʼen cōnē dwaē', 'Eerste Martijn-009': 'en̄ pluckē vā dē stoue', 'Eerste Martijn-010': 'en̄ ic sie dē rechtē slaen', 'Eerste Martijn-011': 'beide bespottē en̄ vaē', 'Eerste Martijn-012': 'alse die meese ī die cloue', 'Eerste Martijn-013': 'rechte ochtene god vʼscroue', 'Eerste Martijn-014': 'hoe lange sal gedoegen dit', 'Eerste Martijn-015': 'god die alle dinc besit', 'Eerste Martijn-016': 'jn sine heerscapie', 'Eerste Martijn-017': 'dꝫ die goede vleet en̄ bit', 'Eerste Martijn-018': 'en̄ hē en doech no dꝫ no dit', 'Eerste Martijn-019': 'dꝫ hi yet gedye', 'Eerste Martijn-020': 'al varet ī dē helschē pit', 'Eerste Martijn-021': 'eest graeu eest blaeu swʼt oft wit', 'Eerste Martijn-022': 'hets getᵒuwe als die sie', 'Eerste Martijn-023': 'die rechte mā gᵃeft sondʼ spit', 'Eerste Martijn-024': 'hine heeft te poēte nᵗ gehit', 'Eerste Martijn-025': 'jn negene baelgie', 'Eerste Martijn-026': 'mi es leet dꝫ ic waer lie', 'Eerste Martijn-027': 'laet ons mʼtē ouer een', 'Eerste Martijn-028': 'spᵉkē ōdʼ ōs tween', 'Eerste Martijn-029': 'jn dese dyaloge', 'Eerste Martijn-030': 'wanē ōs qᵃm dese ween', 'Eerste Martijn-031': 'die wilē so ōwʼt sceen', 'Eerste Martijn-032': 'en̄ nu sit so hoge', 'Eerste Martijn-033': 'jc sal vᵃgē en̄ vleen', 'Eerste Martijn-034': 'ātwʼdt mi ia ofte neen', 'Eerste Martijn-035': 'vā dꝫ ic di betoege', 'Eerste Martijn-036': 'ledechᵗ es vᵒme negeen', 'Eerste Martijn-037': 'mʼ arbeit vīt vier ī dē steen', 'Eerste Martijn-038': 'daʼ bi ōtstect dꝫ tᵒege', 'Eerste Martijn-039': 'nu spᵉct en̄ ic gedoege ⸫', 'Eerste Martijn-040': 'spᵉkē iacop lieue cōpaē', 'Eerste Martijn-041': 'waʼ soudic dit hebbē vʼstaē', 'Eerste Martijn-042': 'dꝫ ic daʼ toe dochte', 'Eerste Martijn-043': 'te vʼclaʼne dinē waē', 'Eerste Martijn-044': 'die ī twiuele es bevaē', 'Eerste Martijn-045': 'dats dꝫ ic nᵗ ē vʼmochte', 'Eerste Martijn-046': 'doch ē willics nᵗ ōtgaē', 'Eerste Martijn-047': 'jn wille dine bede ōtfaē', 'Eerste Martijn-048': 'die dit ane mi vʼsochte', 'Eerste Martijn-049': 'god sēde mi dē hemelschē tᵃen', 'Eerste Martijn-050': 'en̄ moꝫ minē sin dwaē', 'Eerste Martijn-051': 'wāt hi mi diere cochte', 'Eerste Martijn-052': 'en̄ ict gerne volbrochte', 'Eerste Martijn-053': 'mertē doe de wʼelt began', 'Eerste Martijn-054': 'mā te vʼheffene bouē mā', 'Eerste Martijn-055': 'so sciet mij̄ vᵒuwe vʼ eere', 'Eerste Martijn-056': 'den dorpere wises si dē dan', 'Eerste Martijn-057': 'daer tᵒuwe en̄ doget lach an', 'Eerste Martijn-058': 'diē hiet si sij̄ hʼe', 'Eerste Martijn-059': 'nu makē de hʼen een gespan', 'Eerste Martijn-060': 'en̄ geuē dʼ eerē enē ban', 'Eerste Martijn-061': 'en̄ ē willē nᵗ dꝫ si keere', 'Eerste Martijn-062': 'segt mi wanē tfenij̄ qᵃm', 'Eerste Martijn-063': 'toēt mi redene daʼ vā', 'Eerste Martijn-064': 'wāt ic gerne leere', 'Eerste Martijn-065': 'wies scout dꝫ hꝫ weere', 'Eerste Martijn-066': 'iacob mi dūct ouʼwaʼ', 'Eerste Martijn-067': 'sēt dꝫ edelhᵗ hadde vaʼ', 'Eerste Martijn-068': 'te pinēne ō die eere', 'Eerste Martijn-069': 'en̄ si tᵃc die scalke naer', 'Eerste Martijn-070': 'die radē nu hiʼ nu daʼ', 'Eerste Martijn-071': 'en̄ nᵗ ē scelt dē hʼe', 'Eerste Martijn-072': 'so es edelhᵗ wordē so swaʼ', 'Eerste Martijn-073': 'dꝫ si te clēmene heeft ōmaer', 'Eerste Martijn-074': 'en̄ daelt so lāc so meʼe', 'Eerste Martijn-075': 'dats mi aldʼ wʼelt claer', 'Eerste Martijn-076': 'en̄ oechsiēs al oppēbaʼ', 'Eerste Martijn-077': 'dus es vʼbānē eere', 'Eerste Martijn-078': 'ende wedʼstaē tē keere', 'Eerste Martijn-079': 'nv mʼct bi dʼ sōnē lecht', 'Eerste Martijn-080': 'die aldʼ wʼelt oegē berecht', 'Eerste Martijn-081': 'bi siʼe edelre natᶻen', 'Eerste Martijn-082': 'alse dꝫ swʼc daʼ iegē vecht', 'Eerste Martijn-083': 'en̄ die neuel mꝫ siʼe dᵉft', 'Eerste Martijn-084': 'so ē cā si te diere vrē', 'Eerste Martijn-085': 'niet getoegē haʼ scoēhᵗ echt', 'Eerste Martijn-086': 'dꝰ vʼdōkʼt die scalke cnecht', 'Eerste Martijn-087': 'die edele cᵉaturen', 'Eerste Martijn-088': 'alse hi hē daʼ ane hecht', 'Eerste Martijn-089': 'en̄ hare edelhᵗ vʼplecht', 'Eerste Martijn-090': 'dat si laꝫ geduerē', 'Eerste Martijn-091': 'bi hare dē scalkē suerē', 'Eerste Martijn-092': 'sīt dat scalke dᵒegē ouʼeen', 'Eerste Martijn-093': 'dꝫ neen was ia en̄ ia was neē', 'Eerste Martijn-094': 'en̄ hen dꝫ wijshᵗ dochte', 'Eerste Martijn-095': 'en̄ edelhᵗ daʼōme green', 'Eerste Martijn-096': 'om datter wasdoem wt sceen', 'Eerste Martijn-097': 'wanē dꝫ comē mochte', 'Eerste Martijn-098': 'so es edelhᵗ wordē steen', 'Eerste Martijn-099': 'wāt hare ē ōtfermt dīc negeen', 'Eerste Martijn-100': 'daer mē gelt wt cnochte', 'Eerste Martijn-101': 'god geue hem dē lāgē ween', 'Eerste Martijn-102': 'die te cnauwene gaf dit been', 'Eerste Martijn-103': 'dē edelē gedochte', 'Eerste Martijn-104': 'wāt hiere moert ane wrochte', 'Eerste Martijn-105': 'wat sal segel en̄ was', 'Eerste Martijn-106': 'ofte brieue die gewagē das', 'Eerste Martijn-107': 'vā dꝫ die hʼen geuē', 'Eerste Martijn-108': 'en es el nᵗ dā gedwas', 'Eerste Martijn-109': 'alsoe lief hadt mi een sas', 'Eerste Martijn-110': 'ochte een vriese bescᵉuē', 'Eerste Martijn-111': 'tᵒuwe es broeschʼ dan glas', 'Eerste Martijn-112': 'die wilen soe starc was', 'Eerste Martijn-113': 'si es nu tebrokē bleuē', 'Eerste Martijn-114': 'jc waens noyt hʼe ē genas', 'Eerste Martijn-115': 'die scalke tsinē rade las', 'Eerste Martijn-116': 'hine moeste ī dinde sneuē', 'Eerste Martijn-117': 'en̄ selke hars lāts vʼdᵉuē', 'Eerste Martijn-118': 'mertē du berecht mi wel', 'Eerste Martijn-119': 'hier bi sij̄ die hʼen fel', 'Eerste Martijn-120': 'en̄ wādelbaʼ ī die tale', 'Eerste Martijn-121': 'jn weetʼ wat toe seggē el', 'Eerste Martijn-122': 'die scalke houdt loeshᵗ ouʼ spel', 'Eerste Martijn-123': 'en̄ pij̄t hoe hi doecht vʼsmale', 'Eerste Martijn-124': 'caym sloech doot dē goeden abel', 'Eerste Martijn-125': 'dꝰ suect die scalke sij̄s hʼen vel', 'Eerste Martijn-126': 'hoe hine getᵉcke te dale', 'Eerste Martijn-127': 'god die ōs noch doemē sel', 'Eerste Martijn-128': 'hē biddic dꝫ hi dē duuel', 'Eerste Martijn-129': 'jn dē iōxstē male', 'Eerste Martijn-130': 'metten scalkē betale', 'Eerste Martijn-131': 'merten berecht mi dies', 'Eerste Martijn-132': 'berecht een god die noyt ē wies', 'Eerste Martijn-133': 'alle cᵉaturen', 'Eerste Martijn-134': 'twi heeft die qᵃde dā dē kies', 'Eerste Martijn-135': 'en̄ die goede valt ī tferlies', 'Eerste Martijn-136': 'wie sal dit vore recht cueren', 'Eerste Martijn-137': 'mij̄ sin seit mi als een ries', 'Eerste Martijn-138': 'hi die adame dlijf ī blies', 'Eerste Martijn-139': 'die meestʼ dʼ natᶻen', 'Eerste Martijn-140': 'heeft bevolē mʼct en̄ besies', 'Eerste Martijn-141': 'dese dīc eest waʼ so gies', 'Eerste Martijn-142': 'dʼ blēdʼ auōtᶻen', 'Eerste Martijn-143': 'die vʼkeʼt telker vrē', 'Eerste Martijn-144': 'iacob sech bestu vʼdort', 'Eerste Martijn-145': 'dauōᶻe ens maʼ een wort', 'Eerste Martijn-146': 'vā geveysdʼ spᵃkē', 'Eerste Martijn-147': 'bᶦncstu ōgeloeue vort', 'Eerste Martijn-148': 'god siet alle dīc en̄ hort', 'Eerste Martijn-149': 'wiltu dē duuel makē', 'Eerste Martijn-150': 'wat heeft dij̄ hʼte becort', 'Eerste Martijn-151': 'dattu hels ant argʼ bort', 'Eerste Martijn-152': 'die papē selēt smakē', 'Eerste Martijn-153': 'so wʼtstu vʼbᵃnt en̄ vʼsmoʼt', 'Eerste Martijn-154': 'jn gaue ō di nᵗ enē toʼt', 'Eerste Martijn-155': 'mē mach mꝫ selkē sakē', 'Eerste Martijn-156': 'gode nᵗ genakē', 'Eerste Martijn-170': 'die rechste wech tʼ hellē waʼt', 'Eerste Martijn-171': 'en̄ die alre snelste vaʼt', 'Eerste Martijn-172': 'dats geluc ī sōdē', 'Eerste Martijn-173': 'als mē geen mesdaꝫ en spaʼt', 'Eerste Martijn-174': 'en̄ mē ēmʼ vort vʼswaʼt', 'Eerste Martijn-175': 'die siele daʼ ī ghebondē', 'Eerste Martijn-176': 'en̄ dā gesciet dꝫ mē begaʼt', 'Eerste Martijn-177': 'en̄ mē ē roect wie mesvaert', 'Eerste Martijn-178': 'nu noch te genē stōdē', 'Eerste Martijn-179': 'dā cōt die doot die niene spaʼt', 'Eerste Martijn-180': 'onvorsiē wāt dats har art', 'Eerste Martijn-181': 'pādē vā haren pōdē', 'Eerste Martijn-182': 'doe niemē ē cā gegᵒndē', 'Eerste Martijn-183': 'mertē du heefs mi bekeʼt', 'Eerste Martijn-184': 'en̄ gewijst en̄ geleert', 'Eerste Martijn-185': 'vā dies ic nᵗ ē wiste', 'Eerste Martijn-186': 'al sie ic meer die quade geeert', 'Eerste Martijn-187': 'mij̄ hʼte ē wʼdes nᵗ vʼseert', 'Eerste Martijn-188': 'noch ī negeenē twiste', 'Eerste Martijn-189': 'al heeft hi meʼ dā hi vteʼt', 'Eerste Martijn-190': 'en̄ hi gewīt dꝫ hi begert', 'Eerste Martijn-191': 'mꝫ scalcheidē en̄ mꝫ liste', 'Eerste Martijn-192': 'ghīdʼ wʼt hi gedestruweert', 'Eerste Martijn-193': 'en̄ gehīdʼt en̄ geōneert', 'Eerste Martijn-194': 'sine kīdʼ gaen te quiste', 'Eerste Martijn-195': 'ghelijc enē miste', 'Eerste Martijn-196': 'mertē ē waerstu nᵗ so wreet', 'Eerste Martijn-197': 'een dīc dies ic nᵗ ē weet', 'Eerste Martijn-198': 'soudic u gerne vᵃgē', 'Eerste Martijn-199': 'twi sij̄ die sōdē gode so leet', 'Eerste Martijn-200': 'dꝫ hi dē sōdare es soe heet', 'Eerste Martijn-201': 'j̄ wᵃkē en̄ in plagē', 'Eerste Martijn-202': 'wāt geen sōdare ī sōdē ē steet', 'Eerste Martijn-203': 'langere dan sij̄ lijf es breet', 'Eerste Martijn-204': 'twi tormēt hine mꝫ slagē', 'Eerste Martijn-205': 'eweleke sōdʼ vʼsceet', 'Eerste Martijn-206': 'din schij̄t te poēte nᵗ geleidt', 'Eerste Martijn-207': 'dordeel dorstics gewagen', 'Eerste Martijn-208': 'al ē wetē wijs wi ē clagen', 'Eerste Martijn-209': 'god iacob die alle hʼtē kīt', 'Eerste Martijn-210': 'sēdt dē sondere recht tormēt', 'Eerste Martijn-211': 'na siere hʼten gedochte', 'Eerste Martijn-212': 'om dꝫ hi woude als een rent', 'Eerste Martijn-213': 'altoes leuē ōgeendt', 'Eerste Martijn-214': 'op dꝫ wesē mochte', 'Eerste Martijn-215': 'daʼom̄e es hi tʼ hellē gesēt', 'Eerste Martijn-216': 'daʼ hi ewelec es gescent', 'Eerste Martijn-217': 'wāt sij̄ wille dꝫ wᵒchte', 'Eerste Martijn-218': 'besie dij̄ hʼte alomtᵉnt', 'Eerste Martijn-219': 'dūct di dese redene blēt', 'Eerste Martijn-220': 'die ic hier toe bᵒchte', 'Eerste Martijn-221': 'neense diese wel besochte', 'Eerste Martijn-222': 'mertē du segts wel en̄ waʼ', 'Eerste Martijn-223': 'en̄ dine redene es claʼ', 'Eerste Martijn-224': 'en̄ licht te vʼstane', 'Eerste Martijn-225': 'al tgepeys es oppēbaer', 'Eerste Martijn-226': 'vor hē die tellet alle haʼ', 'Eerste Martijn-227': 'en̄ wat die hemel heuet ane', 'Eerste Martijn-228': 'ja loeuʼ gers dach en̄ iaʼ', 'Eerste Martijn-229': 'dropel sāt ē es hē nᵗ swaʼ', 'Eerste Martijn-230': 'jn tellene te bestane', 'Eerste Martijn-231': 'hi heeft ypocᶦtie ōmaʼ', 'Eerste Martijn-232': 'en̄ leit hen mꝫ wᵃkē naʼ', 'Eerste Martijn-233': 'die ī hare bane', 'Eerste Martijn-234': 'plegē ōme te gane', 'Eerste Martijn-235': 'suete mʼtē mē leest dꝫ', 'Eerste Martijn-236': 'al gauic wech gout en̄ scat', 'Eerste Martijn-237': 'en̄ gedoegede gᵒte coude', 'Eerste Martijn-238': 'waric ī hoeftsōdē mat', 'Eerste Martijn-239': 'en holpe mi nᵗ i blat', 'Eerste Martijn-240': 'die nuwe wꝫ en̄ doude', 'Eerste Martijn-241': 'die ons dꝰ nauwe makē dē pat', 'Eerste Martijn-242': 'te hemel wʼt en̄ so glat', 'Eerste Martijn-243': 'jc woudt god selue woude', 'Eerste Martijn-244': 'dꝫ si portiers warē gesat', 'Eerste Martijn-245': 'ter hellē si soudē tgat', 'Eerste Martijn-246': 'so houdē mꝫ gewoude', 'Eerste Martijn-247': 'dattʼ cume iemē ī soude', 'Eerste Martijn-248': 'iacob menech proeft en̄ coʼt', 'Eerste Martijn-249': 'dʼ heileghʼ scᵉfturen woʼt', 'Eerste Martijn-250': 'en̄ waētse gegᵒndē', 'Eerste Martijn-251': 'dā clappē sijt leekē liedē voʼt', 'Eerste Martijn-252': 'dꝫ gʼne vā nuwē dīgē hoʼt', 'Eerste Martijn-253': 'wat si hebbē vōdē', 'Eerste Martijn-254': 'selue ē vʼstaē sijs nᵗ een oert', 'Eerste Martijn-255': 'dits meʼre mesdaꝫ dā moʼt', 'Eerste Martijn-256': 'dꝫ si gods woʼt dꝰ wōdē', 'Eerste Martijn-257': 'hiʼ nayen sijt daʼ eest gescoʼt', 'Eerste Martijn-258': 'hier gebᵉct een nagel daʼ een boʼt', 'Eerste Martijn-259': 'wapē ouʼ die hōde', 'Eerste Martijn-260': 'nu en̄ ī elke stōde', 'Eerste Martijn-261': 'wanē si die woʼde gegᵒndē saē', 'Eerste Martijn-262': 'daʼ die wortelē aue staē', 'Eerste Martijn-263': 'gheplāt ī hemelrike', 'Eerste Martijn-264': 'si iagē vele lettel si vaē', 'Eerste Martijn-265': 'dā willē sijt te gadʼe slaen', 'Eerste Martijn-266': 'tgelike en̄ dōgelike', 'Eerste Martijn-267': 'dies latic mij̄ vᵃgē staē', 'Eerste Martijn-268': 'wāt hꝫ dūct mi best gedaen', 'Eerste Martijn-269': 'dꝫ ic hier af wike', 'Eerste Martijn-270': 'dan ic viele ī dōmē waen', 'Eerste Martijn-271': 'betʼ es dꝫ hi vlie die waen', 'Eerste Martijn-272': 'dā hi te cāpe strike', 'Eerste Martijn-273': 'jegē dē kimpe eerlike', 'Eerste Martijn-287': 'dat seget tgeloeue mij̄', 'Eerste Martijn-288': 'god moꝫ ī hē seluē sij̄', 'Eerste Martijn-289': 'hine mach el niewʼ wesē', 'Eerste Martijn-290': 'hi es gerechtech en̄ fij̄', 'Eerste Martijn-291': 'en̄ genadech dꝫ es wel anschij̄', 'Eerste Martijn-292': 'dits al een vā desē', 'Eerste Martijn-293': 'die vā den watʼe maecte wij̄', 'Eerste Martijn-294': 'hines sij̄s selfs nᵗ eygij̄', 'Eerste Martijn-295': 'wat dꝫ die dore lesē', 'Eerste Martijn-296': 'jacob houde tgeloeue dij̄', 'Eerste Martijn-297': 'want hets menech ōbesceeden swij̄', 'Eerste Martijn-298': 'te pᶦesterscape geresen', 'Eerste Martijn-299': 'dies nᵗ ē can genesen', 'Eerste Martijn-300': 'mertē dine ātwʼdde es goꝫ', 'Eerste Martijn-301': 'jc bē dies sekʼ en̄ vro', 'Eerste Martijn-302': 'weldaꝫ ē wʼt nᵗ vʼgeten', 'Eerste Martijn-303': 'laꝫ hē begaē diet geldē moet', 'Eerste Martijn-304': 'en̄ diet al bi redenen doꝫ', 'Eerste Martijn-305': 'nēmeʼ ē willics wetē', 'Eerste Martijn-306': 'hi es diet al maect en̄ behoedt', 'Eerste Martijn-307': 'alsoe die hīne har kiekene broedt', 'Eerste Martijn-308': 'heeft hijt al beseten', 'Eerste Martijn-309': 'wi geuē hē siele vleesch en̄ bloet', 'Eerste Martijn-310': 'hi hoedt ōs vore die helsche gloet', 'Eerste Martijn-311': 'dꝫ wi nᵗ ē werden verbetē', 'Eerste Martijn-312': 'ten iōxstē dage no getē', 'Eerste Martijn-313': 'mertē menech ꝑlem̄t', 'Eerste Martijn-314': '⸫⸫ es om die minne dat si es blent ', 'Eerste Martijn-316': 'om dꝫ ic bē een ōwijs rēt', 'Eerste Martijn-317': 'so maect mi dese woʼde bekēt', 'Eerste Martijn-318': 'wāt ē es nᵗ cleene', 'Eerste Martijn-319': 'es dꝫ waʼ so es m tormēt', 'Eerste Martijn-320': 'die hare volgde ware gescēt', 'Eerste Martijn-321': 'en̄ ōteert al reene', 'Eerste Martijn-322': 'nu seget elc wise al ōtᵉnt', 'Eerste Martijn-323': 'dꝫ m dꝫ suete īstᵛmēt', 'Eerste Martijn-324': 'gode vā nazareene', 'Eerste Martijn-325': 'brochte ī desē weene', 'Eerste Martijn-326': 'iacob dij̄ vᵃgē es swaer', 'Eerste Martijn-327': 'doch ftmē bi redenē claʼ', 'Eerste Martijn-328': 'drierāde m', 'Eerste Martijn-329': 'diʼste es caritate dats waʼ', 'Eerste Martijn-330': 'die es sōdʼ pine en̄ vaʼ', 'Eerste Martijn-331': 'en̄ daʼ woēt god īne', 'Eerste Martijn-332': 'dādʼ tᵉct die wʼelt naʼ', 'Eerste Martijn-333': 'om eere om goꝫ steet al hare gaʼ', 'Eerste Martijn-334': 'en̄ dats ene bastardinne', 'Eerste Martijn-335': 'die dʼde eyscht die bloyēde iaʼ', 'Eerste Martijn-336': 'als bi natᶻen elc doꝫ sij̄ paʼ', 'Eerste Martijn-337': 'mʼ doch sij̄ si dinne', 'Eerste Martijn-338': 'die deser volgē mꝫ sīne', 'Eerste Martijn-339': 'dierste m es so gᵒt', 'Eerste Martijn-340': 'dꝫ al dꝫ god ie geboꝫ', 'Eerste Martijn-341': 'en volpᵉsē nᵗ hare werde', 'Eerste Martijn-342': 'wāt si tᵃc themelsche broꝫ', 'Eerste Martijn-343': 'hiʼ nedʼ īdʼ maget scoꝫ', 'Eerste Martijn-344': 'ōdʼ dʼ iodē swʼde', 'Eerste Martijn-345': 'dese m es god dꝫ merct al bloꝫ', 'Eerste Martijn-346': 'wie mochte els bᶦngen ī selkʼ noꝫ', 'Eerste Martijn-347': 'hē diet al uʼwʼde', 'Eerste Martijn-348': 'daʼ hi hē seluē ī besloꝫ', 'Eerste Martijn-349': 'die dore m sij̄ bloꝫ roꝫ', 'Eerste Martijn-350': 'storte hiʼ op derde', 'Eerste Martijn-351': 'ende sine m oppēberde', 'Eerste Martijn-352': 'wiē dꝫ selke m es cōt', 'Eerste Martijn-353': 'als caritate hi es gewōt', 'Eerste Martijn-354': 'mē mach en nᵗ vʼblēdē', 'Eerste Martijn-355': 'al lage hi ī dʼ hellē gᵒnt', 'Eerste Martijn-356': 'op dꝫ hi ware daʼ mede gewōt', 'Eerste Martijn-357': 'hi ē ware nᵗ ī ellēdē', 'Eerste Martijn-358': 'mʼ god ē wilt dē rikē vōt', 'Eerste Martijn-359': 'ghenē sōdʼe genē hōt', 'Eerste Martijn-360': 'nēmʼmeʼ toe sēdē', 'Eerste Martijn-361': 'die edele gaue dꝫ diere pont', 'Eerste Martijn-362': 'smaect allene dʼ vriēde mōt', 'Eerste Martijn-363': 'mē mach har lijf doē endē', 'Eerste Martijn-364': 'mʼ nᵗ die siele scēdē', 'Eerste Martijn-365': 'dādʼ m es onbehoedt', 'Eerste Martijn-366': 'wāt si staꝫ na dertsche goꝫ', 'Eerste Martijn-367': 'en̄ ōdʼ wʼelt eere', 'Eerste Martijn-368': 'dit es de m die dicke doꝫ', 'Eerste Martijn-369': 'riddʼscap wʼdē uʼwoedt', 'Eerste Martijn-370': 'en̄ dē woekerere', 'Eerste Martijn-371': 'wāt de riddʼe niene geroert', 'Eerste Martijn-372': 'hine vʼslit vleesch en̄ bloet', 'Eerste Martijn-373': 'op dꝫ sij̄ prijs meere', 'Eerste Martijn-374': 'dādʼe al ware gelt die vloꝫ', 'Eerste Martijn-375': 'en̄ hē vloyede īdē moꝫ', 'Eerste Martijn-376': 'hē soude noch also seere', 'Eerste Martijn-377': 'dorstē alst dede eere', 'Eerste Martijn-378': 'dese m heeft ōdʼsceet', 'Eerste Martijn-379': 'vā hē die na de eere steet', 'Eerste Martijn-380': 'en̄ die dienē ōme die scatte', 'Eerste Martijn-381': 'wilstu eere hebbē so wes gereet', 'Eerste Martijn-382': 'te latene dꝫ gode es leet', 'Eerste Martijn-383': 'pij̄di te doene datte', 'Eerste Martijn-384': 'dꝫ hē lief es en̄ hi heet', 'Eerste Martijn-385': 'wes vᵒme en̄ ō doget sweet', 'Eerste Martijn-386': 'dꝫ mē di nᵗ ē matte', 'Eerste Martijn-387': 'ondʼ dʼ ydelre glʼen cleet', 'Eerste Martijn-388': 'daʼ die menege mꝫ ōme geet', 'Eerste Martijn-389': 'wāt hare tōgē platte', 'Eerste Martijn-390': 'smeltē als die snee clatte ⸫', 'Eerste Martijn-417': 'die dʼde m eyscht dē tijt', 'Eerste Martijn-418': 'also die natᶻe ōtbijdt', 'Eerste Martijn-419': 'die bloyē de iare', 'Eerste Martijn-420': 'dats de edelste delijt', 'Eerste Martijn-421': 'alse hare scamelhᵗ besnijt', 'Eerste Martijn-422': 'en̄ mē doget heuet mare', 'Eerste Martijn-423': 'die men vīt tʼ wʼelt wijt', 'Eerste Martijn-424': 'wāt si talre stōt vʼblijt', 'Eerste Martijn-425': 'ghelijc ocht al hare ware', 'Eerste Martijn-426': 'har hope nēmʼmeer gelijt', 'Eerste Martijn-427': 'die aldꝰ sij̄ lijf vʼslijt', 'Eerste Martijn-428': 'maect sine sīne clare', 'Eerste Martijn-429': 'en̄ hines geen futselare', 'Eerste Martijn-430': 'mīne alsoe mē bescᵉuē vīt', 'Eerste Martijn-431': 'es cᵃcht die twee hertē te gadere bīt', 'Eerste Martijn-432': 'jn enē reenen wanē', 'Eerste Martijn-433': 'dꝫ die mīne heetet blīt', 'Eerste Martijn-434': 'cōt dꝫ menech es soe kīt', 'Eerste Martijn-435': 'dꝫ hi hē laꝫ vʼspanē', 'Eerste Martijn-436': 'sine cōnē m nᵗ een twīt', 'Eerste Martijn-437': 'die wādel sij̄ als die wīt', 'Eerste Martijn-438': 'si rollē butē banē', 'Eerste Martijn-439': 'jc wane mʼ also vele vīt', 'Eerste Martijn-440': 'mīnerē ī tᵒuwē gehīt', 'Eerste Martijn-441': 'alst doꝫ swʼtʼ swanē', 'Eerste Martijn-442': 'dꝰ laꝫ har m af planen', 'Eerste Martijn-443': 'mertē du heefs mi wel berecht', 'Eerste Martijn-444': 'hꝫ seggē hʼen ende cnecht', 'Eerste Martijn-445': 'vᵒuwē en̄ ioffᵒuwē', 'Eerste Martijn-446': 'jn sāge en̄ ī rime slecht', 'Eerste Martijn-447': 'dꝫ si mꝫ m sij̄ vʼplecht', 'Eerste Martijn-448': 'en̄ mē caens nᵗ gescouwē', 'Eerste Martijn-449': 'mi dūct dꝫ die wʼelt vecht', 'Eerste Martijn-450': 'jegen dʼ reīre m lecht', 'Eerste Martijn-451': 'en̄ volgē dʼ ōtᵒuwē', 'Eerste Martijn-452': 'menech seecht nu en̄ echt', 'Eerste Martijn-453': 'mij̄ sin es ane v gehecht', 'Eerste Martijn-454': 'so seere ic wane bedouwē', 'Eerste Martijn-455': 'achtʼ makē si de mouwē', 'Eerste Martijn-456': 'iacob du heefs mi altoes gevᵃecht', 'Eerste Martijn-457': 'en̄ ic ātwʼde en̄ vʼdᵃecht', 'Eerste Martijn-458': 'nu willic mʼtē vᵃgē', 'Eerste Martijn-459': 'waēdi dats mi wel behaecht', 'Eerste Martijn-460': 'dattu mi dꝰ heefs gheiaecht', 'Eerste Martijn-461': 'neēt wistics wiē clagē', 'Eerste Martijn-462': 'mʼtē vᶦent wat holpe geclaecht', 'Eerste Martijn-463': 'vraecht dattu wils en̄ gewaecht', 'Eerste Martijn-464': 'jc wilt al vʼdᵃgē', 'Eerste Martijn-465': 'god helpe mi wāt hi vʼmaecht', 'Eerste Martijn-466': 'dꝫ mij̄ sī so wʼde gevaecht', 'Eerste Martijn-467': 'dats v moete behagen', 'Eerste Martijn-468': 'jc wille dantwʼde wagē', 'Eerste Martijn-469': 'iacob nu berecht mi', 'Eerste Martijn-470': 'ochte tfolc al comē si', 'Eerste Martijn-471': 'vā dē ierstē adame', 'Eerste Martijn-472': 'twi es deen edel dādʼ vri', 'Eerste Martijn-473': 'de derde eygē mā daer bi', 'Eerste Martijn-474': 'wanē qᵃm desē name', 'Eerste Martijn-475': 'twi seit mē totē dorper fi', 'Eerste Martijn-476': 'ganc wech god ōneere di', 'Eerste Martijn-477': 'du best dʼ werelt scame', 'Eerste Martijn-478': 'die edele heeft al tgecri', 'Eerste Martijn-479': 'mē seit wille come gi', 'Eerste Martijn-480': 'dit doꝫ dꝫ ic vʼgrame', 'Eerste Martijn-481': 'wāt hꝫ dūct mi ōtame', 'Eerste Martijn-482': 'mertē menegē es bedect', 'Eerste Martijn-483': 'die dīc daʼ u sin op mect', 'Eerste Martijn-484': 'en̄ gi vᵃecht wel vʼre', 'Eerste Martijn-485': 'al heeft een ꝑsemier geblect', 'Eerste Martijn-486': 'en̄ dē liedē thare ontplect', 'Eerste Martijn-487': 'hi wilt nochtā sōdʼ mʼre', 'Eerste Martijn-488': 'ondʼ dedele sij̄ getrect', 'Eerste Martijn-489': 'al ware hi dusētech wʼf bevlect', 'Eerste Martijn-490': 'tgelt claertene van den tʼre', 'Eerste Martijn-491': 'dits de die de liede wect', 'Eerste Martijn-492': 'dat menech dīc tsine sī te wīnēne trect', 'Eerste Martijn-493': 'en̄ maectʼ gode mede erre', 'Eerste Martijn-494': 'en̄ die siele ī wʼre', 'Eerste Martijn-495': 'selc waēt dꝫ dꝫ volc eygh', 'Eerste Martijn-496': 'comē es vādē quadē cayn', 'Eerste Martijn-497': 'die vʼmoerdde abelle', 'Eerste Martijn-498': 'en̄ diē god vʼdoemt hiet tsij̄', 'Eerste Martijn-499': 'dit ē es nᵗ waer mʼtij̄', 'Eerste Martijn-500': 'bi redenē die ic v telle', 'Eerste Martijn-502': 'wāt ōs wijst die bibel fij̄', 'Eerste Martijn-501': 'dꝫ al dꝫ geslechte sij̄', 'Eerste Martijn-503': 'vʼdᵃnc ī die deluuie felle', 'Eerste Martijn-504': 'mʼ scalc dorpʼlec venij̄', 'Eerste Martijn-505': 'dꝫ caym dᵒech es āschij̄', 'Eerste Martijn-506': 'an menegē die ic spelle', 'Eerste Martijn-507': 'vā hʼtē sij̄ geselle', 'Eerste Martijn-508': 'selc waēt dꝫ vā dē qᵃdē cham', 'Eerste Martijn-509': 'daer noe sij̄ vadʼ op was gᵃm', 'Eerste Martijn-510': 'om dꝫ hine nᵗ ē decte', 'Eerste Martijn-511': 'dꝫ deygijn volc vā hē qᵃm', 'Eerste Martijn-512': 'want svaders vloec hē mesquam', 'Eerste Martijn-513': 'hi doelde diere op mecte', 'Eerste Martijn-514': 'al vītmen dꝫ die goede ram', 'Eerste Martijn-515': 'dicwile wīt dongaue lam', 'Eerste Martijn-516': 'dits dʼ rudarise secte', 'Eerste Martijn-517': 'vādē edelē abraham', 'Eerste Martijn-518': 'quā eygijn volc alsic vʼnam', 'Eerste Martijn-519': 'dꝫ oyt tʼ erē tᵉcte', 'Eerste Martijn-520': 'en̄ hem noyt ē bevlecte', 'Eerste Martijn-521': 'mertē dwalschē loy vʼtelt', 'Eerste Martijn-522': 'dat van ongerechter gewelt', 'Eerste Martijn-523': 'eygendoem es comē', 'Eerste Martijn-524': 'als i pᶦnce verwā op tfelt', 'Eerste Martijn-525': 'en̄ sine viande hadde gevelt', 'Eerste Martijn-526': 'dꝫ hiet hi vʼdoemē', 'Eerste Martijn-527': 'en̄ vercopē ōme gelt', 'Eerste Martijn-528': 'dats tfolc dꝫ mē eygen scelt', 'Eerste Martijn-529': 'en̄ dꝫ men scalc hort noemē', 'Eerste Martijn-530': 'natᶻe gaꝫ harē rechtē telt', 'Eerste Martijn-531': 'mʼ auōtᶻe wast en̄ smelt', 'Eerste Martijn-532': 'menegen te vᵒmen', 'Eerste Martijn-533': 'en̄ tōneerē hen somē', 'Eerste Martijn-534': 'god gedoeget dor ōse mesdaꝫ', 'Eerste Martijn-535': 'dꝫ deen geslechte te nieute gaꝫ', 'Eerste Martijn-536': 'en̄ een ander riset', 'Eerste Martijn-537': 'wie mach wetē sinē raꝫ', 'Eerste Martijn-538': 'hi kīt wiene mīt ofte haꝫ', 'Eerste Martijn-539': 'hi die al die werelt spiset', 'Eerste Martijn-540': 'die meest te sinē diēste staꝫ', 'Eerste Martijn-541': 'mē siet dꝫ sij̄ oer en̄ sij̄ saet', 'Eerste Martijn-542': 'meest ī deere riset', 'Eerste Martijn-543': 'en̄ alse dꝫ volc wʼt soe quaꝫ', 'Eerste Martijn-544': 'dꝫ de wꝫ gods versmaedt', 'Eerste Martijn-545': 'so wʼdet te valle gewiset', 'Eerste Martijn-546': 'en̄ vā niemene gepriset', 'Eerste Martijn-547': 'mi ē roect wiē droech ochte wan', 'Eerste Martijn-548': 'daer i wijshᵗ en̄ doget es an', 'Eerste Martijn-549': 'en̄ reene es vā seden', 'Eerste Martijn-550': 'wt wat lande dꝫ hi ran', 'Eerste Martijn-551': 'dats dienīc dʼ namē an', 'Eerste Martijn-552': 'vā dʼ edelheden', 'Eerste Martijn-553': 'al vʼcochte mē selkē mā', 'Eerste Martijn-554': 'en es niemē die geroeuē can', 'Eerste Martijn-555': 'hē siere doech dachtechedē', 'Eerste Martijn-556': 'mi dūct dꝫ edelhᵗ began', 'Eerste Martijn-557': 'vter reenre hʼtē dan', 'Eerste Martijn-558': 'mꝫ dogeden besnedē', 'Eerste Martijn-559': 'en̄ doꝫ noch hedē', 'Eerste Martijn-560': 'mertē oftu clēmē wout', 'Eerste Martijn-561': 'ter edelheit iij poēte hout', 'Eerste Martijn-562': 'die ic di sal leerē', 'Eerste Martijn-563': 'wes nerechtech ē m nᵗ tgout', 'Eerste Martijn-564': 'wes eerechtech menechfout', 'Eerste Martijn-565': 'dese ij ē houde nᵗ vore sceerē', 'Eerste Martijn-566': 'wes warachtech en̄ stout', 'Eerste Martijn-567': 'dese iij poēte hout', 'Eerste Martijn-568': 'wāt si sij̄ al vol eerē', 'Eerste Martijn-569': 'en̄ ē es niemē ionc no out', 'Eerste Martijn-570': 'dien du scalc dūkē sout', 'Eerste Martijn-571': 'sōdʼ diē weldaꝫ deerē', 'Eerste Martijn-572': 'en̄ doecht tōdogedē keerē', 'Eerste Martijn-573': 'te warē mertē ic hebbe verstaē', 'Eerste Martijn-574': 'woʼde wt dinē mōde gaē', 'Eerste Martijn-575': 'volge rechter waerhedē', 'Eerste Martijn-576': 'al spᵉct ī sinē boec alaen', 'Eerste Martijn-577': 'dꝫ edelhᵗ qᵃm sondʼ waē', 'Eerste Martijn-578': 'vā vʼouddʼ rijcheden', 'Eerste Martijn-579': 'die edelhᵗ machmē af dwaē', 'Eerste Martijn-580': 'wertmē arm so eest gedaen', 'Eerste Martijn-581': 'mē valt ī doude seden', 'Eerste Martijn-582': 'reene edelhᵗ es een tᵃen', 'Eerste Martijn-583': 'diē dorpers hʼte nᵗ ē mach ōtfaē', 'Eerste Martijn-584': 'die geest dore tsmēschē bede', 'Eerste Martijn-585': 'god dore sine melthede', 'Eerste Martijn-586': 'iacob ic hore an dine woʼt', 'Eerste Martijn-587': 'dꝫ alle mēschelike geboert', 'Eerste Martijn-588': 'vā adame begonde', 'Eerste Martijn-589': 'hoe es die maechscap dꝰ te stoert', 'Eerste Martijn-590': 'dꝫ deen dē andʼen nv vʼmoʼt', 'Eerste Martijn-591': 'dats iāmʼ en̄ sōde', 'Eerste Martijn-592': 'nijt es wedʼ en̄ voʼt', 'Eerste Martijn-593': 'meestʼ op dlāt en̄ ī die poʼt', 'Eerste Martijn-594': 'de liede sij̄ wordē houde', 'Eerste Martijn-596': 'te vᵃgene benic becoert', 'Eerste Martijn-595': 'berecht mi alse diet gʼne hoʼt', 'Eerste Martijn-597': 'en̄ gʼne ōdʼvonde', 'Eerste Martijn-598': 'vā begin̄e tē gᵒnde', 'Eerste Martijn-599': 'mertē houerde en̄ nijt', 'Eerste Martijn-600': 'en̄ die alre ierste strijt', 'Eerste Martijn-601': 'begōste ī hemelrike', 'Eerste Martijn-602': 'doe lucifʼ te siere ōtijt', 'Eerste Martijn-603': 'jndē hemelschē delijt', 'Eerste Martijn-604': 'wilde sij̄ gods gelike', 'Eerste Martijn-605': 'so viel hi ī thelsche bijt', 'Eerste Martijn-606': 'daer hi nēmʼmeʼ ē vʼblijt', 'Eerste Martijn-607': 'en̄ blijft ewelike', 'Eerste Martijn-608': 'nu sēt hi dore dʼ wʼelt wijt', 'Eerste Martijn-609': 'sij̄ venij̄ en̄ sinē nijt', 'Eerste Martijn-610': 'en̄ wilt dꝫ hi blike', 'Eerste Martijn-611': 'alsoe hi doꝫ iāmʼlike', 'Eerste Martijn-612': 'twee woʼde ī die wʼelt sij̄', 'Eerste Martijn-613': 'dats algadʼ mine en̄ dijn', 'Eerste Martijn-614': 'mochtm̄ die vʼdriuē', 'Eerste Martijn-615': 'pays en̄ vᵉde bleue fij̄', 'Eerste Martijn-616': 'hꝫ ware vri niemē eigijn', 'Eerste Martijn-617': 'de māne metten wiuen', 'Eerste Martijn-619': 'ouʼ see en̄ optē rijn', 'Eerste Martijn-618': 'hꝫ ware gemeene taruwe en̄ wij̄', 'Eerste Martijn-620': 'mē soude niemene ōtliuē', 'Eerste Martijn-621': 'nu benemet dꝫ venij̄', 'Eerste Martijn-622': 'vā gierecheidē lieue mʼtij̄', 'Eerste Martijn-623': 'en̄ doedt al achtʼ bliuē', 'Eerste Martijn-624': 'en̄ ādʼ loye bescᶦuē', 'Eerste Martijn-625': 'god diet al bi ridenē doꝫ', 'Eerste Martijn-626': 'gaf dit wādel erdsche goꝫ', 'Eerste Martijn-627': 'dʼ mēschᵗ gemeene', 'Eerste Martijn-628': 'dattʼ mede soude sijn gevoet', 'Eerste Martijn-629': 'en̄ ghecleedt en̄ gescoet', 'Eerste Martijn-630': 'en̄ leuē soude reene', 'Eerste Martijn-631': 'nu es gierechᵗ so vʼwoet', 'Eerste Martijn-632': 'dꝫ elc set sinē moꝫ', 'Eerste Martijn-633': 'om al te hebbene alleene', 'Eerste Martijn-634': 'hiʼom̄e stort mē mēschen bloꝫ', 'Eerste Martijn-635': 'en̄ stichtmē mettʼ spoꝫ', 'Eerste Martijn-636': 'borgē en̄ hoeghe steene', 'Eerste Martijn-637': 'menegē te weene', 'Eerste Martijn-638': 'iacob ic hebbe wel vʼstaē', 'Eerste Martijn-639': 'dꝫ dit waʼ es sondʼ waē', 'Eerste Martijn-640': 'dattu heefs ōtbōdē', 'Eerste Martijn-641': 'goets es genoech lietemēt gaē', 'Eerste Martijn-642': 'jn tghemeene en̄ hē ōtfaen', 'Eerste Martijn-643': 'die arm worde vonden', 'Eerste Martijn-644': 'dus viele alle orloge saen', 'Eerste Martijn-645': 'so mochtemē die siele dwaē', 'Eerste Martijn-646': 'en̄ clarē vādē sōdē', 'Eerste Martijn-647': 'melthᵗ heeft hʼ macht gedaē', 'Eerste Martijn-648': 'vᵉcheit leert die wʼelt vlaen', 'Eerste Martijn-649': 'dit pᵒuē en̄ orꝯdē', 'Eerste Martijn-650': 'de meestʼs vādē pōdē', 'Eerste Martijn-651': 'iacob een dīc maect mi cōt', 'Eerste Martijn-652': 'alse die mēsche wʼt gewōt', 'Eerste Martijn-653': 'vā gerechtʼ m', 'Eerste Martijn-654': 'doꝫ dʼ ogē wandel vōt', 'Eerste Martijn-655': 'ocht comet vtʼ hʼtē gᵒnt', 'Eerste Martijn-656': 'dit euel ten begīne', 'Eerste Martijn-657': 'jc liet mi costē wel een pōt', 'Eerste Martijn-658': 'en̄ ics vᵒet ware te deser stōt', 'Eerste Martijn-659': 'maect mi dies een īne', 'Eerste Martijn-660': 'mij̄ hʼte bliuet ōgesōt', 'Eerste Martijn-661': 'mi ē besceede dit dijn mōt', 'Eerste Martijn-662': 'en es nᵗ wijshᵗ dīne', 'Eerste Martijn-663': 'na dꝫ ic redene kīne', 'Eerste Martijn-664': 'mertē du bes een vᵉmt druut', 'Eerste Martijn-665': 'du spᵉcts als een vᶦese ruut', 'Eerste Martijn-666': 'die noch noyt ē minde', 'Eerste Martijn-667': 'aldꝰ hāde edel fruut', 'Eerste Martijn-668': 'cōt vā m vte en̄ wt', 'Eerste Martijn-669': 'dꝫ noyt dorper ē kīde', 'Eerste Martijn-670': 'hē ē cā gelpē els geē cᵛut', 'Eerste Martijn-671': 'die stille mīt ofte ouʼ luut', 'Eerste Martijn-672': 'dan die hē deuel toe sinde', 'Eerste Martijn-673': 'dʼ hʼtē en̄ dʼ ogē viertuut', 'Eerste Martijn-674': 'willic dꝫ hiʼ bi si beduut', 'Eerste Martijn-675': 'pᵒeft hoe ic dit ōtbīde', 'Eerste Martijn-676': 'en̄ de redene ondʼ vīde', 'Eerste Martijn-677': 'een swaer orloge en̄ een swaer strijt', 'Eerste Martijn-678': 'en̄ daʼ toe een vreselec nijt', 'Eerste Martijn-679': 'es tusschē dʼ hʼtē en̄ dē ogē', 'Eerste Martijn-680': 'thʼte dē ogē uʼwijt', 'Eerste Martijn-681': 'du bes die mij̄s nᵗ ē vʼmijt', 'Eerste Martijn-682': 'bi di benic bedᵒegē', 'Eerste Martijn-683': 'du bes ēmʼ opē wijt', 'Eerste Martijn-684': 'elkʼ sōdē die vore di lijt', 'Eerste Martijn-685': 'bestu vᶦent dits ōgelogē', 'Eerste Martijn-686': 'sluut dij̄ dorē teneger tijt', 'Eerste Martijn-687': 'daʼ so menech dief vore lijt', 'Eerste Martijn-688': 'oftic wʼde dore vlogē', 'Eerste Martijn-689': 'dies clagic dē hogē', 'Eerste Martijn-690': 'wapen vᶦendelec viāt', 'Eerste Martijn-691': 'dor di doegic menegē pāt', 'Eerste Martijn-692': 'ende wel menech coude', 'Eerste Martijn-693': 'wapē dꝫ natᶻe dit vant', 'Eerste Martijn-694': 'ware di vʼbodē huꝰ en̄ lāt', 'Eerste Martijn-695': 'en̄ des mēschē houde', 'Eerste Martijn-696': 'so ē bōde mi geen bāt', 'Eerste Martijn-697': 'lichtʼ war en daʼ i sant', 'Eerste Martijn-698': 'algadʼ mine scoude', 'Eerste Martijn-699': 'mē stake bat wt mettʼ hāt', 'Eerste Martijn-700': 'en̄ vʼsmorde selkē pāt', 'Eerste Martijn-701': 'ōdʼ dōreine moude', 'Eerste Martijn-702': 'op dꝫ natᶻe woude', 'Eerste Martijn-703': 'therte sweech en̄ doege spᵃc', 'Eerste Martijn-704': 'mi dūct dꝫ u sins gebᵃc', 'Eerste Martijn-705': 'vᵒuwe coningīne', 'Eerste Martijn-706': 'dꝫ gi mi tijt u ōgemac', 'Eerste Martijn-707': 'wāt vā mi qᵃm di noyt lac', 'Eerste Martijn-708': 'een stof al qᵃemt mi īne', 'Eerste Martijn-709': 'als m̄ mi sōwile wt stac', 'Eerste Martijn-710': 'wat dochte daʼ na smenschē sac', 'Eerste Martijn-711': 'sij̄ welvarē was dīne', 'Eerste Martijn-712': 'sōdʼ noet maecti getrac', 'Eerste Martijn-713': 'en̄ wʼpt op mi al uwē hac', 'Eerste Martijn-714': 'en̄ ic v vᵒuwe kīne', 'Eerste Martijn-715': 'als ouʼ mine godinne', 'Eerste Martijn-716': 'merket vᵒuwe en̄ besiet', 'Eerste Martijn-717': 'dꝫ gi ouʼ mi gebiet', 'Eerste Martijn-718': 'als ouʼ al uwe lede', 'Eerste Martijn-719': 'mē cōste di gescadē nᵗ', 'Eerste Martijn-720': 'waʼt dꝫ gi vā u stiet', 'Eerste Martijn-721': 'alle dorꝑhede', 'Eerste Martijn-722': 'mʼ alse gi bi mi bespiet', 'Eerste Martijn-723': 'dīgē die gi ane di tiet', 'Eerste Martijn-724': 'so volgics gʼne mede', 'Eerste Martijn-725': 'ghi sijt alse dꝫ cᵃnke riꝫ', 'Eerste Martijn-726': 'dꝫ mettē wīde volgt en̄ vliet', 'Eerste Martijn-727': 'dij̄ ōgestadechhede', 'Eerste Martijn-728': 'maect v dē ōvᵉde', 'Eerste Martijn-729': 'dit orloge heeft gegevelt', 'Eerste Martijn-730': 'als mē hare dē twist vʼtelt', 'Eerste Martijn-731': 'vᵒuwe redene bi besceede', 'Eerste Martijn-732': 'beide gadʼ sise scelt', 'Eerste Martijn-733': 'en̄ deilt elkē daʼ sij̄ gelt', 'Eerste Martijn-734': 'niet gelijc beede', 'Eerste Martijn-735': 'bar sculdech si die hʼte scelt', 'Eerste Martijn-736': 'als die si ouʼ voget helt', 'Eerste Martijn-737': 'en̄ vᵒuwe bi harē eede', 'Eerste Martijn-738': 'mʼ dies gevals gewelt', 'Eerste Martijn-739': 'dꝫ bi siene thʼte dwelt', 'Eerste Martijn-740': 'tijt si dʼ ogē geleede', 'Eerste Martijn-741': 'aldꝰ deilt si die veede', 'Eerste Martijn-742': 'mertē hiʼ bi mogedi siē', 'Eerste Martijn-743': 'wedʼ doegē thʼte tiē', 'Eerste Martijn-744': 'so thʼte die oegē', 'Eerste Martijn-745': 'alse dꝫ hʼte wille vliē', 'Eerste Martijn-746': 'so es ō nᵗ dʼ oegē gespiē', 'Eerste Martijn-747': 'daer ē es geen gedoegē', 'Eerste Martijn-748': 'mʼ hꝫ es der hʼtē pliē', 'Eerste Martijn-749': 'alst dore doegē siet desē oft diē', 'Eerste Martijn-750': 'daʼt hē toe wilt boegē', 'Eerste Martijn-751': 'so moꝫ al sij̄ wille gesciē', 'Eerste Martijn-752': 'doege moꝫ lien en̄ gien', 'Eerste Martijn-753': 'daʼt dore qᵃm gevloegen', 'Eerste Martijn-754': 'dmīnē ī tfertoegē', 'Eerste Martijn-755': 'iacob dine redene es claer', 'Eerste Martijn-756': 'al dūct si dē genē swaʼ', 'Eerste Martijn-757': 'die lettel gevᵒedē', 'Eerste Martijn-758': 'jc weet wel ouʼ waʼ', 'Eerste Martijn-759': 'dꝫ siere sielen ē ware geen vaʼ', 'Eerste Martijn-760': 'die hē woude hoedē', 'Eerste Martijn-761': 'woude sij̄ hʼte makē ōmaer', 'Eerste Martijn-762': 'dꝫ hare dogē bᶦngē naʼ', 'Eerste Martijn-763': 'hine dorste nᵗ vʼmoedē', 'Eerste Martijn-764': 'dꝫ hi beuē soude daʼ', 'Eerste Martijn-765': 'god sal doemē opēbaʼ', 'Eerste Martijn-766': 'en̄ wisē tē gloeden', 'Eerste Martijn-767': 'die hen hier ten sondē spoedē', 'Eerste Martijn-768': 'berecht mi iacob oftu wout', 'Eerste Martijn-769': 'welc sekʼst es ī dbehout', 'Eerste Martijn-770': 'so rijchᵗ so armoede', 'Eerste Martijn-771': 'eest clerc leec iōc of out', 'Eerste Martijn-772': 'hꝫ dūct mi al gadʼ wesē bout', 'Eerste Martijn-773': 'en̄ si staē naden goede', 'Eerste Martijn-774': 'armoede pᶦsic menechfout', 'Eerste Martijn-775': 'wāt hꝫ es sekʼ en̄ stout', 'Eerste Martijn-776': 'vore roeuers sondʼ hoede', 'Eerste Martijn-777': 'doch m si vore watʼ smout', 'Eerste Martijn-778': 'si scuwē hōger en̄ cout', 'Eerste Martijn-779': 'also ic mi bevᵒede', 'Eerste Martijn-780': 'so delē dese vᵒede', 'Eerste Martijn-781': 'mertē ic mete vol dijn vat', 'Eerste Martijn-782': 'op dē stoel daʼ moyses sat', 'Eerste Martijn-783': 'sittē die geleerde', 'Eerste Martijn-784': 'dꝫ si di radē doech al dꝫ', 'Eerste Martijn-785': 'si wisē di dē rechtē pat', 'Eerste Martijn-786': 'wel hē dier hē toe keerde', 'Eerste Martijn-787': 'mʼ ī weldoene sij̄ si lat', 'Eerste Martijn-788': 'si heetē vastē si sij̄ sat', 'Eerste Martijn-789': 'en volch nᵗ selkē heerde', 'Eerste Martijn-790': 'sine m geen dīc vore den scat', 'Eerste Martijn-791': 'hare hande sij̄ altoes sōdʼ gat', 'Eerste Martijn-792': 'noyt ē was volc bouē deerde', 'Eerste Martijn-793': 'dꝫ meʼ dē scat begʼde', 'Eerste Martijn-794': 'die meʼre partie es dꝰ gedaē', 'Eerste Martijn-795': 'doch soe vīt mʼ sondʼ waē', 'Eerste Martijn-796': 'al sij̄ si selsiene', 'Eerste Martijn-797': 'die den ertschē goede ōtgaē', 'Eerste Martijn-798': 'en̄ armoede ōtfaen', 'Eerste Martijn-799': 'bi heilegen engiene', 'Eerste Martijn-800': 'en̄ latē hen blouwē ende slaen', 'Eerste Martijn-801': 'oec tormētē en̄ vaē', 'Eerste Martijn-802': 'om die helle tōtfliene', 'Eerste Martijn-803': 'hier ī waʼt sekerst volstaen', 'Eerste Martijn-804': 'wāt die hen in dē doepsel dwaē', 'Eerste Martijn-805': 'sij̄ sekʼ gode te siene', 'Eerste Martijn-806': 'en̄ hen nᵗ te messciene', 'Eerste Martijn-807': 'de gods sone toēt ōs dꝫ', 'Eerste Martijn-808': 'die euē geweldech sit en̄ sat', 'Eerste Martijn-809': 'dē vadʼ ī dē rike', 'Eerste Martijn-810': 'hi beitte īdʼ armʼ stat', 'Eerste Martijn-811': 'jn dʼ reindʼ maget vat', 'Eerste Martijn-812': 'hʼde oetmoedelike', 'Eerste Martijn-813': 'daʼ hi cume soeges wʼt sat', 'Eerste Martijn-814': 'en̄ gedoegede menegē hat', 'Eerste Martijn-815': 'vā sinē ōgelike', 'Eerste Martijn-816': 'mʼ armoede es die pat', 'Eerste Martijn-817': 'die dore dē hemel maect een gat', 'Eerste Martijn-818': 'en̄ nᵗ ē beswike', 'Eerste Martijn-819': 'die hē mꝫ hʼtē wike', 'Eerste Martijn-820': 'waenstu mʼtē weeldech vet', 'Eerste Martijn-821': 'sij̄ gecleedt nu wel nu bet', 'Eerste Martijn-822': 'varē ī dlāge leuē', 'Eerste Martijn-823': 'en̄ ihʼs naect ī dbloꝫ genet', 'Eerste Martijn-824': 'en̄ ī sine side gesplet', 'Eerste Martijn-825': 'anthout was vʼheuē', 'Eerste Martijn-826': 'ochte dꝫ hoet vā ōser wet', 'Eerste Martijn-827': 'met scerpen dornē was besꝫ', 'Eerste Martijn-828': 'alsoꝫ noch es bescreuē', 'Eerste Martijn-829': 'eest dattu wesē wilt gods let', 'Eerste Martijn-830': 'magʼlike dᶦnc en̄ et', 'Eerste Martijn-831': 'leere weelde begeuē', 'Eerste Martijn-832': 'ochte du moets swarlijk sneuē', 'Eerste Martijn-833': 'niet ē seggic dꝫ rijchᵗ sent', 'Eerste Martijn-834': 'de siele ī thelsche tormēt', 'Eerste Martijn-835': 'op dꝫ mēt nutte te rechte', 'Eerste Martijn-836': 'mʼ sekʼst eest vlien tserpēt', 'Eerste Martijn-837': 'dā wādelē daʼ ōtᵉnt', 'Eerste Martijn-838': 'en̄ dꝫ di bevlecte', 'Eerste Martijn-839': 'wāt rijcheit maect menegē blēt', 'Eerste Martijn-840': 'dꝫ hi gode nᵗ ē kēt', 'Eerste Martijn-841': 'dꝰ scheedt hi vā dē lechte', 'Eerste Martijn-842': 'en̄ wʼt vā leuene een rēt', 'Eerste Martijn-843': 'en̄ valt ī thelsche couēt', 'Eerste Martijn-844': 'aldꝰ bᶦngt ī die hechte', 'Eerste Martijn-845': 'de duuel sine knechte', 'Eerste Martijn-846': 'iacob du spᵉcs wel en̄ waʼ', 'Eerste Martijn-847': 'die wech es hoge en̄ swaʼ', 'Eerste Martijn-848': 'en̄ seʼ ōgetᵉdē', 'Eerste Martijn-849': 'mꝫ armoede te clēmene daʼ', 'Eerste Martijn-850': 'daʼ mē leeft sōdʼ vaʼ', 'Eerste Martijn-851': 'en̄ mꝫ ewelikē vᵉden', 'Eerste Martijn-852': 'mʼtē nu tᵉc dē armē naʼ', 'Eerste Martijn-853': 'en̄ deele hen stille en̄ oppēbaer', 'Eerste Martijn-854': 'vā dij̄re rijchedē', 'Eerste Martijn-855': 'eere de kʼke en̄ dē outaer', 'Eerste Martijn-856': 'hꝫ wʼt ten iōcstē dage maʼ', 'Eerste Martijn-857': 'daʼ di god sal besceedē', 'Eerste Martijn-858': 'mꝫ sinē lieuē ledē', 'Eerste Martijn-859': 'es die wech nauwe en̄ hoech', 'Eerste Martijn-860': 'daʼ god te hemele bi vloech', 'Eerste Martijn-861': 'dats passie en̄ armoede', 'Eerste Martijn-863': 'ō dē middelē wech so poech', 'Eerste Martijn-862': 'eest dattu meʼ heefs dā di doech', 'Eerste Martijn-864': 'so deele vā dinē goede', 'Eerste Martijn-865': 'dine fiere hʼte boech', 'Eerste Martijn-866': 'dē armē mēsche en̄ toech', 'Eerste Martijn-867': 'ōtfermechᵗ vā moede', 'Eerste Martijn-868': 'god selue die noyt ē loech', 'Eerste Martijn-869': 'en̄ dē mildē noyt ē bedᵒech', 'Eerste Martijn-870': 'setti ī siere hoeden', 'Eerste Martijn-871': 'buten des duuels roedē', 'Eerste Martijn-872': 'iacob die wʼelt maect gescal', 'Eerste Martijn-873': 'en̄ tiet den vᵒuwē ouʼ al', 'Eerste Martijn-874': 'dꝫ wi ī sondē sneuē', 'Eerste Martijn-875': 'wāt ieue viel dē ierstē val', 'Eerste Martijn-876': 'daʼ wi ōme ī derdsche dal', 'Eerste Martijn-877': 'noch alle sij̄ vʼdᵉuē', 'Eerste Martijn-878': 'doch seggē si alle gᵒt en̄ smal', 'Eerste Martijn-879': 'dꝫ si adame thʼte stal', 'Eerste Martijn-880': 'die hē van hare liet vʼgeuē', 'Eerste Martijn-881': 'segt mi wiē mēt tiē sal', 'Eerste Martijn-882': 'dit vʼlies sondʼ getal', 'Eerste Martijn-883': 'daʼ wi om̄e moetē beuē', 'Eerste Martijn-884': 'alse enddē sal dit leuē', 'Eerste Martijn-885': 'merten die gene ē es nᵗ vᵒet', 'Eerste Martijn-886': 'die euē ādʼen tiet dꝫ hi mesdoꝫ', 'Eerste Martijn-887': 'kēt hijt vᵒme ochte scade', 'Eerste Martijn-888': 'jc sie die see ic sie die vloꝫ', 'Eerste Martijn-889': 'jc settʼ willēs ī dē voet', 'Eerste Martijn-890': 'bi enē dōmē rade', 'Eerste Martijn-891': 'wiē magics dᵃgē euelē moꝫ', 'Eerste Martijn-892': 'ochte mi die stroem mettʼ spoꝫ', 'Eerste Martijn-893': 'dᵃecht ī die gewade', 'Eerste Martijn-894': 'en̄ ic qᵃet cā en̄ goꝫ', 'Eerste Martijn-895': 'en̄ ic mi willens veise vʼwoꝫ', 'Eerste Martijn-896': 'mē saelt clagē spade', 'Eerste Martijn-897': 'dꝫ ic mi vʼlade', 'Eerste Martijn-898': 'selc tient dē vᵒuwē opsiē', 'Eerste Martijn-899': 'dꝫ si hen thʼte ōtien', 'Eerste Martijn-900': 'alse die steen de naelde', 'Eerste Martijn-901': 'si dūkē mi mesdoē ī diē', 'Eerste Martijn-902': 'wilde m̄ dʼ waʼhᵗ gien', 'Eerste Martijn-903': 'dꝫ mē daʼ toe taelde', 'Eerste Martijn-904': 'wat mogēs de vᵒuwen  dꝫ man̄e pliē', 'Eerste Martijn-905': 'te nauwe ō har scoēhᵗ siē', 'Eerste Martijn-906': 'wie es diese daer toe haelde', 'Eerste Martijn-907': 'woude die clagere te tide vlien', 'Eerste Martijn-908': 'so ē mochte hē nᵗ messchien', 'Eerste Martijn-909': 'en̄ hi dē sin vʼstaelde', 'Eerste Martijn-910': 'eer hē sij̄ hʼte ōtdaelde', 'Eerste Martijn-911': 'vrouwē sij̄ bi natᶻen goꝫ', 'Eerste Martijn-912': 'si slachtē dē wine en̄ dʼ gloꝫ', 'Eerste Martijn-913': 'die de wʼelt vʼblidē', 'Eerste Martijn-914': 'die des wij̄s te vele ī doꝫ', 'Eerste Martijn-915': 'en̄ te na dē viere set dē voꝫ', 'Eerste Martijn-916': 'hine caent gelidē', 'Eerste Martijn-917': 'warē die māne alsoe behoꝫ', 'Eerste Martijn-918': 'dꝫ si ogē sin en̄ moꝫ', 'Eerste Martijn-919': 'wel cōstē besnidē', 'Eerste Martijn-920': 'so ware vᵒuwē m spoꝫ', 'Eerste Martijn-921': 'nu wʼdē si vā m uʼwoꝫ', 'Eerste Martijn-922': 'diere dōmelike toe tidē', 'Eerste Martijn-923': 'dit doꝫ vᵒuwē benidē', 'Eerste Martijn-950': 'wat makē quaꝫ sprekʼs gescal', 'Eerste Martijn-951': 'vᵒuwē dadēt wel na al', 'Eerste Martijn-952': 'dꝫ dat wōdʼ gesciede', 'Eerste Martijn-953': 'al dꝫ es en̄ wesen sal', 'Eerste Martijn-954': 'ende oyt was sonder getal', 'Eerste Martijn-955': 'jngele en̄ liede', 'Eerste Martijn-956': 'benediē groꝫ en̄ smal', 'Eerste Martijn-957': 'mariē die genas dē val', 'Eerste Martijn-958': 'van mēschelekē diede', 'Eerste Martijn-959': 'si was die roefde en̄ stal', 'Eerste Martijn-960': 'die sielē ī thelsche dal', 'Eerste Martijn-961': 'dies lucifer begiede', 'Eerste Martijn-962': 'wāt hꝫ was sine meyssiniede', 'Eerste Martijn-924': 'dat mē lettel tᵒuwē vint', 'Eerste Martijn-925': 'ane vᵒuwē ē clagic twīt', 'Eerste Martijn-926': 'bi eere maniere', 'Eerste Martijn-927': 'wāt so wat mē vele vīt', 'Eerste Martijn-928': 'wert ōwʼt en̄ ōgemīt', 'Eerste Martijn-929': 'en̄ mē coepet ōdiere', 'Eerste Martijn-930': 'māne sij̄ loeser dan wīt', 'Eerste Martijn-931': 'hare scone clagen vᵒuwē vʼblīt', 'Eerste Martijn-932': 'wāt si sij̄ goedʼtiere', 'Eerste Martijn-933': 'groter sondē hi hē bewīt', 'Eerste Martijn-934': 'die valsche woʼde vᵒuwē toe sīt', 'Eerste Martijn-935': 'god die moetse sciere', 'Eerste Martijn-936': 'sēden tē helsche viere', 'Eerste Martijn-937': 'wat mochte eua dꝫ adā', 'Eerste Martijn-938': 'dor harē wille den appel nā', 'Eerste Martijn-939': 'dꝫ wi noch bestʼuē', 'Eerste Martijn-940': 'jc waēre ons vordeel af quā', 'Eerste Martijn-941': 'want hiʼom̄e themelsche lā', 'Eerste Martijn-942': 'wʼt mēsche tōser alre bedʼuē', 'Eerste Martijn-943': 'hi vʼsoende dē vadʼ gᵃm', 'Eerste Martijn-944': 'en̄ wijsde ōs dē wech en̄ dē dan', 'Eerste Martijn-945': 'toter hoeghʼ eruen', 'Eerste Martijn-946': 'vᵉmdʼ dīc noyt mā vʼnam', 'Eerste Martijn-947': 'dā dꝫ een maecht gode maecte so tā', 'Eerste Martijn-948': 'dꝫ hi hē een wʼuē', 'Eerste Martijn-949': 'dor ons liet bedʼuē', 'Eerste Martijn-963': 'iacob du best dē vᵒuwē hout', 'Eerste Martijn-964': 'du geefs dē mānē al die scout', 'Eerste Martijn-965': 'jc wanict best gedoge', 'Eerste Martijn-966': 'jc vʼgeue al ō gedout', 'Eerste Martijn-967': 'allē vᵒuwē iōc en̄ out', 'Eerste Martijn-968': 'om̄e die vᵒuwe hoge', 'Eerste Martijn-970': 'ghedāct si si dusent vout', 'Eerste Martijn-972': 'die ōs benam dꝫ helsche cout', 'Eerste Martijn-971': 'diēne op hielt mꝫ soege', 'Eerste Martijn-969': 'van hare cōt ōs dbehout', 'Eerste Martijn-973': 'jn hare benic tindēne bout', 'Eerste Martijn-974': 'onse dyaloge', 'Eerste Martijn-975': 'jn vᵃge nēmeer no ē toge', 'Tweede Martijn-001': 'slaepstu mʼtijn slaep dij̄ sin', 'Tweede Martijn-002': 'spᵉc heefstu geen spᵉkē ī', 'Tweede Martijn-003': 'du dūcs mi vʼdorē', 'Tweede Martijn-004': 'dune achts ādʼs meʼ no min', 'Tweede Martijn-005': 'dā weelde en̄ gewī', 'Tweede Martijn-006': 'wiltu di dꝰ vʼsmorē', 'Tweede Martijn-007': 'al waʼt al dine dꝫ cōt ī tswin', 'Tweede Martijn-008': 'gout seluʼ stael loet en̄ tin', 'Tweede Martijn-009': 'so bleefstu vʼlorē', 'Tweede Martijn-010': 'en daedstu tʼ doget geē begī', 'Tweede Martijn-011': 'hef op dij̄ hoeft en̄ dinē kī', 'Tweede Martijn-012': 'tōtide wordstu geborē', 'Tweede Martijn-013': 'heefstu dichtē vʼsworē', 'Tweede Martijn-014': 'iacob du woēs ī dē dam', 'Tweede Martijn-015': 'en̄ ic tuutrecht des benic gram', 'Tweede Martijn-016': 'dꝫ wi dꝰ sij̄ vʼsceedē', 'Tweede Martijn-017': 'wetti wattʼ mi meest af mesqᵃm', 'Tweede Martijn-018': 'dꝫ ic noyt bate ē vʼnā', 'Tweede Martijn-019': 'aent dichtē vā ōs beedē', 'Tweede Martijn-020': 'dies es mij̄ sin wordē so lā', 'Tweede Martijn-021': 'dꝫ ickʼ vele te noedʼe ane qᵃm', 'Tweede Martijn-022': 'dit deedt mi vʼleedē', 'Tweede Martijn-023': 'du wecs mi als een stoetēde rā', 'Tweede Martijn-024': 'bestu wilt so wʼde tā', 'Tweede Martijn-025': 'leere dine woʼde cleedē', 'Tweede Martijn-026': 'soetelec en̄ beleedē', 'Tweede Martijn-027': 'mertij̄ vriēt hebbic messeit', 'Tweede Martijn-028': 'jc beens te betʼne bereit', 'Tweede Martijn-029': 'jc wils al op di bliuen', 'Tweede Martijn-030': 'mʼ vʼstaet mi en̄ ōtbeit', 'Tweede Martijn-031': 'een dīc dꝫ mi op thʼte leit', 'Tweede Martijn-032': 'willic di bescᶦuē', 'Tweede Martijn-033': 'daʼ hare die wʼelt mede vʼmeit', 'Tweede Martijn-034': 'en daedt dꝫ lief worde leit', 'Tweede Martijn-035': 'en̄ dats m vā wiuen', 'Tweede Martijn-036': 'al dꝫ es ī die wʼelt breit', 'Tweede Martijn-037': 'stede bosche borge en̄ preit', 'Tweede Martijn-038': 'soudemē vʼdᶦuē', 'Tweede Martijn-039': 'constemē m ōtliuē', 'Tweede Martijn-040': 'iacob dit was oyt u doē', 'Tweede Martijn-041': 'vā vᵒuwē te makene dij̄ sermoē', 'Tweede Martijn-042': 'oft begīnē oft īdē', 'Tweede Martijn-043': 'warstu een dorpere du spᵃecs vā coen', 'Tweede Martijn-044': 'nu es dij̄ hʼte dies ōtfloen', 'Tweede Martijn-045': 'noch willics mi genindē', 'Tweede Martijn-046': 'en̄ stekē af minē caproen', 'Tweede Martijn-047': 'en̄ horē watti hiʼtoe spoen', 'Tweede Martijn-048': 'dat du dē onbekīdē', 'Tweede Martijn-049': 'mertene nᵗ ē laets geroen', 'Tweede Martijn-050': 'alhaddic ane ij yserē scoen', 'Tweede Martijn-051': 'jc ē mochte di nᵗ ōtwīdē', 'Tweede Martijn-052': 'nu vᵃecht ic saelt ōtbīdē', 'Tweede Martijn-053': 'merten du sels vʼstaē', 'Tweede Martijn-054': 'ene vᵒuwe wel gedaen', 'Tweede Martijn-055': 'heeft mi bevaē mꝫ m', 'Tweede Martijn-056': 'al dꝫ gode es ōdʼdaen', 'Tweede Martijn-057': 'hetic dore harē wille gaen', 'Tweede Martijn-058': 'mochticse gewīnē', 'Tweede Martijn-059': 'nochtā weetic sōdʼ waē', 'Tweede Martijn-060': 'sine gaue ō mi niet een spaē', 'Tweede Martijn-061': 'mij̄ hʼte doedt mi bekīnē', 'Tweede Martijn-062': 'al soudʼ die wʼelt ō vʼgaē', 'Tweede Martijn-063': 'dꝫ si mi nᵗ ē soude ōtfaē', 'Tweede Martijn-064': 'jn haʼ hʼte bīnē', 'Tweede Martijn-065': 'hiʼ toe ē es geen vʼwīnē', 'Tweede Martijn-066': 'een ādʼ vᵒuwe es die mi mīt', 'Tweede Martijn-067': 'bouē al dꝫ si leuēde kīt', 'Tweede Martijn-068': 'mꝫ gestadʼ tᵒuwē', 'Tweede Martijn-069': 'die ī minē prijs ē mach twīt', 'Tweede Martijn-070': 'mʼ si es die scoēste die mē vīt', 'Tweede Martijn-071': 'en̄ spiegel vā allē vᵒuwē', 'Tweede Martijn-072': 'nu es mij̄ hʼte so vaste een vlint', 'Tweede Martijn-073': 'dꝫ si hare daʼ toe nᵗ ē vʼbint', 'Tweede Martijn-074': 'dꝫ sise iet wille scouwē', 'Tweede Martijn-075': 'hoe lief op siē si mi toe sint', 'Tweede Martijn-076': 'hꝫ dūct mi algadʼ wīt', 'Tweede Martijn-077': 'si liet hare eer ī stuckē houwē', 'Tweede Martijn-078': 'eer siere iet ō qᵃme ī rouwē', 'Tweede Martijn-079': 'mertij̄ nu hore en̄ vʼstant', 'Tweede Martijn-080': 'dese ij sij̄ ī een bewāt', 'Tweede Martijn-081': 'dꝫ costē moꝫ dʼ eere dleuē', 'Tweede Martijn-082': 'nu hebbic die macht ī mij̄ hāt', 'Tweede Martijn-083': 'welkʼ ic wille bᵉkic dē bāt', 'Tweede Martijn-084': 'en̄ mach hare al vʼgeuē', 'Tweede Martijn-085': 'deene moꝫ ēmʼ brekē dē bāt', 'Tweede Martijn-086': 'den liefstē die natᶻe ie vant', 'Tweede Martijn-087': 'hier toe sij̄ si gedreuē', 'Tweede Martijn-088': 'en liech mi nᵗ als een tᶦwāt', 'Tweede Martijn-089': 'mʼ sech mi ane welkʼe cāt', 'Tweede Martijn-090': 'es dij̄ hʼte bleuē', 'Tweede Martijn-091': 'en̄ de welke du liets sneuē', 'Tweede Martijn-092': 'iacob dīs geens vᵃgens wart', 'Tweede Martijn-093': 'die de waʼhᵗ nᵗ ē spart', 'Tweede Martijn-094': 'heeft dit saē ōtbōdē', 'Tweede Martijn-095': 'hꝫ es ēmʼ dʼ hʼtē art', 'Tweede Martijn-096': 'dꝫ si dʼwʼt tijt ende gart', 'Tweede Martijn-097': 'danē hare qᵃmē die wōdē', 'Tweede Martijn-098': 'al soudt al varē hīdʼ wart', 'Tweede Martijn-099': 'al dꝫ wel varēs begart', 'Tweede Martijn-100': 'nu en̄ tallē stōdē', 'Tweede Martijn-101': 'jc vʼloeste die mi thʼte vʼswart', 'Tweede Martijn-102': 'soudic haʼ latē smakē tswart', 'Tweede Martijn-103': 'dꝫ ware ōdʼvōdē', 'Tweede Martijn-104': 'meʼre moʼt dā sōdē', 'Tweede Martijn-105': 'tonge liecht mʼ thʼte nᵗ', 'Tweede Martijn-106': 'wāt so wat thʼte gebiedt', 'Tweede Martijn-107': 'dꝫ wilt mē ēmʼ volbᶦngē', 'Tweede Martijn-108': 'wat es narsiusse gesciet', 'Tweede Martijn-109': 'die sine vorme spiegelt en̄ siet', 'Tweede Martijn-110': 'j̄dwater sōdʼ mīgē', 'Tweede Martijn-111': 'hāt en̄ mōt hi daʼ toe biedt', 'Tweede Martijn-112': 'hi bidt hi claecht sij̄ vʼdriet', 'Tweede Martijn-113': 'natᶻe ē wouts nᵗ gehīgē', 'Tweede Martijn-114': 'dꝫ hē cōste gehulpē iet', 'Tweede Martijn-115': 'hi doelde also hi selue siet', 'Tweede Martijn-116': 'hine cōste sij̄ hʼte bedwīgen', 'Tweede Martijn-117': 'hine sterf bi desē dīgē', 'Tweede Martijn-118': 'medea toecht ōs selue dꝫ', 'Tweede Martijn-119': 'die roefde en̄ stal hars vadʼ scat', 'Tweede Martijn-120': 'en̄ vʼsloech harē bᵒedʼ', 'Tweede Martijn-121': 'om iasoene dies hare cume bat', 'Tweede Martijn-122': 'si liet conīcrike en̄ scat', 'Tweede Martijn-123': 'vadʼ sustʼ bᵒedʼ', 'Tweede Martijn-124': 'nochtā daʼ si selue sat', 'Tweede Martijn-125': 'wijsde har redene dē rechtē pat', 'Tweede Martijn-126': 'al volge si dē loeder', 'Tweede Martijn-127': 'mʼ thʼte dꝫ was hare so mat', 'Tweede Martijn-128': 'daer m ī hadde gemaect een gat', 'Tweede Martijn-129': 'wille hilt dē roedʼ', 'Tweede Martijn-130': 'al was de redene vᵒedʼ', 'Tweede Martijn-131': 'exempel vīdic sondʼ getal', 'Tweede Martijn-132': 'die mꝫ mi soudē lien al', 'Tweede Martijn-133': 'dꝫ ic hare dleuē gaue', 'Tweede Martijn-134': 'die mi thʼte roefde en̄ stal', 'Tweede Martijn-135': 'jacop ē maect mi geen gescal', 'Tweede Martijn-136': 'hier ē schedics nᵗ aue', 'Tweede Martijn-137': 'al tfolc dꝫ woēt sondʼ getal', 'Tweede Martijn-138': 'jn borge in stedē ouʼ al', 'Tweede Martijn-139': 'conīc hʼtoge en̄ gᵃue', 'Tweede Martijn-140': 'dij̄ proeuē ware hier iegē smal', 'Tweede Martijn-141': 'en sal di nᵗ wʼt sij̄ enen bal', 'Tweede Martijn-142': 'al geuult mꝫ caue', 'Tweede Martijn-143': 'also hulpe mi sēte baue', 'Tweede Martijn-144': 'mertij̄ du bes een stout seriant', 'Tweede Martijn-145': 'dats een vast cnoep en̄ een vast bāt', 'Tweede Martijn-146': 'die niemē ē can ōtbīdē', 'Tweede Martijn-147': 'diē cnoep diē alexādʼ vāt', 'Tweede Martijn-148': 'ōtcnoechte sij̄ swʼt mettʼ hāt', 'Tweede Martijn-149': 'als hijs hē woude bewīdē', 'Tweede Martijn-150': 'laꝫ mi genakē an dinē cāt', 'Tweede Martijn-151': 'men sal dij̄ vᵒetscap alte hāt', 'Tweede Martijn-152': 'tellē mettē kīdē', 'Tweede Martijn-153': 'also vele als diedē mach een sant', 'Tweede Martijn-154': 'jegē casselbʼch ī vlaendʼlāt', 'Tweede Martijn-155': 'sal diedē nu dij̄ vīdē', 'Tweede Martijn-156': 'al waēdi nu vʼblīdē', 'Tweede Martijn-157': 'ghi wilt sterkē uwe woʼt', 'Tweede Martijn-158': 'die gi mꝫ fauelē bringet vort', 'Tweede Martijn-159': 'en̄ mꝫ potriē', 'Tweede Martijn-160': 'of te medea dede moert', 'Tweede Martijn-161': 'en̄ narsius hē heeft vʼsmoʼt', 'Tweede Martijn-162': 'dits m vā sottiē', 'Tweede Martijn-163': 'dit woʼt m en̄ dattʼ toe behoʼt', 'Tweede Martijn-164': 'en was mꝫ sondē nie becoʼt', 'Tweede Martijn-165': 'noch mꝫ ribaudien', 'Tweede Martijn-166': 'wiē so reine m begoʼt', 'Tweede Martijn-167': 'hine mach nᵗ sij̄ vʼdoʼt', 'Tweede Martijn-168': 'dies selē mꝫ mi lien', 'Tweede Martijn-169': 'die meestʼs vā clercgien', 'Tweede Martijn-170': 'les doude en̄ dnuwe testamēt', 'Tweede Martijn-171': 'en̄ besich al ōtᵉnt', 'Tweede Martijn-172': 'alle die heilege liede', 'Tweede Martijn-173': 'wie was vā m nie gescēt', 'Tweede Martijn-174': 'wiē maecte m nie blēt', 'Tweede Martijn-175': 'die ane gode giede', 'Tweede Martijn-176': 'si mīdē vᵒuwē wel bekēt', 'Tweede Martijn-177': 'scoene en̄ wijs op selc couēt', 'Tweede Martijn-178': 'dꝫ hen god oer beriede', 'Tweede Martijn-179': 'al doechder ōme selc  tormēt', 'Tweede Martijn-180': 'alselc als m dʼ ioecht toe sēt', 'Tweede Martijn-181': 'wiē waest dier af messciede', 'Tweede Martijn-182': 'ghelijc dē heidenē diede', 'Tweede Martijn-183': 'abraham was vrou saren man', 'Tweede Martijn-184': 'sine amie verheffē began', 'Tweede Martijn-185': 'hare bouē harre vᵒuwē', 'Tweede Martijn-186': 'daer ē was geen houdē an', 'Tweede Martijn-187': 'hi deedse wech ō redene daʼ van', 'Tweede Martijn-188': 'sij̄ hʼte was voltrouwen', 'Tweede Martijn-189': 'negeen heilech man noch wijf ē cā', 'Tweede Martijn-190': 'ghemīnē sonder redene dan', 'Tweede Martijn-191': 'dꝫ mach mē wel bescouwen', 'Tweede Martijn-192': 'alselkē mīnerē geuic dē ban', 'Tweede Martijn-193': 'die metter mesdaꝫ makē gespan', 'Tweede Martijn-195': 'daer m es vol rouwē', 'Tweede Martijn-194': 'alselke mīnerē willic blouwē', 'Tweede Martijn-196': 'ochte ic dan sette minē sin', 'Tweede Martijn-197': 'daʼ ic ē mach no meʼ no mī', 'Tweede Martijn-198': 'ane wīnē el dan scade', 'Tweede Martijn-199': 'en̄ mi ene andere so heeft ī', 'Tweede Martijn-200': 'dꝫ si har seluē en̄ al gewī', 'Tweede Martijn-201': 'mi an vᵒech en̄ spade', 'Tweede Martijn-202': 'mi dūct dꝫ ic meer sculdech bī', 'Tweede Martijn-203': 'hare die mi coes ī dbegī', 'Tweede Martijn-204': 'en̄ ane mj blijft gestade', 'Tweede Martijn-205': 'dā hare die fierlec harē kī', 'Tweede Martijn-206': 'te mi wʼt dᵃget en̄ haʼ gespin', 'Tweede Martijn-207': 'vā m elre dᵃget te sade', 'Tweede Martijn-208': 'en̄ dier ickʼ nᵗ ōme ē bade', 'Tweede Martijn-209': 'iacob ocht gi nᵗ en acht', 'Tweede Martijn-210': 'exēple die ic vort hebbe bᵃcht', 'Tweede Martijn-211': 'so willic tʼ bybelē kerē', 'Tweede Martijn-212': 'die m hadde op adame macht', 'Tweede Martijn-213': 'si uʼwan mꝫ harre cᵃcht', 'Tweede Martijn-214': 'den vᵒemstē van allē hʼen', 'Tweede Martijn-215': 'vā hē si wi alle gewᵃcht', 'Tweede Martijn-216': 'so eest recht dꝫ hem elc slacht', 'Tweede Martijn-217': 'elc maecht wel doē met erē', 'Tweede Martijn-218': 'mīne ouʼ redene vʼuacht', 'Tweede Martijn-219': 'wiere om̄e weēt oft lacht', 'Tweede Martijn-220': 'vᵒuwe ieue moeste hē lerē', 'Tweede Martijn-221': 'sij̄s willē ōtberē', 'Tweede Martijn-222': 'wat machte hadde sampsoen', 'Tweede Martijn-223': 'ochte dauid ocht salomoen', 'Tweede Martijn-224': 'jegē die cᵃcht vā m', 'Tweede Martijn-225': 'daʼ ē es iegē recht noch doē', 'Tweede Martijn-226': 'zorobabel ī sij̄ sermoen', 'Tweede Martijn-227': 'doꝫ ōs wel bekinnē', 'Tweede Martijn-228': 'so wiē dꝫ vᵒuwē m ōtspoen', 'Tweede Martijn-229': 'hine mach nēmʼmeʼ gerden', 'Tweede Martijn-230': 'jn sij̄ herte bīnē', 'Tweede Martijn-231': 'hine moꝫ al sine sīne ōtdoen', 'Tweede Martijn-232': 'en̄ volgē hare die hē es gevloen', 'Tweede Martijn-233': 'ofte hē seluē ōtsīnē', 'Tweede Martijn-234': 'hier toe ē es geen uʼwīnen', 'Tweede Martijn-235': 'iacob sech ē vʼstadi nᵗ', 'Tweede Martijn-236': 'wat dit woʼt amor bediet', 'Tweede Martijn-237': 'dꝫ ī dietsche luudt m', 'Tweede Martijn-238': 'elc letterkij̄ diet wel besiet', 'Tweede Martijn-239': 'houdt een woʼt ī nv bespiet', 'Tweede Martijn-240': 'der m cᵃcht daʼ inne', 'Tweede Martijn-241': 'aldꝰ ōtbīdꝫ dlatij̄sche diet', 'Tweede Martijn-242': 'porrīge die dē sin ontiet', 'Tweede Martijn-243': 'die seʼ tᵉct tē begīne', 'Tweede Martijn-244': 'die de redene tontmoetene pliet', 'Tweede Martijn-245': 'dus ōtbāt mi en̄ besciet', 'Tweede Martijn-246': 'mij̄ meestʼ alsoe ict vʼsīne', 'Tweede Martijn-247': 'ochte mij̄ vʼstaē es dīne', 'Tweede Martijn-248': 'ochte dit m es alst es', 'Tweede Martijn-249': 'so sijt des sekʼ en̄ gewes', 'Tweede Martijn-250': 'jc volchs minē ierstē woʼde', 'Tweede Martijn-251': 'ouʼ waʼhᵗ lie ic des', 'Tweede Martijn-252': 'si ē smaecte swʼt noch mes', 'Tweede Martijn-253': 'die mi thʼte dor boerde', 'Tweede Martijn-254': 'hʼte nēmʼmeʼ genes', 'Tweede Martijn-255': 'noch geruste getes', 'Tweede Martijn-256': 'liegic vā enē woʼde', 'Tweede Martijn-257': 'proef iacob dattu wils en̄ les', 'Tweede Martijn-258': 'des es mij̄ hʼte wel geres', 'Tweede Martijn-259': 'dꝫ ic mi eer vʼsmoʼde', 'Tweede Martijn-260': 'eer icse stʼuē horde', 'Tweede Martijn-261': 'mertē ruut gᵃmarien', 'Tweede Martijn-262': 'du does dies vele lieden plien', 'Tweede Martijn-263': 'diet dware nᵗ ē willē lyen', 'Tweede Martijn-264': 'mesdade die dē wisē gesciē', 'Tweede Martijn-265': 'en salmen nᵗ ī exēpele tien', 'Tweede Martijn-266': 'mʼ gode benedien', 'Tweede Martijn-267': 'die ōs daʼ bi leʼt sondē vlien', 'Tweede Martijn-268': 'en̄ hē altoes ōtsien', 'Tweede Martijn-269': 'jc swere di bi mariē', 'Tweede Martijn-270': 'dꝫ ic di mꝫ mi doe noch hedē gien', 'Tweede Martijn-271': 'ochte du best een payen', 'Tweede Martijn-272': 'ofte ī heresien', 'Tweede Martijn-273': 'ochte sophiste vā des duuels partien', 'Tweede Martijn-274': 'nu hor na mi en̄ vʼstāt', 'Tweede Martijn-275': 'wie waest die ierst m vāt', 'Tweede Martijn-276': 'dā god die selue es m', 'Tweede Martijn-277': 'al dꝫ noeit maecte sij̄ hāt', 'Tweede Martijn-278': 'mīt al siʼe hʼtē bāt', 'Tweede Martijn-279': 'mꝫ bescedenē sin̄e', 'Tweede Martijn-280': 'ja lucifʼre dē helschē viāt', 'Tweede Martijn-281': 'en haet hi nᵗ dꝫ es becāt', 'Tweede Martijn-282': 'no ē dede van begīne', 'Tweede Martijn-283': 'dꝫ hi sit ī der hellē bᵃnt', 'Tweede Martijn-284': 'dꝫ doꝫ dʼ houʼdē pant', 'Tweede Martijn-285': 'de helsche conīgīne', 'Tweede Martijn-286': 'altoes blijft hiere īne', 'Tweede Martijn-287': 'dat dit waer es pᵒeft wel dꝫ', 'Tweede Martijn-288': 'ware enech dīc vā gode gehat', 'Tweede Martijn-289': 'en mochte nᵗ geduerē', 'Tweede Martijn-290': 'dōgetelde gods scat', 'Tweede Martijn-291': 'en was nie tōtfermene mat', 'Tweede Martijn-292': 'siere cᵉaturen', 'Tweede Martijn-293': 'op dꝫ mēs hē mꝫ hʼtē bat', 'Tweede Martijn-294': 'mʼ lucifer die sit en̄ sat', 'Tweede Martijn-295': 'altoes telkʼ vrē', 'Tweede Martijn-296': 'jn dʼ fierre houʼdē stat', 'Tweede Martijn-297': 'en̄ nēmʼmeʼ ē wert hijs sat', 'Tweede Martijn-298': 'dꝰ ē mach siere natᶻen', 'Tweede Martijn-299': 'negeene genade gebuerē', 'Tweede Martijn-300': 'ocht mē dit bi redenē weet', 'Tweede Martijn-301': 'dat god niemene ē heeft leet', 'Tweede Martijn-302': 'wiē geeft hi dlāge leuē', 'Tweede Martijn-303': 'so dē genē die hē es wreet', 'Tweede Martijn-304': 'so die hē mꝫ sīne heet', 'Tweede Martijn-305': 'ondʼdaē es bleuē', 'Tweede Martijn-306': 'jc der wel seggē op minē eet', 'Tweede Martijn-307': 'sine houeschᵗ ware ōgecleet', 'Tweede Martijn-308': 'liete hi dē genē sneuen', 'Tweede Martijn-309': 'die al te sinē diēste steet', 'Tweede Martijn-310': 'dies gelike willic gereet', 'Tweede Martijn-311': 'dē loen hare wedʼ geuē', 'Tweede Martijn-312': 'die dore mi lust leuē', 'Tweede Martijn-313': 'god geuet al cleine en̄ gᵒt', 'Tweede Martijn-314': 'dies de mēsche heuet noꝫ', 'Tweede Martijn-315': 'dit pᵒeft men mꝫ sinne', 'Tweede Martijn-316': 'hi storte ō ōs sij̄ bloꝫ roet', 'Tweede Martijn-317': 'en̄ hi geeft ōs themelsche bᵒet', 'Tweede Martijn-318': 'op dꝫ mēne weder mīne', 'Tweede Martijn-319': 'om ne geenē weder stoet', 'Tweede Martijn-320': 'daer ōs sonde ie mede scoet', 'Tweede Martijn-321': 'en laet hi ōs daʼ īne', 'Tweede Martijn-322': 'leggē wi thoeft ī sinē scoꝫ', 'Tweede Martijn-323': 'soudt si smakē dan die doot', 'Tweede Martijn-324': 'die ic mi so hout kīne', 'Tweede Martijn-325': 'so ware mij̄ vᵒedē dīne', 'Tweede Martijn-326': 'en tᵒuwē iacob dit es waʼ', 'Tweede Martijn-327': 'mʼ mi was te vīdene swaʼ', 'Tweede Martijn-328': 'dattu mi heefs ōtbōdē', 'Tweede Martijn-329': 'jc lie uʼwōnē oppēbaʼ', 'Tweede Martijn-330': 'mine m es sielē swaʼ', 'Tweede Martijn-331': 'en̄ besmet mꝫ sondē', 'Tweede Martijn-332': 'du segs daʼ ane wel en̄ waʼ', 'Tweede Martijn-333': 'redene heeft minē waen ōmaʼ', 'Tweede Martijn-334': 'dit hebbic ōdʼvōdē', 'Tweede Martijn-335': 'nu moete ōs god bᶦngē daʼ', 'Tweede Martijn-336': 'daer m nᵗ ē endt hare iaer', 'Tweede Martijn-337': 'en̄ tē lestē stondē', 'Tweede Martijn-338': 'vrien mꝫ sinen wondē', 'Derde Martijn-001': 'ic māne mettē wiuē', 'Derde Martijn-002': 'die dit gedichte lesē en̄ scᶦuē', 'Derde Martijn-003': 'op dē hoechstē ban', 'Derde Martijn-004': 'dꝫ sijt latē reene bliuē', 'Derde Martijn-005': 'en̄ siʼe nᵗ in ē dᶦuē', 'Derde Martijn-006': 'woert lettere af ochte an', 'Derde Martijn-007': 'doē sijt oec hen sal becliuē', 'Derde Martijn-008': 'mij̄ ban en̄ sine selen ne af wᶦuē', 'Derde Martijn-009': 'niet gemogē nochtan', 'Derde Martijn-010': 'hens geen spot dit vā katyuē', 'Derde Martijn-011': 'hets daʼ ic mi lieuʼ ō liete ōtliuē', 'Derde Martijn-012': 'eer ickʼ sciede vā', 'Derde Martijn-013': 'nu hore die leerē can', 'Derde Martijn-014': 'iacob wi hebbē ondʼlinghe', 'Derde Martijn-015': 'ghehādelt messelike dīge', 'Derde Martijn-016': 'nu ātwʼdt mi op een', 'Derde Martijn-017': 'en̄ leʼt mi eer ic di ōtsprīge', 'Derde Martijn-018': 'hoe ic mij̄ hʼte daʼtoe dwīge', 'Derde Martijn-019': 'te kīnēne hē dien wi vleen', 'Derde Martijn-020': 'jc lese somwile en̄ singe', 'Derde Martijn-021': 'dꝫ gode te kīnene bi sinē gehīge', 'Derde Martijn-022': 'es leuē sondʼ ween', 'Derde Martijn-023': 'dit es waʼhᵗ claer en̄ gīge', 'Derde Martijn-024': 'subtijlware thʼte diet beuīge', 'Derde Martijn-025': 'wāt hoger dīc en es negeen', 'Derde Martijn-026': 'nu ātwʼdt mi tusschē ōs tween', 'Derde Martijn-027': 'mertē du vᵃges te hoge', 'Derde Martijn-028': 'al vlogic bouē dʼ ingele vloge', 'Derde Martijn-029': 'bouē cherub en̄ seraph', 'Derde Martijn-030': 'so weetic wel dꝫ ickē moge', 'Derde Martijn-031': 'berechtē dꝫ te vollē doge', 'Derde Martijn-032': 'mꝫ woʼdē nᵗ hier af', 'Derde Martijn-033': 'alle sinne sij̄ te dᵒege', 'Derde Martijn-034': 'alle cᵉaturen hoemēt poege', 'Derde Martijn-035': 'en dogē nᵗ een caf', 'Derde Martijn-036': 'dꝫ harre enech te vollen doge', 'Derde Martijn-037': 'mʼ vʼscerp dij̄s sins oege', 'Derde Martijn-038': 'en̄ hore wat mi scᵉfture gaf', 'Derde Martijn-039': 'houdꝫ ī dij̄re hʼten graf', 'Derde Martijn-040': 'moyses sprect in sinē boekē', 'Derde Martijn-041': 'beestē die dē berch besoekē', 'Derde Martijn-042': 'moetē sij̄ gesteent', 'Derde Martijn-043': 'beeste es die mēsche die wille roekē', 'Derde Martijn-044': 'te nauwe ō die godhᵗ loekē', 'Derde Martijn-045': 'hets recht dꝫ hijt beweēt', 'Derde Martijn-046': 'du soecs mi ī allē hoekē', 'Derde Martijn-047': 'mꝫ rimen sonder valschᵗ vlas vā doekē', 'Derde Martijn-048': 'es dit goꝫ ic wane neent', 'Derde Martijn-049': 'du tels mi mettē wisen cloekē', 'Derde Martijn-050': 'waʼt goꝫ ic soudʼ di ō vloekē', 'Derde Martijn-051': 'jc wane dij̄ hʼte meent', 'Derde Martijn-052': 'dattu mi heefs vʼbeent', 'Derde Martijn-053': 'iacob dune souts di nᵗ vʼgᵃmē', 'Derde Martijn-054': 'jc souts mi ī mij̄ hʼte scamē', 'Derde Martijn-055': 'haddict oyt gedocht', 'Derde Martijn-056': 'oec lie ics mꝫ di te samē', 'Derde Martijn-057': 'dꝫ die hoechᵗ dʼ hoger namē', 'Derde Martijn-058': 'te verre nᵗ ē doech gesocht', 'Derde Martijn-059': 'al waʼt dꝫ alle dīge qᵃmē', 'Derde Martijn-060': 'sine cōstē die godheit nᵗ geramē', 'Derde Martijn-061': 'dits elkē af gecnocht', 'Derde Martijn-062': 'mʼ leere minē cᵃnckē sin minē lamen', 'Derde Martijn-063': 'ghewōt mettʼ sondē bramē', 'Derde Martijn-064': 'vā dattu vʼmocht', 'Derde Martijn-065': 'so es mij̄ wille volbᵒcht', 'Derde Martijn-066': 'mertē nu mʼc ī dinē sinne', 'Derde Martijn-067': 'god es een wesē vor alle begīne', 'Derde Martijn-068': 'dedelste bouē al', 'Derde Martijn-069': 'sij̄ wesē es also ic kīne', 'Derde Martijn-070': 'douʼste goꝫ douʼste m', 'Derde Martijn-071': 'dꝫ es ocht wesē sal', 'Derde Martijn-072': 'sine gewʼke daer mēne kīt īne', 'Derde Martijn-073': 'sij̄ so gᵒet dat si sijn dīne', 'Derde Martijn-074': 'diet kīnē en̄ smal', 'Derde Martijn-075': 'sine wijshᵗ es conīgīne', 'Derde Martijn-076': 'bouē alrehāde gewīne', 'Derde Martijn-077': 'en̄ bouē alle geval', 'Derde Martijn-078': 'daʼ bouē ochte hier īt dal', 'Derde Martijn-079': 'dē hemel en̄ dē tᵒen mʼke', 'Derde Martijn-080': 'god es bouē alle sine gewerke', 'Derde Martijn-081': 'en̄ ondʼ alle sine dīc', 'Derde Martijn-082': 'hi es butē alle dīc nu hʼke', 'Derde Martijn-083': 'en̄ bīnē alle dīc dit houde wel stʼke', 'Derde Martijn-084': 'hier wt nᵗ ē spᶦnc', 'Derde Martijn-085': 'oec seggen ōs die wise clerke', 'Derde Martijn-086': 'hi ē es nᵗ gedeilt ī ꝑke', 'Derde Martijn-087': 'hier ī dij̄ hʼte dwinc', 'Derde Martijn-088': 'mʼ geheel ī elkē wʼke', 'Derde Martijn-089': 'butē bīnē ī watʼ ī swʼke', 'Derde Martijn-090': 'hier ī dij̄ hʼte brinc', 'Derde Martijn-091': 'sōdʼ enegē loesen wīc', 'Derde Martijn-092': 'bouen al es god alse hʼe', 'Derde Martijn-093': 'die besittʼe es ēmʼmeʼre', 'Derde Martijn-094': 'alles dies mē weet', 'Derde Martijn-095': 'ondʼ al alse die ī allē keere', 'Derde Martijn-096': 'die dīc houdt mogēdelec en̄ sere', 'Derde Martijn-097': 'jegē alle vʼscheet', 'Derde Martijn-098': 'butē al alse die mꝫ siʼe were', 'Derde Martijn-099': 'sij̄ wʼc behuedt dꝫ hē ē dere', 'Derde Martijn-100': 'ne geen dīc cout noch heet', 'Derde Martijn-101': 'bīnē al als die mꝫ siʼe lere', 'Derde Martijn-102': 'sij̄ wʼc uʼwlt mꝫ selker ere', 'Derde Martijn-103': 'dꝫ ewelike steet', 'Derde Martijn-104': 'wient lief si ochte leet', 'Derde Martijn-105': 'bouē al es god ōgedᵃgē', 'Derde Martijn-106': 'negeen dīc ē mach hē beclagē', 'Derde Martijn-107': 'dꝫ hise iet vʼlast', 'Derde Martijn-108': 'ondʼ al sondʼ last van wagē', 'Derde Martijn-109': 'wāt hē ē moyt rustē no iagē', 'Derde Martijn-110': 'sij̄ wesē es so vast', 'Derde Martijn-111': 'butē al en̄ ē breidt niewerīc sij̄ dagē', 'Derde Martijn-112': 'wāt hi es al sondʼ vᵃgē', 'Derde Martijn-113': 'weert voecht en̄ nᵗ gast', 'Derde Martijn-114': 'bīnē al  en̄ uʼwllt iegē plagē', 'Derde Martijn-115': 'dꝫ sine dīc mꝫ geenē vlagē', 'Derde Martijn-116': 'en si ongerast', 'Derde Martijn-117': 'noch gequetst enē bast', 'Derde Martijn-118': 'uā enē god spᵉke wi vā enen', 'Derde Martijn-119': 'diē wi vadʼ en̄ sone meenē', 'Derde Martijn-120': 'en̄ dē heilegē geest', 'Derde Martijn-121': 'en̄ wet wel dꝫ wiere negeenē', 'Derde Martijn-122': 'so gᵒt ē noemē no so cleenē', 'Derde Martijn-123': 'dattʼ iemē es meest', 'Derde Martijn-124': 'enē god seggē wi enē reenē', 'Derde Martijn-125': 'noch uʼvoecht no vʼbeenē', 'Derde Martijn-126': 'en̄ esser ane uʼvreescht', 'Derde Martijn-127': 'die sinē sin so laꝫ vʼsteenē', 'Derde Martijn-128': 'dꝫ hi des loechent hi moꝫ weenē', 'Derde Martijn-129': 'en̄ eweleke sij̄ gevreest', 'Derde Martijn-130': 'jn dē helschē tēpeest', 'Derde Martijn-131': 'wi settē dē vadʼ vorē', 'Derde Martijn-132': 'ongewōnē en̄ ōgeborē', 'Derde Martijn-133': 'en̄ vore alle begī', 'Derde Martijn-134': 'daʼ na dē sone wt vʼcorē', 'Derde Martijn-135': 'vā hē gewōnē also wijt horē', 'Derde Martijn-136': 'eer noyt begī gīc ī', 'Derde Martijn-137': 'dē heilegē geest leeren wi dē dorē', 'Derde Martijn-138': 'wt desen ij comende ōtdoe dij̄ orē', 'Derde Martijn-139': 'elc mēsche en̄ sinē sin', 'Derde Martijn-140': 'en latet tgeloeue nᵗ te stoerē', 'Derde Martijn-141': 'wāt al hads die wʼelt gesworē', 'Derde Martijn-142': 'sine cōstē ō geen gewī', 'Derde Martijn-143': 'ghegronden meʼ no mī', 'Derde Martijn-144': 'eer ochte achtʼ tijt ofte stōde', 'Derde Martijn-145': 'dꝫ vʼstaꝫ wt minē monde', 'Derde Martijn-146': 'en was noyt ā dese drie', 'Derde Martijn-147': 'dē vadʼ sette wi als tē grōde', 'Derde Martijn-148': 'daer alle doget vte begōde', 'Derde Martijn-149': 'diemē vʼstaꝫ of sie', 'Derde Martijn-150': 'dē sone als wijshᵗ diet al conde', 'Derde Martijn-151': 'des vadʼs waʼhᵗ en̄ sine orconde', 'Derde Martijn-152': 'die vā hē ē sciet nie', 'Derde Martijn-153': 'die vādē heilegē geest ōtbōde', 'Derde Martijn-154': 'harre beidʼ m hi daʼ in vōde', 'Derde Martijn-155': 'dese drie warē oyt en̄ ye', 'Derde Martijn-156': 'een god des geloeft mie', 'Derde Martijn-157': 'niemē ē es wilt hi iet makē', 'Derde Martijn-158': 'hine moꝫ ī hē seluē smakē', 'Derde Martijn-159': 'eenrāde triniteit', 'Derde Martijn-160': 'want hi moꝫ mogē dʼ dīc genakē', 'Derde Martijn-161': 'en̄ hi moꝫ con̄ē ter dīc geraken', 'Derde Martijn-162': 'ochte hꝫ es hē al ōtseit', 'Derde Martijn-163': 'oec moꝫ hi bi wilē daʼom wakē', 'Derde Martijn-164': 'macht  const  wille  dese drie sakē', 'Derde Martijn-165': 'vint mē in die mēschelechᵗ', 'Derde Martijn-166': 'die dese note wel cā crakē', 'Derde Martijn-167': 'hine derf beidē no hakē', 'Derde Martijn-168': 'hine vīt ī ene godhᵗ', 'Derde Martijn-169': 'drie ꝑsone gereit', 'Derde Martijn-170': 'dese god daer wi af leeren', 'Derde Martijn-171': 'doet thᵒen stʼrē en̄ sōne kerē', 'Derde Martijn-172': 'en̄ al dꝫ ruerēde si', 'Derde Martijn-173': 'nochtā sij̄ rustē es so vol eren', 'Derde Martijn-174': 'dꝫ hē nᵗ en cā gederē', 'Derde Martijn-175': 'gheen porrē vʼre ochte bi', 'Derde Martijn-176': 'hi es dꝫ hi was dans geen scerē', 'Derde Martijn-177': 'hine mach mēderē noch meerē', 'Derde Martijn-178': 'hi es sij̄s selues vri', 'Derde Martijn-179': 'hi doꝫ hare alle dīc generē', 'Derde Martijn-180': 'sine rijchᵗ ē can niemen vʼterē', 'Derde Martijn-181': 'alle stedē vʼuult hi', 'Derde Martijn-182': 'dus leeret tgeloeue mi', 'Derde Martijn-183': 'gode ē beslut geene stede', 'Derde Martijn-184': 'maʼ alle stede beslut hi mede', 'Derde Martijn-185': 'jn sij̄re godlecheit', 'Derde Martijn-186': 'die iare keert sij̄ mogēthede', 'Derde Martijn-187': 'en̄ nᵗ ē es dꝫ hē kerē dede', 'Derde Martijn-188': 'sine macht es so breit', 'Derde Martijn-189': 'cracht noꝫ noch geen ōvrede', 'Derde Martijn-190': 'en mach hē doen ōledechede', 'Derde Martijn-191': 'hoe dꝫ die sake geit', 'Derde Martijn-192': 'soe gestade es god in dē sede', 'Derde Martijn-193': 'datten cᵃcht noch gene bede', 'Derde Martijn-194': 'wt sinē poere en leit', 'Derde Martijn-195': 'dit es al waʼ geseit', 'Derde Martijn-196': 'hedē gistʼen es onse leuē', 'Derde Martijn-197': 'en̄ daer es endde ane gedreuen', 'Derde Martijn-198': 'hꝫ si cort ochte lanc', 'Derde Martijn-199': 'maer als mē van gode vēt bescreuē', 'Derde Martijn-200': 'dit woʼt hedē esser aue bleuē', 'Derde Martijn-201': 'een ewelec ōme ganc', 'Derde Martijn-202': 'daer geen endde ane ē mach cleuē', 'Derde Martijn-203': 'noch geen begī wʼter vʼheuē', 'Derde Martijn-204': 'sij̄ wesen es so stranc', 'Derde Martijn-205': 'siʼe iegewʼdechᵗ es beneuē', 'Derde Martijn-206': 'dꝫ es en̄ was dus eest bescᵉuē', 'Derde Martijn-207': 'en̄ nv es gemanc', 'Derde Martijn-208': 'jn dese wʼelt stranc', 'Derde Martijn-209': 'mertē nv ē clach no ē cᵒene', 'Derde Martijn-210': 'dit es een god ī drie ꝑsoene', 'Derde Martijn-211': 'daer ic af spreke die', 'Derde Martijn-212': 'es euē geweldech en̄ euē scone', 'Derde Martijn-213': 'euē gelijc ī wʼelt ī tᵒene', 'Derde Martijn-214': 'sij̄ dese enege drie', 'Derde Martijn-215': 'redene dᵃecht hier mꝫ die cᵒene', 'Derde Martijn-216': 'mʼ tgeloeue sonder hone', 'Derde Martijn-217': 'dat ē twiuelde nie', 'Derde Martijn-218': 'wat erē hadde wijs ofte wat loene', 'Derde Martijn-219': 'dꝫ wi die nᵗ ē dogē ene boene', 'Derde Martijn-220': 'gheloefdē dꝫ elc sie', 'Derde Martijn-221': 'nu ātwʼdt mi en̄ gie', 'Derde Martijn-222': 'iacob ic lie tē begīne', 'Derde Martijn-223': 'dꝫ ic subtijlder dīc vā sīne', 'Derde Martijn-224': 'niet ē hebbe gehort', 'Derde Martijn-225': 'dā du mi maecs hier ī inne', 'Derde Martijn-226': 'oec proeuic wel en̄ bekīne', 'Derde Martijn-227': 'te gᵒndene dese woert', 'Derde Martijn-228': 'daʼ es ōse redene toe wel dīne', 'Derde Martijn-229': 'ons ē tᵉcke geloeue en̄ mīne', 'Derde Martijn-230': 'op wʼt tʼ hemelschʼ poert', 'Derde Martijn-231': 'daʼ god es loen bouē gewinne', 'Derde Martijn-232': 'en̄ daʼ tgeloeue es conīgīne', 'Derde Martijn-233': 'nu ātwʼt mi bat voert', 'Derde Martijn-234': 'op dꝫ ics nᵗ ē hebbe vʼboʼt', 'Derde Martijn-235': 'ane dē vadʼ vā hemelrike', 'Derde Martijn-236': 'en̄ ane dē sone dies gelike', 'Derde Martijn-237': 'en̄ aen den heilegē geest', 'Derde Martijn-238': 'es mij̄ geloeue also rike', 'Derde Martijn-239': 'dat een god es diē ic wike', 'Derde Martijn-240': 'hoe dꝫ ic wʼde gevreest', 'Derde Martijn-241': 'mʼ segt mi so claʼ dꝫ hꝫ blike', 'Derde Martijn-242': 'hoe die sone die eewelike', 'Derde Martijn-243': 'dē vader es alre meest', 'Derde Martijn-244': 'mēschᵗ ōtfīc vā onsē slike', 'Derde Martijn-245': 'dꝫ di de gene nᵗ ē beswike', 'Derde Martijn-246': 'en̄ hi di doe volleest', 'Derde Martijn-247': 'die mīst wʼt en̄ was meest', 'Derde Martijn-261': 'mertē die val vā lucifere', 'Derde Martijn-262': 'der houʼdē en̄ des nijts hʼe', 'Derde Martijn-263': 'die was also gᵒt', 'Derde Martijn-264': 'dꝫ vele ingele ontgouden sere', 'Derde Martijn-265': 'die mꝫ hē warē vtē kere', 'Derde Martijn-266': 'en̄ vielē ī die doot', 'Derde Martijn-267': 'doe dede god dē mēsche die ere', 'Derde Martijn-268': 'dꝫ hine sciep op dꝫ hi lere', 'Derde Martijn-269': 'te doene dꝫ god geboet', 'Derde Martijn-270': 'en̄ besitte dan ēmʼmeʼre', 'Derde Martijn-271': 'dʼ ingele stoel en̄ vort mere', 'Derde Martijn-272': 'nutte themelsche broꝫ', 'Derde Martijn-273': 'sōdʼ weder stoet', 'Derde Martijn-248': 'en̄ ō dꝫ ic dꝫ moete gebiē', 'Derde Martijn-249': 'soe biddic dʼ maget mariē', 'Derde Martijn-250': 'diene maget ōtfinc', 'Derde Martijn-251': 'en̄ maget bleef dies wi alle liē', 'Derde Martijn-252': 'daer wise ōme benediē', 'Derde Martijn-253': 'dꝫ si gestercke ōse dīc', 'Derde Martijn-254': 'en̄ moete clarē en̄ wiē', 'Derde Martijn-255': 'dinē sin en̄ vā sōdē vrien', 'Derde Martijn-256': 'dꝫ thʼte si sōdʼ wīc', 'Derde Martijn-257': 'vā alre doꝑnie', 'Derde Martijn-258': 'en̄ dune moets mi oec nᵗ tien', 'Derde Martijn-259': 'dꝫ ic di te na gīc', 'Derde Martijn-260': 'mʼ minē wille volbᶦnc', 'Derde Martijn-274': 'dit heeft die duuel vʼnomē', 'Derde Martijn-275': 'en̄ es totʼ mēschᵗ comē', 'Derde Martijn-276': 'spᵉkēde ī tserpēt', 'Derde Martijn-277': 'en̄ heeft tōser ōvᵒmē', 'Derde Martijn-278': 'onse vordʼs doē vʼdoemē', 'Derde Martijn-279': 'en̄ swarlike gescent', 'Derde Martijn-280': 'dit was sij̄ sōdʼlīge beroemē', 'Derde Martijn-281': 'dꝫ hi algadʼ nᵗ hen soemē', 'Derde Martijn-282': 'dꝫ volc heeft vʼblent', 'Derde Martijn-283': 'dꝰ wilde hi vtē hemele droemē', 'Derde Martijn-284': 'ō dat ons die hemelsche bloemē', 'Derde Martijn-285': 'niet ē soudē wʼdē bekent', 'Derde Martijn-286': 'daʼ hi af was ōtwent', 'Derde Martijn-287': 'die gods sone sach dē mā vʼradē', 'Derde Martijn-288': 'en̄ dē viāt vol ouʼdaden', 'Derde Martijn-289': 'jn roeme so gᵒet', 'Derde Martijn-290': 'en̄ wilde hē staē ī stadē', 'Derde Martijn-291': 'so dꝫ hi bi siʼe genadē', 'Derde Martijn-292': 'mariē dꝫ ōtboꝫ', 'Derde Martijn-293': 'die saē mꝫ hē wʼt geladē', 'Derde Martijn-294': 'sōdʼ last of poēt vā scadē', 'Derde Martijn-295': 'en̄ sonder enege noꝫ', 'Derde Martijn-296': 'moeste sine soegē en̄ badē', 'Derde Martijn-297': 'die alle dīc mach vʼsadē', 'Derde Martijn-298': 'en̄ houdē ī harē scoꝫ', 'Derde Martijn-299': 'dats haʼ nᵗ ē vʼdᵒet', 'Derde Martijn-300': 'algheheel en̄ altemale', 'Derde Martijn-301': 'ruste ī dʼ maechdē sale', 'Derde Martijn-302': 'gods sone en̄ gods kīt', 'Derde Martijn-303': 'algheheel oec also wale', 'Derde Martijn-304': 'was hi ī des vadʼs sale', 'Derde Martijn-305': 'mꝫ hē een ī twiuels twīt', 'Derde Martijn-306': 'die mēschᵗ dans geene hale', 'Derde Martijn-307': 'en besloꝫ nᵗ ī desen dale', 'Derde Martijn-308': 'die godhᵗ diet al bīt', 'Derde Martijn-309': 'die godhᵗ ē heeft negene pale', 'Derde Martijn-310': 'maʼ mēschᵗ ōtfīc hier tale', 'Derde Martijn-311': 'god diet al mint', 'Derde Martijn-312': 'jn hem dꝰ eest bekīt', 'Derde Martijn-313': 'euē geweldech en̄ hʼe', 'Derde Martijn-314': 'was hi en̄ blijft ēmʼmere', 'Derde Martijn-315': 'die vader ī dʼ godhᵗ', 'Derde Martijn-316': 'mʼ eest dꝫ mē tʼ mēschᵗ kere', 'Derde Martijn-317': 'soe was hi mīder vele sere', 'Derde Martijn-318': 'na die mēschelechᵗ', 'Derde Martijn-319': 'na die godhᵗ spᵉct mij̄ lere', 'Derde Martijn-320': 'so was ōsterflec sij̄ ere', 'Derde Martijn-321': 'dit was een bescheit', 'Derde Martijn-322': 'die mēscheit doechde vele mere', 'Derde Martijn-323': 'gheesele nagele en̄ dꝫ sꝑe', 'Derde Martijn-324': 'die doot en̄ ādʼ leit', 'Derde Martijn-325': 'tcruce en̄ der iodē pleit', 'Derde Martijn-326': 'die mēschᵗ liet hare besnidē', 'Derde Martijn-327': 'doepē pᵒeuē ī diē tidē', 'Derde Martijn-328': 'vā dē oudē viāt', 'Derde Martijn-329': 'si liet hare vaen en̄ benidē', 'Derde Martijn-330': 'dor borē hāde voete en̄ sidē', 'Derde Martijn-331': 'si starf dꝰ eest becāt', 'Derde Martijn-332': 'die siele wilde tʼ hellē tidē', 'Derde Martijn-333': 'daʼ si die gene wilde vʼblidē', 'Derde Martijn-334': 'die de duuel bāt', 'Derde Martijn-335': 'ay hoe si gode benedidē', 'Derde Martijn-336': 'die heilegē diene sagē stridē', 'Derde Martijn-337': 'jegē des duuels bᵃnt', 'Derde Martijn-338': 'daer hise vte gepᵃnt', 'Derde Martijn-339': 'de godhᵗ wecte vā doode te liue', 'Derde Martijn-340': 'tvleesch dꝫ hi vādē reinē wiue', 'Derde Martijn-341': 'vᵒuwē mariē nā', 'Derde Martijn-342': 'hi tᵒeste sine lieue catiue', 'Derde Martijn-343': 'hier ij hiʼ iij hiʼ iiij hiʼ viue', 'Derde Martijn-344': 'mꝫ hen hi eten qᵃm', 'Derde Martijn-345': 'dus es die gods sone also ic scᶦue', 'Derde Martijn-346': 'god en̄ mensche elc mā bliue', 'Derde Martijn-347': 'hier ī gehorsam', 'Derde Martijn-348': 'es oec enech man so stiue', 'Derde Martijn-349': 'die iegen dit geloeue kiue', 'Derde Martijn-350': 'hē sal themelsche lam', 'Derde Martijn-351': 'ten iōxstē wʼdē gram', 'Derde Martijn-352': 'indē hemel es hi gevaren', 'Derde Martijn-353': 'daert de sine āsagen te waren', 'Derde Martijn-354': 'te des vadʼ rechter hāt', 'Derde Martijn-355': 'daer hi altoes sondʼ sparē', 'Derde Martijn-356': 'dē vadʼ bidt vor sine carē', 'Derde Martijn-357': 'die hē hier sij̄ becāt', 'Derde Martijn-358': 'noch cōt hi hier hē oppēbarē', 'Derde Martijn-359': 'de wʼelt doemē mꝫ sinen scaren', 'Derde Martijn-360': 'en̄ dē helschē viāt', 'Derde Martijn-361': 'sōne en̄ mane sal hi vʼclarē', 'Derde Martijn-362': 'die bi adame vʼdōkʼt warē', 'Derde Martijn-363': 'locht watʼ en̄ lant', 'Derde Martijn-364': 'sal purgerē een brant', 'Derde Martijn-365': 'al waest dꝫ hi dꝰ op rande', 'Derde Martijn-366': 'hi liet dē sinē hier te pande', 'Derde Martijn-367': 'sij̄ vleesch en̄ sij̄ heilech bloꝫ', 'Derde Martijn-368': 'te cōsacᵉer ne ī pᶦesters hande', 'Derde Martijn-369': 'wie es die selke gaue becande', 'Derde Martijn-370': 'ochte betʼe ochte also goꝫ', 'Derde Martijn-371': 'ay god nu bᵉc ōse bande', 'Derde Martijn-372': 'en̄ vʼgef ōs dine ande', 'Derde Martijn-373': 'en̄ dinē euelē moꝫ', 'Derde Martijn-374': 'dꝫ ōse mōt en̄ ōse tāde', 'Derde Martijn-375': 'smakē moetē sondʼ scande', 'Derde Martijn-376': 'dij̄ vleesch dij̄ heilech bloꝫ', 'Derde Martijn-377': 'dꝫ wt dij̄re sidē woꝫ', 'Derde Martijn-378': 'vt desē sone wt desē wōden', 'Derde Martijn-379': 'wies godhᵗ niem̄ cā gegrōdē', 'Derde Martijn-380': 'noch wies mēschelechᵗ', 'Derde Martijn-381': 'soe vloyen en̄ begōdē', 'Derde Martijn-382': 'de sacᵃmēte te diē stōdē', 'Derde Martijn-383': 'en̄ alle salechᵗ', 'Derde Martijn-384': 'nu hebbic v tgeloeue ōtbōdē', 'Derde Martijn-385': 'so ic naest hebbe ōdʼvōdē', 'Derde Martijn-386': 'na miere mogēthᵗ', 'Derde Martijn-387': 'die dit geloeue vaste orcōdē', 'Derde Martijn-388': 'aflaꝫ gᵒt vā harē sōdē', 'Derde Martijn-389': 'es hen altoes gereit', 'Derde Martijn-390': 'op dꝫ mē daʼ ī volsteit', 'Derde Martijn-391': 'iacob du berechts mi scone', 'Derde Martijn-392': 'berecht mi nv vā den ꝑsone', 'Derde Martijn-393': 'die mē heet heilech geest', 'Derde Martijn-394': 'hoe mij̄ geloeue sōder hoene', 'Derde Martijn-395': 'te hē clem̄e en̄ winne die cᵒne', 'Derde Martijn-396': 'die alre gauē es meest', 'Derde Martijn-397': 'wāt vādē vadʼ en̄ vādē sone', 'Derde Martijn-398': 'hebbic bi di dꝫ v god loene', 'Derde Martijn-399': 'scone berecht vʼvreescht', 'Derde Martijn-400': 'dies dancke di die martilie vᵒne', 'Derde Martijn-401': 'daʼ bouē ī dē hogē tᵒne', 'Derde Martijn-402': 'en̄ geue di volleest', 'Derde Martijn-403': 'dattuere moets comē ōgevreest', 'Derde Martijn-404': 'mertē ōs leʼt die scᵉfture', 'Derde Martijn-405': 'dꝫ een god en̄ ene natᶻe', 'Derde Martijn-406': 'ēmer sij̄ dese drie', 'Derde Martijn-407': 'altoes euē na gebuere', 'Derde Martijn-408': 'en̄ vʼsceedē te negeēre vre', 'Derde Martijn-409': 'noch ē vʼsciedē nie', 'Derde Martijn-410': 'vadʼ kīt vʼstāt tʼ cure', 'Derde Martijn-411': 'vte desē dobbelē gods duere', 'Derde Martijn-412': 'wie caent gegᵒndē wie', 'Derde Martijn-413': 'cōt die geest die suete guere', 'Derde Martijn-414': 'die reine godhᵗ en̄ die puere', 'Derde Martijn-415': 'hier op pᵒef en̄ sie', 'Derde Martijn-416': 'mꝫ hʼtē en̄ dies gie', 'Derde Martijn-417': 'dits die tᵒest die alre meeste', 'Derde Martijn-418': 'hen die arm sij̄ vā geeste', 'Derde Martijn-419': 'leʼt hi blide sij̄', 'Derde Martijn-420': 'hi es ī pinē altoes feeste', 'Derde Martijn-421': 'hi doꝫ menegē die was beeste', 'Derde Martijn-422': 'suuʼ wesē en̄ fij̄', 'Derde Martijn-423': 'wapē god die dꝫ vʼheeste', 'Derde Martijn-424': 'dꝫ hi vā sinē volleeste', 'Derde Martijn-425': 'gesmaecte een dropelkij̄', 'Derde Martijn-426': 'die ware gode dalre neeste', 'Derde Martijn-427': 'negeene vᵉse vā tēpeeste', 'Derde Martijn-428': 'noch negeen venij̄', 'Derde Martijn-429': 'en scaedde dʼ sielē sij̄', 'Derde Martijn-430': 'dits svader en̄ tsoens gaue', 'Derde Martijn-431': 'rijchᵗ bouē alle haue', 'Derde Martijn-432': 'fonteine des leuēs al', 'Derde Martijn-433': 'wie dꝫ geport wʼt hiʼ aue', 'Derde Martijn-434': 'wat rijcheidē mē hē gaue', 'Derde Martijn-435': 'soudē hē dūkē smal', 'Derde Martijn-436': 'rijchᵗ die conīc heeft of gᵃue', 'Derde Martijn-437': 'en es tiēdēdeel nᵗ vā enē caue', 'Derde Martijn-438': 'gheprijst iegen dit geval', 'Derde Martijn-439': 'jhesꝰ die ruste ī dē graue', 'Derde Martijn-440': 'met deser edelhᵗ so laue', 'Derde Martijn-441': 'ōs als mē rumē sal', 'Derde Martijn-442': 'dit arme erdsche dal', 'Derde Martijn-443': 'dits svadʼs ende tsoens m', 'Derde Martijn-444': 'dits karitate daʼ altoes īne', 'Derde Martijn-445': 'rustet die triniteit', 'Derde Martijn-446': 'dits die dʼ pᵒphetē sīne', 'Derde Martijn-447': 'leerde en̄ maecte ī inne', 'Derde Martijn-448': 'des gods soens mēschelechᵗ', 'Derde Martijn-449': 'en es conīc noch conīgīne', 'Derde Martijn-450': 'die ēmʼmeʼ aflaꝫ gewīne', 'Derde Martijn-451': 'vā siere ōsalechᵗ', 'Derde Martijn-452': 'hine hebbe enen traen al waʼ hi dīne', 'Derde Martijn-453': 'van desē dauwe tsīnen begīne', 'Derde Martijn-454': 'al welvarē es ōtseit', 'Derde Martijn-455': 'daer dese sij̄ ongereit', 'Derde Martijn-456': 'dese leʼde dē apostelē te waren', 'Derde Martijn-457': 'alle tōgē die doe warē', 'Derde Martijn-458': 'jn die wʼelt breit', 'Derde Martijn-459': 'dese gaf dē martelarē', 'Derde Martijn-460': 'dꝫ si cōstē sōdʼ mesbaren', 'Derde Martijn-461': 'doegē lief en̄ leit', 'Derde Martijn-462': 'dese cā die sīne vʼclaren', 'Derde Martijn-463': 'die hen mꝫ sōdē uʼwarē', 'Derde Martijn-464': 'en̄ tcoude makē heit', 'Derde Martijn-465': 'sinē lieuē sinē carē', 'Derde Martijn-466': 'deelt hi sōdʼ enech sparē', 'Derde Martijn-467': 'dꝫ godleke cleit', 'Derde Martijn-468': 'dꝫ nēmʼmeʼ ē vʼgeit', 'Derde Martijn-469': 'wat hulpt mʼten sin en̄ tale', 'Derde Martijn-470': 'die begeuē mi altemale', 'Derde Martijn-471': 'meer te spᵉkene vort', 'Derde Martijn-472': 'elc ꝑsoen vʼstant mi wale', 'Derde Martijn-473': 'es selue god sōdʼ hale', 'Derde Martijn-474': 'vā driē daʼ mē af hort', 'Derde Martijn-475': 'doch eest maʼ een die bʼch en̄ dale', 'Derde Martijn-476': 'ghesciep  daʼ bi groꝫ en̄ smale', 'Derde Martijn-477': 'tellē hier af en̄ alle wort', 'Derde Martijn-478': 'neganc nᵗ ouʼ dese pale', 'Derde Martijn-479': 'houdt dit ī dij̄re hʼtē sale', 'Derde Martijn-480': 'sone wʼtstu nᵗ vʼsmort', 'Derde Martijn-481': 'jn die helsche poʼt', 'Derde Martijn-482': 'ware oec iemē die wedʼspᵃke', 'Derde Martijn-483': 'dit geloeue en̄ dese sake', 'Derde Martijn-484': 'hi ware ewelike vʼdoemt', 'Derde Martijn-485': 'recht waʼt dꝫ mēne ī dē bᵃnt stake', 'Derde Martijn-486': 'en̄ ī thelsche vier daʼ na rake', 'Derde Martijn-487': 'daʼ mē dē duuel ī droemt', 'Derde Martijn-488': 'help god dꝫ ic daʼ gerake', 'Derde Martijn-489': 'daʼ ic sie en̄ daʼ ic smake', 'Derde Martijn-490': 'die godhᵗ ōgenoemt', 'Derde Martijn-491': 'sone tᵉct mi die helsche drake', 'Derde Martijn-492': 'niet ter eweliker wrake', 'Derde Martijn-493': 'daʼ niemē wt ē coemt', 'Derde Martijn-494': 'wiē dꝫ scaedt ochte vroemt', 'Derde Martijn-495': 'amē iacob lieue geselle', 'Derde Martijn-496': 'mi dūct dꝫ ic v sere quelle', 'Derde Martijn-497': 'doch al des haddic noꝫ', 'Derde Martijn-498': 'alsic dit lese en̄ spelle', 'Derde Martijn-499': 'magic leerē alsict vʼtelle', 'Derde Martijn-500': 'mij̄ geloeue al bloꝫ', 'Derde Martijn-501': 'daʼ ic bi scuwē mach die helle', 'Derde Martijn-502': 'op dꝫ ic mi daer toe vʼsnelle', 'Derde Martijn-503': 'te doene dꝫ god geboꝫ', 'Derde Martijn-504': 'die de doot wrac vā abelle', 'Derde Martijn-505': 'moꝫ ōs bringē tʼ hoeghʼ celle', 'Derde Martijn-506': 'dats ī abrahās scoꝫ'}, 'Z': {'Eerste Martijn-356': 'waer hi daer mede gewont', 'Eerste Martijn-357': 'hine wʼ niet in elenden', 'Eerste Martijn-358': 'mʼ god en wilde dē rikē vont', 'Eerste Martijn-359': 'ghenē sondare genē hont', 'Eerste Martijn-360': 'nēmermeʼe toe sinden', 'Eerste Martijn-361': 'dꝫ edele gaue dꝫ diʼe pont', 'Eerste Martijn-362': 'smaect alleē dʼ vriēde mōt', 'Eerste Martijn-363': 'mē mach hʼ lijf doē enden', 'Eerste Martijn-364': 'en̄ nꝫ de ziele scendē', 'Eerste Martijn-365': 'dandʼ mīne es ōbehoet', 'Eerste Martijn-366': 'wāt si staet na dertsche goet', 'Eerste Martijn-367': 'en̄ omder werelt eere', 'Eerste Martijn-368': 'dats de minne die dicke doet', 'Eerste Martijn-369': 'riddʼscap wesen uʼwoet', 'Eerste Martijn-370': 'en̄ dē woekenere', 'Eerste Martijn-371': 'wāt de riddʼ nꝫ roect', 'Eerste Martijn-372': 'hine uʼslijt vleesch en̄ bloet', 'Eerste Martijn-373': 'op dꝫ sijn prijs meere', 'Eerste Martijn-374': 'dandʼ al wʼ gelt de vloet', 'Eerste Martijn-375': 'en̄ hē vloide indē mont', 'Eerste Martijn-376': 'hē soude alsoe zeere', 'Eerste Martijn-377': 'dorstē alst dede eere', 'Eerste Martijn-378': 'dese heuꝫ ondʼsceet', 'Eerste Martijn-379': 'vā hē die omde eʼe steet', 'Eerste Martijn-380': 'en̄ om dʼ wʼlt scatte', 'Eerste Martijn-381': 'wiltu eʼe hebbē wes gereet', 'Eerste Martijn-382': 'te latē dꝫ gode es leet', 'Eerste Martijn-383': 'pijndi te doene datte', 'Eerste Martijn-384': 'dꝫ hem lief es en̄ hi di heet', 'Eerste Martijn-385': 'wes vrome om dogꝫ sweet', 'Eerste Martijn-386': 'dꝫmē di niet en matte', 'Eerste Martijn-387': 'ondʼ dʼ ydelre gloriē cleet', 'Eerste Martijn-388': 'daer de menege mꝫ ōme geet', 'Eerste Martijn-389': 'wāt haer tonge platte', 'Eerste Martijn-390': 'smeltē alse sneeclatte', 'Eerste Martijn-391': 'eere te pᶦsen es eē dinc', 'Eerste Martijn-394': 'bestu man of iongelinc', 'Eerste Martijn-395': 'doe altoes wel en̄ dwinc', 'Eerste Martijn-396': 'dijnre hʼtē houerde', 'Eerste Martijn-397': 'prijs die in loddʼs tonge hinc', 'Eerste Martijn-398': 'was noit wert eenre ogen winc', 'Eerste Martijn-399': 'onder die goede werde', 'Eerste Martijn-400': 'ø', 'Eerste Martijn-401': 'die menege vaet en̄ wilē vine', 'Eerste Martijn-402': 'die dat wort begherde', 'Eerste Martijn-403': 'en̄ dꝫ weldoē spaerde', 'Eerste Martijn-404': 'goet te hebbē ende scat', 'Eerste Martijn-405': 'en̄ tamelijc te nuttē dat', 'Eerste Martijn-406': 'dꝫs eē salich leuen', 'Eerste Martijn-407': 'mʼ gods mīne maect eē gat', 'Eerste Martijn-408': 'dꝫ nēmermeere mach wʼdē sat', 'Eerste Martijn-409': 'al wilde mēt hʼ al geuē', 'Eerste Martijn-410': 'mīne vā gode es gehadt', 'Eerste Martijn-411': 'vor gode inde hoghe stat', 'Eerste Martijn-412': 'dʼ die ingele beuen', 'Eerste Martijn-413': 'dese scuwē dʼ eʼen pat', 'Eerste Martijn-414': 'wāt si moet int helsche vat', 'Eerste Martijn-415': 'salamoē heuꝫ bescreuē', 'Eerste Martijn-416': 'en es nꝫ argers bleuen', 'Eerste Martijn-417': 'die dʼde mīne eyscht dē tijt', 'Eerste Martijn-418': 'alse bi natuerē elc ōtbeit', 'Eerste Martijn-419': 'die bloiende iare', 'Eerste Martijn-420': 'dꝫs de edelste delijt', 'Eerste Martijn-421': 'alse hʼ scamelhᵗ besnijt', 'Eerste Martijn-422': 'en̄ mē dogꝫ heuꝫ mare', 'Eerste Martijn-423': 'diemē vint tʼ wlt wijt', 'Eerste Martijn-424': 'wāt si taldʼ stont vʼblijt', 'Eerste Martijn-425': 'ghelijc oft al hʼ ware', 'Eerste Martijn-426': 'hʼ hope nēmermeʼe gelijdt', 'Eerste Martijn-427': 'die aldꝰ sijn lijf vʼslijt', 'Eerste Martijn-428': 'maect sine ziele clare', 'Eerste Martijn-429': 'en̄ en es geē futselare', 'Eerste Martijn-430': 'minne es alsmē bescreuen vīt', 'Eerste Martijn-431': 'cracht die ij hʼtē tsamē bīt', 'Eerste Martijn-432': 'in eenē reynē wane', 'Eerste Martijn-433': 'dꝫte mīne hetet blint', 'Eerste Martijn-434': 'cōt dꝫ menegē es soe kīt', 'Eerste Martijn-435': 'dꝫti hē laet uʼspanenē', 'Eerste Martijn-436': 'sine cōnē mīnē nꝫ eē twīt', 'Eerste Martijn-437': 'die wādel sij̄ als de wīt', 'Eerste Martijn-438': 'si rollē buten banen', 'Eerste Martijn-439': 'ic waē mʼ soe vele vīt', 'Eerste Martijn-440': 'mīners in trouwen gehinct', 'Eerste Martijn-441': 'alse doet zwart swanē', 'Eerste Martijn-442': 'dus laet haer minne af planen', 'Eerste Martijn-443': 'merten du heues berecht', 'Eerste Martijn-444': 'het seit heere ende knecht', 'Eerste Martijn-445': 'vrouwē en̄ joffrouwē', 'Eerste Martijn-446': 'in sanghe in rime slecht', 'Eerste Martijn-447': 'dꝫsi mꝫ mīnē sijn uʼplecht', 'Eerste Martijn-448': 'ø', 'Eerste Martijn-449': 'mi dunct dꝫ alde wʼlt vecht', 'Eerste Martijn-450': 'iegē dʼ reindʼ mīnē plecht', 'Eerste Martijn-451': 'en̄ volgē dʼ ontrouwen', 'Eerste Martijn-452': 'menich seit nv en̄ echt', 'Eerste Martijn-453': 'mij̄ sin es aē v gehect', 'Eerste Martijn-454': 'soe zeʼe ic waē bedouwē', 'Eerste Martijn-455': 'achtʼ makē si de mouwē', 'Eerste Martijn-456': 'merten du heues mi gevᵃgꝫ', 'Eerste Martijn-457': 'ic antwʼde en̄ vʼdraget', 'Eerste Martijn-458': 'ic wilt mʼtē vʼdragen', 'Eerste Martijn-459': 'waēdi dꝫ mi wel behagꝫ', 'Eerste Martijn-460': 'dꝫtu mi dꝰ heues geiagꝫ', 'Eerste Martijn-461': 'neēt wistict wiē clagē', 'Eerste Martijn-462': 'mʼtē vriēt wꝫ hulpt geclagꝫ', 'Eerste Martijn-463': 'vragꝫ dꝫtu wils ic vʼdragꝫ', 'Eerste Martijn-464': 'ic wilt al vʼdragen', 'Eerste Martijn-465': 'god hulpe mi wāt hi vermacht', 'Eerste Martijn-466': 'dꝫ mij̄ sin wʼde gevaget', 'Eerste Martijn-467': 'dꝫ di moet behagen', 'Eerste Martijn-468': 'ic wille danwʼde wagē', 'Eerste Martijn-469': 'iacob nv berecht mi', 'Eerste Martijn-470': 'oft dꝫ uolc al comē si', 'Eerste Martijn-471': 'vandē ierstē adame', 'Eerste Martijn-472': 'twi es deen edel dandʼ vri', 'Eerste Martijn-473': 'die dʼ eygē man daerbi', 'Eerste Martijn-474': 'wanē quā ons desē name', 'Eerste Martijn-475': 'twi seitmē totē dorꝑ tfi', 'Eerste Martijn-476': 'ganc wech god onneʼe di', 'Eerste Martijn-477': 'dv best dʼ wʼlt scame', 'Eerste Martijn-478': 'die edel heuet al tgrecri', 'Eerste Martijn-479': 'mē seit willecome ghi', 'Eerste Martijn-480': 'dꝫ doet dꝫ ic mi vʼgrame', 'Eerste Martijn-481': 'wāt het dunct mi ōtame', 'Eerste Martijn-482': 'mertē de menege es bedect', 'Eerste Martijn-483': 'die dinc dʼ sijn sin op mect', 'Eerste Martijn-484': 'en̄ du vʼges wel verre', 'Eerste Martijn-485': 'al heuꝫ eē ꝑsemʼ geplect', 'Eerste Martijn-486': 'en̄ dē thare ontrect', 'Eerste Martijn-487': 'hi wilt sonder merre', 'Eerste Martijn-488': 'ondʼ die edel zij̄ getrect', 'Eerste Martijn-489': 'ø', 'Eerste Martijn-490': 'tgelt claer vandē terre', 'Eerste Martijn-491': 'dits de dinc die liede wect', 'Eerste Martijn-492': 'dꝫ menich tsine te wīne trect', 'Eerste Martijn-493': 'en̄ maect gode om erre', 'Eerste Martijn-494': 'en̄ die ziele in werre', 'Eerste Martijn-495': 'selc waēt dat volc eygij̄', 'Eerste Martijn-496': 'comē es vāden quade caym', 'Eerste Martijn-497': 'die vʼmorde abelle', 'Eerste Martijn-498': 'en̄ diē god vʼdoēt hiet sijn', 'Eerste Martijn-499': 'dits niet waer mʼtijn', 'Eerste Martijn-500': 'bi redenē die ic spelle', 'Eerste Martijn-502': 'wāt ons scrijft de bibele fijn', 'Eerste Martijn-501': 'dꝫ al dꝫ geslachtē sijn', 'Eerste Martijn-503': 'vʼdranc die deluuie felle', 'Eerste Martijn-504': 'mʼ dꝫ dorperlijc venijn', 'Eerste Martijn-505': 'dꝫ caym droech es an scij̄', 'Eerste Martijn-506': 'van menegē die ic spelle', 'Eerste Martijn-507': 'van hʼten sine geselle', 'Eerste Martijn-508': 'selc waēt dꝫ vandē quaden cam', 'Eerste Martijn-509': 'die noe sij̄ vadʼ wꝰ gram', 'Eerste Martijn-510': 'dꝫ hine nꝫ ende decte', 'Eerste Martijn-511': 'dꝫ eygē uolc van hē quā', 'Eerste Martijn-512': 'wāt des vaders vloec mesqᵃm', 'Eerste Martijn-513': 'hi doelde diʼe op mecte', 'Eerste Martijn-514': 'al valt dꝫtie goede ram', 'Eerste Martijn-515': 'dicke vint dongaue lam', 'Eerste Martijn-516': 'dats dʼ rudarise secte', 'Eerste Martijn-517': 'vandē edelē abraham', 'Eerste Martijn-518': 'quā eygē uolc soe ic vʼnā', 'Eerste Martijn-519': 'dꝫ oit ter eeren trecte', 'Eerste Martijn-520': 'en̄ hē noyt en beulecte', 'Eerste Martijn-521': 'mertē tuusche loy vertelt', 'Eerste Martijn-522': 'dꝫ van ongerecht gewelt', 'Eerste Martijn-523': 'eygēdom es comen', 'Eerste Martijn-524': 'als eē pᶦnse wā wijch op tfelt', 'Eerste Martijn-525': 'tfolc dꝫmē te liue helt', 'Eerste Martijn-526': 'dedemē verdoemen', 'Eerste Martijn-527': 'en̄ vʼcopē om gelt', 'Eerste Martijn-528': 'dꝫs volc dꝫmē eygē scelt', 'Eerste Martijn-529': 'en̄ scalc hoert noemē', 'Eerste Martijn-530': 'natuʼe gaet harē telt', 'Eerste Martijn-531': 'mʼ auētuʼe vast en̄ smelt', 'Eerste Martijn-532': 'ø', 'Eerste Martijn-533': 'tonneʼen hem somen', 'Eerste Martijn-534': 'god doget om ons mesdaet', 'Eerste Martijn-535': 'dꝫ eē geslachte tʼ nedʼ gaet', 'Eerste Martijn-626': 'gaf dit wandel ertsche goet', 'Eerste Martijn-627': 'der menschᵗ ghemeene', 'Eerste Martijn-631': 'nu es g verwoet', 'Eerste Martijn-632': 'dat elc set sinē moet', 'Eerste Martijn-633': 'om te heb alleene', 'Eerste Martijn-634': 'hʼ ō sturtmē smēschē bloet', 'Eerste Martijn-635': 'hʼ ō stichtmē mꝫtʼ spoet', 'Eerste Martijn-636': 'borge ende hoge steene', 'Eerste Martijn-637': 'meneghē ten weene', 'Eerste Martijn-638': 'iacop ic heb wel uʼstaen', 'Eerste Martijn-639': 'dꝫ dit wʼ es sondʼ waen', 'Eerste Martijn-640': 'dꝫtu heues ontbonden', 'Eerste Martijn-641': 'goets es genoech lietmēt gaē', 'Eerste Martijn-642': 'īt gemeē en̄ hē ōtfaen', 'Eerste Martijn-643': 'die arme werden vonden', 'Eerste Martijn-644': 'dꝰ viele al orloge zaen', 'Eerste Martijn-645': 'dꝰ mochmen de ziele dwaē', 'Eerste Martijn-646': 'en̄ clarē vandē sonden', 'Eerste Martijn-647': 'milthᵗ heuꝫ hʼ macht gedaē', 'Eerste Martijn-648': 'vrechᵗ leert die wlt vlaē', 'Eerste Martijn-649': 'dit proeuē ende orconden', 'Eerste Martijn-650': 'die wīners vandē pondē', 'Eerste Martijn-651': 'iacop eē dīc maect mi cōt', 'Eerste Martijn-652': 'alse eē mēsche wʼt gewōt', 'Eerste Martijn-653': 'van gerechter minnen', 'Eerste Martijn-654': 'doet dʼ ogē wandel vont', 'Eerste Martijn-655': 'oft comt vter hertē grōt', 'Eerste Martijn-656': 'dit euel ten beghinne', 'Eerste Martijn-657': 'ic liet mi costē wel eē pōt', 'Eerste Martijn-658': 'en̄ icts wijs wʼde desʼ stōt', 'Eerste Martijn-659': 'maect mi des eē inne', 'Eerste Martijn-660': 'mij̄ hʼte bliuet ongesont', 'Eerste Martijn-661': 'mi en besceede dit dij̄ mōt', 'Eerste Martijn-662': 'wāt en es nꝫ wijshᵗ dinne', 'Eerste Martijn-663': 'na dꝫ ic redēne kinne', 'Eerste Martijn-664': 'mertē dv best eē vrēt druut', 'Eerste Martijn-665': 'du sprekes als eē vriese ruut', 'Eerste Martijn-666': 'die noch noit en minde', 'Eerste Martijn-667': 'aldʼhande edel fruut', 'Eerste Martijn-668': 'cōt vā mīnē wt en̄ wt', 'Eerste Martijn-669': 'dꝫ noit dorpʼ en kinde', 'Eerste Martijn-670': 'hem mach hulpē geen cruut', 'Eerste Martijn-671': 'die stille mīt of ouʼ luut', 'Eerste Martijn-672': 'dā hē deuel toe sinde', 'Eerste Martijn-673': 'dʼ hʼtē entʼ ogen virtuut', 'Eerste Martijn-674': 'willic dꝫ hʼ bi si beduut', 'Eerste Martijn-675': 'proef hoe ic dit ontbinde', 'Eerste Martijn-676': 'en̄ te redene vinde', 'Eerste Martijn-677': 'eē swʼ orloge en̄ eē zwʼ strijt', 'Eerste Martijn-678': 'en̄ dʼtoe eē ewelijc nijt', 'Eerste Martijn-679': 'es tusschē thʼte en̄ oogen', 'Eerste Martijn-680': 'thʼte dē ogē vʼwijt', 'Eerste Martijn-681': 'dv best die mij̄s nꝫ vʼmijt', 'Eerste Martijn-682': 'bedi benic bedrogen', 'Eerste Martijn-683': 'dv best emmʼ opē wijt', 'Eerste Martijn-684': 'elkʼ sondē die uore di lijt', 'Eerste Martijn-685': 'bedi benic dorulogen', 'Eerste Martijn-686': 'sluut v dore teneghʼ tijt', 'Eerste Martijn-687': 'dʼ soe menich dief uore lijt', 'Eerste Martijn-688': 'bedi ben ic bedroghen', 'Eerste Martijn-689': 'dꝫ clagic minē ogen', 'Eerste Martijn-690': 'wapē vriēdelijc viant', 'Eerste Martijn-691': 'dor u dogic menegē pāt', 'Eerste Martijn-692': 'en̄ meneghe coude', 'Eerste Martijn-693': 'wapē dꝫ natuʼe di vant', 'Eerste Martijn-694': 'wʼ di uʼbodē huus en̄ lant', 'Eerste Martijn-695': 'en̄ des menschē houde', 'Eerste Martijn-696': 'sone bonde mi geē bant', 'Eerste Martijn-697': 'lichtʼ wʼic dā een sant', 'Eerste Martijn-698': 'algadʼ mine scoude', 'Eerste Martijn-699': 'mē stake bat wt mꝫtʼ hāt', 'Eerste Martijn-700': 'en̄ vʼsmorde sulkē pant', 'Eerste Martijn-701': 'ondʼ donreyne moude', 'Eerste Martijn-702': 'op dꝫ natuʼe woude', 'Eerste Martijn-703': 'tthʼte sweech doge sprac', 'Eerste Martijn-704': 'ic waē v sins gebrac', 'Eerste Martijn-705': 'vrouwe conīghinne', 'Eerste Martijn-706': 'dꝫ ghi mi tijt v ongemac', 'Eerste Martijn-707': 'wāt mi noit tuwʼt lac', 'Eerste Martijn-708': 'eē stof al quaēt mi inne', 'Eerste Martijn-709': 'alsmē mi somtijt vte stac', 'Eerste Martijn-710': 'wāt docht dʼna tsmēscē sac', 'Eerste Martijn-711': 'sij̄ weluarē es dunne', 'Eerste Martijn-712': 'sondʼ noet maecti gecrac', 'Eerste Martijn-713': 'en̄ wʼpt op mi uwē hac', 'Eerste Martijn-714': 'en̄ ic v uᵒuwe kinne', 'Eerste Martijn-715': 'en̄ mij̄ godinne', 'Tweede Martijn-114': 'dꝫ hē cā gehulpen iet', 'Tweede Martijn-115': 'hine doelt alse hi wel ziet', 'Tweede Martijn-116': 'sine conste sij̄ hʼte bedwingē', 'Tweede Martijn-117': 'hi sterf bi desen dingen', 'Tweede Martijn-118': 'medea toēt ōs selue dat', 'Tweede Martijn-119': 'die rouede en̄ stal hʼs vadʼ scat', 'Tweede Martijn-120': 'en̄ sloech hʼn broedʼ', 'Tweede Martijn-121': 'ō nasoē dies hʼ cume bat', 'Tweede Martijn-122': 'si liet cōrike en̄ stcat', 'Tweede Martijn-123': 'vadʼ sustʼ moeder', 'Tweede Martijn-124': 'nochtā dʼ si alleene sat', 'Tweede Martijn-125': 'wijsde hʼ redē dē rechtē pat', 'Tweede Martijn-126': 'al volgde si dē loeder', 'Tweede Martijn-127': 'mʼ thʼte was hʼ soe mat', 'Tweede Martijn-128': 'dʼ mīne in maecte eē gat', 'Tweede Martijn-129': 'wille hilt den roeder', 'Tweede Martijn-130': 'al was redē vreder', 'Tweede Martijn-131': 'exempel vindic ndʼ getal', 'Tweede Martijn-132': 'die mꝫ mi soudē lien al', 'Tweede Martijn-133': 'dꝫic hʼ dleuen gaue', 'Tweede Martijn-134': 'die mi rouede en̄ stal', 'Tweede Martijn-135': 'jacop maec geē gescal', 'Tweede Martijn-136': 'hʼ sceedix mniet aue', 'Tweede Martijn-137': 'altfolc dꝫ woēt sondʼ getal', 'Tweede Martijn-138': 'beide op berch en̄ int dal', 'Tweede Martijn-139': 'cō hʼtoge graue', 'Tweede Martijn-140': 'hʼ proeuē wʼt hʼ iegē smal', 'Tweede Martijn-141': 'hine sal di nꝫ wʼ sijn eē bal', 'Tweede Martijn-142': 'gheuult met caue', 'Tweede Martijn-143': 'soe hulpe mi sente baue', 'Tweede Martijn-144': 'mertē du best j stōt seriāt', 'Tweede Martijn-145': 'dꝫs eē vast knoep en̄ bant', 'Tweede Martijn-146': 'die niemē can ontbinden', 'Tweede Martijn-147': 'die cnoep die alexādʼ vāt', 'Tweede Martijn-148': 'ontknochte zij̄ swʼt  hāt', 'Tweede Martijn-149': 'alse hijs hē we bewīden', 'Tweede Martijn-150': 'laet mi genakē uwē cāt', 'Tweede Martijn-151': 'mē sal v wijshᵗ te hant', 'Tweede Martijn-152': 'tellē mꝫten kinden', 'Tweede Martijn-153': 'alsoe vele als diedē mach j sant', 'Tweede Martijn-154': 'jegē casselbʼch in vlaēdʼlant', 'Tweede Martijn-155': 'sal diedē hʼ v vinden', 'Tweede Martijn-156': 'al waēdi mi vʼblinden', 'Tweede Martijn-157': 'ghi wilt stʼkē uwe wort', 'Tweede Martijn-158': 'die gi mꝫ fauelē brinct vort', 'Tweede Martijn-159': 'en̄ ¨ poterien', 'Tweede Martijn-160': 'oft mea dede mort', 'Tweede Martijn-161': 'en̄ hē narsisus heuꝫ vʼsmoort', 'Tweede Martijn-162': 'dꝫs mīne van sottiē', 'Tweede Martijn-163': 'minne en̄ dꝫtʼ toe hoert', 'Tweede Martijn-164': 'wꝰ met sonde noit becort', 'Tweede Martijn-165': 'ø', 'Tweede Martijn-166': 'ø', 'Tweede Martijn-167': 'hine mach nꝫ sijn uʼdort', 'Tweede Martijn-168': 'des selen mꝫ lien', 'Tweede Martijn-169': 'die meesters vā clʼgien', 'Tweede Martijn-170': 'les doude en̄ dnuwe testament', 'Tweede Martijn-171': 'en̄ besich al omtrint', 'Tweede Martijn-172': 'alle die heilege liede', 'Tweede Martijn-173': 'wie wꝰ mꝫ mīnē ie gescent', 'Tweede Martijn-174': 'wie maecte oit mīne blēt', 'Tweede Martijn-175': 'die dē gode giede', 'Tweede Martijn-176': 'si mīne uᵒwē wel bekint', 'Tweede Martijn-177': 'scoē wijs op selc couent', 'Tweede Martijn-178': 'dꝫhē god eerberiede', 'Tweede Martijn-179': 'aldogedʼ omme selc tormēt', 'Tweede Martijn-180': 'selc als mīne dʼ ioget toesint', 'Tweede Martijn-181': 'wie waest diʼe af messciede', 'Tweede Martijn-182': 'ghelijc heidenē diede', 'Tweede Martijn-183': 'abʼham was uᵒwe saren mā', 'Tweede Martijn-184': 'die sine amie vʼheffē begā', 'Tweede Martijn-185': 'bouē siʼe vrouwen', 'Tweede Martijn-186': 'dʼ was geē houdē an', 'Tweede Martijn-187': 'hi dedese wech redē vʼwan', 'Tweede Martijn-188': 'en̄ volgde der ontrouwē', 'Tweede Martijn-189': 'geē heylich wijf noe mā en̄ can', 'Tweede Martijn-190': 'minnē sondʼ redene dan', 'Tweede Martijn-191': 'dit mā wel bescouwē', 'Tweede Martijn-192': 'selke mīr geuic dē ban', 'Tweede Martijn-193': 'die mꝫtʼ mīnē makē gespan', 'Tweede Martijn-195': 'dʼ emīne vol rouwen', 'Tweede Martijn-194': 'dese mīne willī blouwē', 'Tweede Martijn-196': 'of ic dan sette minē sin', 'Tweede Martijn-197': 'dʼ ic en̄ mach meer no min', 'Tweede Martijn-198': 'aē winnē dan scade', 'Tweede Martijn-199': 'en̄ mi eē andʼ heuet in', 'Tweede Martijn-200': 'dꝫ hʼ seluē en̄ hʼ gespin', 'Tweede Martijn-201': 'mi an vroech ende spade', 'Tweede Martijn-202': 'mi dunc dꝫ ic m sculdich bin', 'Tweede Martijn-203': 'hʼ die mi coes int beghin', 'Tweede Martijn-204': 'en̄ ane mi blijft gestade', 'Tweede Martijn-205': 'dā hʼ die fierlijc harē kin', 'Tweede Martijn-298': 'dꝰ mach siʼe naturen', 'Tweede Martijn-299': 'gheē genade gebuerē', 'Tweede Martijn-300': 'dꝫmē dit bi redenē weet', 'Tweede Martijn-301': 'dꝫ god niemē heuꝫ leet', 'Tweede Martijn-302': 'wiē geeft hi dlange leuē', 'Tweede Martijn-303': 'soe dē genē die gereet', 'Tweede Martijn-305': 'en̄ ondʼdaē es bleuen', 'Tweede Martijn-306': 'jc dʼ seggē op minē eet', 'Tweede Martijn-307': 'sij̄ houeschᵗ es ōgecleet', 'Tweede Martijn-308': 'lieti dē genē sneuē', 'Tweede Martijn-309': 'die te sinē diēste steet', 'Tweede Martijn-310': 'des gelijc willic gereet', 'Tweede Martijn-311': 'dē loen hʼ wedʼ geuen', 'Tweede Martijn-312': 'die dore mi lust te leuē', 'Tweede Martijn-313': 'god heuꝫ al cleyn en̄ groet', 'Tweede Martijn-314': 'dꝫ de mēsche heuet noet', 'Tweede Martijn-315': 'dit proeftmē mꝫ sinne', 'Tweede Martijn-316': 'hi storte dor ōs bloet roet', 'Tweede Martijn-317': 'en̄ geeft ōs themessche broet', 'Tweede Martijn-318': 'op dꝫmē wedʼ mīne', 'Tweede Martijn-319': 'om genē wedʼ stoet', 'Tweede Martijn-320': 'dʼ ōs nie sonde mede scoet', 'Tweede Martijn-321': 'ne laet hi ons dʼ inne', 'Tweede Martijn-322': 'leggē wi thouꝫ īdē scoet', 'Tweede Martijn-323': 'en̄ smakē dā de doot', 'Tweede Martijn-324': 'die ic mi soe hout kīne', 'Tweede Martijn-325': 'oft mij̄ vʼstaē es dūne', 'Tweede Martijn-326': 'waerhᵗ iacop dits al wʼ', 'Tweede Martijn-327': 'mʼ mi wꝰ te vindē zwʼ', 'Tweede Martijn-328': 'dꝫtu hʼ heues ontbōdē', 'Tweede Martijn-329': 'jc lie uʼwōnē opēbaer', 'Tweede Martijn-330': 'mij̄ mīne es zielē', 'Tweede Martijn-331': 'en̄ besmet mꝫ sondē', 'Tweede Martijn-332': 'du seges dʼ an wel en̄ wʼ', 'Tweede Martijn-333': 'redē heuꝫ mij̄ waē ōmʼ', 'Tweede Martijn-334': 'dꝫ hebbic ondʼuondē', 'Tweede Martijn-335': 'nv moet ōs god brīgē dʼ', 'Tweede Martijn-336': 'mīne nꝫ ent hʼ iaer', 'Tweede Martijn-337': 'entē lestē stonden', 'Tweede Martijn-338': 'vriē mꝫ hʼn wonden', 'Derde Martijn-339': 'die dʼde merten boec', 'Derde Martijn-001': 'ic mane māne mꝫten wiuē', 'Derde Martijn-002': 'die dit lesē of scriuē', 'Derde Martijn-003': 'opdē hoechten ban', 'Derde Martijn-004': 'ø', 'Derde Martijn-005': 'en̄ sieʼ nꝫ in en driuen', 'Derde Martijn-006': 'wort lettʼe af no an', 'Derde Martijn-007': 'doē sijt oec hē sal becliuē', 'Derde Martijn-008': 'minē ban sine zelē afwriuen', 'Derde Martijn-009': 'niet mogē nochtan', 'Derde Martijn-010': 'dits geē spot vā ketiuē', 'Derde Martijn-011': 'hꝫs dʼ ic mi om liet ōtliuē', 'Derde Martijn-012': 'eer ickʼ sciede van', 'Derde Martijn-013': 'nv leʼe die leerē can', 'Derde Martijn-014': 'iacop wi hebbē ondʼlinge', 'Derde Martijn-015': 'gehandelt messelike dinge', 'Derde Martijn-016': 'nv antwʼt mi op een', 'Derde Martijn-017': 'leʼe mi eer ic di ōspringe', 'Derde Martijn-018': 'hoe ic mij̄ hʼte dʼ toe dwīge', 'Derde Martijn-019': 'hē te kīnen die wi vleē', 'Derde Martijn-020': 'ic lese somtijt en̄ singe', 'Derde Martijn-021': 'gode te kīnen bi sinē gehinge', 'Derde Martijn-022': 'es leuē sondʼ ween', 'Derde Martijn-023': 'dꝫs wʼheyt claer en̄ gehinge', 'Derde Martijn-024': 'suptijl wʼ thʼte diet beuīge', 'Derde Martijn-025': 'wāt hogʼ dinc nes gheē', 'Derde Martijn-026': 'antwert tusschē ōs tweē', 'Derde Martijn-029': 'bouē cerub en̄ ceraph', 'Derde Martijn-030': 'so wetic wel dꝫ ic en moge', 'Derde Martijn-031': 'berechtē dꝫ te vollen doge', 'Derde Martijn-032': 'mꝫ wʼdē nꝫ hʼ af', 'Derde Martijn-033': 'alle sinne sijn te droge', 'Derde Martijn-034': 'alle naturē hoemēt poge', 'Derde Martijn-035': 'ne dogē nꝫ eē caf', 'Derde Martijn-036': 'dꝫ hʼ enich te vollē doghe', 'Derde Martijn-037': 'mʼ vʼscarp dij̄s sins oge', 'Derde Martijn-038': 'hort wꝫ natuʼe di gaf', 'Derde Martijn-039': 'horet in diʼe hʼtē graf', 'Derde Martijn-042': 'moetē sijn gescent', 'Derde Martijn-045': 'hets recht dꝫ hijt beweēt', 'Derde Martijn-048': 'ø', 'Derde Martijn-049': 'es dit goet ic wane neent', 'Derde Martijn-050': 'wʼt goet ic soudʼ di om vloeken', 'Derde Martijn-051': 'ic wane dij̄ herte meent', 'Derde Martijn-052': 'dꝫtu mi heues verbeent', 'Derde Martijn-053': 'iacop dune salti nꝫ vʼgᵃmē', 'Derde Martijn-054': 'ic souts mi in mi seluē scamē', 'Derde Martijn-055': 'haddict oit gedocht', 'Derde Martijn-056': 'oec lie ic mꝫti te samē', 'Derde Martijn-057': 'dꝫ de hoechᵗ dʼ hogʼ namē', 'Derde Martijn-058': 'nꝫ te vʼre doech gesocht', 'Derde Martijn-059': 'al wʼt dꝫ alle dīgle qᵃmē', 'Derde Martijn-060': 'sij cōdē de godhᵗ nꝫ gehamē', 'Derde Martijn-061': 'dits al af gecnocht', 'Derde Martijn-062': 'mʼ leʼe minē cᵃckē sin lamē', 'Derde Martijn-063': 'gewōt mꝫtʼ sondē bramē', 'Derde Martijn-064': 'van dattu vermocht', 'Derde Martijn-065': 'soe es minē wil volbrocht', 'Derde Martijn-066': 'mertē mʼct in dinē sinne', 'Derde Martijn-067': 'god es wesē vor al begīne', 'Derde Martijn-068': 'dedelste bouē al', 'Derde Martijn-069': 'sijn wesen es alsic kinne', 'Derde Martijn-070': 'dupperste god dupꝑste mīne', 'Derde Martijn-071': 'die es oft wesen sal', 'Derde Martijn-072': 'sij̄ wʼkē dʼmē kint inne', 'Derde Martijn-073': 'sij̄ so gᵒt dꝫsi sij̄ dunne', 'Derde Martijn-074': 'diet kīnē gᵒt en̄ smal', 'Derde Martijn-075': 'sijn wesē es conīginne', 'Derde Martijn-076': 'bouē aldʼhande gewinne', 'Derde Martijn-077': 'en̄ bouē alle geual', 'Derde Martijn-078': 'dʼ bouē en̄ int dal', 'Derde Martijn-079': 'dē hemel en̄ tē troē mʼke', 'Derde Martijn-080': 'god es bouē zij̄ wʼke', 'Derde Martijn-081': 'en̄ ondʼ al sij̄ dinc', 'Derde Martijn-082': 'hi es butē als in herke', 'Derde Martijn-083': 'en̄ bīnē dꝫ hout sterke', 'Derde Martijn-084': 'hʼ ute nꝫ en sprinc', 'Derde Martijn-085': 'oec seggen ons wise clerke', 'Derde Martijn-086': 'hi nes nꝫ gedeilt in pʼke', 'Derde Martijn-087': 'hʼtoe dijn herte dwinc', 'Derde Martijn-088': 'mʼ geheel nu merke', 'Derde Martijn-089': 'butē binnē in watʼ in swʼke', 'Derde Martijn-090': 'hʼ in dij̄ hertte dwinc', 'Derde Martijn-091': 'sondʼ lose winc', 'Derde Martijn-092': 'boven es god als heere', 'Derde Martijn-093': 'die besitter es emmermeere', 'Derde Martijn-094': 'alles dies men weet', 'Derde Martijn-095': 'onder als in elkē keʼe', 'Derde Martijn-096': 'sij̄ dinc hout mogēde zeʼe', 'Derde Martijn-097': 'jegē alle vʼsceet', 'Derde Martijn-098': 'butē als die mꝫ siʼe were', 'Derde Martijn-099': 'sij̄ were behōt dꝫ hē en dere', 'Derde Martijn-100': 'gheē dinc cout no heet', 'Derde Martijn-101': 'binnē als de mꝫ siʼe leere', 'Derde Martijn-102': 'sij̄ wʼc uʼwlt mꝫ selkʼ eʼe', 'Derde Martijn-103': 'dꝫ ewelijc steet', 'Derde Martijn-104': 'wiēt lief si ofte leet', 'Derde Martijn-105': 'bouē es god algedragē', 'Derde Martijn-106': 'geē dinc mach hē beclagē', 'Derde Martijn-107': 'dꝫ hise iet vʼlast', 'Derde Martijn-108': 'ondʼ sondʼ last van wagē', 'Derde Martijn-109': 'wāt hē mach rustē no iagē', 'Derde Martijn-110': 'sij̄ wesē es soe vast', 'Derde Martijn-111': 'butē breet hi niewʼ sij̄ dagē', 'Derde Martijn-112': 'wāt hi es sondʼ vragen', 'Derde Martijn-113': 'wʼt uogꝫ en̄ niet gast', 'Derde Martijn-114': 'bīnē uʼwlt hijt iegē plagē', 'Derde Martijn-115': 'dꝫ sij̄ dinc mꝫ geēre vlagē', 'Derde Martijn-116': 'ne si ongerast', 'Derde Martijn-117': 'noch gequests eē bast', 'Derde Martijn-118': 'vā eenē god spʼkē wi vā enē', 'Derde Martijn-119': 'die wi vadʼ en̄ sone menē', 'Derde Martijn-120': 'en̄ tē hellegē geest', 'Derde Martijn-121': 'wꝫ wel dꝫ wi ne ghenē', 'Derde Martijn-122': 'so gᵒt noemē no soe cleenē', 'Derde Martijn-123': 'dꝫtʼ enich es meest', 'Derde Martijn-124': 'eenē god seggē wi enē reenē', 'Derde Martijn-125': 'noch vʼmogēdʼ no vʼbenen', 'Derde Martijn-126': 'ne wʼtʼ aē vereest', 'Derde Martijn-127': 'die sinē sin soe laet vʼstenē', 'Derde Martijn-128': 'dꝫti des loechent hi moeꝫ wenē', 'Derde Martijn-129': 'en̄ sij̄ geureest', 'Derde Martijn-130': 'indē helschē tēpeest', 'Derde Martijn-131': 'wi settē dē vadʼ voren', 'Derde Martijn-132': 'ongewōnē en̄ ongeborē', 'Derde Martijn-133': 'en̄ voor al beghin', 'Derde Martijn-134': 'dʼna dē sone wt uercorē', 'Derde Martijn-135': 'vā hē gewōnē alst wi horē', 'Derde Martijn-136': 'eer begin ghinc in', 'Derde Martijn-137': 'dē heilegen geest lere wi den dorē', 'Derde Martijn-138': 'uut desen comende ontdoe dijn oren'}}\n"
     ]
    },
    {
     "name": "stderr",
     "output_type": "stream",
     "text": [
      "\n"
     ]
    }
   ],
   "source": [
    "mss = {}\n",
    "\n",
    "for sigle in tqdm(sigles):\n",
    "    mss[sigle] = extract_lines(f'../data/xml_martijn/xml_{sigle}.xml', expan = False, punct = False, lower = True)\n",
    "print(mss)"
   ]
  },
  {
   "cell_type": "code",
   "execution_count": 73,
   "metadata": {},
   "outputs": [
    {
     "name": "stdout",
     "output_type": "stream",
     "text": [
      "dict_keys(['G', 'Z'])\n"
     ]
    }
   ],
   "source": [
    "print(mss.keys())"
   ]
  },
  {
   "cell_type": "code",
   "execution_count": 74,
   "metadata": {},
   "outputs": [],
   "source": [
    "import numpy as np\n",
    "\n",
    "# from: https://gist.github.com/slowkow/06c6dba9180d013dfd82bec217d22eb5\n",
    "\n",
    "def nw(x, y, match = 1, mismatch = 1, gap = 1):\n",
    "    nx = len(x)\n",
    "    ny = len(y)\n",
    "    # Optimal score at each possible pair of characters.\n",
    "    F = np.zeros((nx + 1, ny + 1))\n",
    "    F[:,0] = np.linspace(0, -nx, nx + 1)\n",
    "    F[0,:] = np.linspace(0, -ny, ny + 1)\n",
    "    # Pointers to trace through an optimal aligment.\n",
    "    P = np.zeros((nx + 1, ny + 1))\n",
    "    P[:,0] = 3\n",
    "    P[0,:] = 4\n",
    "    # Temporary scores.\n",
    "    t = np.zeros(3)\n",
    "    for i in range(nx):\n",
    "        for j in range(ny):\n",
    "            if x[i] == y[j]:\n",
    "                t[0] = F[i,j] + match\n",
    "            else:\n",
    "                t[0] = F[i,j] - mismatch\n",
    "            t[1] = F[i,j+1] - gap\n",
    "            t[2] = F[i+1,j] - gap\n",
    "            tmax = np.max(t)\n",
    "            F[i+1,j+1] = tmax\n",
    "            if t[0] == tmax:\n",
    "                P[i+1,j+1] += 2\n",
    "            if t[1] == tmax:\n",
    "                P[i+1,j+1] += 3\n",
    "            if t[2] == tmax:\n",
    "                P[i+1,j+1] += 4\n",
    "    # Trace through an optimal alignment.\n",
    "    i = nx\n",
    "    j = ny\n",
    "    rx = []\n",
    "    ry = []\n",
    "    while i > 0 or j > 0:\n",
    "        if P[i,j] in [2, 5, 6, 9]:\n",
    "            rx.append(x[i-1])\n",
    "            ry.append(y[j-1])\n",
    "            i -= 1\n",
    "            j -= 1\n",
    "        elif P[i,j] in [3, 5, 7, 9]:\n",
    "            rx.append(x[i-1])\n",
    "            ry.append('-')\n",
    "            i -= 1\n",
    "        elif P[i,j] in [4, 6, 7, 9]:\n",
    "            rx.append('-')\n",
    "            ry.append(y[j-1])\n",
    "            j -= 1\n",
    "    # Reverse the strings.\n",
    "    rx = ''.join(rx)[::-1]\n",
    "    ry = ''.join(ry)[::-1]\n",
    "    return rx, ry"
   ]
  },
  {
   "cell_type": "code",
   "execution_count": 75,
   "metadata": {},
   "outputs": [
    {
     "name": "stderr",
     "output_type": "stream",
     "text": [
      "100%|████████████████████████████████████████████████████████████████████████████████████| 1/1 [00:06<00:00,  6.09s/it]\n"
     ]
    }
   ],
   "source": [
    "distances = []\n",
    "\n",
    "for ms1, ms2 in tqdm(list(combinations(mss.keys(), 2))):\n",
    "    common_idxs = set(mss[ms1].keys()).intersection(set(mss[ms2].keys()))\n",
    "    for idx in common_idxs:\n",
    "        line1, line2 = mss[ms1][idx], mss[ms2][idx]\n",
    "        #print('=================')\n",
    "        rx, ry = nw(line1, line2)\n",
    "        assert len(rx) == len(ry) \n",
    "        #print('\\n'.join([rx, ry]))\n",
    "        length = len(rx)\n",
    "        for idx, (a, b) in enumerate(zip(rx, ry)):\n",
    "            if a != b:\n",
    "                distances.append((ms1, ms2, idx/length, 1))\n",
    "            else:\n",
    "                distances.append((ms1, ms2, idx/length, 0))\n",
    "        "
   ]
  },
  {
   "cell_type": "code",
   "execution_count": 76,
   "metadata": {},
   "outputs": [
    {
     "data": {
      "text/html": [
       "<div>\n",
       "<style scoped>\n",
       "    .dataframe tbody tr th:only-of-type {\n",
       "        vertical-align: middle;\n",
       "    }\n",
       "\n",
       "    .dataframe tbody tr th {\n",
       "        vertical-align: top;\n",
       "    }\n",
       "\n",
       "    .dataframe thead th {\n",
       "        text-align: right;\n",
       "    }\n",
       "</style>\n",
       "<table border=\"1\" class=\"dataframe\">\n",
       "  <thead>\n",
       "    <tr style=\"text-align: right;\">\n",
       "      <th></th>\n",
       "      <th>ms1</th>\n",
       "      <th>ms2</th>\n",
       "      <th>position</th>\n",
       "      <th>mismatch</th>\n",
       "    </tr>\n",
       "  </thead>\n",
       "  <tbody>\n",
       "    <tr>\n",
       "      <th>0</th>\n",
       "      <td>G</td>\n",
       "      <td>Z</td>\n",
       "      <td>0.000000</td>\n",
       "      <td>0</td>\n",
       "    </tr>\n",
       "    <tr>\n",
       "      <th>1</th>\n",
       "      <td>G</td>\n",
       "      <td>Z</td>\n",
       "      <td>0.034483</td>\n",
       "      <td>0</td>\n",
       "    </tr>\n",
       "    <tr>\n",
       "      <th>2</th>\n",
       "      <td>G</td>\n",
       "      <td>Z</td>\n",
       "      <td>0.068966</td>\n",
       "      <td>0</td>\n",
       "    </tr>\n",
       "    <tr>\n",
       "      <th>3</th>\n",
       "      <td>G</td>\n",
       "      <td>Z</td>\n",
       "      <td>0.103448</td>\n",
       "      <td>0</td>\n",
       "    </tr>\n",
       "    <tr>\n",
       "      <th>4</th>\n",
       "      <td>G</td>\n",
       "      <td>Z</td>\n",
       "      <td>0.137931</td>\n",
       "      <td>0</td>\n",
       "    </tr>\n",
       "    <tr>\n",
       "      <th>...</th>\n",
       "      <td>...</td>\n",
       "      <td>...</td>\n",
       "      <td>...</td>\n",
       "      <td>...</td>\n",
       "    </tr>\n",
       "    <tr>\n",
       "      <th>13966</th>\n",
       "      <td>G</td>\n",
       "      <td>Z</td>\n",
       "      <td>0.857143</td>\n",
       "      <td>0</td>\n",
       "    </tr>\n",
       "    <tr>\n",
       "      <th>13967</th>\n",
       "      <td>G</td>\n",
       "      <td>Z</td>\n",
       "      <td>0.885714</td>\n",
       "      <td>0</td>\n",
       "    </tr>\n",
       "    <tr>\n",
       "      <th>13968</th>\n",
       "      <td>G</td>\n",
       "      <td>Z</td>\n",
       "      <td>0.914286</td>\n",
       "      <td>0</td>\n",
       "    </tr>\n",
       "    <tr>\n",
       "      <th>13969</th>\n",
       "      <td>G</td>\n",
       "      <td>Z</td>\n",
       "      <td>0.942857</td>\n",
       "      <td>0</td>\n",
       "    </tr>\n",
       "    <tr>\n",
       "      <th>13970</th>\n",
       "      <td>G</td>\n",
       "      <td>Z</td>\n",
       "      <td>0.971429</td>\n",
       "      <td>0</td>\n",
       "    </tr>\n",
       "  </tbody>\n",
       "</table>\n",
       "<p>13971 rows × 4 columns</p>\n",
       "</div>"
      ],
      "text/plain": [
       "      ms1 ms2  position  mismatch\n",
       "0       G   Z  0.000000         0\n",
       "1       G   Z  0.034483         0\n",
       "2       G   Z  0.068966         0\n",
       "3       G   Z  0.103448         0\n",
       "4       G   Z  0.137931         0\n",
       "...    ..  ..       ...       ...\n",
       "13966   G   Z  0.857143         0\n",
       "13967   G   Z  0.885714         0\n",
       "13968   G   Z  0.914286         0\n",
       "13969   G   Z  0.942857         0\n",
       "13970   G   Z  0.971429         0\n",
       "\n",
       "[13971 rows x 4 columns]"
      ]
     },
     "execution_count": 76,
     "metadata": {},
     "output_type": "execute_result"
    }
   ],
   "source": [
    "mismatches = pd.DataFrame(distances, columns=('ms1', 'ms2', 'position', 'mismatch'))\n",
    "mismatches.head(40)\n",
    "mismatches"
   ]
  },
  {
   "cell_type": "code",
   "execution_count": 77,
   "metadata": {},
   "outputs": [
    {
     "data": {
      "text/plain": [
       "position\n",
       "0.000000         NaN\n",
       "0.021277         NaN\n",
       "0.021739         NaN\n",
       "0.022222         NaN\n",
       "0.022727         NaN\n",
       "              ...   \n",
       "0.976744    0.035689\n",
       "0.977273    0.039224\n",
       "0.977778    0.036976\n",
       "0.978261    0.034503\n",
       "0.978723    0.032294\n",
       "Name: mismatch, Length: 696, dtype: float64"
      ]
     },
     "execution_count": 77,
     "metadata": {},
     "output_type": "execute_result"
    }
   ],
   "source": [
    "rolling_window"
   ]
  },
  {
   "cell_type": "code",
   "execution_count": 78,
   "metadata": {},
   "outputs": [
    {
     "data": {
      "image/png": "[encoded data removed]",
      "text/plain": [
       "<Figure size 432x288 with 1 Axes>"
      ]
     },
     "metadata": {
      "needs_background": "light"
     },
     "output_type": "display_data"
    }
   ],
   "source": [
    "#rolling_q25 = mismatches.groupby('position')['mismatch'].quantile(.25).rolling(window=100).mean()\n",
    "#rolling_q75 = mismatches.groupby('position')['mismatch'].quantile(.75).rolling(window=100).mean()\n",
    "#w = 10\n",
    "rolling_window = mismatches.groupby('position')['mismatch'].mean().rolling(window=20).mean()\n",
    "#rolling_std = mismatches.groupby('position')['mismatch'].std().rolling(window=w).mean()\n",
    "#rolling_minus_std = rolling_window - rolling_std / 3\n",
    "#rolling_plus_std = rolling_window + rolling_std / 3\n",
    "ax = rolling_window.plot(label=\"mean\")\n",
    "#rolling_q25.plot(label='q25', ax=ax)\n",
    "#rolling_q75.plot(label='q75', ax=ax)\n",
    "#rolling_minus_std.plot(label='-std', ax=ax)\n",
    "#rolling_plus_std.plot(label='+std', ax=ax)\n",
    "#ax.fill_between(rolling_window.index, rolling_q25, rolling_q75, color='lightgrey')\n",
    "plt.legend()\n",
    "rolling_window.shape\n",
    "plt.savefig('figure6.png', dpi=300)"
   ]
  },
  {
   "cell_type": "code",
   "execution_count": 79,
   "metadata": {},
   "outputs": [
    {
     "data": {
      "text/plain": [
       "MannwhitneyuResult(statistic=15454338.0, pvalue=2.2238214865581007e-39)"
      ]
     },
     "execution_count": 79,
     "metadata": {},
     "output_type": "execute_result"
    }
   ],
   "source": [
    "#checken of de resultaten statistisch significant zijn en dat is zo!\n",
    "mismatches_end = mismatches[mismatches['position'] > .75]\n",
    "mismatches_beginning = mismatches[mismatches['position'] <= .75]\n",
    "from scipy.stats import mannwhitneyu\n",
    "mannwhitneyu(mismatches_end['mismatch'], mismatches_beginning['mismatch'], alternative='less')"
   ]
  },
  {
   "cell_type": "markdown",
   "metadata": {},
   "source": [
    "## Clustermap"
   ]
  },
  {
   "cell_type": "code",
   "execution_count": 80,
   "metadata": {},
   "outputs": [],
   "source": [
    "sigles = sorted(mss.keys())"
   ]
  },
  {
   "cell_type": "code",
   "execution_count": 81,
   "metadata": {},
   "outputs": [
    {
     "name": "stdout",
     "output_type": "stream",
     "text": [
      "(2, 2)\n"
     ]
    }
   ],
   "source": [
    "df_clust = np.zeros((len(sigles), len(sigles)))\n",
    "print(df_clust.shape)"
   ]
  },
  {
   "cell_type": "code",
   "execution_count": 82,
   "metadata": {},
   "outputs": [
    {
     "name": "stdout",
     "output_type": "stream",
     "text": [
      "G Z\n"
     ]
    },
    {
     "data": {
      "text/plain": [
       "array([[0.        , 0.16527092],\n",
       "       [0.16527092, 0.        ]])"
      ]
     },
     "execution_count": 82,
     "metadata": {},
     "output_type": "execute_result"
    }
   ],
   "source": [
    "for s1, s2 in combinations(sigles, 2):\n",
    "    print(s1, s2)\n",
    "    d = mismatches[(mismatches['ms1'] == s1) & (mismatches['ms2'] == s2)]['mismatch'].mean()\n",
    "    df_clust[sigles.index(s1), sigles.index(s2)] = d\n",
    "    df_clust[sigles.index(s2), sigles.index(s1)] = d\n",
    "df_clust"
   ]
  },
  {
   "cell_type": "code",
   "execution_count": 83,
   "metadata": {},
   "outputs": [
    {
     "data": {
      "text/html": [
       "<div>\n",
       "<style scoped>\n",
       "    .dataframe tbody tr th:only-of-type {\n",
       "        vertical-align: middle;\n",
       "    }\n",
       "\n",
       "    .dataframe tbody tr th {\n",
       "        vertical-align: top;\n",
       "    }\n",
       "\n",
       "    .dataframe thead th {\n",
       "        text-align: right;\n",
       "    }\n",
       "</style>\n",
       "<table border=\"1\" class=\"dataframe\">\n",
       "  <thead>\n",
       "    <tr style=\"text-align: right;\">\n",
       "      <th></th>\n",
       "      <th>G</th>\n",
       "      <th>Z</th>\n",
       "    </tr>\n",
       "  </thead>\n",
       "  <tbody>\n",
       "    <tr>\n",
       "      <th>G</th>\n",
       "      <td>0.000000</td>\n",
       "      <td>0.165271</td>\n",
       "    </tr>\n",
       "    <tr>\n",
       "      <th>Z</th>\n",
       "      <td>0.165271</td>\n",
       "      <td>0.000000</td>\n",
       "    </tr>\n",
       "  </tbody>\n",
       "</table>\n",
       "</div>"
      ],
      "text/plain": [
       "          G         Z\n",
       "G  0.000000  0.165271\n",
       "Z  0.165271  0.000000"
      ]
     },
     "execution_count": 83,
     "metadata": {},
     "output_type": "execute_result"
    }
   ],
   "source": [
    "df_clust = pd.DataFrame(df_clust, columns=sigles, index=sigles)\n",
    "df_clust"
   ]
  },
  {
   "cell_type": "code",
   "execution_count": 84,
   "metadata": {},
   "outputs": [
    {
     "name": "stderr",
     "output_type": "stream",
     "text": [
      "C:\\Users\\sofie\\anaconda3\\lib\\site-packages\\seaborn\\matrix.py:619: ClusterWarning: scipy.cluster: The symmetric non-negative hollow observation matrix looks suspiciously like an uncondensed distance matrix\n",
      "  linkage = hierarchy.linkage(self.array, method=self.method,\n"
     ]
    },
    {
     "data": {
      "image/png": "[encoded data removed]",
      "text/plain": [
       "<Figure size 720x720 with 4 Axes>"
      ]
     },
     "metadata": {
      "needs_background": "light"
     },
     "output_type": "display_data"
    }
   ],
   "source": [
    "import seaborn as sns\n",
    "sns.clustermap(df_clust);"
   ]
  },
  {
   "cell_type": "code",
   "execution_count": null,
   "metadata": {},
   "outputs": [],
   "source": []
  },
  {
   "cell_type": "markdown",
   "metadata": {},
   "source": [
    "## Now create bins for positions in verse line"
   ]
  },
  {
   "cell_type": "markdown",
   "metadata": {},
   "source": [
    "#### bins = 25 # how many bins?\n",
    "\n",
    "edges = np.linspace(mismatches.position.min(), mismatches.position.max(), bins+1).astype(float).round(2)\n",
    "\n",
    "labels = [f'({edges[i]}, {edges[i+1]}]' for i in range(bins)]\n",
    "mismatches['position_binned'] = pd.cut(mismatches.position, bins=bins, labels=labels)\n",
    "mismatches['combo'] = mismatches[\"ms1\"]+'-'+mismatches[\"ms2\"]\n",
    "\n",
    "mismatches"
   ]
  },
  {
   "cell_type": "code",
   "execution_count": 50,
   "metadata": {},
   "outputs": [
    {
     "data": {
      "text/html": [
       "<div>\n",
       "<style scoped>\n",
       "    .dataframe tbody tr th:only-of-type {\n",
       "        vertical-align: middle;\n",
       "    }\n",
       "\n",
       "    .dataframe tbody tr th {\n",
       "        vertical-align: top;\n",
       "    }\n",
       "\n",
       "    .dataframe thead th {\n",
       "        text-align: right;\n",
       "    }\n",
       "</style>\n",
       "<table border=\"1\" class=\"dataframe\">\n",
       "  <thead>\n",
       "    <tr style=\"text-align: right;\">\n",
       "      <th></th>\n",
       "      <th>position_binned</th>\n",
       "      <th>combo</th>\n",
       "      <th>mismatch</th>\n",
       "    </tr>\n",
       "  </thead>\n",
       "  <tbody>\n",
       "    <tr>\n",
       "      <th>0</th>\n",
       "      <td>(0.0, 0.04]</td>\n",
       "      <td>A-C</td>\n",
       "      <td>444</td>\n",
       "    </tr>\n",
       "    <tr>\n",
       "      <th>1</th>\n",
       "      <td>(0.04, 0.08]</td>\n",
       "      <td>A-C</td>\n",
       "      <td>263</td>\n",
       "    </tr>\n",
       "    <tr>\n",
       "      <th>2</th>\n",
       "      <td>(0.08, 0.12]</td>\n",
       "      <td>A-C</td>\n",
       "      <td>308</td>\n",
       "    </tr>\n",
       "    <tr>\n",
       "      <th>3</th>\n",
       "      <td>(0.12, 0.16]</td>\n",
       "      <td>A-C</td>\n",
       "      <td>315</td>\n",
       "    </tr>\n",
       "    <tr>\n",
       "      <th>4</th>\n",
       "      <td>(0.16, 0.2]</td>\n",
       "      <td>A-C</td>\n",
       "      <td>313</td>\n",
       "    </tr>\n",
       "    <tr>\n",
       "      <th>5</th>\n",
       "      <td>(0.2, 0.24]</td>\n",
       "      <td>A-C</td>\n",
       "      <td>322</td>\n",
       "    </tr>\n",
       "    <tr>\n",
       "      <th>6</th>\n",
       "      <td>(0.24, 0.27]</td>\n",
       "      <td>A-C</td>\n",
       "      <td>265</td>\n",
       "    </tr>\n",
       "    <tr>\n",
       "      <th>7</th>\n",
       "      <td>(0.27, 0.31]</td>\n",
       "      <td>A-C</td>\n",
       "      <td>269</td>\n",
       "    </tr>\n",
       "    <tr>\n",
       "      <th>8</th>\n",
       "      <td>(0.31, 0.35]</td>\n",
       "      <td>A-C</td>\n",
       "      <td>277</td>\n",
       "    </tr>\n",
       "    <tr>\n",
       "      <th>9</th>\n",
       "      <td>(0.35, 0.39]</td>\n",
       "      <td>A-C</td>\n",
       "      <td>285</td>\n",
       "    </tr>\n",
       "    <tr>\n",
       "      <th>10</th>\n",
       "      <td>(0.39, 0.43]</td>\n",
       "      <td>A-C</td>\n",
       "      <td>309</td>\n",
       "    </tr>\n",
       "    <tr>\n",
       "      <th>11</th>\n",
       "      <td>(0.43, 0.47]</td>\n",
       "      <td>A-C</td>\n",
       "      <td>293</td>\n",
       "    </tr>\n",
       "    <tr>\n",
       "      <th>12</th>\n",
       "      <td>(0.47, 0.51]</td>\n",
       "      <td>A-C</td>\n",
       "      <td>273</td>\n",
       "    </tr>\n",
       "    <tr>\n",
       "      <th>13</th>\n",
       "      <td>(0.51, 0.55]</td>\n",
       "      <td>A-C</td>\n",
       "      <td>279</td>\n",
       "    </tr>\n",
       "    <tr>\n",
       "      <th>14</th>\n",
       "      <td>(0.55, 0.59]</td>\n",
       "      <td>A-C</td>\n",
       "      <td>272</td>\n",
       "    </tr>\n",
       "    <tr>\n",
       "      <th>15</th>\n",
       "      <td>(0.59, 0.63]</td>\n",
       "      <td>A-C</td>\n",
       "      <td>266</td>\n",
       "    </tr>\n",
       "    <tr>\n",
       "      <th>16</th>\n",
       "      <td>(0.63, 0.67]</td>\n",
       "      <td>A-C</td>\n",
       "      <td>329</td>\n",
       "    </tr>\n",
       "    <tr>\n",
       "      <th>17</th>\n",
       "      <td>(0.67, 0.71]</td>\n",
       "      <td>A-C</td>\n",
       "      <td>256</td>\n",
       "    </tr>\n",
       "    <tr>\n",
       "      <th>18</th>\n",
       "      <td>(0.71, 0.75]</td>\n",
       "      <td>A-C</td>\n",
       "      <td>229</td>\n",
       "    </tr>\n",
       "    <tr>\n",
       "      <th>19</th>\n",
       "      <td>(0.75, 0.79]</td>\n",
       "      <td>A-C</td>\n",
       "      <td>238</td>\n",
       "    </tr>\n",
       "    <tr>\n",
       "      <th>20</th>\n",
       "      <td>(0.79, 0.82]</td>\n",
       "      <td>A-C</td>\n",
       "      <td>220</td>\n",
       "    </tr>\n",
       "    <tr>\n",
       "      <th>21</th>\n",
       "      <td>(0.82, 0.86]</td>\n",
       "      <td>A-C</td>\n",
       "      <td>186</td>\n",
       "    </tr>\n",
       "    <tr>\n",
       "      <th>22</th>\n",
       "      <td>(0.86, 0.9]</td>\n",
       "      <td>A-C</td>\n",
       "      <td>116</td>\n",
       "    </tr>\n",
       "    <tr>\n",
       "      <th>23</th>\n",
       "      <td>(0.9, 0.94]</td>\n",
       "      <td>A-C</td>\n",
       "      <td>77</td>\n",
       "    </tr>\n",
       "    <tr>\n",
       "      <th>24</th>\n",
       "      <td>(0.94, 0.98]</td>\n",
       "      <td>A-C</td>\n",
       "      <td>144</td>\n",
       "    </tr>\n",
       "  </tbody>\n",
       "</table>\n",
       "</div>"
      ],
      "text/plain": [
       "   position_binned combo  mismatch\n",
       "0      (0.0, 0.04]   A-C       444\n",
       "1     (0.04, 0.08]   A-C       263\n",
       "2     (0.08, 0.12]   A-C       308\n",
       "3     (0.12, 0.16]   A-C       315\n",
       "4      (0.16, 0.2]   A-C       313\n",
       "5      (0.2, 0.24]   A-C       322\n",
       "6     (0.24, 0.27]   A-C       265\n",
       "7     (0.27, 0.31]   A-C       269\n",
       "8     (0.31, 0.35]   A-C       277\n",
       "9     (0.35, 0.39]   A-C       285\n",
       "10    (0.39, 0.43]   A-C       309\n",
       "11    (0.43, 0.47]   A-C       293\n",
       "12    (0.47, 0.51]   A-C       273\n",
       "13    (0.51, 0.55]   A-C       279\n",
       "14    (0.55, 0.59]   A-C       272\n",
       "15    (0.59, 0.63]   A-C       266\n",
       "16    (0.63, 0.67]   A-C       329\n",
       "17    (0.67, 0.71]   A-C       256\n",
       "18    (0.71, 0.75]   A-C       229\n",
       "19    (0.75, 0.79]   A-C       238\n",
       "20    (0.79, 0.82]   A-C       220\n",
       "21    (0.82, 0.86]   A-C       186\n",
       "22     (0.86, 0.9]   A-C       116\n",
       "23     (0.9, 0.94]   A-C        77\n",
       "24    (0.94, 0.98]   A-C       144"
      ]
     },
     "execution_count": 50,
     "metadata": {},
     "output_type": "execute_result"
    }
   ],
   "source": [
    "df_binned = mismatches.groupby(['position_binned', 'combo'])['mismatch'].sum().reset_index()\n",
    "df_binned"
   ]
  },
  {
   "cell_type": "code",
   "execution_count": 62,
   "metadata": {},
   "outputs": [
    {
     "name": "stdout",
     "output_type": "stream",
     "text": [
      "Requirement already satisfied: seaborn in c:\\users\\sofie\\anaconda3\\lib\\site-packages (0.10.1)Note: you may need to restart the kernel to use updated packages.\n",
      "Requirement already satisfied: pandas>=0.22.0 in c:\\users\\sofie\\anaconda3\\lib\\site-packages (from seaborn) (1.0.5)\n",
      "Requirement already satisfied: matplotlib>=2.1.2 in c:\\users\\sofie\\anaconda3\\lib\\site-packages (from seaborn) (3.2.2)\n",
      "Requirement already satisfied: scipy>=1.0.1 in c:\\users\\sofie\\anaconda3\\lib\\site-packages (from seaborn) (1.6.1)\n",
      "Requirement already satisfied: numpy>=1.13.3 in c:\\users\\sofie\\anaconda3\\lib\\site-packages (from seaborn) (1.17.5)\n",
      "Requirement already satisfied: python-dateutil>=2.6.1 in c:\\users\\sofie\\anaconda3\\lib\\site-packages (from pandas>=0.22.0->seaborn) (2.8.1)\n",
      "Requirement already satisfied: pytz>=2017.2 in c:\\users\\sofie\\anaconda3\\lib\\site-packages (from pandas>=0.22.0->seaborn) (2020.1)\n",
      "Requirement already satisfied: pyparsing!=2.0.4,!=2.1.2,!=2.1.6,>=2.0.1 in c:\\users\\sofie\\anaconda3\\lib\\site-packages (from matplotlib>=2.1.2->seaborn) (2.4.7)\n",
      "Requirement already satisfied: cycler>=0.10 in c:\\users\\sofie\\anaconda3\\lib\\site-packages (from matplotlib>=2.1.2->seaborn) (0.10.0)\n",
      "Requirement already satisfied: kiwisolver>=1.0.1 in c:\\users\\sofie\\anaconda3\\lib\\site-packages (from matplotlib>=2.1.2->seaborn) (1.2.0)\n",
      "Requirement already satisfied: six>=1.5 in c:\\users\\sofie\\anaconda3\\lib\\site-packages (from python-dateutil>=2.6.1->pandas>=0.22.0->seaborn) (1.15.0)\n",
      "\n"
     ]
    }
   ],
   "source": [
    "pip install seaborn"
   ]
  },
  {
   "cell_type": "code",
   "execution_count": 63,
   "metadata": {},
   "outputs": [
    {
     "ename": "SyntaxError",
     "evalue": "invalid syntax (<ipython-input-63-078ca063188d>, line 10)",
     "output_type": "error",
     "traceback": [
      "\u001b[1;36m  File \u001b[1;32m\"<ipython-input-63-078ca063188d>\"\u001b[1;36m, line \u001b[1;32m10\u001b[0m\n\u001b[1;33m    sns.heatmap(result_binned, fmt=\"g\", cmap='viridis', linewidths=.5) #annot=True\u001b[0m\n\u001b[1;37m    ^\u001b[0m\n\u001b[1;31mSyntaxError\u001b[0m\u001b[1;31m:\u001b[0m invalid syntax\n"
     ]
    }
   ],
   "source": [
    "import seaborn as sns\n",
    "import pandas as pd # for data analysis\n",
    "import numpy as np # for numeric calculation\n",
    "import matplotlib.pyplot as plt # for data visualization\n",
    "from matplotlib import pyplot as plt\n",
    "\n",
    "result_binned = df_binned.pivot(index='combo', columns='position_binned', values='mismatch')\n",
    "fig, ax = plt.subplots(figsize=(16,10)\n",
    "\n",
    "sns.heatmap(result_binned, fmt=\"g\", cmap='viridis', linewidths=.5) #annot=True\n",
    "plt.show()"
   ]
  },
  {
   "cell_type": "code",
   "execution_count": null,
   "metadata": {},
   "outputs": [],
   "source": []
  },
  {
   "cell_type": "code",
   "execution_count": null,
   "metadata": {},
   "outputs": [],
   "source": []
  }
 ],
 "metadata": {
  "kernelspec": {
   "display_name": "Python 3",
   "language": "python",
   "name": "python3"
  },
  "language_info": {
   "codemirror_mode": {
    "name": "ipython",
    "version": 3
   },
   "file_extension": ".py",
   "mimetype": "text/x-python",
   "name": "python",
   "nbconvert_exporter": "python",
   "pygments_lexer": "ipython3",
   "version": "3.8.3"
  }
 },
 "nbformat": 4,
 "nbformat_minor": 5
}
