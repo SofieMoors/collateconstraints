{
 "cells": [
  {
   "cell_type": "code",
   "execution_count": 1,
   "id": "structured-peripheral",
   "metadata": {},
   "outputs": [
    {
     "name": "stderr",
     "output_type": "stream",
     "text": [
      "In /Users/mikekestemont/anaconda3/envs/n36/lib/python3.6/site-packages/matplotlib/mpl-data/stylelib/_classic_test.mplstyle: \n",
      "The text.latex.preview rcparam was deprecated in Matplotlib 3.3 and will be removed two minor releases later.\n",
      "In /Users/mikekestemont/anaconda3/envs/n36/lib/python3.6/site-packages/matplotlib/mpl-data/stylelib/_classic_test.mplstyle: \n",
      "The mathtext.fallback_to_cm rcparam was deprecated in Matplotlib 3.3 and will be removed two minor releases later.\n",
      "In /Users/mikekestemont/anaconda3/envs/n36/lib/python3.6/site-packages/matplotlib/mpl-data/stylelib/_classic_test.mplstyle: Support for setting the 'mathtext.fallback_to_cm' rcParam is deprecated since 3.3 and will be removed two minor releases later; use 'mathtext.fallback : 'cm' instead.\n",
      "In /Users/mikekestemont/anaconda3/envs/n36/lib/python3.6/site-packages/matplotlib/mpl-data/stylelib/_classic_test.mplstyle: \n",
      "The validate_bool_maybe_none function was deprecated in Matplotlib 3.3 and will be removed two minor releases later.\n",
      "In /Users/mikekestemont/anaconda3/envs/n36/lib/python3.6/site-packages/matplotlib/mpl-data/stylelib/_classic_test.mplstyle: \n",
      "The savefig.jpeg_quality rcparam was deprecated in Matplotlib 3.3 and will be removed two minor releases later.\n",
      "In /Users/mikekestemont/anaconda3/envs/n36/lib/python3.6/site-packages/matplotlib/mpl-data/stylelib/_classic_test.mplstyle: \n",
      "The keymap.all_axes rcparam was deprecated in Matplotlib 3.3 and will be removed two minor releases later.\n",
      "In /Users/mikekestemont/anaconda3/envs/n36/lib/python3.6/site-packages/matplotlib/mpl-data/stylelib/_classic_test.mplstyle: \n",
      "The animation.avconv_path rcparam was deprecated in Matplotlib 3.3 and will be removed two minor releases later.\n",
      "In /Users/mikekestemont/anaconda3/envs/n36/lib/python3.6/site-packages/matplotlib/mpl-data/stylelib/_classic_test.mplstyle: \n",
      "The animation.avconv_args rcparam was deprecated in Matplotlib 3.3 and will be removed two minor releases later.\n"
     ]
    }
   ],
   "source": [
    "from glob import glob\n",
    "import os\n",
    "from itertools import combinations\n",
    "\n",
    "import grapheme\n",
    "from collatex import *\n",
    "from tqdm import tqdm\n",
    "import numpy as np\n",
    "import pandas as pd\n",
    "import seaborn as sb\n",
    "import matplotlib.pyplot as plt"
   ]
  },
  {
   "cell_type": "code",
   "execution_count": 2,
   "id": "passing-morgan",
   "metadata": {},
   "outputs": [
    {
     "data": {
      "text/plain": [
       "['A',\n",
       " 'Ant',\n",
       " 'B',\n",
       " 'BR',\n",
       " 'C',\n",
       " 'D',\n",
       " 'D2',\n",
       " 'E',\n",
       " 'F',\n",
       " 'G',\n",
       " 'Ge',\n",
       " 'K',\n",
       " 'L',\n",
       " 'O',\n",
       " 'W',\n",
       " 'Y',\n",
       " 'Z']"
      ]
     },
     "execution_count": 2,
     "metadata": {},
     "output_type": "execute_result"
    }
   ],
   "source": [
    "sigles = [os.path.basename(fn).replace('xml_', '').replace('.xml', '') for fn in glob('../data/xml_martijn/*.xml')]\n",
    "sigles = sorted(sigles)\n",
    "sigles"
   ]
  },
  {
   "cell_type": "code",
   "execution_count": 3,
   "id": "defensive-extension",
   "metadata": {},
   "outputs": [],
   "source": [
    "#sigles = 'A', 'B', 'C', 'D'\n",
    "#sigles = 'A','Ant','B', 'BR', 'C','D', 'D2','E', 'F', 'G', 'Ge', 'K', 'L', 'O', 'W', 'Y', 'Z'"
   ]
  },
  {
   "cell_type": "code",
   "execution_count": 4,
   "id": "threaded-camera",
   "metadata": {},
   "outputs": [],
   "source": [
    "from lxml import etree\n",
    "from re import sub #re — Regular expression operations #\n",
    "import xml.etree.ElementTree as ET\n",
    "import string\n",
    "\n",
    "\n",
    "NSMAP = {'MVN': 'http://www.tei-c.org/ns/1.0'}\n",
    "removes = ('teiHeader', 'fw', 'supplied', 'abbr') \n",
    "removes_expan_false = ('teiHeader', 'fw', 'supplied', 'ex', 'expan')\n",
    "\n",
    "def extract_lines(xml_file, expan = True,\n",
    "                  punct = True, lower = True,\n",
    "                  sep_abbr = True):\n",
    "    lines = {}\n",
    "    tree = etree.parse(xml_file)\n",
    "    \n",
    "    \n",
    "    if expan:\n",
    "        #delete all elements with the provided tag names from a tree or subtree\n",
    "        #will also remove the tail text unless explicitly set the with_tail keyword argument option to False\n",
    "        etree.strip_elements(tree, (\"{\"+ NSMAP[\"MVN\"]+ \"}\" + s for s in removes), with_tail=False) \n",
    "    else: \n",
    "        etree.strip_elements(tree, (\"{\"+ NSMAP[\"MVN\"]+ \"}\" + s for s in removes_expan_false), with_tail=False)\n",
    "        \n",
    "    for element in tree.iterfind('.//'+\"{\"+ NSMAP[\"MVN\"]+ \"}\"+'l'): #add namespace because otherwise it won't find the element gap\n",
    "        if(element.find('.//'+\"{\"+ NSMAP[\"MVN\"]+ \"}\"+'gap')) is not None:\n",
    "            element.getparent().remove(element)\n",
    "            \n",
    "    chars = {'a', 'b', 'c', 'd', 'e', 'f', 'g', 'h', 'i', 'j', \n",
    "             'k', 'l','m', 'n', 'o', 'p', 'q', 'r', 's', 't', \n",
    "             'u', 'v', 'w', 'x', 'y', 'z'}\n",
    "            \n",
    "    context = etree.iterwalk(tree, events=(\"start\", \"end\")) #a tree walker generates events from an existing tree. 'Start' and 'end' represent opening and closing elements\n",
    "    #u prefix indicates Unicode\n",
    "    text = u\"\" \n",
    "    #this will be the key in the dictionary of lines {}\n",
    "    k = '' \n",
    "    for action, node in context:\n",
    "        #remove ns for easier access\n",
    "        #tag_only bevat de tags op een knooppunt\n",
    "        #.tag selects all child elements with the given tag. A tag is a string identifying what kind of data this element represents (the element type, in other words).\n",
    "        #.replace removes ns www.tei...\n",
    "        \n",
    "        tag_only = node.tag.replace(\"{http://www.tei-c.org/ns/1.0}\",\"\") \n",
    "            \n",
    "        #node.attrib: XML elements have attributes \n",
    "        #attrib is a dictionary containing the element’s attributes. \n",
    "        if 'n' in node.attrib and tag_only == 'text': \n",
    "            title = node.attrib['n'] #for example Eerste Martijn\n",
    "        \n",
    "        if 'n' in node.attrib and tag_only == \"l\":                \n",
    "            k = title + '-' + node.attrib['n'] #for example 001, 002, 003...\n",
    "  \n",
    "        # if a new pb (standalone element) is processed:\n",
    "        if action == 'start' and tag_only == 'text': \n",
    "            continue\n",
    "            \n",
    "        # if new lb (standalone) is processed:\n",
    "        elif action == 'start' and tag_only == 'lb':\n",
    "            continue\n",
    "\n",
    "        # list elements which you want to iterate through. this is not really neccessary.\n",
    "        elif tag_only in (\"group\",\"text\",\"MVN\",\"body\",\"cb\",\"p\"):\n",
    "            continue\n",
    "\n",
    "        # for all other elements, distinguish between the start-event of the processing and\n",
    "        # and the end-event. Attach the tail AFTER the child nodes were processed (= end-event) \n",
    "\n",
    "        elif action == 'start':\n",
    "            #comment the following two lines out to not get the element markers\n",
    "            #f.write(f\"[{tag_only}]\") \n",
    "            #text += f\"[{tag_only}]\"\n",
    "\n",
    "            ############################################################################\n",
    "            ########## filter out special characters, bars,                   ##########\n",
    "            ########## superscript, or specific tags.                         ##########\n",
    "            ############################################################################\n",
    "                    \n",
    "            \n",
    "            #if a special glyph is present, encode it accordingly\n",
    "            if tag_only == 'g':\n",
    "                if sep_abbr:\n",
    "                    if node.attrib['ref'] == '#bar': # ā, ē, ī, ō, ū, n̄ etc.\n",
    "                        text += u'\\u005f'\n",
    "\n",
    "                    elif node.attrib['ref'] == '#apomod': # ʼ\n",
    "                        text += u'\\u02bc'\n",
    "\n",
    "                    elif node.attrib['ref'] == '#usmod': # ꝰ\n",
    "                        text += u'\\ua770'\n",
    "\n",
    "                    elif node.attrib['ref'] == '#condes': # ꝯ\n",
    "                        text += u'\\ua76f'\n",
    "\n",
    "                    elif node.attrib['ref'] == '#para': # ¶\n",
    "                        text += u'\\xb6'\n",
    "\n",
    "                    elif node.attrib['ref'] == '#etfin': # ꝫ\n",
    "                        text += u'\\ua76b'\n",
    "\n",
    "                    elif node.attrib['ref'] == '#pbardes': # ꝑ\n",
    "                        text += '\\ua751'\n",
    "\n",
    "                    elif node.attrib['ref'] == '#pbardes': # ꝕ\n",
    "                        text += u'\\ua755'\n",
    "\n",
    "                    elif node.attrib['ref'] == '#pflour': # ꝓ\n",
    "                        text += u'\\ua753'\n",
    "\n",
    "                    else:\n",
    "                        text += str(node.attrib['ref']) # get the actual ref if there still are any left\n",
    "                    \n",
    "                else:\n",
    "                    if node.attrib['ref'] == '#bar': # ā, ē, ī, ō, ū, n̄ etc.\n",
    "                        text += u'\\u0304'\n",
    "\n",
    "                    elif node.attrib['ref'] == '#apomod': # ʼ\n",
    "                        text += u'\\u02bc'\n",
    "\n",
    "                    elif node.attrib['ref'] == '#usmod': # ꝰ\n",
    "                        text += u'\\ua770'\n",
    "\n",
    "                    elif node.attrib['ref'] == '#condes': # ꝯ\n",
    "                        text += u'\\ua76f'\n",
    "\n",
    "                    elif node.attrib['ref'] == '#para': # ¶\n",
    "                        text += u'\\xb6'\n",
    "\n",
    "                    elif node.attrib['ref'] == '#etfin': # ꝫ\n",
    "                        text += u'\\ua76b'\n",
    "\n",
    "                    elif node.attrib['ref'] == '#pbardes': # ꝑ\n",
    "                        text += u'\\ua751'\n",
    "\n",
    "                    elif node.attrib['ref'] == '#pbardes': # ꝕ\n",
    "                        text += u'\\ua755'\n",
    "\n",
    "                    elif node.attrib['ref'] == '#pflour': # ꝓ\n",
    "                        text += u'\\ua753'\n",
    "\n",
    "                    else:\n",
    "                        node.attrib['ref']\n",
    "                        text += str(node.attrib['ref']) # get the actual ref if there still are any left\n",
    "\n",
    "            # encode superscript letters\n",
    "            superscript_dict = {'a':'ᵃ', 'b':'ᵇ', 'c':'ᶜ', 'd':'ᵈ', 'e':'ᵉ', 'f':'ᶠ',\n",
    "                               'g':'ᵍ', 'h':'ʰ', 'i':'ᶦ', 'j':'ʲ', 'k':'ᵏ', 'l':'ˡ', \n",
    "                                'm':'ᵐ', 'n':'ⁿ', 'o':'ᵒ', 'p':'ᵖ', 'r':'ʳ', 's':'ˢ', \n",
    "                                't':'ᵗ', 'u':'ᵘ', 'v':'ᵛ', 'w':'ʷ', 'x':'ˣ', 'y': 'ʸ', 'z': 'ᶻ'}\n",
    "\n",
    "            if tag_only == 'hi' and 'rend' in node.attrib and node.attrib['rend'] == 'superscript': #rend(ition) supplies information about the appearance of an element\n",
    "                if node.text in superscript_dict:\n",
    "                    text += str(superscript_dict[node.text]).strip()\n",
    "\n",
    "            # encode punctuation marks\n",
    "            elif tag_only == 'pc':\n",
    "                text += str(node.text).strip()\n",
    "\n",
    "            # encode roman numerals\n",
    "            elif tag_only == 'num':\n",
    "                if node.text:\n",
    "                    text += str('.'+node.text+'.').strip()\n",
    "\n",
    "            # if there is still a node with text in it\n",
    "            elif (node.text):\n",
    "                text += node.text        \n",
    "\n",
    "        # after the child elements\n",
    "        elif action == 'end':\n",
    "            #if there is a tail\n",
    "            #the tail attribute holds the text between the element’s end tag and the next tag, or None\n",
    "            if (node.tail and node.tail not in \"\\t\"): #if the tail is not yet in the text \n",
    "                #comment the following two lines out to not get the tail marker\n",
    "                #text += \"[tail]\"\n",
    "                #f.write(\"[tail]\")\n",
    "                #append to text-concatenation\n",
    "                text += str(node.tail)\n",
    "        if tag_only == 'lb':\n",
    "            if k:\n",
    "                text = sub(r'\\n', '', text) #when an \"r\" prefix is present, a character following a backslash is included in the string/all backslashes are left in string. \n",
    "                if not punct:\n",
    "                    text = text.translate(str.maketrans('', '', string.punctuation)) #the value of the keys k is the text \n",
    "                if lower: \n",
    "                    text = text.lower()\n",
    "                   \n",
    "                    #text = text[::-1]\n",
    "                  \n",
    "                lines[k] = text #the value of the keys k is the text \n",
    "                text = ''                    \n",
    "    lines = {k:v for k, v in lines.items() if v.strip()} #if a line with a gap is removed, remove empty key       \n",
    "    \n",
    "    return lines\n",
    "\n",
    "# nog lowercasen (flag) en interpunctie weghalen\n",
    "d = extract_lines(f'../data/xml_martijn/xml_{sigles[0]}.xml', expan = False, punct = False, lower = True)\n",
    "#print(d)"
   ]
  },
  {
   "cell_type": "code",
   "execution_count": 5,
   "id": "iraqi-defeat",
   "metadata": {},
   "outputs": [
    {
     "name": "stderr",
     "output_type": "stream",
     "text": [
      "100%|██████████| 17/17 [00:00<00:00, 29.56it/s]"
     ]
    },
    {
     "name": "stdout",
     "output_type": "stream",
     "text": [
      "{'Eerste Martijn-001': 'vvaphene mʼtin hoe salt gaen', 'Eerste Martijn-002': 'sal die wʼelt hiet laghe stae', 'Eerste Martijn-003': 'in dus crancke loue', 'Eerste Martijn-004': 'so moet vᵒuwe vʼeere saen', 'Eerste Martijn-005': 'sondʼ twifel ende waen', 'Eerste Martijn-006': 'rumen heʼen houe', 'Eerste Martijn-007': 'ic zie de valsche wel ontfaen', 'Eerste Martijn-008': 'die de heʼen cone dwaen', 'Eerste Martijn-009': 'en plucke vande stoue', 'Eerste Martijn-010': 'en ic zie de rechte slaen', 'Eerste Martijn-011': 'beede bespotte en beuaen', 'Eerste Martijn-012': 'alse die meese in de cloue', 'Eerste Martijn-013': 'rechts offene god vʼscroue', 'Eerste Martijn-014': 'hoe langhe sal ghedoghe dit', 'Eerste Martijn-015': 'god die alle dinc besit', 'Eerste Martijn-016': 'in sine heerscapie', 'Eerste Martijn-017': 'dat die goede vleeuwet en bit', 'Eerste Martijn-018': 'en he ne doech no dat no dit', 'Eerste Martijn-019': 'dat hi hiet ghedie', 'Eerste Martijn-020': 'al varet inde helsche pit', 'Eerste Martijn-021': 'eist blaeu graeu zwart of wit', 'Eerste Martijn-022': 'hets ghetrouwe als eene zie', 'Eerste Martijn-023': 'recht man deluet sondʼ spit', 'Eerste Martijn-024': 'hine heuet te pointe niet ghehit', 'Eerste Martijn-025': 'inne gheer balgye', 'Eerste Martijn-026': 'mi es leet dat ic waer lye', 'Eerste Martijn-027': 'laet ons martin ouʼ een', 'Eerste Martijn-028': 'hier af spreke ondʼ ons tween', 'Eerste Martijn-029': 'in dit dyaloghe', 'Eerste Martijn-030': 'wane dat eerst qua die ween', 'Eerste Martijn-031': 'die wile so onwert sceen', 'Eerste Martijn-032': 'en nv sit so oghe', 'Eerste Martijn-033': 'ic vraghe hu en vleen', 'Eerste Martijn-034': 'berecht mi ia of neen', 'Eerste Martijn-035': 'van dat ic hu betoghe', 'Eerste Martijn-036': 'ledichede es vrome ne gheen', 'Eerste Martijn-037': 'aerbeit vint vier inde steen', 'Eerste Martijn-038': 'daer bi ontsteect dat droghe', 'Eerste Martijn-039': 'nu spreect en ic ghedoghe', 'Eerste Martijn-040': 'spreken jacop lieue ꝯpaen', 'Eerste Martijn-041': 'waer soudic dat hebbe vʼstae', 'Eerste Martijn-042': 'dat ic dʼ toe dochte', 'Eerste Martijn-043': 'te vʼclaerne dine waen', 'Eerste Martijn-044': 'die in twifele ware beuae', 'Eerste Martijn-045': 'dats dat ic niet en vʼmochte', 'Eerste Martijn-046': 'doch en willic niet af staen', 'Eerste Martijn-047': 'in wille dine bede ontfaen', 'Eerste Martijn-048': 'die dit ane mi besochte', 'Eerste Martijn-049': 'god sende mi de hemelsche trae', 'Eerste Martijn-050': 'en moet mine zinne dwaen', 'Eerste Martijn-051': 'want hi mi diere cochte', 'Eerste Martijn-052': 'en ict gherne vulbrochte', 'Eerste Martijn-053': 'martin doe die wʼelt began', 'Eerste Martijn-054': 'man te vʼheffene boue man', 'Eerste Martijn-055': 'doe sciet mijn vʼuwe ver eere', 'Eerste Martijn-056': 'den dorper en wijsdem den dan', 'Eerste Martijn-057': 'en daer trouwe en doghet was an', 'Eerste Martijn-058': 'dien hiet soe sijn heere', 'Eerste Martijn-059': 'nu maken die heʼen een ghespan', 'Eerste Martijn-060': 'en gheue der eeren eene ban', 'Eerste Martijn-061': 'en wille niet dat soe keere', 'Eerste Martijn-062': 'sech mi wane tfenijn ran', 'Eerste Martijn-063': 'toech mi redene daer van', 'Eerste Martijn-064': 'want ic gherne leere', 'Eerste Martijn-065': 'wies scult dat het were', 'Eerste Martijn-066': 'martin mi dinct ouer waer', 'Eerste Martijn-067': 'sint edelheit hadde vaer', 'Eerste Martijn-068': 'te pijnne ome die eere', 'Eerste Martijn-069': 'en soe trac de scalcke naer', 'Eerste Martijn-070': 'die rade nv hier nv daer', 'Eerste Martijn-071': 'en niet scelde de heʼe', 'Eerste Martijn-072': 'so es edelheit worde zwaer', 'Eerste Martijn-073': 'dat soe te clemene heeft omaer', 'Eerste Martijn-074': 'en sinct in lanc so meere', 'Eerste Martijn-075': 'dits nv alder wʼelt claer', 'Eerste Martijn-076': 'en oghe sien en openbaer', 'Eerste Martijn-077': 'dus es vʼbanne eere', 'Eerste Martijn-078': 'en wedʼ staen ten keere', 'Eerste Martijn-079': 'nv merct bidʼ sonne lech', 'Eerste Martijn-080': 'die aldʼ wʼelt oghe berecht', 'Eerste Martijn-081': 'bi sire naturen', 'Eerste Martijn-082': 'alse dat zwerc dʼ ieghe vecht', 'Eerste Martijn-083': 'entie neuel met zire drecht', 'Eerste Martijn-084': 'sone can so tier vren', 'Eerste Martijn-085': 'niet ghetoghe hʼ scone lecht', 'Eerste Martijn-086': 'aldus vʼdonckert die scalcke knecht', 'Eerste Martijn-087': 'edele creaturen', 'Eerste Martijn-088': 'alse hi he daer ane echt', 'Eerste Martijn-089': 'en hare die edelheit vʼplecht', 'Eerste Martijn-090': 'dat soe laet ghedueren', 'Eerste Martijn-091': 'bi hare de scalcken sueren', 'Eerste Martijn-092': 'sint scalcke droeghe ouʼ een', 'Eerste Martijn-093': 'dat neen wart ja en ia neen', 'Eerste Martijn-094': 'en he dat wijsheit dochte', 'Eerste Martijn-095': 'en edelheit dʼ ome green', 'Eerste Martijn-096': 'wat dʼ waesdom vte sceen', 'Eerste Martijn-097': 'wane dat come mochte', 'Eerste Martijn-098': 'so es edel herte worde steen', 'Eerste Martijn-099': 'wat hʼ ontfaremt dinc gheen', 'Eerste Martijn-100': 'va dʼme ghelt vte cnochte', 'Eerste Martijn-101': 'god gheue he de langhe we', 'Eerste Martijn-102': 'die te cnauwene gaf dit been', 'Eerste Martijn-103': 'den edelen ghedochte', 'Eerste Martijn-104': 'wat hire mort an wrochte', 'Eerste Martijn-105': 'vvat sal seghel en was', 'Eerste Martijn-106': 'en brieue die ghewaghe das', 'Eerste Martijn-107': 'wat dese heʼen gheue', 'Eerste Martijn-108': 'hets al niet hes een ghedwas', 'Eerste Martijn-109': 'alse lief hadt mi een wilt sas', 'Eerste Martijn-110': 'oft een vrese bescreue', 'Eerste Martijn-111': 'trouwe es broscher da i glas', 'Eerste Martijn-112': 'die hier te vore so sterc was', 'Eerste Martijn-113': 'so es te broken bleuen', 'Eerste Martijn-114': 'ic wane noyt dies lands heʼe genas', 'Eerste Martijn-115': 'ø', 'Eerste Martijn-116': 'hine moeste int hende sneue', 'Eerste Martijn-117': 'en sulc es slands vʼdreue', 'Eerste Martijn-118': 'martin du berechts mi wel', 'Eerste Martijn-119': 'hier bi sijn die heʼen fel', 'Eerste Martijn-120': 'en wandel in die tale', 'Eerste Martijn-121': 'in weeter wat toe segghe el', 'Eerste Martijn-122': 'die scalc hout boesheit ouʼ spel', 'Eerste Martijn-123': 'hij pijnt hoe hi die doghet smale', 'Eerste Martijn-124': 'caym slouch de edelen abel', 'Eerste Martijn-125': 'dus souct die scalc sijns heʼen vel', 'Eerste Martijn-126': 'hoe hine ghetrect te dale', 'Eerste Martijn-127': 'god die ons noch doeme sel', 'Eerste Martijn-128': 'biddic dat hi de duuel', 'Eerste Martijn-129': 'inde joncsten male', 'Eerste Martijn-130': 'metten scalke betale', 'Eerste Martijn-131': 'martin nv berecht mi dies', 'Eerste Martijn-132': 'berecht een god die noyt en wies', 'Eerste Martijn-133': 'alle creatueren', 'Eerste Martijn-134': 'twi heuet die quade da de kies', 'Eerste Martijn-135': 'entie goede heeft al tverlies', 'Eerste Martijn-136': 'wie saelt ouʼ recht curen', 'Eerste Martijn-137': 'mijn sin seghet mi als eene ries', 'Eerste Martijn-138': 'hi die adame tlijf in blies', 'Eerste Martijn-139': 'die meester der natueren', 'Eerste Martijn-140': 'heuet beuole merc en besies', 'Eerste Martijn-141': 'ø', 'Eerste Martijn-142': 'der blendʼ auentueren', 'Eerste Martijn-143': 'die vʼkeert telker vren', 'Eerste Martijn-144': 'iacop sech bestu vʼdort', 'Eerste Martijn-145': 'daueture es maer een wort', 'Eerste Martijn-146': 'va gheveinsder spraken', 'Eerste Martijn-147': 'brincstu ongheloue vort', 'Eerste Martijn-148': 'god siet alle dinc en hort', 'Eerste Martijn-149': 'wiltu de duuel maken', 'Eerste Martijn-150': 'wie heuet dijn hʼte dus becort', 'Eerste Martijn-151': 'dattu helts ant legher bort', 'Eerste Martijn-152': 'die pape sullet smaken', 'Eerste Martijn-153': 'so werdstu vʼbrant en vʼsmort', 'Eerste Martijn-154': 'in gaue om dine ziele niet i ort', 'Eerste Martijn-155': 'me mach met dusdane sake', 'Eerste Martijn-156': 'gode niet ghenake', 'Eerste Martijn-157': 'god en was noyt moede no mat', 'Eerste Martijn-158': 'int wout en es loef no blat', 'Eerste Martijn-159': 'bute ziere hoede', 'Eerste Martijn-160': 'al dat es in elke stat', 'Eerste Martijn-161': 'dat behoet hi en besat', 'Eerste Martijn-162': 'met godlike goede', 'Eerste Martijn-163': 'al ghehinghet hi da dat', 'Eerste Martijn-164': 'dat die quade ghewinnet scat', 'Eerste Martijn-165': 'en mene heet de vroede', 'Eerste Martijn-166': 'so hi hoghere sit vpt rat', 'Eerste Martijn-167': 'so hogher val so meerre plat', 'Eerste Martijn-168': 'inder helscher gloeden', 'Eerste Martijn-169': 'onder der duuele roeden', 'Eerste Martijn-170': 'die rechtste wech ter helle waert', 'Eerste Martijn-171': 'entie alre cortste vaert', 'Eerste Martijn-172': 'dats gheluc in sonden', 'Eerste Martijn-173': 'als me ghee mesdoe ne spaert', 'Eerste Martijn-174': 'en me emer vort bezwaert', 'Eerste Martijn-175': 'die zielen ghebonden', 'Eerste Martijn-176': 'en da ghesciet als he begaert', 'Eerste Martijn-177': 'en me en rouct wiere mesbaert', 'Eerste Martijn-178': 'nu noch te gheene stonden', 'Eerste Martijn-179': 'so comt die doet diet al vʼtaert', 'Eerste Martijn-180': 'onversien wat hets hʼ aert', 'Eerste Martijn-181': 'pande va hare ponde', 'Eerste Martijn-182': 'die niemene can ghegronde', 'Eerste Martijn-183': 'iacop du heues mi bekeert', 'Eerste Martijn-184': 'en ghewijst en gheleert', 'Eerste Martijn-185': 'va dies ic niet en wiste', 'Eerste Martijn-186': 'al sie ic meer de quade gheheert', 'Eerste Martijn-187': 'mijn hʼte en wʼdes niet vʼseert', 'Eerste Martijn-188': 'noch in gheene twiste', 'Eerste Martijn-189': 'al heuet hi meer da hi vʼtert', 'Eerste Martijn-190': 'en hi wint dat hi begaert', 'Eerste Martijn-191': 'met scalcheit en met liste', 'Eerste Martijn-192': 'ghinder wert hi ghedestruweert', 'Eerste Martijn-193': 'en ghebonde en ghemeert', 'Eerste Martijn-194': 'sine kindere gaen te quiste', 'Eerste Martijn-195': 'ghelijc eenen miste', 'Eerste Martijn-196': 'martin waerstu niet so vreet', 'Eerste Martijn-197': 'eene dinc die ic niet en weet', 'Eerste Martijn-198': 'soudic hu gherne vraghen', 'Eerste Martijn-199': 'twi sijn die sonde gode so leet', 'Eerste Martijn-200': 'dat hi de sondare es so heet', 'Eerste Martijn-201': 'in wraken en in plaghen', 'Eerste Martijn-202': 'want gheen sondare langhʼ steet', 'Eerste Martijn-203': 'in sonde da sijn lijf es breet', 'Eerste Martijn-204': 'twi torment hine met slaghe', 'Eerste Martijn-205': 'eewelike sonder vʼsceet', 'Eerste Martijn-206': 'dit en scijnt te pointe niet gheleet', 'Eerste Martijn-207': 'tordeel dorstics ghewaghen', 'Eerste Martijn-208': 'al weten wijs wien claghen', 'Eerste Martijn-209': 'iacop god die herte kent', 'Eerste Martijn-210': 'sent de sondare recht torment', 'Eerste Martijn-211': 'nader herte ghedochte', 'Eerste Martijn-212': 'ome dat hi wilde als i rent', 'Eerste Martijn-213': 'altoes leue en onghehent', 'Eerste Martijn-214': 'vp dat wesen mochte', 'Eerste Martijn-215': 'so es hi ter helle ghesent', 'Eerste Martijn-216': 'dʼ hi eewelijc es ghescent', 'Eerste Martijn-217': 'want sijn wille dat wrochte', 'Eerste Martijn-218': 'besie dine hʼte al omtrent', 'Eerste Martijn-219': 'dincti dese redene blent', 'Eerste Martijn-220': 'die ic hier toe brochte', 'Eerste Martijn-221': 'neent diet wel besochte', 'Eerste Martijn-222': 'martin du seghes wel en waer', 'Eerste Martijn-223': 'en dine redene die es claer', 'Eerste Martijn-224': 'en licht te vʼstane', 'Eerste Martijn-225': 'al ghepeins es openbaer', 'Eerste Martijn-226': 'vor he die tellet alle haer', 'Eerste Martijn-227': 'en wat die hemel heeft ane', 'Eerste Martijn-228': 'ia louere gras dach en jaer', 'Eerste Martijn-229': 'dropele zants es he niet zwʼ', 'Eerste Martijn-230': 'in telne te beuane', 'Eerste Martijn-231': 'hi heuet ypocricie ommaer', 'Eerste Martijn-232': 'en leghet he met wrake naer', 'Eerste Martijn-233': 'die in hare bane', 'Eerste Martijn-234': 'pleghe ome te gane', 'Eerste Martijn-235': 'soete martin me leset dat', 'Eerste Martijn-236': 'al gauic wech lijf en scat', 'Eerste Martijn-237': 'en ghedoghede grote coude', 'Eerste Martijn-238': 'ware ic in hooft sonde mat', 'Eerste Martijn-239': 'het en diedde mi niet een blat', 'Eerste Martijn-240': 'die nieuwe wet spreect en toude', 'Eerste Martijn-241': 'die ons dus nauwe make de pat', 'Eerste Martijn-242': 'te hemele waert en so glat', 'Eerste Martijn-243': 'ic wilde god selue woude', 'Eerste Martijn-244': 'dat si portiers ware ghesat', 'Eerste Martijn-245': 'ter helle si soude tgat', 'Eerste Martijn-246': 'so houde met ghewoude', 'Eerste Martijn-247': 'dattre cume iemene in soude', 'Eerste Martijn-248': 'iacop menech prouft en coort', 'Eerste Martijn-249': 'der helegher scrifture wort', 'Eerste Martijn-250': 'en waense wel ghegronden', 'Eerste Martijn-251': 'so clapt hijt leeke liede vort', 'Eerste Martijn-252': 'die gherne nieuwe dinghe hort', 'Eerste Martijn-253': 'wat hi heuet vonden', 'Eerste Martijn-254': 'selue vʼstaet hijs niet een ort', 'Eerste Martijn-255': 'dits meerre mesdaet da mort', 'Eerste Martijn-256': 'dat si gods wort dus wonde', 'Eerste Martijn-257': 'hier naeye sijt hier eyst ghescort', 'Eerste Martijn-258': 'hier breect een naghel hier i bort', 'Eerste Martijn-259': 'wapene vanden honde', 'Eerste Martijn-260': 'nu en talle stonde', 'Eerste Martijn-261': 'vvane si die wort ghegronde sae', 'Eerste Martijn-262': 'dʼ die wortele ane staen', 'Eerste Martijn-263': 'gheplant in hemelrike', 'Eerste Martijn-264': 'si iaghe vele en cleene si vae', 'Eerste Martijn-265': 'so wille si tsamen slaen', 'Eerste Martijn-266': 'ghelike en onghelike', 'Eerste Martijn-267': 'dies latic mijn vraghe gae', 'Eerste Martijn-268': 'wat het dinct mi best ghedae', 'Eerste Martijn-269': 'dat ic hier af wike', 'Eerste Martijn-270': 'dan ic viel in domme waen', 'Eerste Martijn-271': 'en nutter eist dat hi vliet de naen', 'Eerste Martijn-272': 'da hi te campe strike', 'Eerste Martijn-273': 'ieghe den kempe eerlike', 'Eerste Martijn-274': 'of god ten joncsten daghe sal', 'Eerste Martijn-275': 'ghepeins en wort berechte al', 'Eerste Martijn-276': 'dʼ wi in oint mesdaden', 'Eerste Martijn-277': 'soudi alse eene onwerde bal', 'Eerste Martijn-278': 'weldaet werpe int helsche dal', 'Eerste Martijn-279': 'so ware hi sondʼ ghenaden', 'Eerste Martijn-280': 'neen hi en es niet so smal', 'Eerste Martijn-281': 'va wel dade dat ghetal', 'Eerste Martijn-282': 'hen wert va grade te grade', 'Eerste Martijn-283': 'va gode ghedanct die noyt en al', 'Eerste Martijn-284': 'wat me wel dede ofte stal', 'Eerste Martijn-285': 'gherechtichede soude scaden', 'Eerste Martijn-286': 'hen horde god niet die baden', 'Eerste Martijn-287': 'dat seit dat gheloue mijn', 'Eerste Martijn-288': 'god moet in he selue sijn', 'Eerste Martijn-289': 'hine mach el nieweren wese', 'Eerste Martijn-290': 'hi es gherechtichede fijn', 'Eerste Martijn-291': 'en ghenadichede dats anschijn', 'Eerste Martijn-292': 'hets al een va desen', 'Eerste Martijn-293': 'die vande watre maecte wijn', 'Eerste Martijn-294': 'hine es sijns selues niet eyghijn', 'Eerste Martijn-295': 'wat so die dore lesen', 'Eerste Martijn-296': 'iacop hout dat gheloue dijn', 'Eerste Martijn-297': 'hets menich onbesceede zwijn', 'Eerste Martijn-298': 'te priesterscap gheresen', 'Eerste Martijn-299': 'dies niet en mach ghenese', 'Eerste Martijn-300': 'martijn dijn gheloue es goet', 'Eerste Martijn-301': 'ic be dies seker en vroet', 'Eerste Martijn-302': 'weldaet wert niet vʼgheten', 'Eerste Martijn-303': 'laet he begae diet ghelde moet', 'Eerste Martijn-304': 'en diet al bi redene doet', 'Eerste Martijn-305': 'nemmeer en willix weten', 'Eerste Martijn-306': 'hi es die ghene diet al behoet', 'Eerste Martijn-307': 'alse die hinne hare kiekine broet', 'Eerste Martijn-308': 'heeft hijt al beseten', 'Eerste Martijn-309': 'hi gheuet ons ziele vleesch en bloet', 'Eerste Martijn-310': 'hi hoet ons vorde helsche gloet', 'Eerste Martijn-311': 'dat wi niet werde te sleten', 'Eerste Martijn-312': 'ten ioncsten noch vʼbeten', 'Eerste Martijn-313': 'martin menich parlement', 'Eerste Martijn-314': 'en seghet die minne es blent', 'Eerste Martijn-315': 'oec eist een woert ghemeene', 'Eerste Martijn-316': 'omme dat ic ben een onwijs rent', 'Eerste Martijn-317': 'so mac mi dese wort bekent', 'Eerste Martijn-318': 'want ennes niet cleene', 'Eerste Martijn-319': 'es dat waer so es mine torment', 'Eerste Martijn-320': 'entie hare volghet es ghescent', 'Eerste Martijn-321': 'en onteert al reene', 'Eerste Martijn-322': 'nu seghet elc wise al omtrent', 'Eerste Martijn-323': 'dat minne dat edele instrument', 'Eerste Martijn-324': 'gode van nazareene', 'Eerste Martijn-325': 'brochte in desen weene', 'Eerste Martijn-326': 'iacop dijn vraghe es swaer', 'Eerste Martijn-327': 'doch proeftme in redene claer', 'Eerste Martijn-328': 'drierhande minne', 'Eerste Martijn-329': 'deerste dats caritate dats waer', 'Eerste Martijn-330': 'dies sondeʼ pine ende vaer', 'Eerste Martijn-331': 'en daer woent god inne', 'Eerste Martijn-332': 'dandʼ trect die wʼelt naer', 'Eerste Martijn-333': 'om eere om goet staet al hʼ gaer', 'Eerste Martijn-334': 'dits eene bastaerdinne', 'Eerste Martijn-335': 'die derde minne heescht die jaer', 'Eerste Martijn-336': 'als bi nature elc doet sijn paer', 'Eerste Martijn-337': 'al noch sijn si dinne', 'Eerste Martijn-338': 'die deser volghe bi sinne', 'Eerste Martijn-339': 'deerste minne es so groot', 'Eerste Martijn-340': 'dat alleene dat god gheboot', 'Eerste Martijn-341': 'vul prijsde niet hʼ werde', 'Eerste Martijn-342': 'iane trac so themesche broot', 'Eerste Martijn-343': 'hier neder indʼ maghede scoot', 'Eerste Martijn-344': 'onder der iode zwerde', 'Eerste Martijn-345': 'minne es god dat merct al bloot', 'Eerste Martijn-346': 'wie mochte els bringhe indʼ noot', 'Eerste Martijn-347': 'hem diet al verwerde', 'Eerste Martijn-348': 'da die he selue dʼ in besloot', 'Eerste Martijn-349': 'en dor ons sijn bloet root', 'Eerste Martijn-350': 'storte hier neder vp derde', 'Eerste Martijn-351': 'en in minne he openberde', 'Eerste Martijn-352': 'vvien dat selke minne es cont', 'Eerste Martijn-353': 'alse caritate hi es ghesont', 'Eerste Martijn-354': 'me machene niet vʼblenden', 'Eerste Martijn-355': 'al laghe hi indʼ helle gront', 'Eerste Martijn-356': 'ware hi dʼ mede ghewont', 'Eerste Martijn-357': 'hine ware niet in ellende', 'Eerste Martijn-358': 'mʼ god en wille de rike vont', 'Eerste Martijn-359': 'gheene sondare gheene hont', 'Eerste Martijn-360': 'nemermeer toe senden', 'Eerste Martijn-361': 'die edele haue dat diere pont', 'Eerste Martijn-362': 'smaect alleene dʼ vriende mont', 'Eerste Martijn-363': 'me mach hʼ lijf doen henden', 'Eerste Martijn-364': 'en niet die ziele scenden', 'Eerste Martijn-365': 'dandʼ minne es onbehoet', 'Eerste Martijn-366': 'wat soe staet om terdsche goet', 'Eerste Martijn-367': 'en om der weerelt eere', 'Eerste Martijn-368': 'dits die mine die dicke doet', 'Eerste Martijn-369': 'rudderscap wese vʼwoet', 'Eerste Martijn-370': 'enten woeke heere', 'Eerste Martijn-371': 'wat die rudder niet gheroet', 'Eerste Martijn-372': 'hine vʼslijt vleesch en bloet', 'Eerste Martijn-373': 'vp dat sijn prijs meere', 'Eerste Martijn-374': 'tander al ware ghelt de vloet', 'Eerste Martijn-375': 'en he vloyde in sine moet', 'Eerste Martijn-376': 'he soude noch also zeere', 'Eerste Martijn-377': 'dorste dant dede eere', 'Eerste Martijn-378': 'dese minne heeft ondʼsceet', 'Eerste Martijn-379': 'va he die om die om die eʼe steet', 'Eerste Martijn-380': 'entie pijnt omde scatte', 'Eerste Martijn-381': 'wiltu eere hebbe wes ghereet', 'Eerste Martijn-382': 'te latene dat gode es leet', 'Eerste Martijn-383': 'pijndi ome datte', 'Eerste Martijn-384': 'dat he lief es en dat hi heet', 'Eerste Martijn-385': 'wes vromech en om die eere sneet', 'Eerste Martijn-386': 'houtti dat me di niet en matte', 'Eerste Martijn-387': 'ondʼ der ydelre glorie cleet', 'Eerste Martijn-388': 'dʼ menestraudie met ome gheet', 'Eerste Martijn-389': 'wat hare tonghe platte', 'Eerste Martijn-390': 'smelte alse snee clatte', 'Eerste Martijn-391': 'eere te minne dats eene dinc', 'Eerste Martijn-392': 'dʼ noit hʼte met ome ghinc', 'Eerste Martijn-393': 'sone was va reenen aerde', 'Eerste Martijn-394': 'bestu hout of ionghelinc', 'Eerste Martijn-395': 'doe wel altoes en ontsprinc', 'Eerste Martijn-396': 'die hʼte houaerde', 'Eerste Martijn-397': 'prijs die in lodders toghe hinc', 'Eerste Martijn-398': 'hen was noyt wert eere oghe winc', 'Eerste Martijn-399': 'onder die goede waerde', 'Eerste Martijn-400': 'onwerde lof vlie en ontsprinc', 'Eerste Martijn-401': 'die meneghe vaet en wile vinc', 'Eerste Martijn-402': 'die dat wort begaerde', 'Eerste Martijn-403': 'en dat weldoen spaerde', 'Eerste Martijn-404': 'goet te hebbene en scat', 'Eerste Martijn-405': 'en tamelike te nuttene dat', 'Eerste Martijn-406': 'dats een salich leuen', 'Eerste Martijn-407': 'mʼ goets minne maect i gat', 'Eerste Martijn-408': 'dat nemermee mach werde sat', 'Eerste Martijn-409': 'al wildement he al gheuen', 'Eerste Martijn-410': 'minne va goede wert ghehat', 'Eerste Martijn-411': 'vor gode in die hoghe stat', 'Eerste Martijn-412': 'dʼ die inghele beue', 'Eerste Martijn-413': 'dese scuwe dʼ eeren pat', 'Eerste Martijn-414': 'want soe moet int helsche vat', 'Eerste Martijn-415': 'salemoen heuet bescreue', 'Eerste Martijn-416': 'ennes niet erghers bleue', 'Eerste Martijn-417': 'die derde minne heeschet de tijt', 'Eerste Martijn-418': 'alse die nature ontbijt', 'Eerste Martijn-419': 'die bloyende jare', 'Eerste Martijn-420': 'dat es tedelste delijt', 'Eerste Martijn-421': 'alse hare scamelheit besnijt', 'Eerste Martijn-422': 'en men doghet heuet mare', 'Eerste Martijn-423': 'die me vint ter wʼelt wijt', 'Eerste Martijn-424': 'wat soe talre stont vʼblijt', 'Eerste Martijn-425': 'rechts oft al hare ware', 'Eerste Martijn-426': 'hope nemermeer te glijt', 'Eerste Martijn-427': 'die aldus sijn lijf vʼslijt', 'Eerste Martijn-428': 'maect sine zinne claer', 'Eerste Martijn-429': 'want god en es gheen futselaer', 'Eerste Martijn-430': 'minne es alse me bescreue vint', 'Eerste Martijn-431': 'cracht die twee herte bint', 'Eerste Martijn-432': 'tsamen in een reene wanen', 'Eerste Martijn-433': 'dattie minne heetet blint', 'Eerste Martijn-434': 'doet dat menich es so kint', 'Eerste Martijn-435': 'dat hi he laet vʼspanen', 'Eerste Martijn-436': 'sine cone minne niet i twint', 'Eerste Martijn-437': 'die wandel sijn alse die wint', 'Eerste Martijn-438': 'si rolle buter banen', 'Eerste Martijn-439': 'ic waen mer also vele vint', 'Eerste Martijn-440': 'minres in trouwe ghehint', 'Eerste Martijn-441': 'alse me doet zwarter zwanen', 'Eerste Martijn-442': 'dus laet hare minne af plane', 'Eerste Martijn-443': 'martin ic ben des wel berecht', 'Eerste Martijn-444': 'het seghet al heʼen en knecht', 'Eerste Martijn-445': 'vrouwe en ioncvrouwen', 'Eerste Martijn-447': 'dat si met minne sijn vʼplecht', 'Eerste Martijn-446': 'in sanghe en in rime slecht', 'Eerste Martijn-448': 'en me caens niet bescauwe', 'Eerste Martijn-449': 'mi dincke dat al die wʼelt vecht', 'Eerste Martijn-450': 'ieghe reenre minne lecht', 'Eerste Martijn-451': 'en volghe ontrouwe', 'Eerste Martijn-452': 'menech seghet nv en echt', 'Eerste Martijn-453': 'mijn sin es so ane v ghehecht', 'Eerste Martijn-454': 'dat ic wane bedouwen', 'Eerste Martijn-455': 'achtre make si de mouwe', 'Eerste Martijn-456': 'iacop du hebs mi oit ghevraghet', 'Eerste Martijn-457': 'en ic andwort en vʼdraghet', 'Eerste Martijn-458': 'nu willic martin vraghen', 'Eerste Martijn-459': 'waenstu dat mi wel behaghet', 'Eerste Martijn-460': 'dattu mi dus heues gheiaghet', 'Eerste Martijn-461': 'neent wistics wien claghe', 'Eerste Martijn-462': 'martin vrient wat helpt gheclaghet', 'Eerste Martijn-463': 'vrach dattu wilt en ic ghewaghet', 'Eerste Martijn-464': 'ic wilt al vʼdraghen', 'Eerste Martijn-465': 'god helpe mi want hi vʼmaghet', 'Eerste Martijn-466': 'dat mijn sin so werde ghevaghet', 'Eerste Martijn-467': 'dats di moete behaghe', 'Eerste Martijn-468': 'ic wille dandworde waghe', 'Eerste Martijn-469': 'lieue iacop so berecht mi', 'Eerste Martijn-470': 'of dat volc al comen si', 'Eerste Martijn-471': 'vande eersten adame', 'Eerste Martijn-472': 'twi es deen edel dandʼ vri', 'Eerste Martijn-473': 'die derde eyghin man dʼ bi', 'Eerste Martijn-474': 'wane qua desen name', 'Eerste Martijn-475': 'twi seghemen ten dorꝑe spi', 'Eerste Martijn-476': 'ganc wech god onneere di', 'Eerste Martijn-477': 'du best der wʼelt scame', 'Eerste Martijn-478': 'die edele heuet al tghecri', 'Eerste Martijn-479': 'men seghet willecome ghi', 'Eerste Martijn-480': 'dats dies ic nu vʼgrame', 'Eerste Martijn-481': 'want het dinct mi ontame', 'Eerste Martijn-482': 'martin de meneghe es bedect', 'Eerste Martijn-483': 'die dinc dʼ dijn sin vp mect', 'Eerste Martijn-484': 'en du vraghes wel verre', 'Eerste Martijn-485': 'want heuet een ꝑsemier geblect', 'Eerste Martijn-486': 'ente liede thare ontpect', 'Eerste Martijn-487': 'so wille hi sonder merre', 'Eerste Martijn-488': 'onder die edele sijn ghetrect', 'Eerste Martijn-489': 'al ware hi c fout beulect', 'Eerste Martijn-490': 'tghelt claerte vande terre', 'Eerste Martijn-491': 'dits die dinc die liede wect', 'Eerste Martijn-492': 'en menich sins te winne trect', 'Eerste Martijn-493': 'en maecter gode om erre', 'Eerste Martijn-494': 'entie ziele in die werre', 'Eerste Martijn-495': 'nv waent sulc dat tfolc eyghijn', 'Eerste Martijn-496': 'come es vande quade cayhijn', 'Eerste Martijn-497': 'die vʼmorde abelle', 'Eerste Martijn-498': 'en dien god vʼdoemt hiet sijn', 'Eerste Martijn-499': 'dit en es niet waer martijn', 'Eerste Martijn-500': 'bi redenen die ic telle', 'Eerste Martijn-501': 'want al dat gheslachte sijn', 'Eerste Martijn-502': 'bescrijft ons die bibele fijn', 'Eerste Martijn-503': 'verdranc die louie felle', 'Eerste Martijn-504': 'mʼ dat dorplijc venijn', 'Eerste Martijn-505': 'dat caym drouch dats noch anschijn', 'Eerste Martijn-506': 'an meneghe die ic telle', 'Eerste Martijn-507': 'van herten sijn gheselle', 'Eerste Martijn-508': 'sulc waent dat vande quade cam', 'Eerste Martijn-509': 'doe noe sijn vader was gram', 'Eerste Martijn-510': 'want hine niet en decte', 'Eerste Martijn-511': 'dat eyghin volc va he qua', 'Eerste Martijn-512': 'wat he sijns vadʼ vlouc mesqua', 'Eerste Martijn-513': 'hi dolde diere vp mecte', 'Eerste Martijn-514': 'al vindme dattie goede ram', 'Eerste Martijn-515': 'dicke wint dongaue lam', 'Eerste Martijn-516': 'dits der rudarise secte', 'Eerste Martijn-517': 'vande edele abraham', 'Eerste Martijn-518': 'qua eyghin volc als ic vʼnam', 'Eerste Martijn-519': 'dat oint ter eeren trecte', 'Eerste Martijn-520': 'noch noit he beulecte', 'Eerste Martijn-521': 'martin tduudsche loy vʼtelt', 'Eerste Martijn-522': 'dat va onrechtre ghewelt', 'Eerste Martijn-523': 'eyghindoem es comen', 'Eerste Martijn-524': 'alse een prinche vʼwan wijch vp tvelt', 'Eerste Martijn-525': 'en sine viande hadde gheuelt', 'Eerste Martijn-526': 'dat hiet hi vʼdoemen', 'Eerste Martijn-527': 'en vʼcopen ome ghelt', 'Eerste Martijn-528': 'dits volc dat me noch eyghin telt', 'Eerste Martijn-529': 'en me scalc hort noemen', 'Eerste Martijn-530': 'natuere gaet hare rechte telt', 'Eerste Martijn-531': 'mʼ auenture wast en snelt', 'Eerste Martijn-532': 'meneghe te vromen', 'Eerste Martijn-533': 'en tonneere he somen', 'Eerste Martijn-534': 'god ghedoghet om onse mesdaet', 'Eerste Martijn-535': 'dat een gheslachte neder gaet', 'Eerste Martijn-536': 'en een ander riset', 'Eerste Martijn-537': 'wie mach weten sine staet', 'Eerste Martijn-538': 'hi weet wiene mint of haet', 'Eerste Martijn-539': 'die aldie wʼelt spiset', 'Eerste Martijn-540': 'die meest tsine dienste staet', 'Eerste Martijn-541': 'men siet dat sijn oyr en sijn saet', 'Eerste Martijn-542': 'meest in die eere gheriset', 'Eerste Martijn-543': 'dan alse tfolc wert so quaet', 'Eerste Martijn-544': 'dat die wet gods vʼsmaet', 'Eerste Martijn-545': 'wert het te valle ghewiset', 'Eerste Martijn-546': 'en va niemene ghepriset', 'Eerste Martijn-547': 'mine rouc wiene drouch of wan', 'Eerste Martijn-548': 'dʼ trouwe en doghet es an', 'Eerste Martijn-549': 'en reene es van seden', 'Eerste Martijn-550': 'huut wat lande dat hi ran', 'Eerste Martijn-551': 'dats die ic der namen an', 'Eerste Martijn-552': 'vander edelheden', 'Eerste Martijn-553': 'al vʼcochtmen selken man', 'Eerste Martijn-554': 'hens nieme die he gheroue can', 'Eerste Martijn-555': 'siere doghedachticheden', 'Eerste Martijn-556': 'mi dincke dat edelheit began', 'Eerste Martijn-557': 'huter reinre hʼten dan', 'Eerste Martijn-558': 'met dogheden besneden', 'Eerste Martijn-559': 'en beghint noch heden', 'Eerste Martijn-560': 'martijn oftu clemme wout', 'Eerste Martijn-561': 'ter edelheit drie pointe hout', 'Eerste Martijn-562': 'die jc di sal leeren', 'Eerste Martijn-563': 'wes nerachtich en mine niet tgout', 'Eerste Martijn-564': 'wes eerachtich menich fout', 'Eerste Martijn-565': 'dese twee hout niet vor sceren', 'Eerste Martijn-566': 'wes werachtich ende stout', 'Eerste Martijn-567': 'dese drie pointe vaste hout', 'Eerste Martijn-568': 'so bestu vul eeren', 'Eerste Martijn-569': 'hennes nieme jonc no out', 'Eerste Martijn-570': 'dien du scal da dincke sout', 'Eerste Martijn-571': 'sondʼ die weldaet deeren', 'Eerste Martijn-572': 'en doghet tondoghede keeren', 'Eerste Martijn-573': 'vvaerheit jacop ic hebbe vʼstae', 'Eerste Martijn-574': 'vut dine monde redene gaen', 'Eerste Martijn-575': 'vul rechtre waerhede', 'Eerste Martijn-576': 'al spreect in sine bouc alaen', 'Eerste Martijn-577': 'dat edelheit qua sondʼ waen', 'Eerste Martijn-578': 'va vʼhouderder rijcheden', 'Eerste Martijn-579': 'die delheit mach me af dwae', 'Eerste Martijn-580': 'wertme arem so eist ghedaen', 'Eerste Martijn-581': 'men valt in doude steden', 'Eerste Martijn-582': 'mʼ reene edelheit dats i traen', 'Eerste Martijn-583': 'die dorꝑ hʼte nie conste ontfae', 'Eerste Martijn-584': 'die gheuet dor smeinsche bede', 'Eerste Martijn-585': 'god in sire miltheden', 'Eerste Martijn-586': 'iacop ic hore an dine wort', 'Eerste Martijn-587': 'dat alle meschelike ghebort', 'Eerste Martijn-588': 'va adame begonde', 'Eerste Martijn-589': 'hoe es die maechscap so te stort', 'Eerste Martijn-590': 'dat deen de andre vʼmort', 'Eerste Martijn-591': 'dits iamer en sonde', 'Eerste Martijn-592': 'nijt es weder en voort', 'Eerste Martijn-593': 'meester int lant en in die port', 'Eerste Martijn-594': 'tfolc es worde honde', 'Eerste Martijn-595': 'sech mi alse diet ghʼne hort', 'Eerste Martijn-596': 'te vraghene be ic becoort', 'Eerste Martijn-597': 'alse diet gherne onder vonde', 'Eerste Martijn-598': 'va beghinne te gronde', 'Eerste Martijn-599': 'martin houerde ende nijt', 'Eerste Martijn-600': 'entie alre eerste strijt', 'Eerste Martijn-601': 'begonste in hemelrike', 'Eerste Martijn-602': 'alse lucifer te sire ontijt', 'Eerste Martijn-603': 'inde hemelsche delijt', 'Eerste Martijn-604': 'wilde sijn gods ghelike', 'Eerste Martijn-605': 'dʼ viel hi inde helsche bijt', 'Eerste Martijn-606': 'dʼ hi nemermeer en slijt', 'Eerste Martijn-607': 'mʼ bliuet eewelike', 'Eerste Martijn-608': 'nu sent hi dor die wʼelt wijt', 'Eerste Martijn-609': 'mijn venijn en sijn vlijt', 'Eerste Martijn-610': 'en wille dat het blike', 'Eerste Martijn-611': 'alset doet iamerlike', 'Eerste Martijn-612': 'twee worde in die wʼelt sijn', 'Eerste Martijn-613': 'dats alleene mijn ende dijn', 'Eerste Martijn-614': 'mochtme die vʼdriuen', 'Eerste Martijn-615': 'pays en vrede bleue fijn', 'Eerste Martijn-616': 'het ware al vri en nieme eyghijn', 'Eerste Martijn-617': 'manne mette wiue', 'Eerste Martijn-618': 'het war ghemeene tarwe en wijn', 'Eerste Martijn-619': 'ouer zee noch vpte rijn', 'Eerste Martijn-620': 'ne soudeme nieme ontliuen', 'Eerste Martijn-621': 'nu benemet dat venijn', 'Eerste Martijn-622': 'va ghierichede dit martijn', 'Eerste Martijn-623': 'en doet al achtre bliuen', 'Eerste Martijn-624': 'en ander loy bescriuen', 'Eerste Martijn-625': 'god diet al bi redene doet', 'Eerste Martijn-626': 'gaf dat wandel herdsche goet', 'Eerste Martijn-627': 'der mescheit ghemeene', 'Eerste Martijn-628': 'dattere mede ware ghevoet', 'Eerste Martijn-629': 'en ghecleet en ghescoet', 'Eerste Martijn-630': 'en leuen souden reene', 'Eerste Martijn-631': 'nu es ghiericheit so vʼwoet', 'Eerste Martijn-632': 'dat elc settet sine moet', 'Eerste Martijn-633': 'omme al te hebbene alleene', 'Eerste Martijn-634': 'hier ome stordme mesche bloet', 'Eerste Martijn-635': 'hier ome stichtme mettʼ spoet', 'Eerste Martijn-636': 'borghe en hoghe steene', 'Eerste Martijn-637': 'meneghen te weene', 'Eerste Martijn-638': 'iacop ic hebbe wel vʼstaen', 'Eerste Martijn-639': 'dat het waer es sondʼ waen', 'Eerste Martijn-640': 'dattu hier heues ontbonden', 'Eerste Martijn-641': 'goets es ghenouch lietmet gae', 'Eerste Martijn-642': 'int ghemeene en he ontfaen', 'Eerste Martijn-643': 'die arem worde vonde', 'Eerste Martijn-644': 'dus viele alle orloghe saen', 'Eerste Martijn-645': 'dus mochtme die ziele dwaen', 'Eerste Martijn-646': 'en claren vande sonde', 'Eerste Martijn-647': 'miltheit heeft hare macht ghedae', 'Eerste Martijn-648': 'vrecheit leert die wʼelt vlaen', 'Eerste Martijn-649': 'dit proeue en orconden', 'Eerste Martijn-650': 'die minres vande ponde', 'Eerste Martijn-651': 'iacop eene dinc mac mi cont', 'Eerste Martijn-652': 'alse die mesche es ghewont', 'Eerste Martijn-653': 'va gherechtre minnen', 'Eerste Martijn-654': 'doet der oghe wandel vont', 'Eerste Martijn-655': 'al comet vter herte gront', 'Eerste Martijn-656': 'dit euel te beghinne', 'Eerste Martijn-657': 'ic liet mi coste wel een pont', 'Eerste Martijn-658': 'en ics vroet ware teser stont', 'Eerste Martijn-659': 'mac mi dies in inne', 'Eerste Martijn-660': 'mine redene bliuet onghesont', 'Eerste Martijn-661': 'ø', 'Eerste Martijn-662': 'hennes wijsheit niet dinne', 'Eerste Martijn-663': 'naer dat ic redene kinne', 'Eerste Martijn-664': 'martin du best eene vri druut', 'Eerste Martijn-665': 'du spreex recht als een vriese ruut', 'Eerste Martijn-666': 'die noch noit en minde', 'Eerste Martijn-667': 'alre hande edele fruut', 'Eerste Martijn-668': 'comt va minne vut en vut', 'Eerste Martijn-669': 'die noit dorper en kinde', 'Eerste Martijn-670': 'he can ghehelpe el gheen cruut', 'Eerste Martijn-671': 'die stille mint of ouer luut', 'Eerste Martijn-672': 'dan he teuel toe sinde', 'Eerste Martijn-673': 'der herte enter oghe virtuut', 'Eerste Martijn-674': 'willic dat hier mede si beduut', 'Eerste Martijn-675': 'prouf of ic dit ontbinde', 'Eerste Martijn-676': 'entie redene bevinde', 'Eerste Martijn-677': 'een zwʼ orloghe en een gᵒt strijt', 'Eerste Martijn-678': 'en daer toe een eewelijc nijt', 'Eerste Martijn-679': 'es tussche dʼ herte ente oghe', 'Eerste Martijn-680': 'therte de oghen verwijt', 'Eerste Martijn-681': 'du best die mijns niet ne vʼmijt', 'Eerste Martijn-682': 'bidi bem ic bedroghen', 'Eerste Martijn-683': 'du best open talre tijt', 'Eerste Martijn-684': 'elke besonder die vordi lijt', 'Eerste Martijn-685': 'du best vrient dits gheloghe', 'Eerste Martijn-686': 'sluut dine dore teenegher tijt', 'Eerste Martijn-687': 'dʼ menich dief vore lijt', 'Eerste Martijn-688': 'bidi ben ic bedroghen', 'Eerste Martijn-689': 'dies claghic de oghen', 'Eerste Martijn-690': 'vvapene vriendelijc viant', 'Eerste Martijn-691': 'dor di doghic meneghe pant', 'Eerste Martijn-692': 'en meneghe coude', 'Eerste Martijn-693': 'wach datti nature oit vant', 'Eerste Martijn-694': 'waerdi vʼbode huus en lant', 'Eerste Martijn-695': 'en des meischen houde', 'Eerste Martijn-696': 'sone bonde mi gheen bant', 'Eerste Martijn-697': 'lichtre ware dan een zant', 'Eerste Martijn-698': 'al gader mine scoude', 'Eerste Martijn-699': 'men stake bet vut mettʼ hant', 'Eerste Martijn-700': 'en vʼsmorde sulke pant', 'Eerste Martijn-701': 'onder donreene moude', 'Eerste Martijn-702': 'vp dat nature woude', 'Eerste Martijn-703': 'therte zweech en toghe sprac', 'Eerste Martijn-704': 'mi dinct dat hu sin ghebrac', 'Eerste Martijn-705': 'vrouwe coninghinne', 'Eerste Martijn-706': 'dat ghi mi tyet hu onghemac', 'Eerste Martijn-707': 'wat noit va mi tuwaert lac', 'Eerste Martijn-708': 'een stof al quaemt mi inne', 'Eerste Martijn-709': 'alse me mi somwile vte stac', 'Eerste Martijn-710': 'wat dochte dʼ na smeinsche sac', 'Eerste Martijn-711': 'sijn wel vare was dinne', 'Eerste Martijn-712': 'sondʼ noot maecti ghecrac', 'Eerste Martijn-713': 'en werpt vp mi uwe hac', 'Eerste Martijn-714': 'dat ic hu vrouwe kinne', 'Eerste Martijn-715': 'en mine coninghinne', 'Eerste Martijn-716': 'merket vrouwe en besiet', 'Eerste Martijn-717': 'dat ghi ouer mi ghebiet', 'Eerste Martijn-718': 'alse ouer alle huwe lede', 'Eerste Martijn-719': 'mene conde hu ghescade niet', 'Eerste Martijn-720': 'waert so dat ghi va hu sciet', 'Eerste Martijn-721': 'alle dorꝑhede', 'Eerste Martijn-722': 'mʼ alse ghi bi mi bespiet', 'Eerste Martijn-723': 'dinghe die ghi ane v tiet', 'Eerste Martijn-724': 'volghedijs gherne mede', 'Eerste Martijn-725': 'ghi sijt alse tcrancke riet', 'Eerste Martijn-726': 'dat de winde volghet en vliet', 'Eerste Martijn-727': 'hu onghestadichede', 'Eerste Martijn-728': 'maect hu den onvrede', 'Eerste Martijn-729': 'dit orloghe heuet ghevelt', 'Eerste Martijn-730': 'alse me hare de twist vʼtelt', 'Eerste Martijn-731': 'vrouwe redene bi besceede', 'Eerste Martijn-732': 'beede gader soese scelt', 'Eerste Martijn-733': 'elke deelt soe dʼ sijn ghelt', 'Eerste Martijn-734': 'niet ghelike beede', 'Eerste Martijn-735': 'baersculdich soe die hʼte spelt', 'Eerste Martijn-736': 'alse diese ouʼ voghet helt', 'Eerste Martijn-737': 'en vrouwe bi hare heede', 'Eerste Martijn-738': 'mʼ des ongheuals ghewelt', 'Eerste Martijn-739': 'dat bi ziene thʼte dwelt', 'Eerste Martijn-740': 'tyet soe des oghes gheleede', 'Eerste Martijn-741': 'dus deelet soe die veede', 'Eerste Martijn-742': 'martin hier bi moghestu sien', 'Eerste Martijn-743': 'weder die oghe therte vlien', 'Eerste Martijn-744': 'so therte die oghen', 'Eerste Martijn-745': 'alse therte wille ontien', 'Eerste Martijn-746': 'om niet dan die oghe spien', 'Eerste Martijn-747': 'dʼ nes gheen ghedoghen', 'Eerste Martijn-748': 'mʼ hets emmer der herte plien', 'Eerste Martijn-749': 'alst dor doghe siet dese of dien', 'Eerste Martijn-750': 'daert he toe wille boghen', 'Eerste Martijn-751': 'so moet al sijn wille ghescien', 'Eerste Martijn-752': 'toghe moet lyen en ghien', 'Eerste Martijn-753': 'dʼ dore qua ghevloghen', 'Eerste Martijn-754': 'minne int vertoghen', 'Eerste Martijn-755': 'iacop dine redene es claer', 'Eerste Martijn-756': 'al dinct soe de ghene zwaer', 'Eerste Martijn-757': 'die lettel ghevroede', 'Eerste Martijn-758': 'ic weet dat wel ouer waer', 'Eerste Martijn-759': 'die ziele ware al sonder vaer', 'Eerste Martijn-760': 'en in sekerre hoeden', 'Eerste Martijn-761': 'wilde therte make ommaer', 'Eerste Martijn-762': 'dʼ hare die oghe sendde naer', 'Eerste Martijn-763': 'nieme dorstem vʼmoeden', 'Eerste Martijn-764': 'dat hi beuen soude daer', 'Eerste Martijn-765': 'ø', 'Eerste Martijn-766': 'en wise ten gloeden', 'Eerste Martijn-767': 'die hier ten sonden spoeden', 'Eerste Martijn-768': 'berecht mi jacop oftu wout', 'Eerste Martijn-769': 'weder es sekerst int behout', 'Eerste Martijn-770': 'rijcheit so aermoede', 'Eerste Martijn-771': 'eist leec clerc ionc of hout', 'Eerste Martijn-772': 'het dinc mi wese gadʼ gout', 'Eerste Martijn-773': 'alstaet naer den goede', 'Eerste Martijn-774': 'aermoede prijstme menich fout', 'Eerste Martijn-775': 'men seghet soe es seker en bout', 'Eerste Martijn-776': 'vor rouers sonder hoede', 'Eerste Martijn-777': 'doch minne si vor dwater smout', 'Eerste Martijn-778': 'si scuwe hongher ende cout', 'Eerste Martijn-779': 'eist alsic mi gheuroede', 'Eerste Martijn-780': 'so dolen dese vroede', 'Eerste Martijn-781': 'martin ic mete di vul dit vat', 'Eerste Martijn-782': 'vpte stoel dʼ moyses sat', 'Eerste Martijn-783': 'daer sitte die gheleerde', 'Eerste Martijn-784': 'dat si wise doe al dat', 'Eerste Martijn-785': 'si wise bi de rechten pat', 'Eerste Martijn-786': 'wel he diere he an keerde', 'Eerste Martijn-787': 'mʼ in wel deene sijn si lat', 'Eerste Martijn-788': 'si heete vaste si sijn sat', 'Eerste Martijn-789': 'ne volghe niet sulke heerde', 'Eerste Martijn-790': 'sine minne niet vorde scat', 'Eerste Martijn-791': 'hʼ hant es altoes sondʼ gat', 'Eerste Martijn-792': 'noint volc was boue der erde', 'Eerste Martijn-793': 'dat meer goeds begherde', 'Eerste Martijn-794': 'die meerre menechte es dʼ daen', 'Eerste Martijn-795': 'doch vint mer sonder waen', 'Eerste Martijn-796': 'al sijn si selsiene', 'Eerste Martijn-797': 'die de erdsche goede ontgae', 'Eerste Martijn-798': 'en aermoede anevaen', 'Eerste Martijn-799': 'bi heleghe engiene', 'Eerste Martijn-800': 'si liete he bluwe en slaen', 'Eerste Martijn-801': 'tormentere en vaen', 'Eerste Martijn-802': 'ome die helle tontvliene', 'Eerste Martijn-803': 'hier in waert sekerst vulstae', 'Eerste Martijn-804': 'wat die he in dit doepsel dwae', 'Eerste Martijn-805': 'sijn seker gode te ziene', 'Eerste Martijn-806': 'noch niet te messchiene', 'Eerste Martijn-807': 'die gods sone toghet ons dat', 'Eerste Martijn-808': 'die enen gheweldich sit en sat', 'Eerste Martijn-809': 'den vadʼ in sijn rike', 'Eerste Martijn-810': 'hi beete in dese aerme stat', 'Eerste Martijn-811': 'inder reynre marien vat', 'Eerste Martijn-812': 'harde omoedelike', 'Eerste Martijn-813': 'dʼ hi cume soghes was sat', 'Eerste Martijn-814': 'en ghedoghede meneghe gadsat', 'Eerste Martijn-815': 'va sine onghelike', 'Eerste Martijn-816': 'dat aermoede es een pat', 'Eerste Martijn-817': 'die dor de hemel maect een gat', 'Eerste Martijn-818': 'en soe niet en beswike', 'Eerste Martijn-819': 'die hare met trouwe wike', 'Eerste Martijn-820': 'vvaenstu martin weeldich vet', 'Eerste Martijn-821': 'en ghecleet nv wel nv bet', 'Eerste Martijn-822': 'vare int langhe leuen', 'Eerste Martijn-823': 'en jh naect int bloet besmet', 'Eerste Martijn-824': 'en sine rechtre side ghesplet', 'Eerste Martijn-825': '825 en an thout vʼheuen', 'Eerste Martijn-826': 'of thouet va onser wet', 'Eerste Martijn-827': 'met scarpe dorne was beset', 'Eerste Martijn-828': 'alset noch es bescreue', 'Eerste Martijn-829': 'eist dattu wilt sijn sijn let', 'Eerste Martijn-830': 'magherlike drinc en et', 'Eerste Martijn-831': 'leere weelde begheue', 'Eerste Martijn-832': 'oftu moets zware sneuen', 'Eerste Martijn-833': 'niet en segghic dat rijcheit sent', 'Eerste Martijn-834': 'die zielen inden torment', 'Eerste Martijn-835': 'vp dat ment nutte met rechte', 'Eerste Martijn-836': 'maer sekerst es vlie dat serpent', 'Eerste Martijn-837': 'da te wandele dʼ om trent', 'Eerste Martijn-838': 'dat het di niet bevlechte', 'Eerste Martijn-839': 'mʼ rijcheit maect de mesche so blent', 'Eerste Martijn-840': 'dat hi gode nine kent', 'Eerste Martijn-841': 'dus sceet men vande lechte', 'Eerste Martijn-842': 'en wert va leuene een rent', 'Eerste Martijn-843': 'dʼ valt me inde helsche scent', 'Eerste Martijn-844': 'dus bringhet in die echte', 'Eerste Martijn-845': 'die duuel sine knechte', 'Eerste Martijn-846': 'iacop du spreex wel en waer', 'Eerste Martijn-847': 'mʼ die wech es nauwe en zwaer', 'Eerste Martijn-848': 'en zeʼe onghetreden', 'Eerste Martijn-849': 'met aermoede te clemene dʼ', 'Eerste Martijn-850': 'dʼ me leuet sonder vaer', 'Eerste Martijn-851': 'in eewelike vreden', 'Eerste Martijn-852': 'mʼtin so trec die aerme naer', 'Eerste Martijn-853': 'deele he stille en openbaer', 'Eerste Martijn-854': 'va dire weeldicheden', 'Eerste Martijn-855': 'eere der kerke ente outaer', 'Eerste Martijn-856': 'het wert te joncste daghe claer', 'Eerste Martijn-857': 'dʼ di god sal besteden', 'Eerste Martijn-858': 'met sine lieue leden', 'Eerste Martijn-859': 'die wech es nauwe en hooch', 'Eerste Martijn-860': 'dʼ jh bi te hemele vlooch', 'Eerste Martijn-861': 'dats passie en aermoede', 'Eerste Martijn-862': 'oftu meer hebs da di dooch', 'Eerste Martijn-863': 'om die gods hulde pooch', 'Eerste Martijn-864': 'deele va dinen goede', 'Eerste Martijn-865': 'dine fiere hʼte booch', 'Eerste Martijn-866': 'ten arme mesche en pooch', 'Eerste Martijn-867': 'ontfaermcheit va moede', 'Eerste Martijn-868': 'god selue die noit en loech', 'Eerste Martijn-869': 'ente milde noit bedroech', 'Eerste Martijn-870': 'sette di in siere hoede', 'Eerste Martijn-871': 'bute des viants roede', 'Eerste Martijn-872': 'iacop die wʼelt maect ghescal', 'Eerste Martijn-873': 'en thyent de vrouwen al', 'Eerste Martijn-874': 'dat wi in sonden sneuen', 'Eerste Martijn-875': 'want yeue viel den eerste val', 'Eerste Martijn-876': 'dʼ wi ome int erdsche dal', 'Eerste Martijn-877': 'noch alle sijn verdreuen', 'Eerste Martijn-878': 'so segghe si groot en smal', 'Eerste Martijn-879': 'dat soe adame thʼte stal', 'Eerste Martijn-880': 'die he hare liet vʼgheuen', 'Eerste Martijn-881': 'sech mi wien men thyen sal', 'Eerste Martijn-882': 'dit vʼlies sondʼ ghetal', 'Eerste Martijn-883': 'dʼ wi in moete sneue', 'Eerste Martijn-887': 'kent hi vrome ende scade', 'Eerste Martijn-888': 'ic zie die zee ic zie die vloet', 'Eerste Martijn-889': 'ic settere willins in den voet', 'Eerste Martijn-890': 'bi eenen dommen rade', 'Eerste Martijn-891': 'wien maghics draghe euel moet', 'Eerste Martijn-892': 'of mi die stroem metter spoet', 'Eerste Martijn-893': 'draghet inde ghewade', 'Eerste Martijn-894': 'of ic quaet kene en goet', 'Eerste Martijn-895': 'en ic mi veinse verwoet', 'Eerste Martijn-896': 'men saelt claghen spade', 'Eerste Martijn-897': 'dat ic mi vʼlade', 'Eerste Martijn-898': 'sulc thyent de vrouwe vpsien', 'Eerste Martijn-899': 'dat si he dat hʼte ontien', 'Eerste Martijn-900': 'alse die steen die naelde', 'Eerste Martijn-901': 'hi dinct mi mesdoen in dien', 'Eerste Martijn-902': 'wilde hi der wʼheit ghien', 'Eerste Martijn-903': 'dat hi dʼ toe taelde', 'Eerste Martijn-904': 'wat moghens vrouwe dat mane plie', 'Eerste Martijn-905': 'so nauwe om hare scoenheit spie', 'Eerste Martijn-906': 'wies diese daer toe haelde', 'Eerste Martijn-907': 'wilde die claghere in tijt vlien', 'Eerste Martijn-908': 'sone mochtem niet messchien', 'Eerste Martijn-909': 'en hi den sin vʼstaelde', 'Eerste Martijn-910': 'eer he therte daelde', 'Eerste Martijn-911': 'vrauwe sijn bi natuere goet', 'Eerste Martijn-912': 'si slachte den wine enter gloet', 'Eerste Martijn-913': 'die de wʼelt vʼbliden', 'Eerste Martijn-914': 'want wie des wijns te vele in doet', 'Eerste Martijn-915': 'en te naer de viere set den voet', 'Eerste Martijn-916': 'hine caens niet gheliden', 'Eerste Martijn-917': 'ware die mane also behoet', 'Eerste Martijn-918': 'dat si oghen sin en moet', 'Eerste Martijn-923': 'dit doet vrouwe beniden', 'Eerste Martijn-924': 'dat men te lettel ghetrouwe kint', 'Eerste Martijn-925': 'vrouwe claghic niet een twint', 'Eerste Martijn-926': 'bi eere maniere', 'Eerste Martijn-927': 'want wat so men vele vint', 'Eerste Martijn-928': 'wert onwert en onghemint', 'Eerste Martijn-929': 'en men copet ondiere', 'Eerste Martijn-930': 'manne sijn loser da die wint', 'Eerste Martijn-931': 'hare scone claghe vᵒuwe vʼblint', 'Eerste Martijn-932': 'want si sijn goedertiere', 'Eerste Martijn-933': 'grote sonde hi he bewint', 'Eerste Martijn-934': 'die valsche worde vᵒuwe toe sint', 'Eerste Martijn-935': 'god die moetene schiere', 'Eerste Martijn-936': 'senden ten helschen viere', 'Eerste Martijn-937': 'vvat mochte vʼhieue dat adm', 'Eerste Martijn-938': 'dor hare wille de appel nam', 'Eerste Martijn-939': 'dat wi noch besteruen', 'Eerste Martijn-940': 'ic waenre ons vordeel ane qua', 'Eerste Martijn-941': 'wat hier ome themelsche lam', 'Eerste Martijn-942': 'wart mesche tonser bederue', 'Eerste Martijn-943': 'hi vʼsoende den vader gram', 'Eerste Martijn-944': 'en wijsde de wech enten dam', 'Eerste Martijn-945': 'toter hogher heruen', 'Eerste Martijn-946': 'selsienre dinc noit man vʼnam', 'Eerste Martijn-947': 'da die maghet gode maecte so tam', 'Eerste Martijn-948': 'dat hi eene weruen', 'Eerste Martijn-949': 'om ons wilde steruen', 'Eerste Martijn-950': 'vvat make quaet sprekers ghescal', 'Eerste Martijn-951': 'vrauwe dadent wel na al', 'Eerste Martijn-952': 'dat dit wondʼ ghesciede', 'Eerste Martijn-953': 'al dat es en wesen sal', 'Eerste Martijn-954': 'en dat oint was sondʼ ghetal', 'Eerste Martijn-955': 'inghele ende liede', 'Eerste Martijn-956': 'beueden groot ende smal', 'Eerste Martijn-957': 'maria ghenas den val', 'Eerste Martijn-958': 'va meinscheliken diede', 'Eerste Martijn-959': 'soe was die rouede en stal', 'Eerste Martijn-960': 'die zielen int helsche dal', 'Eerste Martijn-961': 'dies lucifer beghiede', 'Eerste Martijn-962': 'wat het was sine meiseniede', 'Eerste Martijn-963': 'iacop du best de vᵒuwe hout', 'Eerste Martijn-964': 'du gheues de manne al de scout', 'Eerste Martijn-965': 'ic wanict best ghedoghe', 'Eerste Martijn-966': 'ic vʼgheue al onghedout', 'Eerste Martijn-967': 'alle vrouwe jonc en hout', 'Eerste Martijn-968': 'omme die vrouwe hoghe', 'Eerste Martijn-969': 'dʼ ons af qua onse behout', 'Eerste Martijn-970': 'ghedanct si soes menichfout', 'Eerste Martijn-971': 'dat soene vp hilt met soghe', 'Eerste Martijn-972': 'die ons benam dat helsche cout', 'Eerste Martijn-973': 'in hare bem ic te hendene bout', 'Eerste Martijn-974': 'onse dyaloghe', 'Eerste Martijn-975': 'in vraghe nemeer no ne toghe', 'Tweede Martijn-976': 'dander martijn', 'Tweede Martijn-001': 'martijn slaepstu slaept dijn sin', 'Tweede Martijn-002': 'spreect heuestu gheen spreke in', 'Tweede Martijn-003': 'du dinx mi al vʼdoren', 'Tweede Martijn-004': 'dune achtes meer no min', 'Tweede Martijn-005': 'dan ome weelde en om ghewin', 'Tweede Martijn-006': 'wiltu di dus vʼsmoren', 'Tweede Martijn-007': 'waert al dijn dat comt int swin', 'Tweede Martijn-008': 'gout seluer stael loet yser tin', 'Tweede Martijn-009': 'so bleuestu vʼloren', 'Tweede Martijn-010': 'daetstu ter doghet gheen beghin', 'Tweede Martijn-011': 'hef vp dijn houet en dine kin', 'Tweede Martijn-012': 'tontijt waerstu gheboren', 'Tweede Martijn-013': 'heuestu dat dichte vʼzwore', 'Tweede Martijn-014': 'iacop du woens inde dam', 'Tweede Martijn-015': 'en ic te dorderecht dies be ic gram', 'Tweede Martijn-016': 'dat wi dus sijn vʼsceeden', 'Tweede Martijn-017': 'weetstu wat mi oit mesqua', 'Tweede Martijn-018': 'dat ic bate noch nie vʼnam', 'Tweede Martijn-019': 'ant dichte va ons beeden', 'Tweede Martijn-020': 'so es mi die sin worde so lam', 'Tweede Martijn-021': 'dat icker node weder an qua', 'Tweede Martijn-022': 'dit deet mi vʼleeden', 'Tweede Martijn-023': 'du wecs mi alse een stotel ram', 'Tweede Martijn-024': 'al bestu wilt du werts tam', 'Tweede Martijn-025': 'leere dine worden cleeden', 'Tweede Martijn-026': 'soetelike en ghereeden', 'Tweede Martijn-027': 'martijn vrient hebbic messeit', 'Tweede Martijn-028': 'ic bems te beterne ghereit', 'Tweede Martijn-029': 'ic wils al vp hu bliuen', 'Tweede Martijn-030': 'mʼ vʼstant mi en ontbint', 'Tweede Martijn-031': 'eene dinc die mi vp thʼte leit', 'Tweede Martijn-032': 'die willic hu bescriuen', 'Tweede Martijn-033': 'dʼ hare die wʼelt mede meit', 'Tweede Martijn-034': 'ne dade dat lief worde leit', 'Tweede Martijn-035': 'en dats minne va wiue', 'Tweede Martijn-036': 'wat dat es in dese wʼelt breit', 'Tweede Martijn-037': 'steden bosch berch en preit', 'Tweede Martijn-038': 'soude men vʼdriuen', 'Tweede Martijn-039': 'wildemen minne ontliuen', 'Tweede Martijn-040': 'so jacop dit was oint dijn doen', 'Tweede Martijn-041': 'van vrouwe moeste dijn sermoen', 'Tweede Martijn-042': 'of beghinnen of enden', 'Tweede Martijn-043': 'waerstu een dorp du spraex va coen', 'Tweede Martijn-044': 'nu es dine hʼte dies ontfloen', 'Tweede Martijn-045': 'doch willix mi ghenende', 'Tweede Martijn-046': 'en steke af mine caproen', 'Tweede Martijn-047': 'en hore watti hier toe spoen', 'Tweede Martijn-048': 'dattu den onbekenden', 'Tweede Martijn-049': 'martine niene laets gheroen', 'Tweede Martijn-050': 'al haddic ane ii yserine scoen', 'Tweede Martijn-051': 'in mochtu niet ontwende', 'Tweede Martijn-052': 'nu sprec ic saelt ontbende', 'Tweede Martijn-053': 'martijn du sout mi vʼstaen', 'Tweede Martijn-054': 'eene vrouwe wel ghedaen', 'Tweede Martijn-055': 'heuet mi gheuaen met minne', 'Tweede Martijn-056': 'al dat gode es onderdaen', 'Tweede Martijn-057': 'lietic al om hare gaen', 'Tweede Martijn-058': 'mochticse ghewinne', 'Tweede Martijn-059': 'nochta weetic wel sondʼ waen', 'Tweede Martijn-060': 'dat soe mijns niet en acht i spaen', 'Tweede Martijn-061': 'mijn hʼte doet mi bekinne', 'Tweede Martijn-062': 'al soudʼ ome die wʼelt vʼgae', 'Tweede Martijn-063': 'dat soe mi niet en soude ontfae', 'Tweede Martijn-064': 'in hare herte binnnen', 'Tweede Martijn-065': 'hier toe nes gheen vʼwinne', 'Tweede Martijn-066': 'eene andʼ vrouwe es die mi mint', 'Tweede Martijn-067': 'boue al dat so leuede kint', 'Tweede Martijn-068': 'met ghestader trouwen', 'Tweede Martijn-069': 'die mi gheprijst es niet i twint', 'Tweede Martijn-070': 'mʼ die scoenste die men vint', 'Tweede Martijn-071': 'en bloeme va alle vrouwe', 'Tweede Martijn-072': 'nu es mijn hʼte so hart i vlint', 'Tweede Martijn-073': 'dat soe hare jet dʼ toe vʼbint', 'Tweede Martijn-074': 'dat soese wille scouwen', 'Tweede Martijn-075': 'hoe lieue vpsien soe mi toe sint', 'Tweede Martijn-076': 'het dinct mire hʼte sijn i wint', 'Tweede Martijn-077': 'soe liete hare eer bedouwe', 'Tweede Martijn-078': 'eer soere ome quame in rouwe', 'Tweede Martijn-079': 'martin nv hore en vʼstant', 'Tweede Martijn-080': 'dese twee sijn in een bewant', 'Tweede Martijn-081': 'dat coste moet seens leuen', 'Tweede Martijn-082': 'nu hebbic de macht in mijn hat', 'Tweede Martijn-083': 'welc ic wille ic breke de bant', 'Tweede Martijn-084': 'en maghet hare al vʼgheue', 'Tweede Martijn-085': 'deene moetʼ laten den pant', 'Tweede Martijn-086': 'den liefsten die god oint vant', 'Tweede Martijn-087': 'hier toe sijn si vʼdreuen', 'Tweede Martijn-088': 'ne liech mi niet als i triwant', 'Tweede Martijn-089': 'mʼ sech mi an welken cant', 'Tweede Martijn-090': 'dijn herte es bleuen', 'Tweede Martijn-091': 'en welke du liets sneuen', 'Tweede Martijn-092': 'iacop dins gheens vraghens wʼt', 'Tweede Martijn-093': 'die de wʼheit niene spaert', 'Tweede Martijn-094': 'heuet dit saen ontbonden', 'Tweede Martijn-095': 'het es emer der herte aert', 'Tweede Martijn-096': 'dat soe dʼ waert tijt en vaert', 'Tweede Martijn-097': 'dane hare quame die wonde', 'Tweede Martijn-098': 'al sout al varen inder vaert', 'Tweede Martijn-099': 'wat so wel varens begaert', 'Tweede Martijn-100': 'nu en tallen stonden', 'Tweede Martijn-101': 'ic vʼloeste die mi thʼte bezwaert', 'Tweede Martijn-102': 'soudic hare da doe smake tswʼt', 'Tweede Martijn-103': 'dat ware onder vonden', 'Tweede Martijn-104': 'meerre moert dan sonden', 'Tweede Martijn-105': 'tonghe lieghet mʼ thʼte niet', 'Tweede Martijn-106': 'wat so wat dat hʼte ghebiet', 'Tweede Martijn-107': 'wilmen emer vulbringhen', 'Tweede Martijn-108': 'wat es naersins ghesciet', 'Tweede Martijn-109': 'die sine vorme spieghelt en siet', 'Tweede Martijn-110': 'int water sonder minghen', 'Tweede Martijn-111': 'hant en mont hi dare wʼt biet', 'Tweede Martijn-112': 'hi bit hi claghet sijn vʼdriet', 'Tweede Martijn-113': 'natuere ne wils niet ghehinghe', 'Tweede Martijn-114': 'dat he can ghehelpe niet', 'Tweede Martijn-115': 'hi dolt alse hi wel selue siet', 'Tweede Martijn-116': 'hine constem niet bedwinghe', 'Tweede Martijn-117': 'hine staerf bi desen dinghen', 'Tweede Martijn-118': 'medea toghet ons selue dat', 'Tweede Martijn-119': 'die rouede en stal haers vadʼ scat', 'Tweede Martijn-120': 'en vʼslouch haren broeder', 'Tweede Martijn-121': 'om jazoene dies hʼ cume bat', 'Tweede Martijn-122': 'soe liet coninc rike en scat', 'Tweede Martijn-123': 'vader suster en moeder', 'Tweede Martijn-124': 'nochtan dʼ soe alleene sat', 'Tweede Martijn-125': 'wijsde hare redene de rechte pat', 'Tweede Martijn-126': 'al volghede soe de loeder', 'Tweede Martijn-127': 'mʼ therte was hare so mat', 'Tweede Martijn-128': 'dʼ minne in hadde ghemaect i gat', 'Tweede Martijn-129': 'wille hilt de roeder', 'Tweede Martijn-130': 'al was die redene vroeder', 'Tweede Martijn-131': 'exempel vindic sondʼ ghetal', 'Tweede Martijn-132': 'die met mi soude lyen al', 'Tweede Martijn-133': 'dat ic hare tleuen gaue', 'Tweede Martijn-134': 'die mi thʼte rouede en stal', 'Tweede Martijn-135': 'iacop mac mi gheen ghescal', 'Tweede Martijn-136': 'hier en sceedicx niet ave', 'Tweede Martijn-137': 'al tvolc dat woent sondʼ ghetal', 'Tweede Martijn-138': 'beede vp berch en vp dal', 'Tweede Martijn-139': 'eist co ofte graue', 'Tweede Martijn-140': 'dijn proeue wert hier jeghe smal', 'Tweede Martijn-141': 'hen sal niet wert sijn een bal', 'Tweede Martijn-142': 'ghevullet met draue', 'Tweede Martijn-143': 'also helpe mi sente baue', 'Tweede Martijn-144': 'iacop du best een stout seriant', 'Tweede Martijn-145': 'dats i vast cnoep en i vast bant', 'Tweede Martijn-146': 'die nieme mach ontbinden', 'Tweede Martijn-147': 'die cnoep die alexandʼ bant', 'Tweede Martijn-148': 'ontcnochte sijn zwʼt niet sijn hat', 'Tweede Martijn-149': 'alse hijs he wilde bewinde', 'Tweede Martijn-150': 'laet ghetake an uwe cant', 'Tweede Martijn-151': 'me sal hu vroetscap te hant', 'Tweede Martijn-152': 'tellen mette kinden', 'Tweede Martijn-153': 'also vele alse diede mach i zant', 'Tweede Martijn-154': 'ieghe casselbʼghe in vlaendʼlant', 'Tweede Martijn-155': 'sal diede hier hu vinden', 'Tweede Martijn-156': 'al waendi mi vʼblinden', 'Tweede Martijn-157': 'ghi wilt sterke uwe wort', 'Tweede Martijn-158': 'die ghi nv hier bringhet vort', 'Tweede Martijn-159': 'met truffen en met poetrien', 'Tweede Martijn-160': 'of medea dede moort', 'Tweede Martijn-161': 'en he naersus heuet vʼsmort', 'Tweede Martijn-162': 'dats minne va sottien', 'Tweede Martijn-163': 'dit wort minne en dattʼ toe hort', 'Tweede Martijn-164': 'en was met minne noit begort', 'Tweede Martijn-165': 'noch met ribaudien', 'Tweede Martijn-166': 'wien dat reine minne becort', 'Tweede Martijn-167': 'diene mach niet sijn bedort', 'Tweede Martijn-168': 'dies sulle met mi lyen', 'Tweede Martijn-169': 'die meesters va clergien', 'Tweede Martijn-170': 'les toude en tnieuwe testament', 'Tweede Martijn-171': 'en besie al omtrent', 'Tweede Martijn-172': 'alle die heleghe liede', 'Tweede Martijn-173': 'wie was va minne oint ghescent', 'Tweede Martijn-174': 'wien maecte oint minne blent', 'Tweede Martijn-175': 'die ane gode ghiede', 'Tweede Martijn-176': 'si minden vrouwe wel bekent', 'Tweede Martijn-177': 'scone en edel vp sulc couent', 'Tweede Martijn-178': 'dat he god hoyr beriede', 'Tweede Martijn-179': 'al dogheder ome somich torment', 'Tweede Martijn-180': 'sulc alse mine der ioghet sent', 'Tweede Martijn-181': 'wie waest diere ome messciede', 'Tweede Martijn-182': 'ghelijc heidinen diede', 'Tweede Martijn-183': 'abraham was vʼsaren man', 'Tweede Martijn-184': 'doe sine amie heffe began', 'Tweede Martijn-185': 'boue haerre vrouwen', 'Tweede Martijn-186': 'dʼ hen was gheen houde an', 'Tweede Martijn-187': 'hine deedse wech wat redene vʼnam', 'Tweede Martijn-188': 'en sine hʼte vultrouwen', 'Tweede Martijn-189': 'gheen edel man no wijs en can', 'Tweede Martijn-190': 'minnen sondʼ redene dan', 'Tweede Martijn-191': 'dit mach me wel bescouwe', 'Tweede Martijn-192': 'sulke minres gheniete de ban', 'Tweede Martijn-193': 'die metter mesdaet make ghespan', 'Tweede Martijn-194': 'die minres willic blouwe', 'Tweede Martijn-195': 'wat dats minne vul rouwe', 'Tweede Martijn-196': 'of ic dan sette mine sin', 'Tweede Martijn-197': 'dʼ ic en mach meer no min', 'Tweede Martijn-198': 'an winne dan al scade', 'Tweede Martijn-199': 'en mi eene andere so heuet jn', 'Tweede Martijn-200': 'dat soe hʼ selue en al ghewin', 'Tweede Martijn-201': 'mij jan vro en spade', 'Tweede Martijn-202': 'mi dincke dat ic meer sculdich bin', 'Tweede Martijn-203': 'hare die mi coes int beghin', 'Tweede Martijn-204': 'en ane mi bliuet ghestade', 'Tweede Martijn-205': 'da hare die fierlike hare kin', 'Tweede Martijn-206': 'te mi wʼt draghet en hʼ ghespin', 'Tweede Martijn-207': 'va minne els draghet te zade', 'Tweede Martijn-208': 'en diere ic ome niet bade', 'Tweede Martijn-209': 'iacop of ghi niet en acht', 'Tweede Martijn-210': 'eexempele die ic vort hebbe bracht', 'Tweede Martijn-211': 'ic wille te bybele keeren', 'Tweede Martijn-212': 'die mine hadde ouʼ adame macht', 'Tweede Martijn-213': 'soe vʼwanne met harer macht', 'Tweede Martijn-214': 'de vroetste va alle heʼen', 'Tweede Martijn-215': 'va he sijn wi alle ghewracht', 'Tweede Martijn-216': 'so eist recht dat he elc slacht', 'Tweede Martijn-217': 'me maghet wel doen met eeren', 'Tweede Martijn-218': 'mine ouer redene vʼwacht', 'Tweede Martijn-219': 'wie sore ome weent of lacht', 'Tweede Martijn-220': 'vrouwe yeue moestem leeren', 'Tweede Martijn-221': 'sijn ontbeeren', 'Tweede Martijn-222': 'vvat machte hadde samsoen', 'Tweede Martijn-223': 'of dauid of salomoen', 'Tweede Martijn-224': 'ieghe die cracht va minne', 'Tweede Martijn-225': 'daer ne es toe recht toe ghee doe', 'Tweede Martijn-226': 'sorobabel in sijn sermoen', 'Tweede Martijn-227': 'doet ons wel bekinnen', 'Tweede Martijn-228': 'dat wie so vrouwe mine ontspoe', 'Tweede Martijn-229': 'hine mochte nemermeer gheroen', 'Tweede Martijn-230': 'in siere herte binnen', 'Tweede Martijn-231': 'hine moeste al sine sin ondoe', 'Tweede Martijn-232': 'en volghe hare al ware so ghevloe', 'Tweede Martijn-233': 'oft he selue ontsinnen', 'Tweede Martijn-234': 'hier toe es gheen vʼwinne', 'Tweede Martijn-235': 'iacop sech vʼstaestu niet', 'Tweede Martijn-236': 'dat dit wort amor bediet', 'Tweede Martijn-237': 'dat in dietsch luudt mine', 'Tweede Martijn-238': 'elc letterkijn diet wel besiet', 'Tweede Martijn-239': 'hout in een wort sinne bespiet', 'Tweede Martijn-240': 'der minne cracht daer inne', 'Tweede Martijn-241': 'aldus ontbindet latijndsche diet', 'Tweede Martijn-242': 'porringhe die de sin wech tyet', 'Tweede Martijn-243': 'ditser een ten beghinne', 'Tweede Martijn-244': 'entie redene tontmoetene pliet', 'Tweede Martijn-245': 'aldus ontbant en besciet', 'Tweede Martijn-246': 'mijn meester als ict kinne', 'Tweede Martijn-247': 'of mijn vʼstaen es dinne', 'Tweede Martijn-248': 'of dit minne es alset es', 'Tweede Martijn-249': 'wes des seker en ghewes', 'Tweede Martijn-250': 'ic volghes mine eerste worde', 'Tweede Martijn-251': 'ouer waerheit lijc des', 'Tweede Martijn-252': 'soene smaecter zwert no mes', 'Tweede Martijn-253': 'die mi therte dor borde', 'Tweede Martijn-254': 'hʼte nemermeer ghenes', 'Tweede Martijn-255': 'no gherust no ghetes', 'Tweede Martijn-256': 'lieghic va eene worde', 'Tweede Martijn-257': 'prouf dattu wilt jacop en les', 'Tweede Martijn-258': 'dies es mijn hʼte wel gheles', 'Tweede Martijn-259': 'dat ic mi eer vʼmorde', 'Tweede Martijn-260': 'eer icse steruen horde', 'Tweede Martijn-261': 'martijn ruut gramarien', 'Tweede Martijn-262': 'du pleghes dies rude liede plien', 'Tweede Martijn-263': 'diet ware niet wille lyen', 'Tweede Martijn-264': 'mesdaden die de wise messchien', 'Tweede Martijn-265': 'salme niet in exemple tyen', 'Tweede Martijn-266': 'mʼ gode benedyen', 'Tweede Martijn-267': 'die ons dʼ bi leert sondʼ vlien', 'Tweede Martijn-268': 'en vp gherechte mine zien', 'Tweede Martijn-269': 'ic zwerdi dat bi marien', 'Tweede Martijn-270': 'dat ic di doe noch heden ghien', 'Tweede Martijn-271': 'met mi oftu best een paijen', 'Tweede Martijn-272': 'ofte in heresien', 'Tweede Martijn-273': 'of van sduuels partien', 'Tweede Martijn-274': 'nu hore na mi en vʼstant', 'Tweede Martijn-275': 'wie was die eerst mine vant', 'Tweede Martijn-276': 'dan god die selue es minne', 'Tweede Martijn-277': 'al dat oint maecte sine hant', 'Tweede Martijn-278': 'al minnet sire herte bant', 'Tweede Martijn-279': 'met besceedenen sinne', 'Tweede Martijn-280': 'ia lucifer de helsche viant', 'Tweede Martijn-281': 'ne haet hi niet dats becant', 'Tweede Martijn-282': 'noch en dede va beghinne', 'Tweede Martijn-283': 'dat hi sit indʼ helle brant', 'Tweede Martijn-284': 'dat dede der houerde pont', 'Tweede Martijn-285': 'der helscher coninghinnen', 'Tweede Martijn-286': 'dʼ bliuet hi altoes inne', 'Tweede Martijn-287': 'dat dit waer es proeft wel dat', 'Tweede Martijn-288': 'ware eeneghe dinc va gode ghehat', 'Tweede Martijn-289': 'hen mochte niet ghedueren', 'Tweede Martijn-290': 'die onghetellede gods scat', 'Tweede Martijn-291': 'hen was noit tontfarmene mat', 'Tweede Martijn-292': 'sine creaturen', 'Tweede Martijn-293': 'vp dat mens he met trouwe bat', 'Tweede Martijn-294': 'mʼ lucifer sit en sat', 'Tweede Martijn-295': 'altoes en telker huren', 'Tweede Martijn-296': 'inder fierre houerde stat', 'Tweede Martijn-297': 'en nemermeer wet hijs sat', 'Tweede Martijn-298': 'dus en mach sire naturen', 'Tweede Martijn-299': 'gheene ghenade ghebuere', 'Tweede Martijn-300': 'of men dit bi redenen weet', 'Tweede Martijn-301': 'dat god niemene heuet leet', 'Tweede Martijn-302': 'wien gheuet hi tlanghe leue', 'Tweede Martijn-303': 'so de ghene die he es wreet', 'Tweede Martijn-304': 'so die he met minne heet', 'Tweede Martijn-305': 'onderdaen es bleuen', 'Tweede Martijn-306': 'ic dart wel segghe vp mijn beheet', 'Tweede Martijn-307': 'sine houescheit ware onghecleet', 'Tweede Martijn-308': 'liet hi de ghene sneuen', 'Tweede Martijn-309': 'die al tsine dienste steet', 'Tweede Martijn-310': 'dies ghelijcs willic ghereet', 'Tweede Martijn-311': 'den loen hare weder gheuen', 'Tweede Martijn-312': 'die dor mi lust beuen', 'Tweede Martijn-313': 'god gheuet al cleene en groot', 'Tweede Martijn-314': 'dies die mesche heuet noot', 'Tweede Martijn-315': 'dit proeft men bi sinne', 'Tweede Martijn-316': 'hi storte dor ons sijn bloet root', 'Tweede Martijn-317': 'en gheuet ons themelsche broot', 'Tweede Martijn-318': 'vp dat me weder minne', 'Tweede Martijn-319': 'dor ne gheene wedʼ stoot', 'Tweede Martijn-320': 'dʼ ons sonde oit mede scoot', 'Tweede Martijn-321': 'ne laet hi ons daer inne', 'Tweede Martijn-322': 'legghe wi thooft he inde scoot', 'Tweede Martijn-323': 'soude so make da die doot', 'Tweede Martijn-324': 'die ic mi so hout kinne', 'Tweede Martijn-325': 'so ware mijn vroede dinne', 'Tweede Martijn-326': 'vvaerheit jacop du segghes waer', 'Tweede Martijn-327': 'maer het was mi te vindene zwʼ', 'Tweede Martijn-328': 'dattu hier heues ontbonde', 'Tweede Martijn-329': 'ic lye vʼwonne openbaer', 'Tweede Martijn-330': 'mine mine es dʼ zielen vaer', 'Tweede Martijn-331': 'en besmet met sonden', 'Tweede Martijn-332': 'du seghes dʼ an wel en waer', 'Tweede Martijn-333': 'redene heuet mine wae omaer', 'Tweede Martijn-334': 'dit hebbic onder vonden', 'Tweede Martijn-335': 'nu moete ons god ghebringhe dʼ', 'Tweede Martijn-336': 'minne niet en end hʼ jaer', 'Tweede Martijn-337': 'enten lesten stonden', 'Tweede Martijn-338': 'vrien met sine wonden', 'Derde Martijn-339': 'die godheit wecte va dode te liue', 'Derde Martijn-001': 'ic mane manne mette wiue', 'Derde Martijn-002': 'die dit sulle lesen of scriue', 'Derde Martijn-003': 'vpte hoghesten ban', 'Derde Martijn-004': 'dat si dit dicht late bliuen', 'Derde Martijn-005': 'reene dat siere niet in en driue', 'Derde Martijn-006': 'lettre wort af no an', 'Derde Martijn-007': 'doen sijt oec he sal becliuen', 'Derde Martijn-008': 'mine ban en sine sulne wriue', 'Derde Martijn-009': 'niet af moghen nochtan', 'Derde Martijn-010': 'hennes gheen spot dit va keytiue', 'Derde Martijn-011': 'hets dʼ ic mi ome liet ontliue', 'Derde Martijn-012': 'eer icker sciede van', 'Derde Martijn-013': 'nu hort die leeren can', 'Derde Martijn-014': 'iacop wi hebbe ondʼlinghe', 'Derde Martijn-015': 'ghehandelt messelike dinghe', 'Derde Martijn-016': 'nu antwort mi vp een', 'Derde Martijn-017': 'leert mi eer ic hu ontspringhe', 'Derde Martijn-018': 'hoe ic mijn hʼte dʼ toe dwinghe', 'Derde Martijn-019': 'te kene he dien wi vleen', 'Derde Martijn-020': 'ic lese somwile en in singhe', 'Derde Martijn-021': 'gode te kene bi sine dinghe', 'Derde Martijn-022': 'es leuen sonder ween', 'Derde Martijn-023': 'dits claer waer en ghehinghe', 'Derde Martijn-024': 'subtijl ware thʼte diet bevighe', 'Derde Martijn-025': 'want hogher dinc en es gheen', 'Derde Martijn-026': 'nu antwort onder ons tween', 'Derde Martijn-027': 'martijn du vraghes wel hoghe', 'Derde Martijn-028': 'al vloghic boue dʼ inghele vloghe', 'Derde Martijn-029': 'boue cherubin en cheraf', 'Derde Martijn-030': 'so weetic wel dat ic en moghe', 'Derde Martijn-031': 'berechte dat te vulle doghe', 'Derde Martijn-032': 'met worde hier af', 'Derde Martijn-033': 'alle sinne sijn te droghe', 'Derde Martijn-034': 'alle creature hoeme poghe', 'Derde Martijn-035': 'ne doghe niet een caf', 'Derde Martijn-036': 'dat hare eenich te vulle toghe', 'Derde Martijn-037': 'mʼ vʼscaerp dijns sinnes oghe', 'Derde Martijn-038': 'hore wat scrifture mi gaf', 'Derde Martijn-039': 'hout in diere herten graf', 'Derde Martijn-040': 'moyses spreect in sine boeke', 'Derde Martijn-041': 'beesten die de berch besoeken', 'Derde Martijn-042': 'moeten sijn ghesteent', 'Derde Martijn-043': 'beeste es die mesche die willeroeke', 'Derde Martijn-044': 'te nauwe ome die godheit loeke', 'Derde Martijn-045': 'hets recht dat hijt beweent', 'Derde Martijn-046': 'du soucs mi in alle hoeken', 'Derde Martijn-047': 'met rimen sondʼ valsch va doeke', 'Derde Martijn-048': 'es dit goed ic wane neent', 'Derde Martijn-049': 'du telles mi mette wise cloeke', 'Derde Martijn-050': 'waert goet ic soudʼ hu ome vloeke', 'Derde Martijn-051': 'ic wane dine hʼte meent', 'Derde Martijn-052': 'dattu mi heues vʼbeent', 'Derde Martijn-053': 'iacop dune souds di niet vʼgrame', 'Derde Martijn-054': 'ic wils mi al mijn leue scame', 'Derde Martijn-055': 'haddict oint ghedocht', 'Derde Martijn-056': 'oecs lijcs metti te samen', 'Derde Martijn-057': 'dat die hoecheit dʼ hogre name', 'Derde Martijn-058': 'te verre niet en doech ghesocht', 'Derde Martijn-059': 'al waert dat alle dingle quame', 'Derde Martijn-060': 'sine conne die godheit ghehame', 'Derde Martijn-061': 'dits al af ghenocht', 'Derde Martijn-062': 'leere mine crancke sin mine lame', 'Derde Martijn-063': 'ghewont metter sonden brame', 'Derde Martijn-064': 'van dattu vʼmocht', 'Derde Martijn-065': 'so es mijn wille vulbrocht', 'Derde Martijn-066': 'martijn merc in dine zinne', 'Derde Martijn-067': 'god es een wesen vor alle beghine', 'Derde Martijn-068': 'tedelste boue al', 'Derde Martijn-069': 'sijn wese es als ict kine', 'Derde Martijn-070': 'dupperste godheit dupperste mine', 'Derde Martijn-071': 'dat es of wesen sal', 'Derde Martijn-072': 'sine ghewʼken dʼ me ket jnne', 'Derde Martijn-073': 'sijn si so groot dat si sijn dinne', 'Derde Martijn-074': 'diet bekenne ende smal', 'Derde Martijn-075': 'sine wijsheit es coninghinne', 'Derde Martijn-076': 'boue alre hande ghewinne', 'Derde Martijn-077': 'en boue al gheual', 'Derde Martijn-078': 'daer boue of hier int dal', 'Derde Martijn-079': 'den hemel enten troen nv merke', 'Derde Martijn-080': 'god es boue alle sine ghewerke', 'Derde Martijn-081': 'en onder alle sine dinc', 'Derde Martijn-082': 'hi es bute al nv merke', 'Derde Martijn-083': 'alse diet hout wel en sterke', 'Derde Martijn-084': 'hier vte nine sprinc', 'Derde Martijn-085': 'oec segghe ons die wise clerke', 'Derde Martijn-086': 'hine es ghedeelt niet in perke', 'Derde Martijn-087': 'hier in dine hʼte dwinc', 'Derde Martijn-088': 'mʼ gheheel in elke merke', 'Derde Martijn-089': 'bute binne in watʼ in zwʼke', 'Derde Martijn-090': 'hier toe dine hʼte brinc', 'Derde Martijn-091': 'sondʼ eeneghe losen winc', 'Derde Martijn-092': 'bouen es god alse heere', 'Derde Martijn-093': 'die besittere es emermeere', 'Derde Martijn-094': 'alles dies men weet', 'Derde Martijn-095': 'onder alse die in allen keʼe', 'Derde Martijn-096': 'die dinc hout moghedelike zeʼe', 'Derde Martijn-097': 'en ieghe al vʼscheet', 'Derde Martijn-098': 'bute alse die met sire weere', 'Derde Martijn-099': 'sijn werc vervult dat he en dere', 'Derde Martijn-100': 'ne gheene dinc cout no heet', 'Derde Martijn-101': 'binne alse die met sire leere', 'Derde Martijn-102': 'sijn werc vervult met selker eere', 'Derde Martijn-103': 'dat eewelike steet', 'Derde Martijn-104': 'wient lief si oft leet', 'Derde Martijn-105': 'bouen al es god ghedraghen', 'Derde Martijn-106': 'nv gheene dinc en mach beclaghe', 'Derde Martijn-107': 'dat hise hiet verlast', 'Derde Martijn-108': 'onder sonder last va waghen', 'Derde Martijn-109': 'wat he en moyet no jaghe', 'Derde Martijn-110': 'sijn wesen es so vast', 'Derde Martijn-111': 'bute breet hi niewer sijn draghe', 'Derde Martijn-112': 'want hi es in elke daghen', 'Derde Martijn-113': 'wert voghet en met gast', 'Derde Martijn-114': 'binne vʼvult hijt ieghe plaghe', 'Derde Martijn-115': 'dat sine dinc met gheene vlaghe', 'Derde Martijn-116': 'ne sijn ongherast', 'Derde Martijn-117': 'noch ghequetst een bast', 'Derde Martijn-118': 'van eene god spreke wi va eene', 'Derde Martijn-119': 'dien wi vader en sone meene', 'Derde Martijn-120': 'enten heleghen gheest', 'Derde Martijn-121': 'en weet wel dat wire ghene', 'Derde Martijn-122': 'so groet noeme of so cleene', 'Derde Martijn-123': 'datter yemene es meest', 'Derde Martijn-124': 'eene god segghe wi eene reene', 'Derde Martijn-125': 'noch vʼuoghede noch vʼleene', 'Derde Martijn-126': 'sone esser ane vʼheest', 'Derde Martijn-127': 'die sine sin so laet vʼsteenen', 'Derde Martijn-128': 'dat hi dies loechent hi moet weene', 'Derde Martijn-129': 'en eeuwelike sijn ghevreest', 'Derde Martijn-130': 'inde helsche tepeest', 'Derde Martijn-131': 'vvi sette de vader voren', 'Derde Martijn-132': 'onghewonne en onghebore', 'Derde Martijn-133': 'en vor al beghin', 'Derde Martijn-134': 'daer naer de sone vut vʼcore', 'Derde Martijn-135': 'va he ghewonne alse wijt hore', 'Derde Martijn-136': 'eer oint beghin ghinc jn', 'Derde Martijn-137': 'de heleghe ghest leʼen wi de dore', 'Derde Martijn-138': 'huut dese comende  ondoe sine oren', 'Derde Martijn-139': 'elc mesche en sine sin', 'Derde Martijn-140': 'en late tgheloue niet te store', 'Derde Martijn-141': 'wat al hadt die wʼelt ghezwore', 'Derde Martijn-142': 'sine condent om gheen ghewin', 'Derde Martijn-143': 'ghegronden meer no min', 'Derde Martijn-144': 'eer of achtʼ tijt of stonde', 'Derde Martijn-145': 'dat vʼstaet va mine monde', 'Derde Martijn-146': 'was noit an dese drie', 'Derde Martijn-147': 'de vadʼ sette wi als te grode', 'Derde Martijn-148': 'daer alle doghet vte begonde', 'Derde Martijn-149': 'die me vʼsta ofte sie', 'Derde Martijn-150': 'de sone alse wijsheit diet al ꝯde', 'Derde Martijn-151': 'des vadʼ claerheit en sine orꝯde', 'Derde Martijn-152': 'die va he en sciet nie', 'Derde Martijn-153': 'die va de heleghe gheest ontbonde', 'Derde Martijn-154': 'haerre twier mine hire in vode', 'Derde Martijn-155': 'dese drie ware je', 'Derde Martijn-156': 'een god des ghelouet mie', 'Derde Martijn-157': 'niemens wille hi hiet make', 'Derde Martijn-158': 'hine moet in he selue smake', 'Derde Martijn-159': 'drierande triniteit', 'Derde Martijn-160': 'wat hi dʼ dinc moet moghe ghenake', 'Derde Martijn-161': 'en hi moet cone die dinc gherake', 'Derde Martijn-162': 'of hets he al ontseit', 'Derde Martijn-163': 'oec moet hi dʼ ome waken', 'Derde Martijn-164': 'macht const wille dese iij sake', 'Derde Martijn-165': 'vintme in die meschelicheit', 'Derde Martijn-166': 'die dese note wel can craken', 'Derde Martijn-167': 'hine darf beide nochte hake', 'Derde Martijn-168': 'hine vint in eene godheit', 'Derde Martijn-169': 'drie ꝑsone gheleit', 'Derde Martijn-170': 'dese god dʼ wi af leeren', 'Derde Martijn-171': 'doet troen sone en sterre keʼen', 'Derde Martijn-172': 'en al dat roerende si', 'Derde Martijn-173': 'sijn ruste es nochta so vul eere', 'Derde Martijn-174': 'dat he niet en can ghedeeren', 'Derde Martijn-175': 'gheen porren verre no bi', 'Derde Martijn-176': 'hi es dʼ hi was sondʼ sceeren', 'Derde Martijn-177': 'hine wille mindere no meeren', 'Derde Martijn-178': 'hi es sijn selues so vri', 'Derde Martijn-179': 'hi doet alle dinc gheneeren', 'Derde Martijn-180': 'sine rijcheit mach nieme vʼteere', 'Derde Martijn-181': 'alle stede vervullet hi', 'Derde Martijn-182': 'dus leeret tgheloue mi', 'Derde Martijn-183': 'gode besluut gheene stede', 'Derde Martijn-184': 'mʼ alle stede beluuct hi mede', 'Derde Martijn-185': 'in sine godlicheit', 'Derde Martijn-186': 'sine jare keert sine moghenthede', 'Derde Martijn-187': 'en niet es dattene keʼen dede', 'Derde Martijn-188': 'sine macht es so breit', 'Derde Martijn-189': 'cracht no macht no onvrede', 'Derde Martijn-190': 'ne mach he doe onledichede', 'Derde Martijn-191': 'hoe so die sake gheit', 'Derde Martijn-192': 'so ghestade es god in sine zede', 'Derde Martijn-193': 'dattene cracht no gheene onlede', 'Derde Martijn-194': 'huut sine pore en leit', 'Derde Martijn-195': 'dits al waer gheseit', 'Derde Martijn-196': 'heden ghister es onse leue', 'Derde Martijn-197': 'en daers gheen hende an ghedreue', 'Derde Martijn-198': 'si het cort ofte lanc', 'Derde Martijn-199': 'mʼ alse me vint va gode bescreue', 'Derde Martijn-200': 'dit wort hede esser af bleue', 'Derde Martijn-201': 'den eeweliken ome ganc', 'Derde Martijn-202': 'dʼ gheen hende an mach cleue', 'Derde Martijn-203': 'noch gheen beghin an wʼt vʼheue', 'Derde Martijn-204': 'sijn wesen es so stranc', 'Derde Martijn-205': 'siere jeghe wordicheit es beneue', 'Derde Martijn-206': 'dat was en wert dʼ eist bescreue', 'Derde Martijn-207': 'en nv es ghemanc', 'Derde Martijn-208': 'in dese weerelt cranc', 'Derde Martijn-209': 'martijn nv en clach no crone', 'Derde Martijn-210': 'dits een god in drie ꝑsone', 'Derde Martijn-211': 'daer ic af spreke dye', 'Derde Martijn-212': 'euen gheweldich eue scone', 'Derde Martijn-213': 'even ghelijc in hemel in trone', 'Derde Martijn-214': 'sijn dese eenighe drie', 'Derde Martijn-215': 'redene en draghet hier niet de crone', 'Derde Martijn-216': 'mʼ tgheloue sonder hone', 'Derde Martijn-217': 'dat en twifelde nie', 'Derde Martijn-218': 'wat eeren hadwijs of wat lone', 'Derde Martijn-219': 'dat wi die niet doghe i bone', 'Derde Martijn-220': 'ghelouen dat elc zie', 'Derde Martijn-221': 'nu antwort mi ghie', 'Derde Martijn-222': 'iacop ic lye ten beghinne', 'Derde Martijn-223': 'dat ic subtijlre wort va sinne', 'Derde Martijn-224': 'niet en hebbe ghehort', 'Derde Martijn-225': 'dan du mi hier maex in jnne', 'Derde Martijn-226': 'doch prouuic wel en kinne', 'Derde Martijn-227': 'te grondene dese wort', 'Derde Martijn-228': 'daers onse redene toe wel dinne', 'Derde Martijn-229': 'ons en trecke tgheloue en mine', 'Derde Martijn-230': 'vpwaert ter hemelscher poort', 'Derde Martijn-231': 'dʼ god es loen boue al ghewinne', 'Derde Martijn-232': 'en dʼ tgheloue es coninghine', 'Derde Martijn-233': 'nu antwort mi bet vort', 'Derde Martijn-234': 'of ics niet en hebbe vʼbort', 'Derde Martijn-287': 'die gods sone sach de ma vʼlade', 'Derde Martijn-288': 'ente viant va ouerdaden', 'Derde Martijn-289': 'in roeme seere groot', 'Derde Martijn-290': 'en wildem staen in staden', 'Derde Martijn-291': 'so dat hi bi sire ghenaden', 'Derde Martijn-292': 'marien dat ontboot', 'Derde Martijn-293': 'die met he saen wart ghelade', 'Derde Martijn-294': 'sondʼ last of point va scaden', 'Derde Martijn-295': 'en sonder eeneghen noot', 'Derde Martijn-296': 'moeste soene soghe en baden', 'Derde Martijn-297': 'die alle dinghe mach vʼsaden', 'Derde Martijn-298': 'en houde in hare scoot', 'Derde Martijn-299': 'dies hare nine vʼdroot', 'Derde Martijn-300': 'al gheheel en alte male', 'Derde Martijn-301': 'so ruste in die maghet smale', 'Derde Martijn-302': 'gods moeder gods kint', 'Derde Martijn-303': 'en also wel oec alte male', 'Derde Martijn-304': 'was hi indes vaders sale', 'Derde Martijn-305': 'met he en twifelets twint', 'Derde Martijn-306': 'die mescheit dans gheene hale', 'Derde Martijn-307': 'ne sloot niet in dien dale', 'Derde Martijn-308': 'die godheit diet al bint', 'Derde Martijn-309': 'die godheit heuet gheene pale', 'Derde Martijn-310': 'die mescheit dat meent mine tale', 'Derde Martijn-311': 'ontfinc god diet al mint', 'Derde Martijn-312': 'in he dus eist bekint', 'Derde Martijn-313': 'even gheweldich en heere', 'Derde Martijn-314': 'es hi en was emermeere', 'Derde Martijn-315': 'den vader in die godheit', 'Derde Martijn-316': 'mʼ eist dat me ter mescheit keʼe', 'Derde Martijn-317': 'so was hi vele minder zeere', 'Derde Martijn-318': 'naer die meschelicheit', 'Derde Martijn-319': 'naer die godheit spreect onse leere', 'Derde Martijn-320': 'so was ontsteruelijc sijn eere', 'Derde Martijn-321': 'dit es een besceit', 'Derde Martijn-322': 'die mescheit doghede alsic spᵃc eere', 'Derde Martijn-323': 'gheesele naghele en speere', 'Derde Martijn-324': 'die doot en ander leit', 'Derde Martijn-325': 'enter joden pleit', 'Derde Martijn-326': 'die mescheit liet hare besnide', 'Derde Martijn-327': 'dope proeue in die tiden', 'Derde Martijn-328': 'vande ouden viant', 'Derde Martijn-329': 'so liet hare baen en beniden', 'Derde Martijn-330': 'dor bore hande voete siden', 'Derde Martijn-331': 'soe staerf dus eist becant', 'Derde Martijn-332': 'die ziele wilde ter helle tiden', 'Derde Martijn-333': 'dʼ soe die ghene wilde vʼblide', 'Derde Martijn-334': 'die de duuel bant', 'Derde Martijn-335': 'ay hoe si gode benedyen', 'Derde Martijn-336': 'die heleghe alse sine saghe stride', 'Derde Martijn-337': 'ieghe des duuels brant', 'Derde Martijn-338': 'dʼ hise binne vant', 'Derde Martijn-340': 'tvleesch dat hi va de reene wiue', 'Derde Martijn-341': 'vrouwe marien nam', 'Derde Martijn-342': 'hi troeste sine lieue keytiue', 'Derde Martijn-343': 'hier ij hier iij hier iiij hier v', 'Derde Martijn-344': 'met he hi eten quam', 'Derde Martijn-345': 'dus es die gods sone alsic scriue', 'Derde Martijn-346': 'god en mesche elc man bliue', 'Derde Martijn-347': 'hier inne ghehorsam', 'Derde Martijn-348': 'es oec eenich sin so stiue', 'Derde Martijn-349': 'die ieghe dit gheloue kiue', 'Derde Martijn-350': 'he sal themelsche lam', 'Derde Martijn-351': 'ten joncsten wese gram', 'Derde Martijn-352': 'inde hemel es hi gheuaren', 'Derde Martijn-353': 'daert die sine an saghe tware', 'Derde Martijn-354': 'tes vaders rechtre hant', 'Derde Martijn-355': 'daer hi altoes sonder sparen', 'Derde Martijn-356': 'den vader bidt vor sine caren', 'Derde Martijn-357': 'die he hier sijn bekant', 'Derde Martijn-358': 'noch comt hi he hier vʼbaren', 'Derde Martijn-359': 'doeme die wʼelt met sine scare', 'Derde Martijn-360': 'enten helschen viant', 'Derde Martijn-361': 'sonne en mane sal hi vʼclare', 'Derde Martijn-362': 'die bi adame vʼdonckert ware', 'Derde Martijn-363': 'lucht water en lant', 'Derde Martijn-364': 'sal purgere een brant', 'Derde Martijn-365': 'al waest dat hi dus vp rande', 'Derde Martijn-366': 'hi liet de sine daer te pande', 'Derde Martijn-367': 'sijn vleesch en sijn bloet', 'Derde Martijn-368': 'te sacreerne in priesters hade', 'Derde Martijn-369': 'wie was die sulke gaue becande', 'Derde Martijn-370': 'of beter of so goet', 'Derde Martijn-371': 'ay god nv brec onse bande', 'Derde Martijn-372': 'en vʼghef ons dine hande', 'Derde Martijn-373': 'en dine euelen moet', 'Derde Martijn-374': 'dat onse mont en onse tande', 'Derde Martijn-375': 'smaken moet sondʼ scande', 'Derde Martijn-376': 'sijn vleesch en sijn bloet', 'Derde Martijn-377': 'dat vut sire siden woet', 'Derde Martijn-378': 'vvt desen sone vut dese wonde', 'Derde Martijn-379': 'wies godheit nieme mach ghegronde', 'Derde Martijn-380': 'noch wies meschelicheit', 'Derde Martijn-381': 'so vloyde ende begonden', 'Derde Martijn-382': 'die sacramente te dien stonde', 'Derde Martijn-383': 'va alre salicheit', 'Derde Martijn-384': 'ne hebbe mijn gheloue ontbonde', 'Derde Martijn-385': 'so ic naest hebbe ondervonde', 'Derde Martijn-386': 'na mire moghentheit', 'Derde Martijn-387': 'die dit gheloue vast orconde', 'Derde Martijn-388': 'aflaet groot va hare sonde', 'Derde Martijn-389': 'es he altoes ghereit', 'Derde Martijn-390': 'vp dat mer in vulsteit', 'Derde Martijn-391': 'iacop du berechts mi scone', 'Derde Martijn-392': 'nu berecht mi vande ꝑsone', 'Derde Martijn-393': 'die me heet helich gheest', 'Derde Martijn-394': 'hoe mijn gheloue sondʼ hone', 'Derde Martijn-395': 'te he cleme en spane crone', 'Derde Martijn-396': 'die alre gauen es meest', 'Derde Martijn-397': 'want vande vader ente sone', 'Derde Martijn-398': 'hebdi mi dat hu god lone', 'Derde Martijn-399': 'scone berecht en vʼheest', 'Derde Martijn-400': 'dies danckedi de martelare vrone', 'Derde Martijn-401': 'dʼ boue inde hoghe trone', 'Derde Martijn-402': 'en gheue di vulleest', 'Derde Martijn-403': 'datture coms onghevreest', 'Derde Martijn-404': 'martijn ons leert die scrifture', 'Derde Martijn-405': 'dat een god eene nature', 'Derde Martijn-406': 'emmer sijn dese drie', 'Derde Martijn-407': 'altoes euen na ghebure', 'Derde Martijn-408': 'en vʼsceeden te gheere hure', 'Derde Martijn-409': 'noch vʼschieden nie', 'Derde Martijn-410': 'vadʼ kint vʼstant ter cure', 'Derde Martijn-411': 'vut deser dobbelre gods dure', 'Derde Martijn-412': 'wie caent ghegronde wie', 'Derde Martijn-413': 'coemt die gheest die soete ghure', 'Derde Martijn-414': 'die reene godheit entie pure', 'Derde Martijn-415': 'hier vp prouf ende zie', 'Derde Martijn-416': 'met herte ende dies ghie', 'Derde Martijn-417': 'dits die troost die alre meest', 'Derde Martijn-418': 'he die arem sijn va gheeste', 'Derde Martijn-419': 'leert hi blide sijn', 'Derde Martijn-420': 'hi es in pine altoes feeste', 'Derde Martijn-421': 'hi doet meneghe die was beeste', 'Derde Martijn-422': 'sijn zuuer ende fijn', 'Derde Martijn-423': 'wapene god die dit vʼheeste', 'Derde Martijn-424': 'dat hi va sine vulleeste', 'Derde Martijn-425': 'smaecte een dropelkijn', 'Derde Martijn-426': 'die ware gode die alre meeste', 'Derde Martijn-427': 'wat gheene vreese va tepeeste', 'Derde Martijn-428': 'noch oec ne gheen venijn', 'Derde Martijn-429': 'ne scaedde des zielen sijn', 'Derde Martijn-430': 'dits des vaders en soens gaue', 'Derde Martijn-431': 'rijcheit boue alre haue', 'Derde Martijn-432': 'fonteine des leuens al', 'Derde Martijn-433': 'wie so porret vort hier haue', 'Derde Martijn-434': 'wat rijchede datme he gaue', 'Derde Martijn-435': 'soude he dincken smal', 'Derde Martijn-436': 'rijcheit die co heuet of graue', 'Derde Martijn-437': 'nes tiende deel va eene cave', 'Derde Martijn-438': 'ghehacht vor dit gheval', 'Derde Martijn-439': 'ihesus die ruste inde graue', 'Derde Martijn-440': 'met deser helicheit so laue', 'Derde Martijn-441': 'ons alse men rumen sal', 'Derde Martijn-442': 'dit arme erdsche dal', 'Derde Martijn-443': 'dits des vadʼs en des sons mine', 'Derde Martijn-444': 'dits caritate dʼ altoes inne', 'Derde Martijn-445': 'rust die triniteit', 'Derde Martijn-446': 'hi es die der ꝓpheten sinne', 'Derde Martijn-447': 'leerde en maecte in jnne', 'Derde Martijn-448': 'des gods soens meschelicheit', 'Derde Martijn-449': 'hens co noch coninghinne', 'Derde Martijn-450': '450 die nemer af laet ghewinne', 'Derde Martijn-451': 'van sire onsalicheit', 'Derde Martijn-452': 'hine hebbe een traen al waert oe dinne', 'Derde Martijn-453': 'va dese dauwe tsine beghinne', 'Derde Martijn-454': 'al wel vare es he ontseit', 'Derde Martijn-455': 'dʼ dese es onghereit', 'Derde Martijn-456': 'dese leerde de apostele tware', 'Derde Martijn-457': 'alle die tonghe die doe ware', 'Derde Martijn-458': 'in dese weerelt breet', 'Derde Martijn-459': 'dese gaf de martelaren', 'Derde Martijn-460': 'dat si conste sondʼ mesbare', 'Derde Martijn-461': 'ghedoghe harde menich leit', 'Derde Martijn-462': 'dese can de sinne vʼclaren', 'Derde Martijn-463': 'die de sonde hebbe vʼzware', 'Derde Martijn-464': 'en tcoude maken heet', 'Derde Martijn-465': 'sine lieue sine caren', 'Derde Martijn-466': 'deelt hi sondʼ eenich spare', 'Derde Martijn-467': 'dat godlike cleet', 'Derde Martijn-468': 'dat nemermeer vʼgheet', 'Derde Martijn-469': 'vvt helpt martijn sin en tale', 'Derde Martijn-470': 'die begheue mi alte male', 'Derde Martijn-471': 'meer te sprekene vort', 'Derde Martijn-472': 'elc ꝑsoen vʼstant mi wale', 'Derde Martijn-473': 'es god en dies nes gheene hale', 'Derde Martijn-474': 'va dren dʼ men af hort', 'Derde Martijn-475': 'doch eist waer een die berch en dale', 'Derde Martijn-476': 'sciep en al tgrote en alt smale', 'Derde Martijn-477': 'dʼ af tellen alle wort', 'Derde Martijn-478': 'ne ganc niet ouer dese pale', 'Derde Martijn-479': 'hout dit in dire hʼte zale', 'Derde Martijn-480': 'sone wertstu niet vʼsmort', 'Derde Martijn-481': 'in die helsche mort', 'Derde Martijn-482': 'vvare oec jeme die wedʼ sprake', 'Derde Martijn-483': 'dit gheloue en dese sake', 'Derde Martijn-484': 'hi ware eewelike vʼdoemt', 'Derde Martijn-485': 'recht waert datme inde brat stake', 'Derde Martijn-486': 'en dʼ na thelsche vier smake', 'Derde Martijn-487': 'dʼ me die duuele in droemt', 'Derde Martijn-488': 'helpt god dat ic daer gherake', 'Derde Martijn-489': 'dat ic zie dʼ ic af make', 'Derde Martijn-490': 'die godheit al onghenoemt', 'Derde Martijn-491': 'sone trect mi niet de helsche dʼke', 'Derde Martijn-492': 'met he ter eeweliker wrake', 'Derde Martijn-493': 'daerme die duuele in droemt', 'Derde Martijn-494': 'wien dat scaet of vroemt', 'Derde Martijn-495': 'amen jacop lieue gheselle', 'Derde Martijn-496': 'mi dinct dat ic hu zeʼe quelle', 'Derde Martijn-497': 'doch haddix grote noot', 'Derde Martijn-498': 'alsic dit lese en spelle', 'Derde Martijn-499': 'maghic leeren als ic vʼtelle', 'Derde Martijn-500': 'mijn gheloue al bloot', 'Derde Martijn-501': 'dʼ ic bi scuwe mach die helle', 'Derde Martijn-502': 'vp dat ic mi dʼ toe vʼsnelle', 'Derde Martijn-503': 'te doene dat god gheboot', 'Derde Martijn-504': 'god die de doot wrac va abelle', 'Derde Martijn-505': 'bringhe ons noch ter hoghʼ celle', 'Derde Martijn-506': 'dats in abrahams scoot'}\n"
     ]
    },
    {
     "name": "stderr",
     "output_type": "stream",
     "text": [
      "\n"
     ]
    }
   ],
   "source": [
    "mss = {}\n",
    "\n",
    "for sigle in tqdm(sigles):\n",
    "    mss[sigle] = extract_lines(f'../data/xml_martijn/xml_{sigle}.xml',\n",
    "                               expan = False, punct = False, lower = True,\n",
    "                               sep_abbr = True)\n",
    "print(mss['A'])"
   ]
  },
  {
   "cell_type": "code",
   "execution_count": 6,
   "id": "lyric-ethernet",
   "metadata": {},
   "outputs": [
    {
     "name": "stdout",
     "output_type": "stream",
     "text": [
      "dict_keys(['A', 'Ant', 'B', 'BR', 'C', 'D', 'D2', 'E', 'F', 'G', 'Ge', 'K', 'L', 'O', 'W', 'Y', 'Z'])\n"
     ]
    }
   ],
   "source": [
    "print(mss.keys())"
   ]
  },
  {
   "cell_type": "code",
   "execution_count": 7,
   "id": "least-dover",
   "metadata": {},
   "outputs": [
    {
     "name": "stdout",
     "output_type": "stream",
     "text": [
      "['e', 'n̄', ' ', 'n', 'i', 'e', 't', ' ', 's', 'c', 'e', 'l', 'd', '-', 'ē', ' ', 'd', 'ē', ' ', 'h', 'e', 'ʼ', 'e']\n",
      "['e', 'n̄', ' ', 'n', 'i', 'e', 't', ' ', 's', 'c', 'e', 'l', 'd', 'e', 'n', ' ', 'd', 'ē', ' ', 'h', 'e', 'r', 'e']\n"
     ]
    }
   ],
   "source": [
    "# from: https://gist.github.com/slowkow/06c6dba9180d013dfd82bec217d22eb5\n",
    "\n",
    "def align_nw(x, y, match = 1, mismatch = 1, gap = 1):\n",
    "    x = list(grapheme.graphemes(x))\n",
    "    y = list(grapheme.graphemes(y))\n",
    "    \n",
    "    nx = len(x)\n",
    "    ny = len(y)\n",
    "    # Optimal score at each possible pair of characters.\n",
    "    F = np.zeros((nx + 1, ny + 1))\n",
    "    F[:,0] = np.linspace(0, -nx, nx + 1)\n",
    "    F[0,:] = np.linspace(0, -ny, ny + 1)\n",
    "    # Pointers to trace through an optimal aligment.\n",
    "    P = np.zeros((nx + 1, ny + 1))\n",
    "    P[:,0] = 3\n",
    "    P[0,:] = 4\n",
    "    # Temporary scores.\n",
    "    t = np.zeros(3)\n",
    "    for i in range(nx):\n",
    "        for j in range(ny):\n",
    "            if x[i] == y[j]:\n",
    "                t[0] = F[i,j] + match\n",
    "            else:\n",
    "                t[0] = F[i,j] - mismatch\n",
    "            t[1] = F[i,j+1] - gap\n",
    "            t[2] = F[i+1,j] - gap\n",
    "            tmax = np.max(t)\n",
    "            F[i+1,j+1] = tmax\n",
    "            if t[0] == tmax:\n",
    "                P[i+1,j+1] += 2\n",
    "            if t[1] == tmax:\n",
    "                P[i+1,j+1] += 3\n",
    "            if t[2] == tmax:\n",
    "                P[i+1,j+1] += 4\n",
    "    # Trace through an optimal alignment.\n",
    "    i = nx\n",
    "    j = ny\n",
    "    rx = []\n",
    "    ry = []\n",
    "    while i > 0 or j > 0:\n",
    "        if P[i,j] in [2, 5, 6, 9]:\n",
    "            rx.append(x[i-1])\n",
    "            ry.append(y[j-1])\n",
    "            i -= 1\n",
    "            j -= 1\n",
    "        elif P[i,j] in [3, 5, 7, 9]:\n",
    "            rx.append(x[i-1])\n",
    "            ry.append('-')\n",
    "            i -= 1\n",
    "        elif P[i,j] in [4, 6, 7, 9]:\n",
    "            rx.append('-')\n",
    "            ry.append(y[j-1])\n",
    "            j -= 1\n",
    "    # Reverse the strings.\n",
    "    rx = rx[::-1]\n",
    "    ry = ry[::-1]\n",
    "    return rx, ry\n",
    "\n",
    "a, b = align_nw('en̄ niet sceldē dē heʼe', 'en̄ niet scelden dē here')\n",
    "print(a)\n",
    "print(b)"
   ]
  },
  {
   "cell_type": "code",
   "execution_count": 8,
   "id": "coated-privilege",
   "metadata": {},
   "outputs": [
    {
     "name": "stdout",
     "output_type": "stream",
     "text": [
      "['e', 'n̄', ' ', 'n', 'i', 'e', 't', ' ', 's', 'c', 'e', 'l', 'd', 'ē', ' ', ' ', 'd', 'ē', ' ', 'h', 'e', 'ʼ', 'e']\n",
      "['e', 'n̄', ' ', 'n', 'i', 'e', 't', ' ', 's', 'c', 'e', 'l', 'd', 'e', 'n', ' ', 'd', 'ē', ' ', 'h', 'e', 'r', 'e']\n"
     ]
    }
   ],
   "source": [
    "def align_collatex(l1, l2):\n",
    "    A = [{'t': c, 'n': c} for c in grapheme.graphemes(l1)]\n",
    "    B = [{'t': c, 'n': c} for c in grapheme.graphemes(l2)]\n",
    "    json_form = {'witnesses': [{'id': 'A', 'tokens': A},\n",
    "                               {'id': 'B', 'tokens': B}]}\n",
    "\n",
    "    A, B = str(collate(json_form, output='table')).split('\\n')[1:3]\n",
    "\n",
    "    A = A.replace('| A | ', '').replace(' | ', '').replace(' |', '')\n",
    "    B = B.replace('| B | ', '').replace(' | ', '').replace(' |', '')\n",
    "    \n",
    "    A = list(grapheme.graphemes(A))\n",
    "    B = list(grapheme.graphemes(B))\n",
    "    \n",
    "    return A, B\n",
    "\n",
    "a, b = align_collatex('en̄ niet sceldē dē heʼe', 'en̄ niet scelden dē here')\n",
    "print(a)\n",
    "print(b)"
   ]
  },
  {
   "cell_type": "code",
   "execution_count": 9,
   "id": "convinced-consortium",
   "metadata": {},
   "outputs": [],
   "source": [
    "def get_distances(mss, method='NW'):\n",
    "    distances = []\n",
    "    for ms1, ms2 in tqdm(list(combinations(mss.keys(), 2))):\n",
    "        common_idxs = set(mss[ms1].keys()).intersection(set(mss[ms2].keys()))\n",
    "        for idx in common_idxs:\n",
    "            line1, line2 = mss[ms1][idx], mss[ms2][idx]\n",
    "            if method == 'NW':\n",
    "                rx, ry = align_nw(line1, line2)\n",
    "            elif method == 'CollateX':\n",
    "                rx, ry = align_collatex(line1, line2)\n",
    "            if len(rx) != len(ry):\n",
    "                print(line1, line2)\n",
    "            length = len(rx)\n",
    "            for idx, (a, b) in enumerate(zip(rx, ry)):\n",
    "                if a != b:\n",
    "                    distances.append((ms1, ms2, idx/length, 1, a, b))\n",
    "                else:\n",
    "                    distances.append((ms1, ms2, idx/length, 0, a, b))\n",
    "    return pd.DataFrame(distances, columns=('ms1', 'ms2', 'position', 'mismatch', 'char1', 'char2'))"
   ]
  },
  {
   "cell_type": "code",
   "execution_count": 10,
   "id": "dressed-output",
   "metadata": {},
   "outputs": [
    {
     "name": "stderr",
     "output_type": "stream",
     "text": [
      "100%|██████████| 136/136 [03:55<00:00,  1.73s/it]\n",
      "100%|██████████| 136/136 [08:20<00:00,  3.68s/it]\n"
     ]
    },
    {
     "data": {
      "text/html": [
       "<div>\n",
       "<style scoped>\n",
       "    .dataframe tbody tr th:only-of-type {\n",
       "        vertical-align: middle;\n",
       "    }\n",
       "\n",
       "    .dataframe tbody tr th {\n",
       "        vertical-align: top;\n",
       "    }\n",
       "\n",
       "    .dataframe thead th {\n",
       "        text-align: right;\n",
       "    }\n",
       "</style>\n",
       "<table border=\"1\" class=\"dataframe\">\n",
       "  <thead>\n",
       "    <tr style=\"text-align: right;\">\n",
       "      <th></th>\n",
       "      <th>ms1</th>\n",
       "      <th>ms2</th>\n",
       "      <th>position</th>\n",
       "      <th>mismatch</th>\n",
       "      <th>char1</th>\n",
       "      <th>char2</th>\n",
       "    </tr>\n",
       "  </thead>\n",
       "  <tbody>\n",
       "    <tr>\n",
       "      <th>1362693</th>\n",
       "      <td>G</td>\n",
       "      <td>L</td>\n",
       "      <td>0.423077</td>\n",
       "      <td>0</td>\n",
       "      <td>n</td>\n",
       "      <td>n</td>\n",
       "    </tr>\n",
       "    <tr>\n",
       "      <th>1264667</th>\n",
       "      <td>F</td>\n",
       "      <td>L</td>\n",
       "      <td>0.125000</td>\n",
       "      <td>0</td>\n",
       "      <td>r</td>\n",
       "      <td>r</td>\n",
       "    </tr>\n",
       "    <tr>\n",
       "      <th>38870</th>\n",
       "      <td>A</td>\n",
       "      <td>B</td>\n",
       "      <td>0.652174</td>\n",
       "      <td>0</td>\n",
       "      <td>e</td>\n",
       "      <td>e</td>\n",
       "    </tr>\n",
       "    <tr>\n",
       "      <th>901470</th>\n",
       "      <td>C</td>\n",
       "      <td>O</td>\n",
       "      <td>0.096774</td>\n",
       "      <td>0</td>\n",
       "      <td>s</td>\n",
       "      <td>s</td>\n",
       "    </tr>\n",
       "    <tr>\n",
       "      <th>116594</th>\n",
       "      <td>A</td>\n",
       "      <td>D</td>\n",
       "      <td>0.100000</td>\n",
       "      <td>0</td>\n",
       "      <td>s</td>\n",
       "      <td>s</td>\n",
       "    </tr>\n",
       "  </tbody>\n",
       "</table>\n",
       "</div>"
      ],
      "text/plain": [
       "        ms1 ms2  position  mismatch char1 char2\n",
       "1362693   G   L  0.423077         0     n     n\n",
       "1264667   F   L  0.125000         0     r     r\n",
       "38870     A   B  0.652174         0     e     e\n",
       "901470    C   O  0.096774         0     s     s\n",
       "116594    A   D  0.100000         0     s     s"
      ]
     },
     "execution_count": 10,
     "metadata": {},
     "output_type": "execute_result"
    }
   ],
   "source": [
    "nw_mismatches = get_distances(mss, method='NW')\n",
    "cx_mismatches = get_distances(mss, method='CollateX')\n",
    "nw_mismatches.sample(5)\n",
    "cx_mismatches.sample(5)"
   ]
  },
  {
   "cell_type": "code",
   "execution_count": 11,
   "id": "appointed-birmingham",
   "metadata": {},
   "outputs": [
    {
     "data": {
      "text/plain": [
       "<matplotlib.legend.Legend at 0x7f9a289e6f60>"
      ]
     },
     "execution_count": 11,
     "metadata": {},
     "output_type": "execute_result"
    },
    {
     "data": {
      "image/png": "[encoded data removed]",
      "text/plain": [
       "<Figure size 432x288 with 1 Axes>"
      ]
     },
     "metadata": {
      "needs_background": "light"
     },
     "output_type": "display_data"
    }
   ],
   "source": [
    "nw_rolling_window = nw_mismatches.groupby('position')['mismatch'].mean().rolling(window=20).mean()\n",
    "cx_rolling_window = cx_mismatches.groupby('position')['mismatch'].mean().rolling(window=20).mean()\n",
    "\n",
    "ax = nw_rolling_window.plot(label=\"mean (NW)\")\n",
    "cx_rolling_window.plot(label=\"mean (CX)\", ax=ax)\n",
    "\n",
    "plt.legend()"
   ]
  },
  {
   "cell_type": "code",
   "execution_count": 13,
   "id": "hazardous-anthony",
   "metadata": {},
   "outputs": [],
   "source": [
    "#checken of de resultaten statistisch significant zijn en dat is zo!\n",
    "#mismatches_end = mismatches[mismatches['position'] > .75]\n",
    "#mismatches_beginning = mismatches[mismatches['position'] <= .75]\n",
    "#from scipy.stats import mannwhitneyu\n",
    "#mannwhitneyu(mismatches_end['mismatch'], mismatches_beginning['mismatch'], alternative='less')"
   ]
  },
  {
   "cell_type": "markdown",
   "id": "detected-marina",
   "metadata": {},
   "source": [
    "## Clustermap"
   ]
  },
  {
   "cell_type": "code",
   "execution_count": 14,
   "id": "coordinate-alias",
   "metadata": {},
   "outputs": [
    {
     "name": "stdout",
     "output_type": "stream",
     "text": [
      "A 1761\n",
      "Ant 0\n",
      "B 1820\n",
      "BR 568\n",
      "C 1469\n",
      "D 1821\n",
      "D2 136\n",
      "E 275\n",
      "F 1821\n",
      "G 1772\n",
      "Ge 70\n",
      "K 66\n",
      "L 407\n",
      "O 1823\n",
      "W 506\n",
      "Y 272\n",
      "Z 528\n"
     ]
    }
   ],
   "source": [
    "for ms in mss:\n",
    "    print(ms, len(mss[ms]))"
   ]
  },
  {
   "cell_type": "code",
   "execution_count": 15,
   "id": "sublime-warning",
   "metadata": {},
   "outputs": [
    {
     "name": "stdout",
     "output_type": "stream",
     "text": [
      "['A', 'Ant', 'B', 'BR', 'C', 'D', 'D2', 'E', 'F', 'G', 'Ge', 'K', 'L', 'O', 'W', 'Y', 'Z']\n",
      "['A', 'B', 'BR', 'C', 'D', 'F', 'G', 'O', 'W', 'Z']\n"
     ]
    }
   ],
   "source": [
    "sigles = sorted(mss.keys())\n",
    "print(sigles)\n",
    "sigles = [s for s in sigles if len(mss[s]) >= 506]\n",
    "print(sigles)"
   ]
  },
  {
   "cell_type": "code",
   "execution_count": 16,
   "id": "scheduled-packing",
   "metadata": {},
   "outputs": [
    {
     "name": "stdout",
     "output_type": "stream",
     "text": [
      "(10, 10)\n"
     ]
    }
   ],
   "source": [
    "df_clust = np.zeros((len(sigles), len(sigles)))\n",
    "print(df_clust.shape)"
   ]
  },
  {
   "cell_type": "code",
   "execution_count": 17,
   "id": "faced-young",
   "metadata": {},
   "outputs": [
    {
     "name": "stdout",
     "output_type": "stream",
     "text": [
      "A B\n",
      "A BR\n",
      "A C\n",
      "A D\n",
      "A F\n",
      "A G\n",
      "A O\n",
      "A W\n",
      "A Z\n",
      "B BR\n",
      "B C\n",
      "B D\n",
      "B F\n",
      "B G\n",
      "B O\n",
      "B W\n",
      "B Z\n",
      "BR C\n",
      "BR D\n",
      "BR F\n",
      "BR G\n",
      "BR O\n",
      "BR W\n",
      "BR Z\n",
      "C D\n",
      "C F\n",
      "C G\n",
      "C O\n",
      "C W\n",
      "C Z\n",
      "D F\n",
      "D G\n",
      "D O\n",
      "D W\n",
      "D Z\n",
      "F G\n",
      "F O\n",
      "F W\n",
      "F Z\n",
      "G O\n",
      "G W\n",
      "G Z\n",
      "O W\n",
      "O Z\n",
      "W Z\n"
     ]
    }
   ],
   "source": [
    "for s1, s2 in combinations(sigles, 2):\n",
    "    print(s1, s2)\n",
    "    d = nw_mismatches[(nw_mismatches['ms1'] == s1) & (nw_mismatches['ms2'] == s2)]['mismatch'].mean()\n",
    "    df_clust[sigles.index(s1), sigles.index(s2)] = d\n",
    "    df_clust[sigles.index(s2), sigles.index(s1)] = d"
   ]
  },
  {
   "cell_type": "code",
   "execution_count": 18,
   "id": "given-appeal",
   "metadata": {},
   "outputs": [
    {
     "data": {
      "text/html": [
       "<div>\n",
       "<style scoped>\n",
       "    .dataframe tbody tr th:only-of-type {\n",
       "        vertical-align: middle;\n",
       "    }\n",
       "\n",
       "    .dataframe tbody tr th {\n",
       "        vertical-align: top;\n",
       "    }\n",
       "\n",
       "    .dataframe thead th {\n",
       "        text-align: right;\n",
       "    }\n",
       "</style>\n",
       "<table border=\"1\" class=\"dataframe\">\n",
       "  <thead>\n",
       "    <tr style=\"text-align: right;\">\n",
       "      <th></th>\n",
       "      <th>A</th>\n",
       "      <th>B</th>\n",
       "      <th>BR</th>\n",
       "      <th>C</th>\n",
       "      <th>D</th>\n",
       "      <th>F</th>\n",
       "      <th>G</th>\n",
       "      <th>O</th>\n",
       "      <th>W</th>\n",
       "      <th>Z</th>\n",
       "    </tr>\n",
       "  </thead>\n",
       "  <tbody>\n",
       "    <tr>\n",
       "      <th>A</th>\n",
       "      <td>0.000000</td>\n",
       "      <td>0.173195</td>\n",
       "      <td>0.194305</td>\n",
       "      <td>0.184274</td>\n",
       "      <td>0.217338</td>\n",
       "      <td>0.187612</td>\n",
       "      <td>0.266794</td>\n",
       "      <td>0.200272</td>\n",
       "      <td>0.210255</td>\n",
       "      <td>0.252259</td>\n",
       "    </tr>\n",
       "    <tr>\n",
       "      <th>B</th>\n",
       "      <td>0.173195</td>\n",
       "      <td>0.000000</td>\n",
       "      <td>0.222309</td>\n",
       "      <td>0.196430</td>\n",
       "      <td>0.211765</td>\n",
       "      <td>0.201606</td>\n",
       "      <td>0.279963</td>\n",
       "      <td>0.204174</td>\n",
       "      <td>0.224327</td>\n",
       "      <td>0.264546</td>\n",
       "    </tr>\n",
       "    <tr>\n",
       "      <th>BR</th>\n",
       "      <td>0.194305</td>\n",
       "      <td>0.222309</td>\n",
       "      <td>0.000000</td>\n",
       "      <td>0.203407</td>\n",
       "      <td>0.201515</td>\n",
       "      <td>0.146184</td>\n",
       "      <td>0.250885</td>\n",
       "      <td>0.224740</td>\n",
       "      <td>0.197614</td>\n",
       "      <td>0.197976</td>\n",
       "    </tr>\n",
       "    <tr>\n",
       "      <th>C</th>\n",
       "      <td>0.184274</td>\n",
       "      <td>0.196430</td>\n",
       "      <td>0.203407</td>\n",
       "      <td>0.000000</td>\n",
       "      <td>0.189961</td>\n",
       "      <td>0.181911</td>\n",
       "      <td>0.298349</td>\n",
       "      <td>0.192452</td>\n",
       "      <td>0.237697</td>\n",
       "      <td>0.282516</td>\n",
       "    </tr>\n",
       "    <tr>\n",
       "      <th>D</th>\n",
       "      <td>0.217338</td>\n",
       "      <td>0.211765</td>\n",
       "      <td>0.201515</td>\n",
       "      <td>0.189961</td>\n",
       "      <td>0.000000</td>\n",
       "      <td>0.168470</td>\n",
       "      <td>0.310365</td>\n",
       "      <td>0.196907</td>\n",
       "      <td>0.259175</td>\n",
       "      <td>0.283570</td>\n",
       "    </tr>\n",
       "    <tr>\n",
       "      <th>F</th>\n",
       "      <td>0.187612</td>\n",
       "      <td>0.201606</td>\n",
       "      <td>0.146184</td>\n",
       "      <td>0.181911</td>\n",
       "      <td>0.168470</td>\n",
       "      <td>0.000000</td>\n",
       "      <td>0.276135</td>\n",
       "      <td>0.181669</td>\n",
       "      <td>0.219001</td>\n",
       "      <td>0.235806</td>\n",
       "    </tr>\n",
       "    <tr>\n",
       "      <th>G</th>\n",
       "      <td>0.266794</td>\n",
       "      <td>0.279963</td>\n",
       "      <td>0.250885</td>\n",
       "      <td>0.298349</td>\n",
       "      <td>0.310365</td>\n",
       "      <td>0.276135</td>\n",
       "      <td>0.000000</td>\n",
       "      <td>0.304490</td>\n",
       "      <td>0.136525</td>\n",
       "      <td>0.266939</td>\n",
       "    </tr>\n",
       "    <tr>\n",
       "      <th>O</th>\n",
       "      <td>0.200272</td>\n",
       "      <td>0.204174</td>\n",
       "      <td>0.224740</td>\n",
       "      <td>0.192452</td>\n",
       "      <td>0.196907</td>\n",
       "      <td>0.181669</td>\n",
       "      <td>0.304490</td>\n",
       "      <td>0.000000</td>\n",
       "      <td>0.243588</td>\n",
       "      <td>0.291811</td>\n",
       "    </tr>\n",
       "    <tr>\n",
       "      <th>W</th>\n",
       "      <td>0.210255</td>\n",
       "      <td>0.224327</td>\n",
       "      <td>0.197614</td>\n",
       "      <td>0.237697</td>\n",
       "      <td>0.259175</td>\n",
       "      <td>0.219001</td>\n",
       "      <td>0.136525</td>\n",
       "      <td>0.243588</td>\n",
       "      <td>0.000000</td>\n",
       "      <td>0.270384</td>\n",
       "    </tr>\n",
       "    <tr>\n",
       "      <th>Z</th>\n",
       "      <td>0.252259</td>\n",
       "      <td>0.264546</td>\n",
       "      <td>0.197976</td>\n",
       "      <td>0.282516</td>\n",
       "      <td>0.283570</td>\n",
       "      <td>0.235806</td>\n",
       "      <td>0.266939</td>\n",
       "      <td>0.291811</td>\n",
       "      <td>0.270384</td>\n",
       "      <td>0.000000</td>\n",
       "    </tr>\n",
       "  </tbody>\n",
       "</table>\n",
       "</div>"
      ],
      "text/plain": [
       "           A         B        BR         C         D         F         G  \\\n",
       "A   0.000000  0.173195  0.194305  0.184274  0.217338  0.187612  0.266794   \n",
       "B   0.173195  0.000000  0.222309  0.196430  0.211765  0.201606  0.279963   \n",
       "BR  0.194305  0.222309  0.000000  0.203407  0.201515  0.146184  0.250885   \n",
       "C   0.184274  0.196430  0.203407  0.000000  0.189961  0.181911  0.298349   \n",
       "D   0.217338  0.211765  0.201515  0.189961  0.000000  0.168470  0.310365   \n",
       "F   0.187612  0.201606  0.146184  0.181911  0.168470  0.000000  0.276135   \n",
       "G   0.266794  0.279963  0.250885  0.298349  0.310365  0.276135  0.000000   \n",
       "O   0.200272  0.204174  0.224740  0.192452  0.196907  0.181669  0.304490   \n",
       "W   0.210255  0.224327  0.197614  0.237697  0.259175  0.219001  0.136525   \n",
       "Z   0.252259  0.264546  0.197976  0.282516  0.283570  0.235806  0.266939   \n",
       "\n",
       "           O         W         Z  \n",
       "A   0.200272  0.210255  0.252259  \n",
       "B   0.204174  0.224327  0.264546  \n",
       "BR  0.224740  0.197614  0.197976  \n",
       "C   0.192452  0.237697  0.282516  \n",
       "D   0.196907  0.259175  0.283570  \n",
       "F   0.181669  0.219001  0.235806  \n",
       "G   0.304490  0.136525  0.266939  \n",
       "O   0.000000  0.243588  0.291811  \n",
       "W   0.243588  0.000000  0.270384  \n",
       "Z   0.291811  0.270384  0.000000  "
      ]
     },
     "execution_count": 18,
     "metadata": {},
     "output_type": "execute_result"
    }
   ],
   "source": [
    "df_clust = pd.DataFrame(df_clust, columns=sigles, index=sigles)\n",
    "df_clust"
   ]
  },
  {
   "cell_type": "code",
   "execution_count": 19,
   "id": "unlimited-passenger",
   "metadata": {},
   "outputs": [
    {
     "name": "stderr",
     "output_type": "stream",
     "text": [
      "/Users/mikekestemont/anaconda3/envs/n36/lib/python3.6/site-packages/seaborn/matrix.py:620: ClusterWarning: scipy.cluster: The symmetric non-negative hollow observation matrix looks suspiciously like an uncondensed distance matrix\n",
      "  metric=self.metric)\n"
     ]
    },
    {
     "data": {
      "image/png": "[encoded data removed]",
      "text/plain": [
       "<Figure size 720x720 with 4 Axes>"
      ]
     },
     "metadata": {
      "needs_background": "light"
     },
     "output_type": "display_data"
    }
   ],
   "source": [
    "import seaborn as sb\n",
    "sb.clustermap(df_clust, method='ward');"
   ]
  },
  {
   "cell_type": "markdown",
   "id": "peaceful-decision",
   "metadata": {},
   "source": [
    "## Abbreviation density"
   ]
  },
  {
   "cell_type": "code",
   "execution_count": 20,
   "id": "timely-wagon",
   "metadata": {},
   "outputs": [],
   "source": [
    "abbr_density = []\n",
    "\n",
    "for sigle in sigles:\n",
    "    abbr = extract_lines(f'../data/xml_martijn/xml_{sigle}.xml', expan = False, punct = False, lower = True)\n",
    "    expan = extract_lines(f'../data/xml_martijn/xml_{sigle}.xml', expan = True, punct = False, lower = True)\n",
    "    \n",
    "    line_idxs = sorted(abbr.keys())\n",
    "    abbr_lens = np.array([len(abbr[line]) for line in line_idxs])\n",
    "    expan_lens = np.array([len(expan[line]) for line in line_idxs])\n",
    "    \n",
    "    diffs = pd.Series(expan_lens - abbr_lens)\n",
    "    ratios = pd.Series(abbr_lens / expan_lens)\n",
    "    abbr_density.append((sigle, diffs.mean(), diffs.std(), ratios.mean(), ratios.std()))\n",
    "\n",
    "dens = pd.DataFrame(abbr_density, columns=['sigle', 'diff-mean', 'diff-std', 'ratio-mean', 'ratio-std'])\n",
    "dens.dropna(inplace=True)\n",
    "dens.set_index('sigle', inplace=True)"
   ]
  },
  {
   "cell_type": "code",
   "execution_count": 21,
   "id": "cloudy-leisure",
   "metadata": {},
   "outputs": [
    {
     "data": {
      "text/html": [
       "<div>\n",
       "<style scoped>\n",
       "    .dataframe tbody tr th:only-of-type {\n",
       "        vertical-align: middle;\n",
       "    }\n",
       "\n",
       "    .dataframe tbody tr th {\n",
       "        vertical-align: top;\n",
       "    }\n",
       "\n",
       "    .dataframe thead th {\n",
       "        text-align: right;\n",
       "    }\n",
       "</style>\n",
       "<table border=\"1\" class=\"dataframe\">\n",
       "  <thead>\n",
       "    <tr style=\"text-align: right;\">\n",
       "      <th></th>\n",
       "      <th>diff-mean</th>\n",
       "      <th>diff-std</th>\n",
       "      <th>ratio-mean</th>\n",
       "      <th>ratio-std</th>\n",
       "    </tr>\n",
       "    <tr>\n",
       "      <th>sigle</th>\n",
       "      <th></th>\n",
       "      <th></th>\n",
       "      <th></th>\n",
       "      <th></th>\n",
       "    </tr>\n",
       "  </thead>\n",
       "  <tbody>\n",
       "    <tr>\n",
       "      <th>A</th>\n",
       "      <td>1.281658</td>\n",
       "      <td>1.267670</td>\n",
       "      <td>0.954306</td>\n",
       "      <td>0.043616</td>\n",
       "    </tr>\n",
       "    <tr>\n",
       "      <th>B</th>\n",
       "      <td>1.113187</td>\n",
       "      <td>1.178113</td>\n",
       "      <td>0.959807</td>\n",
       "      <td>0.041200</td>\n",
       "    </tr>\n",
       "    <tr>\n",
       "      <th>BR</th>\n",
       "      <td>1.207746</td>\n",
       "      <td>1.148180</td>\n",
       "      <td>0.955133</td>\n",
       "      <td>0.040983</td>\n",
       "    </tr>\n",
       "    <tr>\n",
       "      <th>C</th>\n",
       "      <td>0.402314</td>\n",
       "      <td>0.824205</td>\n",
       "      <td>0.985216</td>\n",
       "      <td>0.030835</td>\n",
       "    </tr>\n",
       "    <tr>\n",
       "      <th>D</th>\n",
       "      <td>0.138386</td>\n",
       "      <td>0.516288</td>\n",
       "      <td>0.995722</td>\n",
       "      <td>0.015790</td>\n",
       "    </tr>\n",
       "    <tr>\n",
       "      <th>F</th>\n",
       "      <td>0.600769</td>\n",
       "      <td>0.958123</td>\n",
       "      <td>0.979705</td>\n",
       "      <td>0.031948</td>\n",
       "    </tr>\n",
       "    <tr>\n",
       "      <th>G</th>\n",
       "      <td>3.004515</td>\n",
       "      <td>1.701291</td>\n",
       "      <td>0.892987</td>\n",
       "      <td>0.057011</td>\n",
       "    </tr>\n",
       "    <tr>\n",
       "      <th>O</th>\n",
       "      <td>0.558420</td>\n",
       "      <td>0.905989</td>\n",
       "      <td>0.981547</td>\n",
       "      <td>0.029366</td>\n",
       "    </tr>\n",
       "    <tr>\n",
       "      <th>W</th>\n",
       "      <td>1.944664</td>\n",
       "      <td>1.754457</td>\n",
       "      <td>0.931749</td>\n",
       "      <td>0.060387</td>\n",
       "    </tr>\n",
       "    <tr>\n",
       "      <th>Z</th>\n",
       "      <td>2.477273</td>\n",
       "      <td>1.663155</td>\n",
       "      <td>0.905605</td>\n",
       "      <td>0.057928</td>\n",
       "    </tr>\n",
       "  </tbody>\n",
       "</table>\n",
       "</div>"
      ],
      "text/plain": [
       "       diff-mean  diff-std  ratio-mean  ratio-std\n",
       "sigle                                            \n",
       "A       1.281658  1.267670    0.954306   0.043616\n",
       "B       1.113187  1.178113    0.959807   0.041200\n",
       "BR      1.207746  1.148180    0.955133   0.040983\n",
       "C       0.402314  0.824205    0.985216   0.030835\n",
       "D       0.138386  0.516288    0.995722   0.015790\n",
       "F       0.600769  0.958123    0.979705   0.031948\n",
       "G       3.004515  1.701291    0.892987   0.057011\n",
       "O       0.558420  0.905989    0.981547   0.029366\n",
       "W       1.944664  1.754457    0.931749   0.060387\n",
       "Z       2.477273  1.663155    0.905605   0.057928"
      ]
     },
     "execution_count": 21,
     "metadata": {},
     "output_type": "execute_result"
    }
   ],
   "source": [
    "dens"
   ]
  },
  {
   "cell_type": "code",
   "execution_count": 22,
   "id": "nominated-omaha",
   "metadata": {},
   "outputs": [
    {
     "data": {
      "image/png": "[encoded data removed]",
      "text/plain": [
       "<Figure size 864x576 with 1 Axes>"
      ]
     },
     "metadata": {
      "needs_background": "light"
     },
     "output_type": "display_data"
    }
   ],
   "source": [
    "dens.sort_values(by='diff-mean', inplace=True)\n",
    "fig, ax = plt.subplots(figsize=(12, 8))\n",
    "ax.barh(range(len(dens.index)), dens['diff-mean'],\n",
    "       xerr=dens['diff-std'],\n",
    "       color='orange',\n",
    "       align='center',\n",
    "       alpha=0.7,\n",
    "       ecolor='purple',\n",
    "       capsize=5)\n",
    "ax.set_ylabel('Witnesses')\n",
    "ax.set_yticks(range(len(dens.index)))\n",
    "ax.set_yticklabels(dens.index)\n",
    "ax.set_title('Diff in chars between abrr and expan')\n",
    "ax.xaxis.grid(True)\n",
    "ax.yaxis.grid(True)\n",
    "plt.tight_layout()"
   ]
  },
  {
   "cell_type": "code",
   "execution_count": 23,
   "id": "stunning-pantyhose",
   "metadata": {},
   "outputs": [
    {
     "data": {
      "image/png": "[encoded data removed]",
      "text/plain": [
       "<Figure size 864x576 with 1 Axes>"
      ]
     },
     "metadata": {
      "needs_background": "light"
     },
     "output_type": "display_data"
    }
   ],
   "source": [
    "dens.sort_values(by='ratio-mean', inplace=True)\n",
    "fig, ax = plt.subplots(figsize=(12, 8))\n",
    "ax.barh(range(len(dens.index)), dens['ratio-mean'],\n",
    "       xerr=dens['ratio-std'],\n",
    "       color='orange',\n",
    "       align='center',\n",
    "       alpha=0.7,\n",
    "       ecolor='purple',\n",
    "       capsize=5)\n",
    "ax.set_ylabel('Witnesses')\n",
    "ax.set_yticks(range(len(dens.index)))\n",
    "ax.set_yticklabels(dens.index)\n",
    "ax.set_title('Ratio abrr / expan')\n",
    "plt.xlim(0.8, 1.05)\n",
    "ax.xaxis.grid(True)\n",
    "ax.yaxis.grid(True)\n",
    "plt.tight_layout()"
   ]
  },
  {
   "cell_type": "markdown",
   "id": "australian-romantic",
   "metadata": {},
   "source": [
    "## Pixelplot"
   ]
  },
  {
   "cell_type": "code",
   "execution_count": 24,
   "id": "subsequent-artist",
   "metadata": {},
   "outputs": [],
   "source": [
    "all_lines = set()\n",
    "for ms in mss:\n",
    "    all_lines.update(mss[ms].keys())\n",
    "\n",
    "def repl(n):\n",
    "    n = n.replace('Eerste Martijn', '1')\n",
    "    n = n.replace('Tweede Martijn', '2')\n",
    "    n = n.replace('Derde Martijn', '3')\n",
    "    n = n.replace('Vierde Martijn', '4')\n",
    "    return n\n",
    "\n",
    "all_lines = [repl(l) for l in all_lines]\n",
    "all_lines = sorted(all_lines)\n",
    "ms_names = sorted(mss.keys())\n",
    "grid = np.ones((len(all_lines), len(mss.keys())))\n",
    "grid.shape\n",
    "\n",
    "for ms in mss:\n",
    "    for line in mss[ms]:\n",
    "        grid[all_lines.index(repl(line)), ms_names.index(ms)] = 0"
   ]
  },
  {
   "cell_type": "code",
   "execution_count": 25,
   "id": "comparative-queensland",
   "metadata": {},
   "outputs": [
    {
     "data": {
      "image/png": "[encoded data removed]",
      "text/plain": [
       "<Figure size 576x864 with 1 Axes>"
      ]
     },
     "metadata": {
      "needs_background": "light"
     },
     "output_type": "display_data"
    }
   ],
   "source": [
    "fig, ax = plt.subplots(figsize=(8, 12))\n",
    "sb.heatmap(grid, xticklabels=ms_names, yticklabels=False, ax=ax, cbar=False);"
   ]
  }
 ],
 "metadata": {
  "kernelspec": {
   "display_name": "Python 3",
   "language": "python",
   "name": "python3"
  },
  "language_info": {
   "codemirror_mode": {
    "name": "ipython",
    "version": 3
   },
   "file_extension": ".py",
   "mimetype": "text/x-python",
   "name": "python",
   "nbconvert_exporter": "python",
   "pygments_lexer": "ipython3",
   "version": "3.6.10"
  }
 },
 "nbformat": 4,
 "nbformat_minor": 5
}
