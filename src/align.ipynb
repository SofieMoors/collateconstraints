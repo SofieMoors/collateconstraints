{
 "cells": [
  {
   "cell_type": "code",
   "execution_count": 55,
   "id": "552ff1f1-c60c-46a4-88b7-be5ffc500ded",
   "metadata": {},
   "outputs": [
    {
     "name": "stdout",
     "output_type": "stream",
     "text": [
      "Requirement already satisfied: collatex in /Users/sofiemoors/opt/anaconda3/lib/python3.9/site-packages (2.2)\n",
      "Requirement already satisfied: prettytable in /Users/sofiemoors/opt/anaconda3/lib/python3.9/site-packages (from collatex) (3.5.0)\n",
      "Requirement already satisfied: networkx in /Users/sofiemoors/opt/anaconda3/lib/python3.9/site-packages (from collatex) (2.8.4)\n",
      "Requirement already satisfied: wcwidth in /Users/sofiemoors/opt/anaconda3/lib/python3.9/site-packages (from prettytable->collatex) (0.2.5)\n"
     ]
    }
   ],
   "source": [
    "!pip install --upgrade collatex"
   ]
  },
  {
   "cell_type": "code",
   "execution_count": 1,
   "id": "da42733f-7d67-4841-a1b6-6815b8889c51",
   "metadata": {},
   "outputs": [
    {
     "name": "stdout",
     "output_type": "stream",
     "text": [
      "Requirement already satisfied: python-Levenshtein in /Users/sofiemoors/opt/anaconda3/lib/python3.9/site-packages (0.20.8)\n",
      "Requirement already satisfied: Levenshtein==0.20.8 in /Users/sofiemoors/opt/anaconda3/lib/python3.9/site-packages (from python-Levenshtein) (0.20.8)\n",
      "Requirement already satisfied: rapidfuzz<3.0.0,>=2.3.0 in /Users/sofiemoors/opt/anaconda3/lib/python3.9/site-packages (from Levenshtein==0.20.8->python-Levenshtein) (2.13.6)\n",
      "Note: you may need to restart the kernel to use updated packages.\n"
     ]
    }
   ],
   "source": [
    "pip install python-Levenshtein"
   ]
  },
  {
   "cell_type": "code",
   "execution_count": 2,
   "id": "7a553b4f-3038-47f5-8c54-7d41dc978869",
   "metadata": {},
   "outputs": [
    {
     "name": "stdout",
     "output_type": "stream",
     "text": [
      "Requirement already satisfied: grapheme in /Users/sofiemoors/opt/anaconda3/lib/python3.9/site-packages (0.6.0)\n",
      "Note: you may need to restart the kernel to use updated packages.\n"
     ]
    }
   ],
   "source": [
    "pip install grapheme"
   ]
  },
  {
   "cell_type": "code",
   "execution_count": 20,
   "id": "structured-peripheral",
   "metadata": {
    "tags": []
   },
   "outputs": [],
   "source": [
    "from glob import glob #alle bestandspaden terugvinden die overeenkomen met specifiek patroon\n",
    "import os #aanmaken van mappen, verwijderen van mappen,...\n",
    "from itertools import combinations #reeks verzameling cijfers/letters, combinaties in lexicografische volgorde\n",
    "import grapheme #voor stringmanipulatie & rekenfucties -> stel je hebt x = 'n̄', dan len(x) = 2 (want 2 bytes), grapheme.length(x) is dan wel 1\n",
    "from collatex import * #alle functies van collatex importeren, * geeft weer dat het om alle functies gaat\n",
    "from tqdm import tqdm #progress meters toevoegen\n",
    "import numpy as np #numpy dient om met lijsten/arrays te werken \n",
    "import pandas as pd #gebruik maken van de functies van Panda, zoals pd.DataFrame\n",
    "import seaborn as sb #statistical data visualization\n",
    "import matplotlib.pyplot as plt #creating static/animated/interactive visualizations\n",
    "\n",
    "from lxml import etree\n",
    "from re import sub #re — Regular expression operations #\n",
    "import xml.etree.ElementTree as ET\n",
    "import string"
   ]
  },
  {
   "cell_type": "code",
   "execution_count": 21,
   "id": "passing-morgan",
   "metadata": {},
   "outputs": [
    {
     "data": {
      "text/plain": [
       "['A',\n",
       " 'Ant',\n",
       " 'B',\n",
       " 'BR',\n",
       " 'C',\n",
       " 'D',\n",
       " 'D2',\n",
       " 'E',\n",
       " 'F',\n",
       " 'G',\n",
       " 'Ge',\n",
       " 'K',\n",
       " 'L',\n",
       " 'O',\n",
       " 'W',\n",
       " 'Y',\n",
       " 'Z']"
      ]
     },
     "execution_count": 21,
     "metadata": {},
     "output_type": "execute_result"
    }
   ],
   "source": [
    "sigles = [os.path.basename(fn).replace('xml_', '').replace('.xml', '') for fn in glob('../data/xml_martijn/*.xml')] #maak een lijst van sigles, doe dat door de basisnaam van een specifiek path te nemen (fn) en daarin .txt te vervangen, for... in ... = loop\n",
    "sigles = sorted(sigles)\n",
    "sigles"
   ]
  },
  {
   "cell_type": "code",
   "execution_count": 22,
   "id": "defensive-extension",
   "metadata": {},
   "outputs": [],
   "source": [
    "#sigles = 'G', 'Z'\n",
    "\n",
    "#sigles = 'A', 'B', 'C', 'D'\n",
    "sigles = 'A','Ant','B', 'BR', 'C','D', 'D2','E', 'F', 'G', 'Ge', 'K', 'L', 'O', 'W', 'Y', 'Z'"
   ]
  },
  {
   "cell_type": "code",
   "execution_count": 23,
   "id": "534c98da-a02c-4570-b097-8d23981c0eb5",
   "metadata": {},
   "outputs": [],
   "source": [
    "def get_gap_lines(tree):\n",
    "    gap_lines = []\n",
    "    for text in tree.iterfind('.//'+\"{\"+ NSMAP[\"MVN\"]+ \"}\"+'text'):\n",
    "        if 'n' in text.attrib:\n",
    "            for line in text.iterfind('.//'+\"{\"+ NSMAP[\"MVN\"]+ \"}\"+'l'):\n",
    "                if(line.find('.//'+\"{\"+ NSMAP[\"MVN\"]+ \"}\"+'gap')) is not None:\n",
    "                    gap_lines.append(text.attrib['n'] + '-' + line.attrib['n'])\n",
    "    return gap_lines"
   ]
  },
  {
   "cell_type": "code",
   "execution_count": 24,
   "id": "0d7932ef-cb69-49d8-ac57-f98adf065ef5",
   "metadata": {},
   "outputs": [],
   "source": [
    "NSMAP = {'MVN': 'http://www.tei-c.org/ns/1.0'} #namespace = collectie van 'symbolic names'\n",
    "removes = ('teiHeader', 'fw', 'supplied', 'abbr') #fw = forme work = headers, footers,...supplied = tekst toegevoegd door de transcriber \n",
    "removes_expan_false = ('teiHeader', 'fw', 'supplied', 'ex', 'expan')\n",
    "chars = {'a', 'b', 'c', 'd', 'e', 'f', 'g', 'h', 'i', 'j', 'k', 'l','m', 'n', 'o', 'p', 'q', 'r', 's', 't', 'u', 'v', 'w', 'x', 'y', 'z'}       "
   ]
  },
  {
   "cell_type": "code",
   "execution_count": 25,
   "id": "threaded-camera",
   "metadata": {},
   "outputs": [
    {
     "name": "stdout",
     "output_type": "stream",
     "text": [
      "703\n",
      "-> removed 162 lines with gaps\n",
      "{'Eerste Martijn-001': 'waphene merten hoe saelt gaen', 'Eerste Martijn-002': 'sal dese werelt lange staen', 'Eerste Martijn-003': 'in dus crancken loeue', 'Eerste Martijn-004': 'soe sal mijn vrouwe veren saen', 'Eerste Martijn-005': 'sonder twiuel ende waen', 'Eerste Martijn-006': 'rumen der heren houe', 'Eerste Martijn-007': 'ic sie den scalcken wel ontfaen', 'Eerste Martijn-008': 'die de heren connen dwaen', 'Eerste Martijn-009': 'ende plucken vanden stoeue', 'Eerste Martijn-010': 'ic sie den gherechten slaen', 'Eerste Martijn-011': 'beide bespotten ende vaen', 'Eerste Martijn-012': 'alse die meese inde cloeue', 'Eerste Martijn-013': 'recht oftene god verscroeue', 'Eerste Martijn-014': 'hoe lange sal gedoegen dit', 'Eerste Martijn-015': 'god die alle dinc besit', 'Eerste Martijn-016': 'in sine herscapie', 'Eerste Martijn-017': 'dattie goede vleyt ende bidt', 'Eerste Martijn-018': 'hem en doech dat no dit', 'Eerste Martijn-019': 'dat hi yet ghedie', 'Eerste Martijn-020': 'al gaet in den helschen pit', 'Eerste Martijn-021': 'eest blau grau swert oft wit', 'Eerste Martijn-022': 'hets ghetrouwe als die sie', 'Eerste Martijn-023': 'recht man deluet sonder spit', 'Eerste Martijn-024': 'hine heeft te poenten niet gehit', 'Eerste Martijn-025': 'in ne ghene baelgie', 'Eerste Martijn-026': 'mi es leet dat ic waer lie', 'Eerste Martijn-027': 'laet ons merten ouer een', 'Eerste Martijn-028': 'hier af spreken onder ons tween', 'Eerste Martijn-029': 'in dit dyaloeghe', 'Eerste Martijn-030': 'wanen quaem ons desen ween', 'Eerste Martijn-031': 'die wilen soe onwaert scheen', 'Eerste Martijn-032': 'ende nv sit soe hoeghe', 'Eerste Martijn-033': 'ic sal v vraeghen ende vleen', 'Eerste Martijn-034': 'antwoort mi ia ofte neen', 'Eerste Martijn-035': 'van dat ic di betoeghe', 'Eerste Martijn-036': 'ledicheit es vroeme gheen', 'Eerste Martijn-037': 'aerbeit vint vier in den steen', 'Eerste Martijn-048': 'die dit ane mi sochte', 'Eerste Martijn-051': 'want hi mi diere cochte', 'Eerste Martijn-058': 'dien hiet si sijn here', 'Eerste Martijn-064': 'want ic gherne leere', 'Eerste Martijn-065': 'wies scout dat weere', 'Eerste Martijn-068': 'te pinen omme die eere', 'Eerste Martijn-077': 'dus es verbannen eere', 'Eerste Martijn-078': 'ende weder staen ten kere', 'Eerste Martijn-081': 'bi hare edele natuere', 'Eerste Martijn-084': 'sone can so tier vren', 'Eerste Martijn-131': 'meeten nv berecht mi dies', 'Eerste Martijn-132': 'oft  god die noeyt en wies', 'Eerste Martijn-133': 'berecht alle creatueren', 'Eerste Martijn-134': 'twi heeft die quaede den kies', 'Eerste Martijn-135': 'tie go alt int verlies', 'Eerste Martijn-136': 'w saelt voer recht cueren', 'Eerste Martijn-137': 'n seit mi als een r', 'Eerste Martijn-138': 'hi die adaeme dlijf ines', 'Eerste Martijn-139': 'die meester der natueren', 'Eerste Martijn-140': 'heeft beuoelen merct besies', 'Eerste Martijn-141': 'dunct v dit waer soe ghies', 'Eerste Martijn-142': 'der blinder auontueren', 'Eerste Martijn-143': 'die verkeert telker vren', 'Eerste Martijn-144': 'iacop segt bestu verdoort', 'Eerste Martijn-145': 'auontuere en es maer i woort', 'Eerste Martijn-146': 'uan gheuinsder spraeken', 'Eerste Martijn-147': 'bringstu ongeloeue voert', 'Eerste Martijn-148': 'god siet alle dinc ende hoort', 'Eerste Martijn-149': 'wiltu den duuel maeken', 'Eerste Martijn-150': 'wat heeft dijn herte becoort', 'Eerste Martijn-151': 'dattu hels aent legher boort', 'Eerste Martijn-152': 'die paepen sullent smaeken', 'Eerste Martijn-153': 'waerstu verbrant ofte versmoort', 'Eerste Martijn-154': 'en gaeue omme dine ziele niet i oort', 'Eerste Martijn-155': 'men mach met sulken saeken', 'Eerste Martijn-156': 'gode niet ghenaeken', 'Eerste Martijn-157': 'god en was noeyt moede no mat', 'Eerste Martijn-158': 'int wout en es loef no blat', 'Eerste Martijn-159': 'buten siere hoeden', 'Eerste Martijn-160': 'al dat es in elke stat', 'Eerste Martijn-161': 'dat behoet hi ende besat', 'Eerste Martijn-162': 'met godliker hoeden', 'Eerste Martijn-163': 'al gehinct hi dan dat', 'Eerste Martijn-164': 'dattie quaede gewinnet scat', 'Eerste Martijn-165': 'ende men heet den vroeden', 'Eerste Martijn-166': 'soe hi hoeger sit opt rat', 'Eerste Martijn-167': 'soe hoegher valt hi swaren plat', 'Eerste Martijn-168': 'inder helscher gloeden', 'Eerste Martijn-169': 'onder der duuel roeden', 'Eerste Martijn-170': 'den rechten wech ter hellen waert', 'Eerste Martijn-171': 'entie alder corste vaert', 'Eerste Martijn-172': 'dats gheluuc in sonden', 'Eerste Martijn-173': 'als men gheen mesdoen en spaert', 'Eerste Martijn-716': 'merct vrouwe ende besiet', 'Eerste Martijn-717': 'wat ghi ouer mi ghebiet', 'Eerste Martijn-718': 'als ouer al v lede', 'Eerste Martijn-719': 'men conde v gescaeden niet', 'Eerste Martijn-720': 'waert soe dat ghi van v sciet', 'Eerste Martijn-721': 'alle dorperhede', 'Eerste Martijn-722': 'maer alse ghi bi mi bespiet', 'Eerste Martijn-723': 'dinghen die ghi ane v tiet', 'Eerste Martijn-724': 'volghics gherne mede', 'Eerste Martijn-725': 'ghi sijt als dat crancke riet', 'Eerste Martijn-726': 'dat metten winde waeyt ende vliet', 'Eerste Martijn-727': 'v ongestaedichede', 'Eerste Martijn-728': 'maect v den onureede', 'Eerste Martijn-729': 'dit orloge heeft gheuelt', 'Eerste Martijn-730': 'alsmen haer den twist vertelt', 'Eerste Martijn-731': 'vrouwe redene bi besceede', 'Eerste Martijn-732': 'beide gader sise scelt', 'Eerste Martijn-733': 'elken deilt si daer sijn gelt', 'Eerste Martijn-734': 'niet gelike beede', 'Eerste Martijn-735': 'baersculdich si die herte spelt', 'Eerste Martijn-736': 'als die si ouer voget helt', 'Eerste Martijn-737': 'ende vrouwen bi haren eede', 'Eerste Martijn-738': 'maer dies vals ghewelt', 'Eerste Martijn-739': 'dat bi siene therte dwelt', 'Eerste Martijn-740': 'tijt si der oegen geleede', 'Eerste Martijn-741': 'dus deilt si die veede', 'Eerste Martijn-742': 'merten hier bi mach men sien', 'Eerste Martijn-743': 'weder die oegen therte tien', 'Eerste Martijn-744': 'soe therte die oegen', 'Eerste Martijn-746': 'omme niet eest dattie oegen spien', 'Eerste Martijn-745': 'alse therte wilde vlien', 'Eerste Martijn-747': 'daer en es gheen ghedoegen', 'Eerste Martijn-748': 'maer hets der herten plien', 'Eerste Martijn-749': 'als doghe siet desen oft dien', 'Eerste Martijn-750': 'daer hem toe wille boegen', 'Eerste Martijn-751': 'soe moet al haren wille gescien', 'Eerste Martijn-752': 'die ogen moeten lien ende ghien', 'Eerste Martijn-753': 'daer dore quaem gheuloegen', 'Eerste Martijn-754': 'minne int vertoeghen', 'Eerste Martijn-755': 'iacop v redene es claer', 'Eerste Martijn-756': 'al dunct si den ghenen swaer', 'Eerste Martijn-757': 'die luttel gheuroeden', 'Eerste Martijn-758': 'ic weet wel ouer waer', 'Eerste Martijn-763': 'hine dorste hem niet vermoeden', 'Eerste Martijn-764': 'datti beuen soude daer', 'Eerste Martijn-765': 'daer god sal doemen oppenbaer', 'Eerste Martijn-766': 'ende wisen ten gloeden', 'Eerste Martijn-767': 'die hem hier ten sonden spoeden', 'Eerste Martijn-770': 'rijcheit ofte aermoede', 'Eerste Martijn-772': 'al duncket mi gadren gout', 'Eerste Martijn-773': 'ende staet naeden goede', 'Eerste Martijn-775': 'want si es seker ende bout', 'Eerste Martijn-778': 'si scuwen honger ende cout', 'Eerste Martijn-779': 'eest alsoe ic mi vermoede', 'Eerste Martijn-780': 'soe doelen dese vroede', 'Eerste Martijn-781': 'merten ic mete vol dijn vat', 'Eerste Martijn-783': 'sitten die gheleerde', 'Eerste Martijn-784': 'dat si di heten doet al dat', 'Eerste Martijn-786': 'wel hem diere hem toe keerde', 'Eerste Martijn-787': 'maer in weldoene sijn si lat', 'Eerste Martijn-788': 'si heten vaste si sijn sat', 'Eerste Martijn-790': 'ø', 'Eerste Martijn-792': 'noeyt volc was op eerde', 'Eerste Martijn-793': 'dat meer scats begeerde', 'Eerste Martijn-796': 'al sijn si selsine', 'Eerste Martijn-798': 'ende aermoede ane vaen', 'Eerste Martijn-799': 'bi heylegen en siene', 'Eerste Martijn-801': 'tormenten ende vaen', 'Eerste Martijn-802': 'omme die helle tonfliene', 'Eerste Martijn-808': 'die euen gheweldich sit ende sat', 'Eerste Martijn-852': 'merten trect die arme naer', 'Eerste Martijn-853': 'deilt hem stille oppenbaer', 'Eerste Martijn-854': 'van uwer weeldicheden', 'Eerste Martijn-855': 'eer die kerke entie outaer', 'Eerste Martijn-856': 'het woort ten ioncsten dagen claer', 'Eerste Martijn-857': 'daer v god sal besceeden', 'Eerste Martijn-858': 'met sinen lieuen leeden', 'Eerste Martijn-859': 'die wech es inghe ende hoech', 'Eerste Martijn-860': 'daer god bi te hemel vloech', 'Eerste Martijn-861': 'dats passie ende aermoede', 'Eerste Martijn-863': 'omme den middelen pat soe poech', 'Eerste Martijn-862': 'oftu meer hebts dan di doech', 'Eerste Martijn-864': 'deile van dinen goede', 'Eerste Martijn-865': 'dine fiere herte poech', 'Eerste Martijn-866': 'den armen mensche ende toech', 'Eerste Martijn-867': 'ontfermicheit van moede', 'Eerste Martijn-868': 'god selue die noeyt en loech', 'Eerste Martijn-869': 'noch den milden noeyt en bedroech', 'Eerste Martijn-870': 'sette in siere hoeden', 'Eerste Martijn-871': 'onder der duuel roede', 'Eerste Martijn-872': 'iacop die werelt maect gescal', 'Eerste Martijn-873': 'ende tient den vrouwen al', 'Eerste Martijn-874': 'dat wi in sonden sneuen', 'Eerste Martijn-875': 'want yeua viel den yersten val', 'Eerste Martijn-876': 'daer wi omme int helsche dal', 'Eerste Martijn-877': 'alle sijn verdreuen', 'Eerste Martijn-878': 'nv seggen si groot ende smal', 'Eerste Martijn-879': 'dat si adaeme therte stal', 'Eerste Martijn-880': 'die hem haer liet vergheuen', 'Eerste Martijn-881': 'nv segt mi wien men tien sal', 'Eerste Martijn-882': 'dit verlies sonder getal', 'Eerste Martijn-883': 'daer wi omme moeten beuen', 'Eerste Martijn-884': 'als inden sal ons leuen', 'Eerste Martijn-885': 'merten hine es niet vroet', 'Eerste Martijn-886': 'die mi tyt datti mesdoet', 'Eerste Martijn-887': 'kent hi vroeme ofte scaede', 'Eerste Martijn-888': 'ic sie die see ic sie die vloet', 'Eerste Martijn-889': 'ic setter willens in den voet', 'Eerste Martijn-890': 'bi enen dommen raede', 'Eerste Martijn-891': 'wien maghic draegen euelen moet', 'Eerste Martijn-892': 'dat mi die stroem metter spoet', 'Eerste Martijn-893': 'draget inde gewaede', 'Eerste Martijn-894': 'dat ic quaet can ende goet', 'Eerste Martijn-897': 'dat ic mi verlaede', 'Eerste Martijn-898': 'selc tient den vrouwen opsien', 'Eerste Martijn-899': 'dat si hem therte ontien', 'Eerste Martijn-900': 'als die steen die naelde', 'Eerste Martijn-901': 'hi dunct mi mesdoen in dien', 'Eerste Martijn-902': 'wilde hi der waerheit ghien', 'Eerste Martijn-903': 'van datti daer toe taelde', 'Eerste Martijn-904': 'wat mogen vrouwen dat manne plien', 'Eerste Martijn-905': 'soe nauwe op haer scoenheit sien', 'Eerste Martijn-906': 'wie es diese daer toe haelde', 'Eerste Martijn-907': 'wilde die clager te tide vlien', 'Eerste Martijn-908': 'sone mocht hem niet messchien', 'Eerste Martijn-909': 'ende hi den sin verstaelde', 'Eerste Martijn-910': 'eer hem therte daelde', 'Eerste Martijn-911': 'urouwen sijn bi natueren goet', 'Eerste Martijn-912': 'si slechten den wine enter gloet', 'Eerste Martijn-913': 'die de werelt verbliden', 'Eerste Martijn-914': 'die des wijns te vele in doet', 'Eerste Martijn-915': 'ende te naeden viere set den voet', 'Eerste Martijn-916': 'hine caent geliden', 'Eerste Martijn-917': 'waren manne alsoe behoet', 'Eerste Martijn-918': 'dat si oegen sin ende moet', 'Eerste Martijn-919': 'wel consten besniden', 'Eerste Martijn-920': 'soe ware vrouwe minne spoet', 'Eerste Martijn-921': 'nv werden si van minnen verwoet', 'Eerste Martijn-922': 'diere domlike toe tiden', 'Eerste Martijn-923': 'dit doet vrouwen beniden', 'Eerste Martijn-950': 'wat maken quaet sprekers gescal', 'Eerste Martijn-951': 'vrouwen daedent wel na al', 'Eerste Martijn-952': 'dat dit wonder gesciede', 'Eerste Martijn-953': 'al dat es ofte wesen sal', 'Eerste Martijn-954': 'ende oeyt was sonder getal', 'Eerste Martijn-955': 'ingele ende lieden', 'Eerste Martijn-956': 'benedien groot ende smal', 'Eerste Martijn-957': 'maria die ghenas den val', 'Eerste Martijn-958': 'van menscheliken dieden', 'Eerste Martijn-959': 'si es die roefde ende stal', 'Eerste Martijn-960': 'die siele int helsche dal', 'Eerste Martijn-961': 'dies lucifer begiede', 'Eerste Martijn-962': 'ende sine meiseniede', 'Eerste Martijn-924': 'dat men luttel trouwen vint', 'Eerste Martijn-925': 'aen vrouwen dat en clagic twint', 'Eerste Martijn-926': 'bi eender manieren', 'Eerste Martijn-929': 'ende men copet ondiere', 'Eerste Martijn-930': 'manne sijn loeser dan die wint', 'Eerste Martijn-931': 'haer scoen claegen vrouwen verblint', 'Eerste Martijn-932': 'want si sijn goeder tieren', 'Eerste Martijn-933': 'groeter sonden hi hem bewint', 'Eerste Martijn-934': 'die valsche woort vrouwen toe sint', 'Eerste Martijn-935': 'god die moeten schiere', 'Eerste Martijn-936': 'senden ten helschen viere', 'Eerste Martijn-937': 'wat mochts eua dat adaem', 'Eerste Martijn-938': 'doer haren wille den appel n', 'Eerste Martijn-939': 'dat wi noch alle besteruen', 'Eerste Martijn-940': 'ic waender ons voerdeel af quaem', 'Eerste Martijn-941': 'hier omme wert mensche themelsche lam', 'Eerste Martijn-942': 'tonser alder bederue', 'Eerste Martijn-943': 'hi versoende den vader gram', 'Eerste Martijn-944': 'ende wijsde ons den wech enten dam', 'Eerste Martijn-945': 'toter hoeger eruen', 'Eerste Martijn-946': 'selsender dinc noeyt man vernam', 'Eerste Martijn-947': 'dat een maget gode maecte tam', 'Eerste Martijn-948': 'dat hi hem een weruen', 'Eerste Martijn-949': 'doer onsen wille liet bederuen', 'Eerste Martijn-963': 'iacop du best den vrouwen hout', 'Eerste Martijn-964': 'du gheues den manne alle die scout', 'Eerste Martijn-965': 'ic waene ict best gedoeghe', 'Eerste Martijn-966': 'ic vergeue al ongedout', 'Eerste Martijn-967': 'allen vrouwen ionc ende out', 'Eerste Martijn-968': 'omme die vrouwe hoege', 'Eerste Martijn-969': 'daer ons af quaem ons behout', 'Eerste Martijn-970': 'gedanct si si menichfout', 'Eerste Martijn-971': 'dat sine op hilt met soege', 'Eerste Martijn-972': 'die ons benaem thelschen cout', 'Eerste Martijn-973': 'in haer benic tinden bout', 'Eerste Martijn-974': 'onse dyaloeghe', 'Eerste Martijn-975': 'en vraege nemmeer no en toege', 'Tweede Martijn-000': 'dander merten', 'Tweede Martijn-001': 'slaepstu merten slaept dijn sin', 'Tweede Martijn-002': 'spreken en heeft geen spreken in', 'Tweede Martijn-003': 'du dunckes mi verdoren', 'Tweede Martijn-004': 'dune achtes meer no min', 'Tweede Martijn-005': 'dan op welde ende op ghewin', 'Tweede Martijn-006': 'wiltu di aldus versmoren', 'Tweede Martijn-007': 'al waert al dine dat comt int swin', 'Tweede Martijn-008': 'gout seluer loot yser tin', 'Tweede Martijn-009': 'soe bleefstu verloren', 'Tweede Martijn-011': 'hef op dijn hoet dinen kin', 'Tweede Martijn-012': 'tontide waerstu geboren', 'Tweede Martijn-013': 'heeftu dichtens versworen', 'Tweede Martijn-014': 'iacop du woens inden dam', 'Tweede Martijn-015': 'ende ic tutrecht des benic gram', 'Tweede Martijn-016': 'dat wi dus sijn verscheeden', 'Tweede Martijn-017': 'wetti wat mi meest mesquaem', 'Tweede Martijn-018': 'dat ic noeyt bate en vernaem', 'Tweede Martijn-019': 'aent dichten van ons beeden', 'Tweede Martijn-020': 'soe es mijn sin woorden soe lam', 'Tweede Martijn-021': 'dat icker noede weder aen quaem', 'Tweede Martijn-022': 'dit doet mi verleeden', 'Tweede Martijn-023': 'du wecs mi als i stotel ram', 'Tweede Martijn-024': 'sidi wilt ghi wert noch tam', 'Tweede Martijn-025': 'leere dine woorde cleeden', 'Tweede Martijn-026': 'soetelike ende ghereeden', 'Tweede Martijn-027': 'merten vrient hebbic messeit', 'Tweede Martijn-028': 'ic bens te betren gereit', 'Tweede Martijn-029': 'ic wils al op di bliuen', 'Tweede Martijn-030': 'maer verstant mi ende ontbeit', 'Tweede Martijn-031': 'een dinc dat mi opt herte leit', 'Tweede Martijn-032': 'willic di bescriuen', 'Tweede Martijn-033': 'daer haer die werelt mede meit', 'Tweede Martijn-034': 'ende daede dat lief ware leit', 'Tweede Martijn-035': 'ende dats minne van wiuen', 'Tweede Martijn-036': 'wat dat inde werelt steit', 'Tweede Martijn-037': 'steden borghe bossche preit', 'Tweede Martijn-038': 'soude men verdriuen', 'Tweede Martijn-039': 'woude men minne ontliuen', 'Tweede Martijn-040': 'iacop dit was oeyt dijn doen', 'Tweede Martijn-041': 'van vrouwen te maken dijn sermoen', 'Tweede Martijn-042': 'beghinnen ofte inden', 'Tweede Martijn-043': 'waerstu een dorper du spraecs van coen', 'Tweede Martijn-044': 'nv es dijn herte des ontvloen', 'Tweede Martijn-045': 'doch willics mi ghenenden', 'Tweede Martijn-046': 'ende steken af minen caproen', 'Tweede Martijn-047': 'ende hoeren watti hier toe spoen', 'Tweede Martijn-048': 'dattu den ombekinden', 'Tweede Martijn-049': 'merten niet en laet gheroen', 'Tweede Martijn-050': 'al haddic aen ij yseren scoen', 'Tweede Martijn-051': 'en mochte di niet ontwinden', 'Tweede Martijn-052': 'nv vraecht ic sal ontbinden', 'Tweede Martijn-053': 'merten du sout mi verstaen', 'Tweede Martijn-054': 'een vrouwe wel gedaen', 'Tweede Martijn-056': 'aldat gode es onder daen', 'Tweede Martijn-057': 'lietic al omme hare gaen', 'Tweede Martijn-058': 'mochticse gewinnen', 'Tweede Martijn-059': 'nochtan wetic sonder waen', 'Tweede Martijn-060': 'dat si mijns niet en acht i spaen', 'Tweede Martijn-061': 'mijn sin doet mi bekinnen', 'Tweede Martijn-062': 'al souder die werelt omme vergaen', 'Tweede Martijn-063': 'si en soude mi niet ontfaen', 'Tweede Martijn-064': 'in haer herte binnen', 'Tweede Martijn-065': 'hier toe es gheen verwinnen', 'Tweede Martijn-066': 'een ander vrouwe es die mi mint', 'Tweede Martijn-067': 'bouen al dat si leuende kint', 'Tweede Martijn-068': 'met gestaeder trouwen', 'Tweede Martijn-069': 'die niet mi geprijst es twint', 'Tweede Martijn-070': 'maer die scoenste die men vint', 'Tweede Martijn-071': 'ende spiegel van allen vrouwen', 'Tweede Martijn-075': 'hoe lief op sien si mi toe sent', 'Tweede Martijn-073': 'mijn herte es soe verblent', 'Tweede Martijn-074': 'dat icse niet en wille scouwen', 'Tweede Martijn-072': 'mijn herte dat es soe hart twint', 'Tweede Martijn-076': 'dat het mi al duncket wint', 'Tweede Martijn-077': 'si liet haer eer te stucken houwen', 'Tweede Martijn-078': 'eer siere omme quaem in rouwen', 'Tweede Martijn-079': 'merten hore ende verstant', 'Tweede Martijn-080': 'dese ij sijn in i bewant', 'Tweede Martijn-081': 'dat costen moet der eren leuen', 'Tweede Martijn-082': 'nv hebbic die macht inde hant', 'Tweede Martijn-083': 'welker ic wille breken den cant', 'Tweede Martijn-084': 'ende maecht haer al vergheuen', 'Tweede Martijn-085': 'emmer moet deen biten den tant', 'Tweede Martijn-086': 'den besten die god ie vant', 'Tweede Martijn-087': 'hier toe sijn si verdreuen', 'Tweede Martijn-088': 'en liecht mi niet als i truwant', 'Tweede Martijn-089': 'maer segt mi aen welken cant', 'Tweede Martijn-090': 'dijn herte es bleuen', 'Tweede Martijn-091': 'ende welke du liets sneuen', 'Tweede Martijn-092': 'iacop dit en es geens vragens waert', 'Tweede Martijn-093': 'die de waerheit niet en spaert', 'Tweede Martijn-094': 'heeft dit saen ontbonden', 'Tweede Martijn-095': 'hets emmer der herten aert', 'Tweede Martijn-096': 'dat si daer waert tijt ende vaert', 'Tweede Martijn-097': 'danen haer quaemen die wonden', 'Tweede Martijn-098': 'al sout al vaeren hinderwaert', 'Tweede Martijn-099': 'al dat weluarens begaert', 'Derde Martijn-340': 'tfleeschs datti van den reinen wiue', 'Derde Martijn-341': 'vrouwen marien nam', 'Derde Martijn-342': 'hi troeste sine lieue keytiue', 'Derde Martijn-343': 'hier ij hier iij hier iiij hier viue', 'Derde Martijn-344': 'met hem hi eten quaem', 'Derde Martijn-345': 'dus es die gods sone alsic scriue', 'Derde Martijn-346': 'god ende mensche elc man bliue', 'Derde Martijn-347': 'hier in gehoersam', 'Derde Martijn-348': 'es oec enich man soe stiue', 'Derde Martijn-349': 'die iegen dit geloeue kiue', 'Derde Martijn-350': 'op hem sal themelsche lam', 'Derde Martijn-351': 'ten ioncsten woorden gram', 'Derde Martijn-352': 'inden hemel es hi geuaeren', 'Derde Martijn-353': 'daer die sine aen saegen twaren', 'Derde Martijn-354': 'tes vaders rechte hant', 'Derde Martijn-355': 'daer hi altoes sonder spaeren', 'Derde Martijn-356': 'den vader bidt voer sijn caren', 'Derde Martijn-357': 'die hem hier sijn becant', 'Derde Martijn-358': 'noch comt hi hem hier verbaeren', 'Derde Martijn-359': 'doemen die werelt met sinen scaeren', 'Derde Martijn-360': 'enten helschen viant', 'Derde Martijn-361': 'sonne mane sal hi verclaeren', 'Derde Martijn-362': 'die bi adaeme verdonckert waren', 'Derde Martijn-363': 'lucht water ende lant', 'Derde Martijn-364': 'sal purgeren een brant', 'Derde Martijn-365': 'al waest datti dus op rande', 'Derde Martijn-366': 'hi liet den sinen hier te pande', 'Derde Martijn-367': 'sijn vleeschs sijn heilich bloet', 'Derde Martijn-368': 'te sacreerne in des priesters hande', 'Derde Martijn-369': 'wie es die sulke gaeue becande', 'Derde Martijn-370': 'beeter ofte alsoe goet', 'Derde Martijn-371': 'aey god brect onse bande', 'Derde Martijn-372': 'ende vergeeft ons dine ande', 'Derde Martijn-373': 'ende dinen euelen moet', 'Derde Martijn-374': 'dat onse mont ende onse tant', 'Derde Martijn-375': 'smaeken moet sonder scande', 'Derde Martijn-376': 'v vleeschs ende v bloet', 'Derde Martijn-377': 'dat wt dijnre siden woet', 'Derde Martijn-378': 'vt desen sone ende wonden', 'Derde Martijn-379': 'wies godheit niemen nen gegronden', 'Derde Martijn-380': 'noch wies menschelijcheit', 'Derde Martijn-381': 'si vloeyden yerst ende begonde', 'Derde Martijn-382': 'die sacramente tien stonden', 'Derde Martijn-385': 'soe ic naest hebbe ondervonden', 'Derde Martijn-386': 'na miere heit', 'Derde Martijn-387': 'die dit geloue vast orconden', 'Derde Martijn-388': 'aflaet groot van haer ', 'Derde Martijn-389': 'es hem altoes gereit', 'Derde Martijn-390': 'op dat mer in volsteet', 'Derde Martijn-391': 'iacop du berecht mi ', 'Derde Martijn-392': 'nv berecht mi van den persone', 'Derde Martijn-393': 'die men heet he', 'Derde Martijn-394': 'hoe mijn geloeue oene', 'Derde Martijn-395': 'te hem clemmen oe', 'Derde Martijn-396': 'die alder gauen es meest', 'Derde Martijn-397': 'vanden vader ende vanden soene', 'Derde Martijn-398': 'hebbic gehoort dat god loone', 'Derde Martijn-399': 'scoene berecht volleest', 'Derde Martijn-400': 'dies danckic der marteleren vrone', 'Derde Martijn-401': 'daer bouen inden hoegen troene', 'Derde Martijn-402': 'ende gheue di volleest', 'Derde Martijn-403': 'datture coms ongheureest', 'Derde Martijn-404': 'merten ons leert tscriftuere', 'Derde Martijn-405': 'dat i god ende i natuere', 'Derde Martijn-406': 'emmer sijn dese drie', 'Derde Martijn-407': 'altoes euen na gebuere', 'Derde Martijn-408': 'ende verscheden te ghere uren', 'Derde Martijn-409': 'noch en verscieden nie', 'Derde Martijn-410': 'vader kint verstant ter cuere', 'Derde Martijn-411': 'wt desen dobbelen gods duere', 'Derde Martijn-412': 'wie caent gegronden wie', 'Derde Martijn-413': 'dan comt die geest die suete guere', 'Derde Martijn-414': 'die reine godheit entie puere', 'Derde Martijn-415': 'hier toe proeft ende sie', 'Derde Martijn-416': 'met herten ende ghie', 'Derde Martijn-417': 'dits die troest die alder meeste', 'Derde Martijn-418': 'hem die aerm sijn van geeste', 'Derde Martijn-419': 'leert hi blide sijn', 'Derde Martijn-420': 'hi es in pinen altoes feeste', 'Derde Martijn-421': 'hi doet meneghen die w beeste', 'Derde Martijn-422': 'sijn suuer ende fijn', 'Derde Martijn-423': 'wapene god die dat vereeste', 'Derde Martijn-424': 'dat hi van sinen vol', 'Derde Martijn-425': 'smaecte een droepelkin', 'Derde Martijn-426': 'die ware gode die alder neeste', 'Derde Martijn-427': 'gheen vrese van tempeeste', 'Derde Martijn-430': 'dits tfaders ende tsoens gaue', 'Derde Martijn-431': 'rijcheit bouen allen haue', 'Derde Martijn-432': 'fonteine des leuens al', 'Derde Martijn-433': 'soe wie geproeft wert hier aue', 'Derde Martijn-434': 'wat rijcheden men hem gaeue', 'Derde Martijn-435': 'soude hem duncken smal', 'Derde Martijn-436': 'rijcheit die coninc heeft ofte graeue', 'Derde Martijn-437': 'es tiendendeel niet van enen caeue', 'Derde Martijn-438': 'jeghen dit gheual', 'Derde Martijn-439': ' die rust inden graeue', 'Derde Martijn-440': 'met deser edelheit soe laeu', 'Derde Martijn-441': 'ons alsmen rumen sal', 'Derde Martijn-442': 'dit aerme ertsche dal', 'Derde Martijn-443': 'dits tfaders ende tsoens minne', 'Derde Martijn-444': 'dits caritaere daer altoes inne', 'Derde Martijn-445': 'ruust die triniteit', 'Derde Martijn-446': 'hi es der propheten sinne', 'Derde Martijn-447': 'leerde ende maecte een inde', 'Derde Martijn-448': 'des gods sone menschelijcheit', 'Derde Martijn-449': 'en es coninc noch coninghinne', 'Derde Martijn-450': 'die emmermeer aflaet gewinne', 'Derde Martijn-451': 'dan siere onsaelicheit', 'Derde Martijn-452': 'hine hebbe een traen al waer hi dinne', 'Derde Martijn-453': 'dan desen dauwe tsinen beghinne', 'Derde Martijn-454': 'alle wel vaeren es hem ontseit', 'Derde Martijn-455': 'daer dese sijn ongereit', 'Derde Martijn-456': 'dese leerde den apostelen twaeren', 'Derde Martijn-457': 'alle tongen die doen waren', 'Derde Martijn-458': 'inde werelt breit', 'Derde Martijn-459': 'dese gaf den martelaren', 'Derde Martijn-460': 'dat si conden sonder mesbaeren', 'Derde Martijn-461': 'doegen lief ende leit', 'Derde Martijn-462': 'dese can die sinne verclaeren', 'Derde Martijn-463': 'die hem met sonden verswaeren', 'Derde Martijn-464': 'ende tcoude maeken heit', 'Derde Martijn-465': 'sine lieue sine caeren', 'Derde Martijn-466': 'deilt hi sonder spaeren', 'Derde Martijn-467': 'dat godlike cleit', 'Derde Martijn-468': 'dat nemmermeer vergheit', 'Derde Martijn-469': 'wat hulpt merten sin ende taele', 'Derde Martijn-470': 'die begheuen mi alte maele', 'Derde Martijn-471': 'meer te sprekene voort', 'Derde Martijn-475': 'doch eest maer i die berch ende daele', 'Derde Martijn-476': 'sciep al groet ende smaele', 'Derde Martijn-477': 'daer af tellen alle woort', 'Derde Martijn-478': 'en ganc niet ouer dese paele', 'Derde Martijn-479': 'hout in dijnre herten saele', 'Derde Martijn-480': 'sone woordi niet versmoort', 'Derde Martijn-481': 'inde helsche poort', 'Derde Martijn-482': 'ware oec iement die weder spraeke', 'Derde Martijn-483': 'dit geloeue ende dese saeke', 'Derde Martijn-484': 'waer euweliken verdoemt', 'Derde Martijn-485': 'recht waert datmen inden brant staeke', 'Derde Martijn-486': 'ende daer na thelsche vier smaeken', 'Derde Martijn-493': 'daer niement wt en comt', 'Derde Martijn-488': 'hulpt god dat ic daer geraeke', 'Derde Martijn-489': 'daer ic sie ende smaeke', 'Derde Martijn-490': 'die godheit ongenoemt', 'Derde Martijn-491': 'sone trect mi niet die helsche draeke', 'Derde Martijn-492': 'met hem ter euweliker wraeken', 'Derde Martijn-494': 'wient scaet ofte vroemt', 'Derde Martijn-495': 'amen iacop lieue geselle', 'Derde Martijn-496': 'mi dunct dat ic v zeere quelle', 'Derde Martijn-497': 'doch haddics groeten noot', 'Derde Martijn-498': 'alsic dit leese ende spelle', 'Derde Martijn-499': 'maghic leeren alsic vertelle', 'Derde Martijn-500': 'mijn geloeue al bloet', 'Derde Martijn-501': 'daer ic bi scuwen mach die helle', 'Derde Martijn-502': 'op dat ic mi daer toe versnelle', 'Derde Martijn-503': 'te doene dat god geboet', 'Derde Martijn-504': 'god die de doet wrac van abelle', 'Derde Martijn-505': 'bringe ons ter hoger celle', 'Derde Martijn-506': 'dats in abrahams scoet', 'Derde Martijn-507': 'na dese corte doot'}\n"
     ]
    }
   ],
   "source": [
    "def extract_lines(xml_file, expan = True, #def = fuctie maken die alleen wordt uitgevoerd als je die oproept, extract_lines = de naam van de functie, xml_file = argument in de functie, na de functienaam in ()\n",
    "                  punct = True, lower = True,\n",
    "                  sep_abbr = True): \n",
    "    \n",
    "    lines = {}\n",
    "    tree = etree.parse(xml_file) #ElementTree represents the whole XML document as a tree, and Element represents a single node\n",
    "    \n",
    "    \n",
    "    if expan:\n",
    "        #delete all elements with the provided tag names from a tree or subtree\n",
    "        #will also remove the tail text unless explicitly set the with_tail keyword argument option to False\n",
    "        etree.strip_elements(tree, (\"{\"+ NSMAP[\"MVN\"]+ \"}\" + s for s in removes), with_tail=False) \n",
    "    else: \n",
    "        etree.strip_elements(tree, (\"{\"+ NSMAP[\"MVN\"]+ \"}\" + s for s in removes_expan_false), with_tail=False)\n",
    "  \n",
    "    context = etree.iterwalk(tree, events=(\"start\", \"end\")) #a tree walker generates events from an existing tree. 'Start' and 'end' represent opening and closing elements\n",
    "    #u prefix indicates Unicode\n",
    "    text = u\"\" #een lege string die tekst heet, u staat voor Unicode \n",
    "    #this will be the key in the dictionary of lines {}\n",
    "    k = '' \n",
    "    \n",
    "    for action, node in context: #bij elke actie bij een element/knooppunt in het overlopen van het xml bestand\n",
    "        #remove ns for easier access\n",
    "        #tag_only bevat de tags op een knooppunt\n",
    "        #.tag selects all child elements with the given tag. A tag is a string identifying what kind of data this element represents (the element type, in other words).\n",
    "        #.replace removes ns www.tei...\n",
    "        \n",
    "        tag_only = node.tag.replace(\"{http://www.tei-c.org/ns/1.0}\",\"\") \n",
    "            \n",
    "        #node.attrib: XML elements have attributes \n",
    "        #attrib is a dictionary containing the element’s attributes. \n",
    "        if 'n' in node.attrib and tag_only == 'text': \n",
    "            title = node.attrib['n'] #for example Eerste Martijn\n",
    "    \n",
    "        if 'n' in node.attrib and tag_only == \"l\":                \n",
    "            k = title + '-' + node.attrib['n'] #for example 001, 002, 003...\n",
    "  \n",
    "        # if a new pb (standalone element) is processed:\n",
    "        if action == 'start' and tag_only == 'text': \n",
    "            continue\n",
    "            \n",
    "        # if new lb (standalone) is processed:\n",
    "        elif action == 'start' and tag_only == 'lb':\n",
    "            continue\n",
    "\n",
    "        # list elements which you want to iterate through. this is not really neccessary.\n",
    "        elif tag_only in (\"group\",\"text\",\"MVN\",\"body\",\"cb\",\"p\"):\n",
    "            continue\n",
    "\n",
    "        # for all other elements, distinguish between the start-event of the processing and\n",
    "        # and the end-event. Attach the tail AFTER the child nodes were processed (= end-event) \n",
    "         \n",
    "        elif action == 'start':\n",
    "            #comment the following two lines out to not get the element markers\n",
    "            #f.write(f\"[{tag_only}]\") \n",
    "            #text += f\"[{tag_only}]\"\n",
    "\n",
    "            ############################################################################\n",
    "            ########## filter out special characters, bars,                   ##########\n",
    "            ########## superscript, or specific tags.                         ##########\n",
    "            ############################################################################\n",
    "                    \n",
    "            \n",
    "            #if a special glyph is present, encode it accordingly\n",
    "            if tag_only == 'g':\n",
    "                if sep_abbr: #extra toegevoegd door Mike.  \n",
    "                    if node.attrib['ref'] == '#bar': # ā, ē, ī, ō, ū, n̄ etc.\n",
    "                        text += u'\\u005f' #low line _\n",
    "\n",
    "                    elif node.attrib['ref'] == '#apomod': # ʼ\n",
    "                        text += u'\\u02bc'\n",
    "\n",
    "                    elif node.attrib['ref'] == '#usmod': # ꝰ\n",
    "                        text += u'\\ua770' \n",
    "\n",
    "                    elif node.attrib['ref'] == '#condes': # ꝯ\n",
    "                        text += u'\\ua76f'\n",
    "\n",
    "                    elif node.attrib['ref'] == '#para': # ¶\n",
    "                        text += u'\\xb6'\n",
    "\n",
    "                    elif node.attrib['ref'] == '#etfin': # ꝫ\n",
    "                        text += u'\\ua76b'\n",
    "\n",
    "                    elif node.attrib['ref'] == '#pbardes': # ꝑ\n",
    "                        text += '\\ua751'\n",
    "\n",
    "                    elif node.attrib['ref'] == '#pbardes': # ꝕ\n",
    "                        text += u'\\ua755'\n",
    "\n",
    "                    elif node.attrib['ref'] == '#pflour': # ꝓ\n",
    "                        text += u'\\ua753'\n",
    "\n",
    "                    else:\n",
    "                        text += str(node.attrib['ref']) # get the actual ref if there still are any left\n",
    "                    \n",
    "                else:\n",
    "                    if node.attrib['ref'] == '#bar': # ā, ē, ī, ō, ū, n̄ etc.\n",
    "                        text += u'\\u0304'\n",
    "\n",
    "                    elif node.attrib['ref'] == '#apomod': # ʼ\n",
    "                        text += u'\\u02bc'\n",
    "\n",
    "                    elif node.attrib['ref'] == '#usmod': # ꝰ\n",
    "                        text += u'\\ua770'\n",
    "\n",
    "                    elif node.attrib['ref'] == '#condes': # ꝯ\n",
    "                        text += u'\\ua76f'\n",
    "\n",
    "                    elif node.attrib['ref'] == '#para': # ¶\n",
    "                        text += u'\\xb6'\n",
    "\n",
    "                    elif node.attrib['ref'] == '#etfin': # ꝫ\n",
    "                        text += u'\\ua76b'\n",
    "\n",
    "                    elif node.attrib['ref'] == '#pbardes': # ꝑ\n",
    "                        text += u'\\ua751'\n",
    "\n",
    "                    elif node.attrib['ref'] == '#pbardes': # ꝕ\n",
    "                        text += u'\\ua755'\n",
    "\n",
    "                    elif node.attrib['ref'] == '#pflour': # ꝓ\n",
    "                        text += u'\\ua753'\n",
    "\n",
    "                    else:\n",
    "                        node.attrib['ref']\n",
    "                        text += str(node.attrib['ref']) # get the actual ref if there still are any left\n",
    "\n",
    "            # encode superscript letters\n",
    "            superscript_dict = {'a':'ᵃ', 'b':'ᵇ', 'c':'ᶜ', 'd':'ᵈ', 'e':'ᵉ', 'f':'ᶠ',\n",
    "                               'g':'ᵍ', 'h':'ʰ', 'i':'ᶦ', 'j':'ʲ', 'k':'ᵏ', 'l':'ˡ', \n",
    "                                'm':'ᵐ', 'n':'ⁿ', 'o':'ᵒ', 'p':'ᵖ', 'r':'ʳ', 's':'ˢ', \n",
    "                                't':'ᵗ', 'u':'ᵘ', 'v':'ᵛ', 'w':'ʷ', 'x':'ˣ', 'y': 'ʸ', 'z': 'ᶻ'}\n",
    "\n",
    "            if tag_only == 'hi' and 'rend' in node.attrib and node.attrib['rend'] == 'superscript': #rend(ition) supplies information about the appearance of an element\n",
    "                if node.text in superscript_dict:\n",
    "                    text += str(superscript_dict[node.text]).strip()\n",
    "\n",
    "            # encode punctuation marks\n",
    "            elif tag_only == 'pc':\n",
    "                text += str(node.text).strip()\n",
    "\n",
    "            # encode roman numerals\n",
    "            elif tag_only == 'num':\n",
    "                if node.text:\n",
    "                    text += str('.'+node.text+'.').strip()\n",
    "\n",
    "            # if there is still a node with text in it\n",
    "            elif (node.text):\n",
    "                text += node.text        \n",
    "\n",
    "        # after the child elements\n",
    "        elif action == 'end':\n",
    "            #if there is a tail\n",
    "            #the tail attribute holds the text between the element’s end tag and the next tag, or None\n",
    "            if (node.tail and node.tail not in \"\\t\"): #if the tail is not yet in the text \n",
    "                #comment the following two lines out to not get the tail marker\n",
    "                #text += \"[tail]\"\n",
    "                #f.write(\"[tail]\")\n",
    "                #append to text-concatenation\n",
    "                text += str(node.tail)\n",
    "                \n",
    "        if tag_only == 'lb':\n",
    "            if k:\n",
    "                text = sub(r'\\n', '', text) #when an \"r\" prefix is present, a character following a backslash is included in the string/all backslashes are left in string. \n",
    "                if not punct:\n",
    "                    text = text.translate(str.maketrans('', '', string.punctuation)) #the value of the keys k is the text \n",
    "                if lower: \n",
    "                    text = text.lower()\n",
    "                   \n",
    "                    #text = text[::-1]\n",
    "                  \n",
    "                lines[k] = text #the value of the keys k is the text \n",
    "                text = ''    \n",
    "    #print(lines)\n",
    "    \n",
    "    num_orig_lines = len(lines)\n",
    "    print(num_orig_lines)\n",
    "    # remove lines with gaps:\n",
    "    gap_lines = get_gap_lines(tree)\n",
    "    #print(gap_lines)\n",
    "    lines = {k:v for k, v in lines.items() if k not in gap_lines}\n",
    "    print(f'-> removed {num_orig_lines - len(lines)} lines with gaps')\n",
    "\n",
    "    \n",
    "\n",
    "    lines = {k:v for k, v in lines.items() if v.strip()} #if a line with a gap is removed, remove empty key, strip() removes spaces #The items() method returns a key-value pair\n",
    "    return lines\n",
    "\n",
    "    \n",
    "\n",
    "d = extract_lines(f'../data/xml_martijn/xml_{sigles[12]}.xml', expan = True, punct = False, lower = True)\n",
    "\n",
    "print(d)\n"
   ]
  },
  {
   "cell_type": "code",
   "execution_count": 26,
   "id": "iraqi-defeat",
   "metadata": {},
   "outputs": [
    {
     "name": "stderr",
     "output_type": "stream",
     "text": [
      " 53%|███████████████████████▎                    | 9/17 [00:00<00:00, 44.16it/s]"
     ]
    },
    {
     "name": "stdout",
     "output_type": "stream",
     "text": [
      "1769\n",
      "-> removed 5 lines with gaps\n",
      "103\n",
      "-> removed 103 lines with gaps\n",
      "1820\n",
      "-> removed 0 lines with gaps\n",
      "607\n",
      "-> removed 22 lines with gaps\n",
      "1471\n",
      "-> removed 0 lines with gaps\n",
      "1823\n",
      "-> removed 0 lines with gaps\n",
      "246\n",
      "-> removed 99 lines with gaps\n",
      "275\n",
      "-> removed 0 lines with gaps\n",
      "1822\n",
      "-> removed 0 lines with gaps\n"
     ]
    },
    {
     "name": "stderr",
     "output_type": "stream",
     "text": [
      "100%|███████████████████████████████████████████| 17/17 [00:00<00:00, 44.84it/s]"
     ]
    },
    {
     "name": "stdout",
     "output_type": "stream",
     "text": [
      "1767\n",
      "-> removed 0 lines with gaps\n",
      "151\n",
      "-> removed 73 lines with gaps\n",
      "66\n",
      "-> removed 0 lines with gaps\n",
      "703\n",
      "-> removed 162 lines with gaps\n",
      "1823\n",
      "-> removed 0 lines with gaps\n",
      "507\n",
      "-> removed 0 lines with gaps\n",
      "360\n",
      "-> removed 84 lines with gaps\n",
      "541\n",
      "-> removed 7 lines with gaps\n"
     ]
    },
    {
     "name": "stderr",
     "output_type": "stream",
     "text": [
      "\n"
     ]
    }
   ],
   "source": [
    "mss = {} #dictionary maken van manuscripten\n",
    "\n",
    "for sigle in tqdm(sigles): #for... in = loop, toont progress meter \n",
    "    mss[sigle] = extract_lines(f'../data/xml_martijn/xml_{sigle}.xml',\n",
    "                               expan = True, punct = False, lower = True,\n",
    "                               sep_abbr = False) #f string waarin 'sigle' wordt ingevuld\n",
    "    \n",
    "#print(mss['A'])"
   ]
  },
  {
   "cell_type": "code",
   "execution_count": 27,
   "id": "1dc1cb9b-bc4b-4547-aeb3-3df50b9c450e",
   "metadata": {},
   "outputs": [
    {
     "name": "stdout",
     "output_type": "stream",
     "text": [
      "dict_keys(['A', 'Ant', 'B', 'BR', 'C', 'D', 'D2', 'E', 'F', 'G', 'Ge', 'K', 'L', 'O', 'W', 'Y', 'Z'])\n"
     ]
    }
   ],
   "source": [
    "print(mss.keys()) #print de keys van de dictionary mss"
   ]
  },
  {
   "cell_type": "code",
   "execution_count": 28,
   "id": "least-dover",
   "metadata": {},
   "outputs": [
    {
     "name": "stdout",
     "output_type": "stream",
     "text": [
      "['e', 'n̄', ' ', 'n', 'i', 'e', 't', ' ', 's', 'c', 'e', 'l', 'd', '-', 'ē', ' ', 'd', 'ē', ' ', 'h', 'e', 'ʼ', 'e']\n",
      "['e', 'n̄', ' ', 'n', 'i', 'e', 't', ' ', 's', 'c', 'e', 'l', 'd', 'e', 'n', ' ', 'd', 'ē', ' ', 'h', 'e', 'r', 'e']\n"
     ]
    }
   ],
   "source": [
    "# from: https://gist.github.com/slowkow/06c6dba9180d013dfd82bec217d22eb5\n",
    "\n",
    "def align_nw(x, y, match = 1, mismatch = 1, gap = 1): #nw needleman-wunsch,  'def' = functie header/functienaam = unieke naam voor functie waarmee deze aangeroepen kan worden.Tussen haakjes zet je parameters.\n",
    "    x = list(grapheme.graphemes(x)) #body van de functie. functie voert specifieke taak uit en  argumenten die zijn ingegeven w omgezet in een output\n",
    "    y = list(grapheme.graphemes(y)) #door met .grapheme te werken telt het n̄ als 1 en niet als 2 \n",
    "    \n",
    "    nx = len(x) # length of first sequence \n",
    "    #print(nx)\n",
    "    ny = len(y) # length of second sequence\n",
    "    #print(ny)\n",
    "    \n",
    "    # Optimal score at each possible pair of characters.\n",
    "    # Initialization process - forming the base matrix\n",
    "    F = np.zeros((nx + 1, ny + 1)) #Return an array/reeks van de lengte van x en y, telkens +1, filled with zeros.\n",
    "    F[:,0] = np.linspace(0, -nx, nx + 1) #[first_row:last_row , column_0] #de eerste rij en laatste rij van de eerste kolom (van 0 tot -22, met interval van 23)\n",
    "    F[0,:] = np.linspace(0, -ny, ny + 1) #de eerste kolom, eerste en laatste getal van de rij, np.linspace = Return evenly spaced numbers over a specified interval.\n",
    "    #print (F)\n",
    "    \n",
    "    # Pointers to trace through an optimal aligment. Aanknopingspunten om een optimale alignering te traceren. Initialize a pointer matrix P\n",
    "    P = np.zeros((nx + 1, ny + 1)) #weer een reeks van de lengte van x en y, telkens +1, gevuld met nullen\n",
    "    P[:,0] = 3 #eerste kolom = 3\n",
    "    P[0,:] = 4 #eerste rij = 4\n",
    "    #print(P)\n",
    "    \n",
    "    \n",
    "    # Temporary scores.\n",
    "    t = np.zeros(3) #[0.0.0.] t is a three-element matrix that stores three values: Match or mutation between the first and second sequence (what would be the score representation → trying to find the least); Inserting a gap inside of the first sequence (addition); Inserting a gap inside of the second sequence (deletion)\n",
    "    for i in range(nx): #loop over de range die gaat van 0 tot 21\n",
    "        for j in range(ny): #loop over de range die gaat van 0 tot 22 \n",
    "            if x[i] == y[j]: # Iteration step: take the max (inserting gap in first sequence, inserting gap in second sequence, match or mutation)       \n",
    "                t[0] = F[i,j] + match\n",
    "            else:\n",
    "                t[0] = F[i,j] - mismatch\n",
    "            t[1] = F[i,j+1] - gap\n",
    "            t[2] = F[i+1,j] - gap\n",
    "            tmax = np.max(t) #neemt het maximum van de rijen\n",
    "            F[i+1,j+1] = tmax\n",
    "            if t[0] == tmax:\n",
    "                P[i+1,j+1] += 2\n",
    "            if t[1] == tmax:\n",
    "                P[i+1,j+1] += 3\n",
    "            if t[2] == tmax:\n",
    "                P[i+1,j+1] += 4\n",
    "    # Trace through an optimal alignment.\n",
    "    i = nx\n",
    "    j = ny\n",
    "    rx = []\n",
    "    ry = []\n",
    "    while i > 0 or j > 0:\n",
    "        if P[i,j] in [2, 5, 6, 9]:\n",
    "            rx.append(x[i-1])\n",
    "            ry.append(y[j-1])\n",
    "            i -= 1\n",
    "            j -= 1\n",
    "        elif P[i,j] in [3, 5, 7, 9]:\n",
    "            rx.append(x[i-1])\n",
    "            ry.append('-')\n",
    "            i -= 1\n",
    "        elif P[i,j] in [4, 6, 7, 9]:\n",
    "            rx.append('-')\n",
    "            ry.append(y[j-1])\n",
    "            j -= 1\n",
    "    # Reverse the strings.\n",
    "    rx = rx[::-1]\n",
    "    ry = ry[::-1]\n",
    "    return rx, ry #Met een return statement geeft je een output waarde uit een functie.\n",
    "\n",
    "a, b = align_nw('en̄ niet sceldē dē heʼe', 'en̄ niet scelden dē here')\n",
    "print(a)\n",
    "print(b)"
   ]
  },
  {
   "cell_type": "code",
   "execution_count": 29,
   "id": "coated-privilege",
   "metadata": {},
   "outputs": [
    {
     "name": "stdout",
     "output_type": "stream",
     "text": [
      "['e', 'n̄', ' ', 'n', 'i', 'e', 't', ' ', 's', 'c', 'e', 'l', 'd', 'ē', ' ', ' ', 'd', 'ē', ' ', 'h', 'e', 'ʼ', 'e']\n",
      "['e', 'n̄', ' ', 'n', 'i', 'e', 't', ' ', 's', 'c', 'e', 'l', 'd', 'e', 'n', ' ', 'd', 'ē', ' ', 'h', 'e', 'r', 'e']\n"
     ]
    }
   ],
   "source": [
    "def align_collatex(l1, l2):\n",
    "    A = [{'t': c, 'n': c} for c in grapheme.graphemes(l1)] #t staat voor diplomatisch (text), n staat voor normalized, loop over al de characters \n",
    "    \n",
    "    B = [{'t': c, 'n': c} for c in grapheme.graphemes(l2)]\n",
    "    json_form = {'witnesses': [{'id': 'A', 'tokens': A}, #witnesses is het root element, hierin zitten de te vergelijken versies, elke versie heeft een unieke id\n",
    "                               {'id': 'B', 'tokens': B}]\n",
    "                } #de inhoud zijn de tokens, hierboven gedefinieerd \n",
    "\n",
    "    A, B = str(collate(json_form, output='table')).split('\\n')[1:3] #split() splits a string into a list\n",
    "\n",
    "    A = A.replace('| A | ', '').replace(' | ', '').replace(' |', '') #haal de | en sigles weg\n",
    "    B = B.replace('| B | ', '').replace(' | ', '').replace(' |', '')\n",
    "    \n",
    "   \n",
    "    A = list(grapheme.graphemes(A))\n",
    "    B = list(grapheme.graphemes(B))\n",
    "    \n",
    "    return A, B\n",
    "\n",
    "a, b = align_collatex('en̄ niet sceldē dē heʼe', 'en̄ niet scelden dē here')\n",
    "print(a)\n",
    "print(b)"
   ]
  },
  {
   "cell_type": "code",
   "execution_count": 30,
   "id": "convinced-consortium",
   "metadata": {},
   "outputs": [],
   "source": [
    "def get_distances(mss, method='NW'): #needleman-wunsch\n",
    "    distances = [] #een lijst maken \n",
    "    for ms1, ms2 in tqdm(list(combinations(mss.keys(), 2))): # combinations('ABCD', 2) --> AB AC AD BC BD CD #eerste element van combinatie w opgeslagen in ms1 en tweede waarmee je vergelijkt in ms2, \n",
    "        common_idxs = set(mss[ms1].keys()).intersection(set(mss[ms2].keys())) #een set maken, items in a set are unordered #The intersection() method returns a set that contains the similarity between two or more sets, \n",
    "    #for loop doet eerst AB BA..., dan zorgt intersection er voor dat AB gebeurt maar niet BA ook nog eens \n",
    "        for idx in common_idxs: #A, Ant,... \n",
    "            line1, line2 = mss[ms1][idx], mss[ms2][idx] #zoekt binnen dictionary naar de sigle (value 1), en geeft dan de eerste regel tekst (value 2) \n",
    "            if method == 'NW': #compare two methods: nw and collatex \n",
    "                rx, ry = align_nw(line1, line2) #verwijs naar bovenstaande functies \n",
    "            elif method == 'CollateX':\n",
    "                rx, ry = align_collatex(line1, line2)\n",
    "            if len(rx) != len(ry): #is niet gelijk aan, dan wordt line 1 en line 2 geprint\n",
    "                print(line1, line2)\n",
    "            length = len(rx)\n",
    "            for idx, (a, b) in enumerate(zip(rx, ry)): #You get the index with enumerate(), and get the elements of multiple iterables with zip().\n",
    "                if a != b:\n",
    "                    distances.append((ms1, ms2, idx/length, 1, a, b))\n",
    "                else:\n",
    "                    distances.append((ms1, ms2, idx/length, 0, a, b))\n",
    "    return pd.DataFrame(distances, columns=('ms1', 'ms2', 'position', 'mismatch', 'char1', 'char2'))"
   ]
  },
  {
   "cell_type": "code",
   "execution_count": 31,
   "id": "dressed-output",
   "metadata": {},
   "outputs": [
    {
     "name": "stderr",
     "output_type": "stream",
     "text": [
      "100%|█████████████████████████████████████████| 136/136 [02:47<00:00,  1.23s/it]\n",
      "100%|█████████████████████████████████████████| 136/136 [08:39<00:00,  3.82s/it]\n"
     ]
    },
    {
     "data": {
      "text/html": [
       "<div>\n",
       "<style scoped>\n",
       "    .dataframe tbody tr th:only-of-type {\n",
       "        vertical-align: middle;\n",
       "    }\n",
       "\n",
       "    .dataframe tbody tr th {\n",
       "        vertical-align: top;\n",
       "    }\n",
       "\n",
       "    .dataframe thead th {\n",
       "        text-align: right;\n",
       "    }\n",
       "</style>\n",
       "<table border=\"1\" class=\"dataframe\">\n",
       "  <thead>\n",
       "    <tr style=\"text-align: right;\">\n",
       "      <th></th>\n",
       "      <th>ms1</th>\n",
       "      <th>ms2</th>\n",
       "      <th>position</th>\n",
       "      <th>mismatch</th>\n",
       "      <th>char1</th>\n",
       "      <th>char2</th>\n",
       "    </tr>\n",
       "  </thead>\n",
       "  <tbody>\n",
       "    <tr>\n",
       "      <th>514682</th>\n",
       "      <td>B</td>\n",
       "      <td>F</td>\n",
       "      <td>0.848485</td>\n",
       "      <td>0</td>\n",
       "      <td>l</td>\n",
       "      <td>l</td>\n",
       "    </tr>\n",
       "    <tr>\n",
       "      <th>1486350</th>\n",
       "      <td>G</td>\n",
       "      <td>W</td>\n",
       "      <td>0.722222</td>\n",
       "      <td>0</td>\n",
       "      <td></td>\n",
       "      <td></td>\n",
       "    </tr>\n",
       "    <tr>\n",
       "      <th>1301725</th>\n",
       "      <td>F</td>\n",
       "      <td>G</td>\n",
       "      <td>0.500000</td>\n",
       "      <td>0</td>\n",
       "      <td>e</td>\n",
       "      <td>e</td>\n",
       "    </tr>\n",
       "    <tr>\n",
       "      <th>719916</th>\n",
       "      <td>BR</td>\n",
       "      <td>F</td>\n",
       "      <td>0.391304</td>\n",
       "      <td>0</td>\n",
       "      <td>m</td>\n",
       "      <td>m</td>\n",
       "    </tr>\n",
       "    <tr>\n",
       "      <th>1391972</th>\n",
       "      <td>F</td>\n",
       "      <td>Y</td>\n",
       "      <td>0.000000</td>\n",
       "      <td>0</td>\n",
       "      <td>d</td>\n",
       "      <td>d</td>\n",
       "    </tr>\n",
       "  </tbody>\n",
       "</table>\n",
       "</div>"
      ],
      "text/plain": [
       "        ms1 ms2  position  mismatch char1 char2\n",
       "514682    B   F  0.848485         0     l     l\n",
       "1486350   G   W  0.722222         0            \n",
       "1301725   F   G  0.500000         0     e     e\n",
       "719916   BR   F  0.391304         0     m     m\n",
       "1391972   F   Y  0.000000         0     d     d"
      ]
     },
     "execution_count": 31,
     "metadata": {},
     "output_type": "execute_result"
    }
   ],
   "source": [
    "nw_mismatches = get_distances(mss, method='NW') \n",
    "cx_mismatches = get_distances(mss, method='CollateX')\n",
    "nw_mismatches.sample(5) #.sample returns a list with a randomly selection of a specified number of items from a sequence\n",
    "cx_mismatches.sample(5)"
   ]
  },
  {
   "cell_type": "code",
   "execution_count": 32,
   "id": "appointed-birmingham",
   "metadata": {},
   "outputs": [
    {
     "data": {
      "text/plain": [
       "<matplotlib.legend.Legend at 0x7f7ef51e9670>"
      ]
     },
     "execution_count": 32,
     "metadata": {},
     "output_type": "execute_result"
    },
    {
     "data": {
      "image/png": "[encoded data removed]",
      "text/plain": [
       "<Figure size 640x480 with 1 Axes>"
      ]
     },
     "metadata": {},
     "output_type": "display_data"
    }
   ],
   "source": [
    "nw_rolling_window = nw_mismatches.groupby('position')['mismatch'].mean().rolling(window=20).mean() # groupby() function is used to split the data into groups based on some criteria. \n",
    "cx_rolling_window = cx_mismatches.groupby('position')['mismatch'].mean().rolling(window=20).mean() #gemiddelde nemen\n",
    "\n",
    "ax = nw_rolling_window.plot(label=\"mean (NW)\")\n",
    "cx_rolling_window.plot(label=\"mean (CX)\", ax=ax)\n",
    "\n",
    "plt.legend() #met afkortingen gaat het op het einde omhoog, zonder daalt het "
   ]
  },
  {
   "cell_type": "code",
   "execution_count": 15,
   "id": "hazardous-anthony",
   "metadata": {},
   "outputs": [],
   "source": [
    "#checken of de resultaten statistisch significant zijn en dat is zo!\n",
    "#mismatches_end = mismatches[mismatches['position'] > .75]\n",
    "#mismatches_beginning = mismatches[mismatches['position'] <= .75]\n",
    "#from scipy.stats import mannwhitneyu\n",
    "#mannwhitneyu(mismatches_end['mismatch'], mismatches_beginning['mismatch'], alternative='less')"
   ]
  },
  {
   "cell_type": "markdown",
   "id": "detected-marina",
   "metadata": {},
   "source": [
    "## Clustermap"
   ]
  },
  {
   "cell_type": "code",
   "execution_count": 16,
   "id": "coordinate-alias",
   "metadata": {},
   "outputs": [
    {
     "name": "stdout",
     "output_type": "stream",
     "text": [
      "A 1764\n",
      "Ant 0\n",
      "B 1820\n",
      "BR 585\n",
      "C 1471\n",
      "D 1823\n",
      "D2 147\n",
      "E 275\n",
      "F 1822\n",
      "G 1767\n",
      "Ge 78\n",
      "K 66\n",
      "L 538\n",
      "O 1823\n",
      "W 506\n",
      "Y 276\n",
      "Z 534\n"
     ]
    }
   ],
   "source": [
    "for ms in mss:\n",
    "    print(ms, len(mss[ms]))"
   ]
  },
  {
   "cell_type": "code",
   "execution_count": 17,
   "id": "sublime-warning",
   "metadata": {},
   "outputs": [
    {
     "name": "stdout",
     "output_type": "stream",
     "text": [
      "['A', 'Ant', 'B', 'BR', 'C', 'D', 'D2', 'E', 'F', 'G', 'Ge', 'K', 'L', 'O', 'W', 'Y', 'Z']\n",
      "['A', 'B', 'BR', 'C', 'D', 'F', 'G', 'L', 'O', 'W', 'Z']\n"
     ]
    }
   ],
   "source": [
    "sigles = sorted(mss.keys())\n",
    "print(sigles)\n",
    "sigles = [s for s in sigles if len(mss[s]) >= 506]\n",
    "print(sigles)"
   ]
  },
  {
   "cell_type": "code",
   "execution_count": 18,
   "id": "scheduled-packing",
   "metadata": {},
   "outputs": [
    {
     "name": "stdout",
     "output_type": "stream",
     "text": [
      "(11, 11)\n"
     ]
    }
   ],
   "source": [
    "df_clust = np.zeros((len(sigles), len(sigles)))  #Return an array/reeks van de lengte van x en y, gevuld met nullen.\n",
    "print(df_clust.shape) #The shape property is usually used to get the current shape of an array"
   ]
  },
  {
   "cell_type": "code",
   "execution_count": 19,
   "id": "faced-young",
   "metadata": {},
   "outputs": [
    {
     "name": "stdout",
     "output_type": "stream",
     "text": [
      "A B\n",
      "A BR\n",
      "A C\n",
      "A D\n",
      "A F\n",
      "A G\n",
      "A L\n",
      "A O\n",
      "A W\n",
      "A Z\n",
      "B BR\n",
      "B C\n",
      "B D\n",
      "B F\n",
      "B G\n",
      "B L\n",
      "B O\n",
      "B W\n",
      "B Z\n",
      "BR C\n",
      "BR D\n",
      "BR F\n",
      "BR G\n",
      "BR L\n",
      "BR O\n",
      "BR W\n",
      "BR Z\n",
      "C D\n",
      "C F\n",
      "C G\n",
      "C L\n",
      "C O\n",
      "C W\n",
      "C Z\n",
      "D F\n",
      "D G\n",
      "D L\n",
      "D O\n",
      "D W\n",
      "D Z\n",
      "F G\n",
      "F L\n",
      "F O\n",
      "F W\n",
      "F Z\n",
      "G L\n",
      "G O\n",
      "G W\n",
      "G Z\n",
      "L O\n",
      "L W\n",
      "L Z\n",
      "O W\n",
      "O Z\n",
      "W Z\n"
     ]
    }
   ],
   "source": [
    "for s1, s2 in combinations(sigles, 2):\n",
    "    print(s1, s2)\n",
    "    d = nw_mismatches[(nw_mismatches['ms1'] == s1) & (nw_mismatches['ms2'] == s2)]['mismatch'].mean()\n",
    "    df_clust[sigles.index(s1), sigles.index(s2)] = d #Python index() = function which searches for a given element from the start of the list and returns the index of the first occurrence. \n",
    "    df_clust[sigles.index(s2), sigles.index(s1)] = d"
   ]
  },
  {
   "cell_type": "code",
   "execution_count": 28,
   "id": "given-appeal",
   "metadata": {},
   "outputs": [
    {
     "data": {
      "text/html": [
       "<div>\n",
       "<style scoped>\n",
       "    .dataframe tbody tr th:only-of-type {\n",
       "        vertical-align: middle;\n",
       "    }\n",
       "\n",
       "    .dataframe tbody tr th {\n",
       "        vertical-align: top;\n",
       "    }\n",
       "\n",
       "    .dataframe thead th {\n",
       "        text-align: right;\n",
       "    }\n",
       "</style>\n",
       "<table border=\"1\" class=\"dataframe\">\n",
       "  <thead>\n",
       "    <tr style=\"text-align: right;\">\n",
       "      <th></th>\n",
       "      <th>A</th>\n",
       "      <th>B</th>\n",
       "      <th>BR</th>\n",
       "      <th>C</th>\n",
       "      <th>D</th>\n",
       "      <th>F</th>\n",
       "      <th>G</th>\n",
       "      <th>L</th>\n",
       "      <th>O</th>\n",
       "      <th>W</th>\n",
       "      <th>Z</th>\n",
       "    </tr>\n",
       "  </thead>\n",
       "  <tbody>\n",
       "    <tr>\n",
       "      <th>A</th>\n",
       "      <td>0.000000</td>\n",
       "      <td>0.142617</td>\n",
       "      <td>0.155177</td>\n",
       "      <td>0.152016</td>\n",
       "      <td>0.178034</td>\n",
       "      <td>0.156474</td>\n",
       "      <td>0.161451</td>\n",
       "      <td>0.161036</td>\n",
       "      <td>0.166534</td>\n",
       "      <td>0.156848</td>\n",
       "      <td>0.185579</td>\n",
       "    </tr>\n",
       "    <tr>\n",
       "      <th>B</th>\n",
       "      <td>0.142617</td>\n",
       "      <td>0.000000</td>\n",
       "      <td>0.175969</td>\n",
       "      <td>0.158403</td>\n",
       "      <td>0.174391</td>\n",
       "      <td>0.167856</td>\n",
       "      <td>0.176196</td>\n",
       "      <td>0.180753</td>\n",
       "      <td>0.172038</td>\n",
       "      <td>0.166996</td>\n",
       "      <td>0.198896</td>\n",
       "    </tr>\n",
       "    <tr>\n",
       "      <th>BR</th>\n",
       "      <td>0.155177</td>\n",
       "      <td>0.175969</td>\n",
       "      <td>0.000000</td>\n",
       "      <td>0.167197</td>\n",
       "      <td>0.147958</td>\n",
       "      <td>0.098282</td>\n",
       "      <td>0.140193</td>\n",
       "      <td>0.141216</td>\n",
       "      <td>0.176611</td>\n",
       "      <td>0.131693</td>\n",
       "      <td>0.128234</td>\n",
       "    </tr>\n",
       "    <tr>\n",
       "      <th>C</th>\n",
       "      <td>0.152016</td>\n",
       "      <td>0.158403</td>\n",
       "      <td>0.167197</td>\n",
       "      <td>0.000000</td>\n",
       "      <td>0.178123</td>\n",
       "      <td>0.167028</td>\n",
       "      <td>0.174095</td>\n",
       "      <td>0.179296</td>\n",
       "      <td>0.174522</td>\n",
       "      <td>0.182025</td>\n",
       "      <td>0.198197</td>\n",
       "    </tr>\n",
       "    <tr>\n",
       "      <th>D</th>\n",
       "      <td>0.178034</td>\n",
       "      <td>0.174391</td>\n",
       "      <td>0.147958</td>\n",
       "      <td>0.178123</td>\n",
       "      <td>0.000000</td>\n",
       "      <td>0.147815</td>\n",
       "      <td>0.181780</td>\n",
       "      <td>0.173410</td>\n",
       "      <td>0.181076</td>\n",
       "      <td>0.199513</td>\n",
       "      <td>0.186137</td>\n",
       "    </tr>\n",
       "    <tr>\n",
       "      <th>F</th>\n",
       "      <td>0.156474</td>\n",
       "      <td>0.167856</td>\n",
       "      <td>0.098282</td>\n",
       "      <td>0.167028</td>\n",
       "      <td>0.147815</td>\n",
       "      <td>0.000000</td>\n",
       "      <td>0.153982</td>\n",
       "      <td>0.130970</td>\n",
       "      <td>0.163700</td>\n",
       "      <td>0.160594</td>\n",
       "      <td>0.145113</td>\n",
       "    </tr>\n",
       "    <tr>\n",
       "      <th>G</th>\n",
       "      <td>0.161451</td>\n",
       "      <td>0.176196</td>\n",
       "      <td>0.140193</td>\n",
       "      <td>0.174095</td>\n",
       "      <td>0.181780</td>\n",
       "      <td>0.153982</td>\n",
       "      <td>0.000000</td>\n",
       "      <td>0.150100</td>\n",
       "      <td>0.182023</td>\n",
       "      <td>0.033210</td>\n",
       "      <td>0.164039</td>\n",
       "    </tr>\n",
       "    <tr>\n",
       "      <th>L</th>\n",
       "      <td>0.161036</td>\n",
       "      <td>0.180753</td>\n",
       "      <td>0.141216</td>\n",
       "      <td>0.179296</td>\n",
       "      <td>0.173410</td>\n",
       "      <td>0.130970</td>\n",
       "      <td>0.150100</td>\n",
       "      <td>0.000000</td>\n",
       "      <td>0.176459</td>\n",
       "      <td>0.149356</td>\n",
       "      <td>NaN</td>\n",
       "    </tr>\n",
       "    <tr>\n",
       "      <th>O</th>\n",
       "      <td>0.166534</td>\n",
       "      <td>0.172038</td>\n",
       "      <td>0.176611</td>\n",
       "      <td>0.174522</td>\n",
       "      <td>0.181076</td>\n",
       "      <td>0.163700</td>\n",
       "      <td>0.182023</td>\n",
       "      <td>0.176459</td>\n",
       "      <td>0.000000</td>\n",
       "      <td>0.182596</td>\n",
       "      <td>0.207892</td>\n",
       "    </tr>\n",
       "    <tr>\n",
       "      <th>W</th>\n",
       "      <td>0.156848</td>\n",
       "      <td>0.166996</td>\n",
       "      <td>0.131693</td>\n",
       "      <td>0.182025</td>\n",
       "      <td>0.199513</td>\n",
       "      <td>0.160594</td>\n",
       "      <td>0.033210</td>\n",
       "      <td>0.149356</td>\n",
       "      <td>0.182596</td>\n",
       "      <td>0.000000</td>\n",
       "      <td>0.176486</td>\n",
       "    </tr>\n",
       "    <tr>\n",
       "      <th>Z</th>\n",
       "      <td>0.185579</td>\n",
       "      <td>0.198896</td>\n",
       "      <td>0.128234</td>\n",
       "      <td>0.198197</td>\n",
       "      <td>0.186137</td>\n",
       "      <td>0.145113</td>\n",
       "      <td>0.164039</td>\n",
       "      <td>NaN</td>\n",
       "      <td>0.207892</td>\n",
       "      <td>0.176486</td>\n",
       "      <td>0.000000</td>\n",
       "    </tr>\n",
       "  </tbody>\n",
       "</table>\n",
       "</div>"
      ],
      "text/plain": [
       "           A         B        BR         C         D         F         G  \\\n",
       "A   0.000000  0.142617  0.155177  0.152016  0.178034  0.156474  0.161451   \n",
       "B   0.142617  0.000000  0.175969  0.158403  0.174391  0.167856  0.176196   \n",
       "BR  0.155177  0.175969  0.000000  0.167197  0.147958  0.098282  0.140193   \n",
       "C   0.152016  0.158403  0.167197  0.000000  0.178123  0.167028  0.174095   \n",
       "D   0.178034  0.174391  0.147958  0.178123  0.000000  0.147815  0.181780   \n",
       "F   0.156474  0.167856  0.098282  0.167028  0.147815  0.000000  0.153982   \n",
       "G   0.161451  0.176196  0.140193  0.174095  0.181780  0.153982  0.000000   \n",
       "L   0.161036  0.180753  0.141216  0.179296  0.173410  0.130970  0.150100   \n",
       "O   0.166534  0.172038  0.176611  0.174522  0.181076  0.163700  0.182023   \n",
       "W   0.156848  0.166996  0.131693  0.182025  0.199513  0.160594  0.033210   \n",
       "Z   0.185579  0.198896  0.128234  0.198197  0.186137  0.145113  0.164039   \n",
       "\n",
       "           L         O         W         Z  \n",
       "A   0.161036  0.166534  0.156848  0.185579  \n",
       "B   0.180753  0.172038  0.166996  0.198896  \n",
       "BR  0.141216  0.176611  0.131693  0.128234  \n",
       "C   0.179296  0.174522  0.182025  0.198197  \n",
       "D   0.173410  0.181076  0.199513  0.186137  \n",
       "F   0.130970  0.163700  0.160594  0.145113  \n",
       "G   0.150100  0.182023  0.033210  0.164039  \n",
       "L   0.000000  0.176459  0.149356       NaN  \n",
       "O   0.176459  0.000000  0.182596  0.207892  \n",
       "W   0.149356  0.182596  0.000000  0.176486  \n",
       "Z        NaN  0.207892  0.176486  0.000000  "
      ]
     },
     "execution_count": 28,
     "metadata": {},
     "output_type": "execute_result"
    }
   ],
   "source": [
    "df_clust = pd.DataFrame(df_clust, columns=sigles, index=sigles)\n",
    "df_clust"
   ]
  },
  {
   "cell_type": "code",
   "execution_count": 29,
   "id": "unlimited-passenger",
   "metadata": {},
   "outputs": [
    {
     "ename": "ValueError",
     "evalue": "The condensed distance matrix must contain only finite values.",
     "output_type": "error",
     "traceback": [
      "\u001b[0;31m---------------------------------------------------------------------------\u001b[0m",
      "\u001b[0;31mValueError\u001b[0m                                Traceback (most recent call last)",
      "\u001b[0;32m/var/folders/89/sc9w1s4j7bj3mnpg0464nr1h0000gn/T/ipykernel_1152/3723947118.py\u001b[0m in \u001b[0;36m<module>\u001b[0;34m\u001b[0m\n\u001b[1;32m      1\u001b[0m \u001b[0;32mimport\u001b[0m \u001b[0mseaborn\u001b[0m \u001b[0;32mas\u001b[0m \u001b[0msb\u001b[0m\u001b[0;34m\u001b[0m\u001b[0;34m\u001b[0m\u001b[0m\n\u001b[0;32m----> 2\u001b[0;31m \u001b[0msb\u001b[0m\u001b[0;34m.\u001b[0m\u001b[0mclustermap\u001b[0m\u001b[0;34m(\u001b[0m\u001b[0mdf_clust\u001b[0m\u001b[0;34m,\u001b[0m \u001b[0mmethod\u001b[0m\u001b[0;34m=\u001b[0m\u001b[0;34m'ward'\u001b[0m\u001b[0;34m,\u001b[0m \u001b[0mannot\u001b[0m\u001b[0;34m=\u001b[0m\u001b[0;32mTrue\u001b[0m\u001b[0;34m)\u001b[0m\u001b[0;34m;\u001b[0m\u001b[0;34m\u001b[0m\u001b[0;34m\u001b[0m\u001b[0m\n\u001b[0m",
      "\u001b[0;32m~/opt/anaconda3/lib/python3.9/site-packages/seaborn/_decorators.py\u001b[0m in \u001b[0;36minner_f\u001b[0;34m(*args, **kwargs)\u001b[0m\n\u001b[1;32m     44\u001b[0m             )\n\u001b[1;32m     45\u001b[0m         \u001b[0mkwargs\u001b[0m\u001b[0;34m.\u001b[0m\u001b[0mupdate\u001b[0m\u001b[0;34m(\u001b[0m\u001b[0;34m{\u001b[0m\u001b[0mk\u001b[0m\u001b[0;34m:\u001b[0m \u001b[0marg\u001b[0m \u001b[0;32mfor\u001b[0m \u001b[0mk\u001b[0m\u001b[0;34m,\u001b[0m \u001b[0marg\u001b[0m \u001b[0;32min\u001b[0m \u001b[0mzip\u001b[0m\u001b[0;34m(\u001b[0m\u001b[0msig\u001b[0m\u001b[0;34m.\u001b[0m\u001b[0mparameters\u001b[0m\u001b[0;34m,\u001b[0m \u001b[0margs\u001b[0m\u001b[0;34m)\u001b[0m\u001b[0;34m}\u001b[0m\u001b[0;34m)\u001b[0m\u001b[0;34m\u001b[0m\u001b[0;34m\u001b[0m\u001b[0m\n\u001b[0;32m---> 46\u001b[0;31m         \u001b[0;32mreturn\u001b[0m \u001b[0mf\u001b[0m\u001b[0;34m(\u001b[0m\u001b[0;34m**\u001b[0m\u001b[0mkwargs\u001b[0m\u001b[0;34m)\u001b[0m\u001b[0;34m\u001b[0m\u001b[0;34m\u001b[0m\u001b[0m\n\u001b[0m\u001b[1;32m     47\u001b[0m     \u001b[0;32mreturn\u001b[0m \u001b[0minner_f\u001b[0m\u001b[0;34m\u001b[0m\u001b[0;34m\u001b[0m\u001b[0m\n\u001b[1;32m     48\u001b[0m \u001b[0;34m\u001b[0m\u001b[0m\n",
      "\u001b[0;32m~/opt/anaconda3/lib/python3.9/site-packages/seaborn/matrix.py\u001b[0m in \u001b[0;36mclustermap\u001b[0;34m(data, pivot_kws, method, metric, z_score, standard_scale, figsize, cbar_kws, row_cluster, col_cluster, row_linkage, col_linkage, row_colors, col_colors, mask, dendrogram_ratio, colors_ratio, cbar_pos, tree_kws, **kwargs)\u001b[0m\n\u001b[1;32m   1404\u001b[0m                           colors_ratio=colors_ratio, cbar_pos=cbar_pos)\n\u001b[1;32m   1405\u001b[0m \u001b[0;34m\u001b[0m\u001b[0m\n\u001b[0;32m-> 1406\u001b[0;31m     return plotter.plot(metric=metric, method=method,\n\u001b[0m\u001b[1;32m   1407\u001b[0m                         \u001b[0mcolorbar_kws\u001b[0m\u001b[0;34m=\u001b[0m\u001b[0mcbar_kws\u001b[0m\u001b[0;34m,\u001b[0m\u001b[0;34m\u001b[0m\u001b[0;34m\u001b[0m\u001b[0m\n\u001b[1;32m   1408\u001b[0m                         \u001b[0mrow_cluster\u001b[0m\u001b[0;34m=\u001b[0m\u001b[0mrow_cluster\u001b[0m\u001b[0;34m,\u001b[0m \u001b[0mcol_cluster\u001b[0m\u001b[0;34m=\u001b[0m\u001b[0mcol_cluster\u001b[0m\u001b[0;34m,\u001b[0m\u001b[0;34m\u001b[0m\u001b[0;34m\u001b[0m\u001b[0m\n",
      "\u001b[0;32m~/opt/anaconda3/lib/python3.9/site-packages/seaborn/matrix.py\u001b[0m in \u001b[0;36mplot\u001b[0;34m(self, metric, method, colorbar_kws, row_cluster, col_cluster, row_linkage, col_linkage, tree_kws, **kws)\u001b[0m\n\u001b[1;32m   1217\u001b[0m         \u001b[0mcolorbar_kws\u001b[0m \u001b[0;34m=\u001b[0m \u001b[0;34m{\u001b[0m\u001b[0;34m}\u001b[0m \u001b[0;32mif\u001b[0m \u001b[0mcolorbar_kws\u001b[0m \u001b[0;32mis\u001b[0m \u001b[0;32mNone\u001b[0m \u001b[0;32melse\u001b[0m \u001b[0mcolorbar_kws\u001b[0m\u001b[0;34m\u001b[0m\u001b[0;34m\u001b[0m\u001b[0m\n\u001b[1;32m   1218\u001b[0m \u001b[0;34m\u001b[0m\u001b[0m\n\u001b[0;32m-> 1219\u001b[0;31m         self.plot_dendrograms(row_cluster, col_cluster, metric, method,\n\u001b[0m\u001b[1;32m   1220\u001b[0m                               \u001b[0mrow_linkage\u001b[0m\u001b[0;34m=\u001b[0m\u001b[0mrow_linkage\u001b[0m\u001b[0;34m,\u001b[0m \u001b[0mcol_linkage\u001b[0m\u001b[0;34m=\u001b[0m\u001b[0mcol_linkage\u001b[0m\u001b[0;34m,\u001b[0m\u001b[0;34m\u001b[0m\u001b[0;34m\u001b[0m\u001b[0m\n\u001b[1;32m   1221\u001b[0m                               tree_kws=tree_kws)\n",
      "\u001b[0;32m~/opt/anaconda3/lib/python3.9/site-packages/seaborn/matrix.py\u001b[0m in \u001b[0;36mplot_dendrograms\u001b[0;34m(self, row_cluster, col_cluster, metric, method, row_linkage, col_linkage, tree_kws)\u001b[0m\n\u001b[1;32m   1062\u001b[0m         \u001b[0;31m# Plot the row dendrogram\u001b[0m\u001b[0;34m\u001b[0m\u001b[0;34m\u001b[0m\u001b[0m\n\u001b[1;32m   1063\u001b[0m         \u001b[0;32mif\u001b[0m \u001b[0mrow_cluster\u001b[0m\u001b[0;34m:\u001b[0m\u001b[0;34m\u001b[0m\u001b[0;34m\u001b[0m\u001b[0m\n\u001b[0;32m-> 1064\u001b[0;31m             self.dendrogram_row = dendrogram(\n\u001b[0m\u001b[1;32m   1065\u001b[0m                 \u001b[0mself\u001b[0m\u001b[0;34m.\u001b[0m\u001b[0mdata2d\u001b[0m\u001b[0;34m,\u001b[0m \u001b[0mmetric\u001b[0m\u001b[0;34m=\u001b[0m\u001b[0mmetric\u001b[0m\u001b[0;34m,\u001b[0m \u001b[0mmethod\u001b[0m\u001b[0;34m=\u001b[0m\u001b[0mmethod\u001b[0m\u001b[0;34m,\u001b[0m \u001b[0mlabel\u001b[0m\u001b[0;34m=\u001b[0m\u001b[0;32mFalse\u001b[0m\u001b[0;34m,\u001b[0m \u001b[0maxis\u001b[0m\u001b[0;34m=\u001b[0m\u001b[0;36m0\u001b[0m\u001b[0;34m,\u001b[0m\u001b[0;34m\u001b[0m\u001b[0;34m\u001b[0m\u001b[0m\n\u001b[1;32m   1066\u001b[0m                 \u001b[0max\u001b[0m\u001b[0;34m=\u001b[0m\u001b[0mself\u001b[0m\u001b[0;34m.\u001b[0m\u001b[0max_row_dendrogram\u001b[0m\u001b[0;34m,\u001b[0m \u001b[0mrotate\u001b[0m\u001b[0;34m=\u001b[0m\u001b[0;32mTrue\u001b[0m\u001b[0;34m,\u001b[0m \u001b[0mlinkage\u001b[0m\u001b[0;34m=\u001b[0m\u001b[0mrow_linkage\u001b[0m\u001b[0;34m,\u001b[0m\u001b[0;34m\u001b[0m\u001b[0;34m\u001b[0m\u001b[0m\n",
      "\u001b[0;32m~/opt/anaconda3/lib/python3.9/site-packages/seaborn/_decorators.py\u001b[0m in \u001b[0;36minner_f\u001b[0;34m(*args, **kwargs)\u001b[0m\n\u001b[1;32m     44\u001b[0m             )\n\u001b[1;32m     45\u001b[0m         \u001b[0mkwargs\u001b[0m\u001b[0;34m.\u001b[0m\u001b[0mupdate\u001b[0m\u001b[0;34m(\u001b[0m\u001b[0;34m{\u001b[0m\u001b[0mk\u001b[0m\u001b[0;34m:\u001b[0m \u001b[0marg\u001b[0m \u001b[0;32mfor\u001b[0m \u001b[0mk\u001b[0m\u001b[0;34m,\u001b[0m \u001b[0marg\u001b[0m \u001b[0;32min\u001b[0m \u001b[0mzip\u001b[0m\u001b[0;34m(\u001b[0m\u001b[0msig\u001b[0m\u001b[0;34m.\u001b[0m\u001b[0mparameters\u001b[0m\u001b[0;34m,\u001b[0m \u001b[0margs\u001b[0m\u001b[0;34m)\u001b[0m\u001b[0;34m}\u001b[0m\u001b[0;34m)\u001b[0m\u001b[0;34m\u001b[0m\u001b[0;34m\u001b[0m\u001b[0m\n\u001b[0;32m---> 46\u001b[0;31m         \u001b[0;32mreturn\u001b[0m \u001b[0mf\u001b[0m\u001b[0;34m(\u001b[0m\u001b[0;34m**\u001b[0m\u001b[0mkwargs\u001b[0m\u001b[0;34m)\u001b[0m\u001b[0;34m\u001b[0m\u001b[0;34m\u001b[0m\u001b[0m\n\u001b[0m\u001b[1;32m     47\u001b[0m     \u001b[0;32mreturn\u001b[0m \u001b[0minner_f\u001b[0m\u001b[0;34m\u001b[0m\u001b[0;34m\u001b[0m\u001b[0m\n\u001b[1;32m     48\u001b[0m \u001b[0;34m\u001b[0m\u001b[0m\n",
      "\u001b[0;32m~/opt/anaconda3/lib/python3.9/site-packages/seaborn/matrix.py\u001b[0m in \u001b[0;36mdendrogram\u001b[0;34m(data, linkage, axis, label, metric, method, rotate, tree_kws, ax)\u001b[0m\n\u001b[1;32m    777\u001b[0m \u001b[0;34m\u001b[0m\u001b[0m\n\u001b[1;32m    778\u001b[0m     \"\"\"\n\u001b[0;32m--> 779\u001b[0;31m     plotter = _DendrogramPlotter(data, linkage=linkage, axis=axis,\n\u001b[0m\u001b[1;32m    780\u001b[0m                                  \u001b[0mmetric\u001b[0m\u001b[0;34m=\u001b[0m\u001b[0mmetric\u001b[0m\u001b[0;34m,\u001b[0m \u001b[0mmethod\u001b[0m\u001b[0;34m=\u001b[0m\u001b[0mmethod\u001b[0m\u001b[0;34m,\u001b[0m\u001b[0;34m\u001b[0m\u001b[0;34m\u001b[0m\u001b[0m\n\u001b[1;32m    781\u001b[0m                                  label=label, rotate=rotate)\n",
      "\u001b[0;32m~/opt/anaconda3/lib/python3.9/site-packages/seaborn/matrix.py\u001b[0m in \u001b[0;36m__init__\u001b[0;34m(self, data, linkage, metric, method, axis, label, rotate)\u001b[0m\n\u001b[1;32m    587\u001b[0m \u001b[0;34m\u001b[0m\u001b[0m\n\u001b[1;32m    588\u001b[0m         \u001b[0;32mif\u001b[0m \u001b[0mlinkage\u001b[0m \u001b[0;32mis\u001b[0m \u001b[0;32mNone\u001b[0m\u001b[0;34m:\u001b[0m\u001b[0;34m\u001b[0m\u001b[0;34m\u001b[0m\u001b[0m\n\u001b[0;32m--> 589\u001b[0;31m             \u001b[0mself\u001b[0m\u001b[0;34m.\u001b[0m\u001b[0mlinkage\u001b[0m \u001b[0;34m=\u001b[0m \u001b[0mself\u001b[0m\u001b[0;34m.\u001b[0m\u001b[0mcalculated_linkage\u001b[0m\u001b[0;34m\u001b[0m\u001b[0;34m\u001b[0m\u001b[0m\n\u001b[0m\u001b[1;32m    590\u001b[0m         \u001b[0;32melse\u001b[0m\u001b[0;34m:\u001b[0m\u001b[0;34m\u001b[0m\u001b[0;34m\u001b[0m\u001b[0m\n\u001b[1;32m    591\u001b[0m             \u001b[0mself\u001b[0m\u001b[0;34m.\u001b[0m\u001b[0mlinkage\u001b[0m \u001b[0;34m=\u001b[0m \u001b[0mlinkage\u001b[0m\u001b[0;34m\u001b[0m\u001b[0;34m\u001b[0m\u001b[0m\n",
      "\u001b[0;32m~/opt/anaconda3/lib/python3.9/site-packages/seaborn/matrix.py\u001b[0m in \u001b[0;36mcalculated_linkage\u001b[0;34m(self)\u001b[0m\n\u001b[1;32m    654\u001b[0m                 \u001b[0mwarnings\u001b[0m\u001b[0;34m.\u001b[0m\u001b[0mwarn\u001b[0m\u001b[0;34m(\u001b[0m\u001b[0mmsg\u001b[0m\u001b[0;34m)\u001b[0m\u001b[0;34m\u001b[0m\u001b[0;34m\u001b[0m\u001b[0m\n\u001b[1;32m    655\u001b[0m \u001b[0;34m\u001b[0m\u001b[0m\n\u001b[0;32m--> 656\u001b[0;31m         \u001b[0;32mreturn\u001b[0m \u001b[0mself\u001b[0m\u001b[0;34m.\u001b[0m\u001b[0m_calculate_linkage_scipy\u001b[0m\u001b[0;34m(\u001b[0m\u001b[0;34m)\u001b[0m\u001b[0;34m\u001b[0m\u001b[0;34m\u001b[0m\u001b[0m\n\u001b[0m\u001b[1;32m    657\u001b[0m \u001b[0;34m\u001b[0m\u001b[0m\n\u001b[1;32m    658\u001b[0m     \u001b[0;32mdef\u001b[0m \u001b[0mcalculate_dendrogram\u001b[0m\u001b[0;34m(\u001b[0m\u001b[0mself\u001b[0m\u001b[0;34m)\u001b[0m\u001b[0;34m:\u001b[0m\u001b[0;34m\u001b[0m\u001b[0;34m\u001b[0m\u001b[0m\n",
      "\u001b[0;32m~/opt/anaconda3/lib/python3.9/site-packages/seaborn/matrix.py\u001b[0m in \u001b[0;36m_calculate_linkage_scipy\u001b[0;34m(self)\u001b[0m\n\u001b[1;32m    622\u001b[0m \u001b[0;34m\u001b[0m\u001b[0m\n\u001b[1;32m    623\u001b[0m     \u001b[0;32mdef\u001b[0m \u001b[0m_calculate_linkage_scipy\u001b[0m\u001b[0;34m(\u001b[0m\u001b[0mself\u001b[0m\u001b[0;34m)\u001b[0m\u001b[0;34m:\u001b[0m\u001b[0;34m\u001b[0m\u001b[0;34m\u001b[0m\u001b[0m\n\u001b[0;32m--> 624\u001b[0;31m         linkage = hierarchy.linkage(self.array, method=self.method,\n\u001b[0m\u001b[1;32m    625\u001b[0m                                     metric=self.metric)\n\u001b[1;32m    626\u001b[0m         \u001b[0;32mreturn\u001b[0m \u001b[0mlinkage\u001b[0m\u001b[0;34m\u001b[0m\u001b[0;34m\u001b[0m\u001b[0m\n",
      "\u001b[0;32m~/opt/anaconda3/lib/python3.9/site-packages/scipy/cluster/hierarchy.py\u001b[0m in \u001b[0;36mlinkage\u001b[0;34m(y, method, metric, optimal_ordering)\u001b[0m\n\u001b[1;32m   1063\u001b[0m \u001b[0;34m\u001b[0m\u001b[0m\n\u001b[1;32m   1064\u001b[0m     \u001b[0;32mif\u001b[0m \u001b[0;32mnot\u001b[0m \u001b[0mnp\u001b[0m\u001b[0;34m.\u001b[0m\u001b[0mall\u001b[0m\u001b[0;34m(\u001b[0m\u001b[0mnp\u001b[0m\u001b[0;34m.\u001b[0m\u001b[0misfinite\u001b[0m\u001b[0;34m(\u001b[0m\u001b[0my\u001b[0m\u001b[0;34m)\u001b[0m\u001b[0;34m)\u001b[0m\u001b[0;34m:\u001b[0m\u001b[0;34m\u001b[0m\u001b[0;34m\u001b[0m\u001b[0m\n\u001b[0;32m-> 1065\u001b[0;31m         raise ValueError(\"The condensed distance matrix must contain only \"\n\u001b[0m\u001b[1;32m   1066\u001b[0m                          \"finite values.\")\n\u001b[1;32m   1067\u001b[0m \u001b[0;34m\u001b[0m\u001b[0m\n",
      "\u001b[0;31mValueError\u001b[0m: The condensed distance matrix must contain only finite values."
     ]
    },
    {
     "data": {
      "image/png": "[encoded data removed]",
      "text/plain": [
       "<Figure size 1000x1000 with 4 Axes>"
      ]
     },
     "metadata": {},
     "output_type": "display_data"
    }
   ],
   "source": [
    "import seaborn as sb\n",
    "sb.clustermap(df_clust, method='ward', annot=True);"
   ]
  },
  {
   "cell_type": "markdown",
   "id": "peaceful-decision",
   "metadata": {},
   "source": [
    "## Abbreviation density"
   ]
  },
  {
   "cell_type": "code",
   "execution_count": 65,
   "id": "timely-wagon",
   "metadata": {},
   "outputs": [
    {
     "name": "stdout",
     "output_type": "stream",
     "text": [
      "-> removed 0 lines with gaps\n",
      "-> removed 0 lines with gaps\n",
      "-> removed 7 lines with gaps\n",
      "-> removed 7 lines with gaps\n"
     ]
    }
   ],
   "source": [
    "abbr_density = []\n",
    "\n",
    "for sigle in sigles: #loop\n",
    "    abbr = extract_lines(f'../data/xml_martijn/xml_{sigle}.xml', expan = False, punct = False, lower = True)\n",
    "    expan = extract_lines(f'../data/xml_martijn/xml_{sigle}.xml', expan = True, punct = False, lower = True)\n",
    "    \n",
    "    line_idxs = sorted(abbr.keys())\n",
    "    abbr_lens = np.array([len(abbr[line]) for line in line_idxs])\n",
    "    expan_lens = np.array([len(expan[line]) for line in line_idxs])\n",
    "    \n",
    "    diffs = pd.Series(expan_lens - abbr_lens)\n",
    "    ratios = pd.Series(abbr_lens / expan_lens)\n",
    "    abbr_density.append((sigle, diffs.mean(), diffs.std(), ratios.mean(), ratios.std()))\n",
    "\n",
    "dens = pd.DataFrame(abbr_density, columns=['sigle', 'diff-mean', 'diff-std', 'ratio-mean', 'ratio-std'])\n",
    "dens.dropna(inplace=True)\n",
    "dens.set_index('sigle', inplace=True)"
   ]
  },
  {
   "cell_type": "code",
   "execution_count": 66,
   "id": "cloudy-leisure",
   "metadata": {},
   "outputs": [
    {
     "data": {
      "text/html": [
       "<div>\n",
       "<style scoped>\n",
       "    .dataframe tbody tr th:only-of-type {\n",
       "        vertical-align: middle;\n",
       "    }\n",
       "\n",
       "    .dataframe tbody tr th {\n",
       "        vertical-align: top;\n",
       "    }\n",
       "\n",
       "    .dataframe thead th {\n",
       "        text-align: right;\n",
       "    }\n",
       "</style>\n",
       "<table border=\"1\" class=\"dataframe\">\n",
       "  <thead>\n",
       "    <tr style=\"text-align: right;\">\n",
       "      <th></th>\n",
       "      <th>diff-mean</th>\n",
       "      <th>diff-std</th>\n",
       "      <th>ratio-mean</th>\n",
       "      <th>ratio-std</th>\n",
       "    </tr>\n",
       "    <tr>\n",
       "      <th>sigle</th>\n",
       "      <th></th>\n",
       "      <th></th>\n",
       "      <th></th>\n",
       "      <th></th>\n",
       "    </tr>\n",
       "  </thead>\n",
       "  <tbody>\n",
       "    <tr>\n",
       "      <th>G</th>\n",
       "      <td>3.007357</td>\n",
       "      <td>1.679755</td>\n",
       "      <td>0.888778</td>\n",
       "      <td>0.058976</td>\n",
       "    </tr>\n",
       "    <tr>\n",
       "      <th>Z</th>\n",
       "      <td>2.470037</td>\n",
       "      <td>1.662420</td>\n",
       "      <td>0.905862</td>\n",
       "      <td>0.057914</td>\n",
       "    </tr>\n",
       "  </tbody>\n",
       "</table>\n",
       "</div>"
      ],
      "text/plain": [
       "       diff-mean  diff-std  ratio-mean  ratio-std\n",
       "sigle                                            \n",
       "G       3.007357  1.679755    0.888778   0.058976\n",
       "Z       2.470037  1.662420    0.905862   0.057914"
      ]
     },
     "execution_count": 66,
     "metadata": {},
     "output_type": "execute_result"
    }
   ],
   "source": [
    "dens"
   ]
  },
  {
   "cell_type": "code",
   "execution_count": 67,
   "id": "nominated-omaha",
   "metadata": {},
   "outputs": [
    {
     "data": {
      "image/png": "[encoded data removed]",
      "text/plain": [
       "<Figure size 1200x800 with 1 Axes>"
      ]
     },
     "metadata": {},
     "output_type": "display_data"
    }
   ],
   "source": [
    "dens.sort_values(by='diff-mean', inplace=True)\n",
    "fig, ax = plt.subplots(figsize=(12, 8))\n",
    "ax.barh(range(len(dens.index)), dens['diff-mean'],\n",
    "       xerr=dens['diff-std'],\n",
    "       color='orange',\n",
    "       align='center',\n",
    "       alpha=0.7,\n",
    "       ecolor='purple',\n",
    "       capsize=5)\n",
    "ax.set_ylabel('Witnesses')\n",
    "ax.set_yticks(range(len(dens.index)))\n",
    "ax.set_yticklabels(dens.index)\n",
    "ax.set_title('Diff in chars between abrr and expan')\n",
    "ax.xaxis.grid(True)\n",
    "ax.yaxis.grid(True)\n",
    "plt.tight_layout()"
   ]
  },
  {
   "cell_type": "code",
   "execution_count": 68,
   "id": "stunning-pantyhose",
   "metadata": {},
   "outputs": [
    {
     "data": {
      "image/png": "[encoded data removed]",
      "text/plain": [
       "<Figure size 1200x800 with 1 Axes>"
      ]
     },
     "metadata": {},
     "output_type": "display_data"
    }
   ],
   "source": [
    "dens.sort_values(by='ratio-mean', inplace=True)\n",
    "fig, ax = plt.subplots(figsize=(12, 8))\n",
    "ax.barh(range(len(dens.index)), dens['ratio-mean'],\n",
    "       xerr=dens['ratio-std'],\n",
    "       color='orange',\n",
    "       align='center',\n",
    "       alpha=0.7,\n",
    "       ecolor='purple',\n",
    "       capsize=5)\n",
    "ax.set_ylabel('Witnesses')\n",
    "ax.set_yticks(range(len(dens.index)))\n",
    "ax.set_yticklabels(dens.index)\n",
    "ax.set_title('Ratio abrr / expan')\n",
    "plt.xlim(0.8, 1.05)\n",
    "ax.xaxis.grid(True)\n",
    "ax.yaxis.grid(True)\n",
    "plt.tight_layout()"
   ]
  },
  {
   "cell_type": "markdown",
   "id": "australian-romantic",
   "metadata": {},
   "source": [
    "## Pixelplot"
   ]
  },
  {
   "cell_type": "code",
   "execution_count": 69,
   "id": "subsequent-artist",
   "metadata": {},
   "outputs": [],
   "source": [
    "all_lines = set()\n",
    "for ms in mss:\n",
    "    all_lines.update(mss[ms].keys())\n",
    "\n",
    "def repl(n):\n",
    "    n = n.replace('Eerste Martijn', '1')\n",
    "    n = n.replace('Tweede Martijn', '2')\n",
    "    n = n.replace('Derde Martijn', '3')\n",
    "    n = n.replace('Vierde Martijn', '4')\n",
    "    return n\n",
    "\n",
    "all_lines = [repl(l) for l in all_lines]\n",
    "all_lines = sorted(all_lines)\n",
    "ms_names = sorted(mss.keys())\n",
    "grid = np.ones((len(all_lines), len(mss.keys())))\n",
    "grid.shape\n",
    "\n",
    "for ms in mss:\n",
    "    for line in mss[ms]:\n",
    "        grid[all_lines.index(repl(line)), ms_names.index(ms)] = 0"
   ]
  },
  {
   "cell_type": "code",
   "execution_count": 70,
   "id": "comparative-queensland",
   "metadata": {},
   "outputs": [
    {
     "data": {
      "image/png": "[encoded data removed]",
      "text/plain": [
       "<Figure size 800x1200 with 1 Axes>"
      ]
     },
     "metadata": {},
     "output_type": "display_data"
    }
   ],
   "source": [
    "fig, ax = plt.subplots(figsize=(8, 12))\n",
    "sb.heatmap(grid, xticklabels=ms_names, yticklabels=False, ax=ax, cbar=False);"
   ]
  },
  {
   "cell_type": "code",
   "execution_count": null,
   "id": "ee6cc6e3-4172-453c-b083-e138ddb6f4a4",
   "metadata": {},
   "outputs": [],
   "source": []
  }
 ],
 "metadata": {
  "kernelspec": {
   "display_name": "Python 3 (ipykernel)",
   "language": "python",
   "name": "python3"
  },
  "language_info": {
   "codemirror_mode": {
    "name": "ipython",
    "version": 3
   },
   "file_extension": ".py",
   "mimetype": "text/x-python",
   "name": "python",
   "nbconvert_exporter": "python",
   "pygments_lexer": "ipython3",
   "version": "3.9.13"
  }
 },
 "nbformat": 4,
 "nbformat_minor": 5
}
